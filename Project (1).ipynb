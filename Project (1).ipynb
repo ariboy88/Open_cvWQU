{
 "cells": [
  {
   "cell_type": "markdown",
   "metadata": {
    "id": "w-Is6iEq73PU"
   },
   "source": [
    "\n",
    "## DERIVATIVE PRICING\n",
    "MODULE 1 | LESSON 2\n",
    "\n",
    "\n",
    "---\n"
   ]
  },
  {
   "cell_type": "markdown",
   "metadata": {
    "id": "wUABhREJin-x"
   },
   "source": [
    "# **OPTION PRICING AND PUT-CALL PARITY**"
   ]
  },
  {
   "cell_type": "markdown",
   "metadata": {
    "id": "gjNNLEDPi0tV"
   },
   "source": [
    "|  |  |\n",
    "|:---|:---|\n",
    "|**Reading Time** |  40 minutes |\n",
    "|**Prior Knowledge** |Financial Derivatives basics, Binomial tree, Risk neutral probabilities  |\n",
    "|**Keywords** |Risk neutral probabilities, Binomial model, No-arbitrage, Put-Call parity  |\n",
    "\n",
    "\n",
    "---"
   ]
  },
  {
   "cell_type": "markdown",
   "metadata": {
    "id": "halptZG7h0KS"
   },
   "source": [
    "\n",
    "*In this notebook, we will continue to develop the binomial model for option pricing in Python. Building on the work we did in Lesson 1, we will now focus on relevant features like the put-call parity. Make sure you understand this properly because it is going to lay the foundation for future work.*\n"
   ]
  },
  {
   "cell_type": "markdown",
   "metadata": {
    "id": "GBGlDJm5dpVb"
   },
   "source": [
    "As usual, let's start importing some of the libraries that we may need to use down the road:"
   ]
  },
  {
   "cell_type": "code",
   "execution_count": 1,
   "metadata": {
    "id": "8M6qW9GbwTFH"
   },
   "outputs": [],
   "source": [
    "import numpy as np"
   ]
  },
  {
   "cell_type": "markdown",
   "metadata": {
    "id": "IgXYKl1g94tJ"
   },
   "source": [
    "Our first task is going to be to extend the binomial model function used in Lesson 1 to also consider put options:"
   ]
  },
  {
   "cell_type": "markdown",
   "metadata": {
    "id": "VIJSDDeciZZh"
   },
   "source": [
    "## 1. Binomial Tree for Put Options\n"
   ]
  },
  {
   "cell_type": "markdown",
   "metadata": {
    "id": "6lZrLYqc1i2F"
   },
   "source": [
    "We will create another function, similar to what we did with the call option case, to price put options. The following snippet contains the code for the call option we used in Lesson 1:"
   ]
  },
  {
   "cell_type": "code",
   "execution_count": 2,
   "metadata": {
    "id": "mUvGvVjHbl57"
   },
   "outputs": [],
   "source": [
    "def binomial_call_full(S_ini, K, T, r, u, d, N):\n",
    "    dt = T / N  # Define time step\n",
    "    p = (np.exp(r * dt) - d) / (u - d)  # Risk neutral probs\n",
    "    C = np.zeros([N + 1, N + 1])  # Call prices\n",
    "    S = np.zeros([N + 1, N + 1])  # Underlying price\n",
    "    for i in range(0, N + 1):\n",
    "        C[N, i] = max(S_ini * (u ** (i)) * (d ** (N - i)) - K, 0)\n",
    "        S[N, i] = S_ini * (u ** (i)) * (d ** (N - i))\n",
    "    for j in range(N - 1, -1, -1):\n",
    "        for i in range(0, j + 1):\n",
    "            C[j, i] = np.exp(-r * dt) * (p * C[j + 1, i + 1] + (1 - p) * C[j + 1, i])\n",
    "            S[j, i] = S_ini * (u ** (i)) * (d ** (j - i))\n",
    "    return C[0, 0], C, S"
   ]
  },
  {
   "cell_type": "markdown",
   "metadata": {
    "id": "rNiLsioxs9PB"
   },
   "source": [
    "Before continuing, can you think of how to modify this accordingly to construct another function that prices put options?"
   ]
  },
  {
   "cell_type": "code",
   "execution_count": 3,
   "metadata": {
    "id": "QvAZsyVitHiw"
   },
   "outputs": [],
   "source": [
    "def binomial_put_full(S_ini, K, T, r, u, d, N):\n",
    "    dt = T / N  # Define time step\n",
    "    p = (np.exp(r * dt) - d) / (u - d)  # Risk neutral probs\n",
    "    P = np.zeros([N + 1, N + 1])  # Call prices\n",
    "    S = np.zeros([N + 1, N + 1])  # Underlying price\n",
    "    for i in range(0, N + 1):\n",
    "        P[N, i] = max(K - (S_ini * (u ** (i)) * (d ** (N - i))), 0)\n",
    "        S[N, i] = S_ini * (u ** (i)) * (d ** (N - i))\n",
    "    for j in range(N - 1, -1, -1):\n",
    "        for i in range(0, j + 1):\n",
    "            P[j, i] = np.exp(-r * dt) * (p * P[j + 1, i + 1] + (1 - p) * P[j + 1, i])\n",
    "            S[j, i] = S_ini * (u ** (i)) * (d ** (j - i))\n",
    "    return P[0, 0], P, S"
   ]
  },
  {
   "cell_type": "markdown",
   "metadata": {
    "id": "bC5rp-Zrt9BQ"
   },
   "source": [
    "Let's verify this is correct with the numbers from the example in the slides and videos: "
   ]
  },
  {
   "cell_type": "code",
   "execution_count": 4,
   "metadata": {
    "colab": {
     "base_uri": "https://localhost:8080/"
    },
    "executionInfo": {
     "elapsed": 269,
     "status": "ok",
     "timestamp": 1655374746408,
     "user": {
      "displayName": "Ivan Blanco",
      "userId": "11863287364861133555"
     },
     "user_tz": -120
    },
    "id": "k8d5VetAtnlO",
    "outputId": "6c1efb1e-ed6e-4789-8f66-45025cec4347"
   },
   "outputs": [
    {
     "name": "stdout",
     "output_type": "stream",
     "text": [
      "Underlying Price Evolution:\n",
      " [[3.60000000e+01 0.00000000e+00 0.00000000e+00 ... 0.00000000e+00\n",
      "  0.00000000e+00 0.00000000e+00]\n",
      " [2.52000000e+01 3.96000000e+01 0.00000000e+00 ... 0.00000000e+00\n",
      "  0.00000000e+00 0.00000000e+00]\n",
      " [1.76400000e+01 2.77200000e+01 4.35600000e+01 ... 0.00000000e+00\n",
      "  0.00000000e+00 0.00000000e+00]\n",
      " ...\n",
      " [1.32132126e-06 2.07636197e-06 3.26285453e-06 ... 3.49262042e+03\n",
      "  0.00000000e+00 0.00000000e+00]\n",
      " [9.24924879e-07 1.45345338e-06 2.28399817e-06 ... 2.44483429e+03\n",
      "  3.84188246e+03 0.00000000e+00]\n",
      " [6.47447415e-07 1.01741737e-06 1.59879872e-06 ... 1.71138400e+03\n",
      "  2.68931772e+03 4.22607070e+03]]\n",
      "Put Option Payoff:\n",
      " [[ 7.5822903   0.          0.         ...  0.          0.\n",
      "   0.        ]\n",
      " [ 9.54336876  7.11166527  0.         ...  0.          0.\n",
      "   0.        ]\n",
      " [11.63290642  9.06090302  6.63837335 ...  0.          0.\n",
      "   0.        ]\n",
      " ...\n",
      " [35.28715092 35.28715016 35.28714898 ...  0.          0.\n",
      "   0.        ]\n",
      " [35.64179309 35.64179256 35.64179173 ...  0.          0.\n",
      "   0.        ]\n",
      " [35.99999935 35.99999898 35.9999984  ...  0.          0.\n",
      "   0.        ]]\n",
      "Price at t=0 for Put option is$ 7.58\n"
     ]
    }
   ],
   "source": [
    "put_price, P, S = binomial_put_full(36, 36, 50, 0.01, 1.1, 0.7, 50)\n",
    "print(\"Underlying Price Evolution:\\n\", S)\n",
    "print(\"Put Option Payoff:\\n\", P)\n",
    "print(\"Price at t=0 for Put option is$\", \"{:.2f}\".format(put_price))"
   ]
  },
  {
   "cell_type": "markdown",
   "metadata": {
    "id": "cTrEzmDYutki"
   },
   "source": [
    "Next, we will verify whether put-call parity holds in this example at t=0."
   ]
  },
  {
   "cell_type": "markdown",
   "metadata": {
    "id": "A1VzOSfBux4J"
   },
   "source": [
    "## 2. Put-Call Parity in the Binomial Tree\n",
    "\n",
    "We know that the price of the call and put options with K=90 at t=0 is given by the previous functions:"
   ]
  },
  {
   "cell_type": "code",
   "execution_count": 5,
   "metadata": {
    "colab": {
     "base_uri": "https://localhost:8080/"
    },
    "executionInfo": {
     "elapsed": 3,
     "status": "ok",
     "timestamp": 1655133770821,
     "user": {
      "displayName": "Ivan Blanco",
      "userId": "11863287364861133555"
     },
     "user_tz": -120
    },
    "id": "MGFnWOmXt6M3",
    "outputId": "80217133-f612-4eab-a151-8a10e6ef34b1"
   },
   "outputs": [
    {
     "name": "stdout",
     "output_type": "stream",
     "text": [
      "Price at t=0 for Put option is $ 19.38\n",
      "Price at t=0 for Call option is $ 29.38\n"
     ]
    }
   ],
   "source": [
    "put_price, P, S = binomial_put_full(100, 90, 10, 0, 1.2, 0.8, 10)\n",
    "print(\"Price at t=0 for Put option is $\", \"{:.2f}\".format(put_price))\n",
    "call_price, C, S = binomial_call_full(100, 90, 10, 0, 1.2, 0.8, 10)\n",
    "print(\"Price at t=0 for Call option is $\", \"{:.2f}\".format(call_price))"
   ]
  },
  {
   "cell_type": "markdown",
   "metadata": {
    "id": "uGJpihPBvYn7"
   },
   "source": [
    "We already know that in order to satisfy absence of arbitrage conditions, the relationship between the price of the put and the call options must be:\n",
    "\n",
    "$C_0 + Ke^{-rT} = S_0 + P_0$\n",
    "\n",
    "Let's check whether this is the case for t=0:"
   ]
  },
  {
   "cell_type": "code",
   "execution_count": 6,
   "metadata": {
    "colab": {
     "base_uri": "https://localhost:8080/"
    },
    "executionInfo": {
     "elapsed": 258,
     "status": "ok",
     "timestamp": 1650534283191,
     "user": {
      "displayName": "Sergio García",
      "userId": "13816158105599623863"
     },
     "user_tz": -120
    },
    "id": "Ia5KsJ0BvGgw",
    "outputId": "f5a29772-6690-45a3-83b7-9999370923b8"
   },
   "outputs": [
    {
     "data": {
      "text/plain": [
       "np.True_"
      ]
     },
     "execution_count": 6,
     "metadata": {},
     "output_type": "execute_result"
    }
   ],
   "source": [
    "round(call_price + 90 * np.exp(-0 * 1), 2) == round(S[0, 0] + put_price, 2)"
   ]
  },
  {
   "cell_type": "markdown",
   "metadata": {
    "id": "dDeNSWH7wYTo"
   },
   "source": [
    "We have verified that the put-call parity here holds perfectly at t=0. The question that arises now is does this behavior also hold at other nodes of the tree (other times)?\n",
    "\n",
    "In order to check this, let's first increase the number of steps of the binomial tree to N=2:"
   ]
  },
  {
   "cell_type": "code",
   "execution_count": 7,
   "metadata": {
    "colab": {
     "base_uri": "https://localhost:8080/"
    },
    "executionInfo": {
     "elapsed": 254,
     "status": "ok",
     "timestamp": 1650534322238,
     "user": {
      "displayName": "Sergio García",
      "userId": "13816158105599623863"
     },
     "user_tz": -120
    },
    "id": "9nkhI_yAwOfM",
    "outputId": "adb064b1-f7e6-44e9-adee-3c9ce9c63a97"
   },
   "outputs": [
    {
     "name": "stdout",
     "output_type": "stream",
     "text": [
      "Price at t=0 for Put option is $ 6.50\n",
      "Price at t=0 for Call option is $ 16.50\n"
     ]
    }
   ],
   "source": [
    "put_price, P, S = binomial_put_full(100, 90, 1, 0, 1.2, 0.8, 2)\n",
    "print(\"Price at t=0 for Put option is $\", \"{:.2f}\".format(put_price))\n",
    "call_price, C, S = binomial_call_full(100, 90, 1, 0, 1.2, 0.8, 2)\n",
    "print(\"Price at t=0 for Call option is $\", \"{:.2f}\".format(call_price))"
   ]
  },
  {
   "cell_type": "markdown",
   "metadata": {
    "id": "RaooYTIXxN_I"
   },
   "source": [
    "For completeness, let's start verifying Put-Call parity at t=0:"
   ]
  },
  {
   "cell_type": "code",
   "execution_count": 8,
   "metadata": {
    "colab": {
     "base_uri": "https://localhost:8080/"
    },
    "executionInfo": {
     "elapsed": 273,
     "status": "ok",
     "timestamp": 1650534332432,
     "user": {
      "displayName": "Sergio García",
      "userId": "13816158105599623863"
     },
     "user_tz": -120
    },
    "id": "6Dl2LT9bxHNg",
    "outputId": "382ac94f-bdbb-4415-bfae-9f0d272f0b64"
   },
   "outputs": [
    {
     "data": {
      "text/plain": [
       "np.True_"
      ]
     },
     "execution_count": 8,
     "metadata": {},
     "output_type": "execute_result"
    }
   ],
   "source": [
    "round(call_price + 90 * np.exp(-0 * 1), 2) == round(S[0, 0] + put_price, 2)"
   ]
  },
  {
   "cell_type": "markdown",
   "metadata": {
    "id": "vgAIcycNxTIV"
   },
   "source": [
    "Now, let's check the same thing for some other node of the two-step tree. Remember that this is the evolution of underlying prices and option payoffs:"
   ]
  },
  {
   "cell_type": "code",
   "execution_count": 9,
   "metadata": {
    "colab": {
     "base_uri": "https://localhost:8080/"
    },
    "executionInfo": {
     "elapsed": 262,
     "status": "ok",
     "timestamp": 1650534347239,
     "user": {
      "displayName": "Sergio García",
      "userId": "13816158105599623863"
     },
     "user_tz": -120
    },
    "id": "LEdTHKiixNRS",
    "outputId": "dc3738ca-3352-48f4-e6a2-343cd3d6dd13"
   },
   "outputs": [
    {
     "name": "stdout",
     "output_type": "stream",
     "text": [
      "Underlying Price Evolution:\n",
      " [[100.   0.   0.]\n",
      " [ 80. 120.   0.]\n",
      " [ 64.  96. 144.]]\n",
      "Call Option Payoff:\n",
      " [[16.5  0.   0. ]\n",
      " [ 3.  30.   0. ]\n",
      " [ 0.   6.  54. ]]\n",
      "Put Option Payoff:\n",
      " [[ 6.5  0.   0. ]\n",
      " [13.   0.   0. ]\n",
      " [26.   0.   0. ]]\n"
     ]
    }
   ],
   "source": [
    "print(\"Underlying Price Evolution:\\n\", S)\n",
    "print(\"Call Option Payoff:\\n\", C)\n",
    "print(\"Put Option Payoff:\\n\", P)"
   ]
  },
  {
   "cell_type": "markdown",
   "metadata": {
    "id": "M2KeFIl7yPwO"
   },
   "source": [
    "Let's check put-call parity for the node following path 'd' (underlying price S_d = 80), which we can index as [1,0] in the matrix S:"
   ]
  },
  {
   "cell_type": "code",
   "execution_count": 10,
   "metadata": {
    "colab": {
     "base_uri": "https://localhost:8080/"
    },
    "executionInfo": {
     "elapsed": 259,
     "status": "ok",
     "timestamp": 1650534359613,
     "user": {
      "displayName": "Sergio García",
      "userId": "13816158105599623863"
     },
     "user_tz": -120
    },
    "id": "m_--rrd4xz9i",
    "outputId": "212a2088-379f-4a69-b033-afa89b7abb9a"
   },
   "outputs": [
    {
     "data": {
      "text/plain": [
       "np.True_"
      ]
     },
     "execution_count": 10,
     "metadata": {},
     "output_type": "execute_result"
    }
   ],
   "source": [
    "round(C[1, 0] + 90 * np.exp(-0 * 0.5), 2) == round(S[1, 0] + P[1, 0], 2)"
   ]
  },
  {
   "cell_type": "markdown",
   "metadata": {
    "id": "izwsLtgLzGTr"
   },
   "source": [
    "Now, it is your turn to check whether this relationship holds for other nodes (you can also try trees with more steps) $→$ Does put-call parity hold?\n",
    "\n",
    "## 3. Conclusion \n",
    "\n",
    "In this lesson, we have worked throughout the binomial tree to verify the put-call parity on certain nodes. In the next lesson, we will work on the concept of delta-hedging.\n",
    "\n",
    "See you there!"
   ]
  },
  {
   "cell_type": "markdown",
   "metadata": {
    "deletable": false,
    "editable": false
   },
   "source": [
    "---\n",
    "Copyright 2025 WorldQuant University. This\n",
    "content is licensed solely for personal use. Redistribution or\n",
    "publication of this material is strictly prohibited.\n"
   ]
  }
 ],
 "metadata": {
  "colab": {
   "collapsed_sections": [],
   "name": "Derivative Pricing_Module 1_Lesson_2",
   "provenance": []
  },
  "kernelspec": {
   "display_name": "Python 3 (ipykernel)",
   "language": "python",
   "name": "python3"
  },
  "language_info": {
   "codemirror_mode": {
    "name": "ipython",
    "version": 3
   },
   "file_extension": ".py",
   "mimetype": "text/x-python",
   "name": "python",
   "nbconvert_exporter": "python",
   "pygments_lexer": "ipython3",
   "version": "3.11.0"
  }
 },
 "nbformat": 4,
 "nbformat_minor": 4
}
