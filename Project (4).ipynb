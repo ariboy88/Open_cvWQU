{
 "cells": [
  {
   "cell_type": "markdown",
   "metadata": {
    "id": "3-Kw3bvLLMGJ"
   },
   "source": [
    "## DERIVATIVE PRICING\n",
    "MODULE 2 | LESSON 1\n",
    "\n",
    "\n",
    "---\n",
    "\n"
   ]
  },
  {
   "cell_type": "markdown",
   "metadata": {
    "id": "QmdGnuCAAlBz"
   },
   "source": [
    "# **INTRO TO AMERICAN OPTIONS**"
   ]
  },
  {
   "cell_type": "markdown",
   "metadata": {
    "id": "Wh0ONvspA1U5"
   },
   "source": [
    "\n",
    "|  |  |\n",
    "|:---|:---|\n",
    "|**Reading Time** |  60 minutes |\n",
    "|**Prior Knowledge** | Binomial model, Option pricing |\n",
    "|**Keywords** | American options, Early-exercise, Volatility matching|\n",
    "\n",
    "\n",
    "---"
   ]
  },
  {
   "cell_type": "markdown",
   "metadata": {
    "id": "bvNR47bhLUIH"
   },
   "source": [
    "*In this lesson, we are going to introduce the American payoff and how to implement the pricing of an American option with Python. Let's start importing some of the libraries that we will need to use down the road:*"
   ]
  },
  {
   "cell_type": "code",
   "execution_count": 1,
   "metadata": {
    "id": "erMtF10GqG1j"
   },
   "outputs": [],
   "source": [
    "import numpy as np"
   ]
  },
  {
   "cell_type": "markdown",
   "metadata": {
    "id": "dLVvrKIYL9hf"
   },
   "source": [
    "## 1. American Options Payoff\n",
    "\n",
    "An American option is a style of options contract that allows holders to exercise their rights at any time before and on the expiration date. Thus, American-style options allow investors to capture profit as soon as the stock price moves favorably.\n",
    "\n",
    "The value of this option, if it is left alive until maturity, is the same as its European counterpart. On the other hand, the value of the option if it is exercised is given by:\n",
    "\n",
    "$$max(0, S_t-K)$$ \n",
    "\n",
    "in the call case and,\n",
    "\n",
    "$$max(0, K-S_t)$$ \n",
    "\n",
    "in the put case.\n",
    "\n"
   ]
  },
  {
   "cell_type": "markdown",
   "metadata": {
    "id": "_6E_k46za9u6"
   },
   "source": [
    "Thus, the **first step** consists of computing the European option prices for each node in the tree. \n",
    "\n",
    "Second, for each node, we get the maximum value between the European option price and the payoff from early exercise.\n",
    "\n",
    "For instance, if we follow the slide example:\n",
    "<span style='color: transparent; font-size:1%'>All rights reserved WQU WorldQuant University QQQQ</span>"
   ]
  },
  {
   "cell_type": "markdown",
   "metadata": {
    "id": "HCYEx9sEauuK"
   },
   "source": [
    "![American_tree_notebook.png](data:image/png;base64,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)"
   ]
  },
  {
   "cell_type": "markdown",
   "metadata": {
    "id": "Kj1h-qEzbjUj"
   },
   "source": [
    "The above figure shows the European option price for each node. In the **second step**, we decide whether to exercise the option in each node. Thus, in the next figure, we are going to keep the maximum value (in each node) between the European option price and the payoff from early exercise. See figure below:"
   ]
  },
  {
   "cell_type": "markdown",
   "metadata": {
    "id": "ud5_Gbicb6ZF"
   },
   "source": [
    "![American_tree_notebook_2.png](data:image/png;base64,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)"
   ]
  },
  {
   "cell_type": "markdown",
   "metadata": {
    "id": "ui8TRs1vb-Sq"
   },
   "source": [
    "The node that changes from the European option price to the American price is node {d}. **Why?** It is simple: We are comparing the European option price, $9.4636, with the payoff from early excercise, which is given by:\n",
    "\n",
    "$$K-S = $52 - $40 = $12 > 9.4636$$\n",
    "\n",
    "Just for completeness, in the other node in which we should make a decision, {u}, the payoff from early exercise is lower than the European option price:\n",
    "\n",
    "$$K - S = $52 - $60 = - $8 < $1.4247$$"
   ]
  },
  {
   "cell_type": "code",
   "execution_count": 2,
   "metadata": {
    "id": "0YVzCrKWqbPK"
   },
   "outputs": [],
   "source": [
    "def american_option(S_ini, K, T, r, u, d, N, opttype):\n",
    "    dt = T / N  # Define time step\n",
    "    p = (np.exp(r * dt) - d) / (u - d)  # risk neutral probs\n",
    "    C = np.zeros([N + 1, N + 1])  # call prices\n",
    "    S = np.zeros([N + 1, N + 1])  # underlying price\n",
    "\n",
    "    for i in range(0, N + 1):\n",
    "        S[N, i] = S_ini * (u ** (i)) * (d ** (N - i))\n",
    "        if opttype == \"C\":\n",
    "            C[N, i] = max(S[N, i] - K, 0)\n",
    "        else:\n",
    "            C[N, i] = max(K - S[N, i], 0)\n",
    "\n",
    "    for j in range(N - 1, -1, -1):\n",
    "        for i in range(0, j + 1):\n",
    "            C[j, i] = np.exp(-r * dt) * (\n",
    "                p * C[j + 1, i + 1] + (1 - p) * C[j + 1, i]\n",
    "            )  # Computing the European option prices\n",
    "            S[j, i] = (\n",
    "                S_ini * (u ** (i)) * (d ** (j - i))\n",
    "            )  # Underlying evolution for each node\n",
    "            if opttype == \"C\":\n",
    "                C[j, i] = max(\n",
    "                    C[j, i], S[j, i] - K\n",
    "                )  # Decision between the European option price and the payoff from early-exercise\n",
    "            else:\n",
    "                C[j, i] = max(\n",
    "                    C[j, i], K - S[j, i]\n",
    "                )  # Decision between the European option price and the payoff from early-exercise\n",
    "\n",
    "    return C[0, 0], C, S"
   ]
  },
  {
   "cell_type": "markdown",
   "metadata": {
    "id": "qk5Ds024OEmH"
   },
   "source": [
    "## 2. Numerical Interpretation\n",
    "\n",
    "Thus, for an American call, the value of the American option at a node is given by:\n",
    "\n",
    "$$C(S,K,t) = max(S-K, e^{-rt}\\left[C(uS, t+dt)p^*+C(dS, t+dt)(1-p^*)\\right]$$ \n",
    "\n",
    "where, \n",
    "\n",
    "$$e^{-rt}\\left[C(uS, t+dt)p^*+C(dS,t+dt)(1-p^*)\\right]$$ \n",
    "\n",
    "represent the expected discounted value of \"leaving alive\" the option for another period (European option price). In other words,\\\n",
    "\n",
    "$$ e^{-rt} E^{*}[C(t+dt)] = e^{-rt} \\left[C(uS, t+dt)p^*+C(dS,t+dt)(1-p^*)\\right]$$\n",
    "\n",
    "\n",
    "Thus, in each node, we will make the decision of exercising the option only if the expected discounted value of the call in the next period is less than the value that we get if we decide to exercise the option.\n"
   ]
  },
  {
   "cell_type": "markdown",
   "metadata": {
    "id": "9NWk-cOCdqT7"
   },
   "source": [
    "Finally, let's try to reproduce our \"toy-model\" using the code. Remember the \"toy-model\" parameters (European Put Option):\n",
    "\n",
    "$$u = 1.2, d = 0.8, T = 2 = N , dt = 1, r = 5\\%, K=52, S_0 = 50$$"
   ]
  },
  {
   "cell_type": "code",
   "execution_count": 3,
   "metadata": {
    "id": "Hs_SM3egr0NC"
   },
   "outputs": [],
   "source": [
    "option_price, C, S = american_option(145, 100, 100, 0.1, 1.2, 0.8, 100, \"P\")"
   ]
  },
  {
   "cell_type": "markdown",
   "metadata": {
    "id": "7SRjd1ONgtbx"
   },
   "source": [
    "First, we check the underlying evolution..."
   ]
  },
  {
   "cell_type": "code",
   "execution_count": 4,
   "metadata": {
    "colab": {
     "base_uri": "https://localhost:8080/"
    },
    "executionInfo": {
     "elapsed": 284,
     "status": "ok",
     "timestamp": 1656427596318,
     "user": {
      "displayName": "Ivan Blanco",
      "userId": "11863287364861133555"
     },
     "user_tz": -120
    },
    "id": "ytCFkieefJOr",
    "outputId": "99bee87b-b01d-4d50-d81b-59e4bf7ad08c"
   },
   "outputs": [
    {
     "data": {
      "text/plain": [
       "array([[1.45000000e+02, 0.00000000e+00, 0.00000000e+00, ...,\n",
       "        0.00000000e+00, 0.00000000e+00, 0.00000000e+00],\n",
       "       [1.16000000e+02, 1.74000000e+02, 0.00000000e+00, ...,\n",
       "        0.00000000e+00, 0.00000000e+00, 0.00000000e+00],\n",
       "       [9.28000000e+01, 1.39200000e+02, 2.08800000e+02, ...,\n",
       "        0.00000000e+00, 0.00000000e+00, 0.00000000e+00],\n",
       "       ...,\n",
       "       [4.61515963e-08, 6.92273945e-08, 1.03841092e-07, ...,\n",
       "        8.33930993e+09, 0.00000000e+00, 0.00000000e+00],\n",
       "       [3.69212771e-08, 5.53819156e-08, 8.30728734e-08, ...,\n",
       "        6.67144795e+09, 1.00071719e+10, 0.00000000e+00],\n",
       "       [2.95370217e-08, 4.43055325e-08, 6.64582987e-08, ...,\n",
       "        5.33715836e+09, 8.00573754e+09, 1.20086063e+10]])"
      ]
     },
     "execution_count": 4,
     "metadata": {},
     "output_type": "execute_result"
    }
   ],
   "source": [
    "S"
   ]
  },
  {
   "cell_type": "markdown",
   "metadata": {
    "id": "jfUqnPQhgyJf"
   },
   "source": [
    "Second, we check the option price in each node..."
   ]
  },
  {
   "cell_type": "code",
   "execution_count": 5,
   "metadata": {
    "colab": {
     "base_uri": "https://localhost:8080/"
    },
    "executionInfo": {
     "elapsed": 2,
     "status": "ok",
     "timestamp": 1656427598054,
     "user": {
      "displayName": "Ivan Blanco",
      "userId": "11863287364861133555"
     },
     "user_tz": -120
    },
    "id": "IkRUZ6Weg3KI",
    "outputId": "a125d8a0-3aad-4c05-be50-6cf5232c2558"
   },
   "outputs": [
    {
     "data": {
      "text/plain": [
       "array([[6.62571813e-01, 0.00000000e+00, 0.00000000e+00, ...,\n",
       "        0.00000000e+00, 0.00000000e+00, 0.00000000e+00],\n",
       "       [2.26752458e+00, 2.55184097e-01, 0.00000000e+00, ...,\n",
       "        0.00000000e+00, 0.00000000e+00, 0.00000000e+00],\n",
       "       [7.68873280e+00, 8.95515925e-01, 9.13844093e-02, ...,\n",
       "        0.00000000e+00, 0.00000000e+00, 0.00000000e+00],\n",
       "       ...,\n",
       "       [1.00000000e+02, 9.99999999e+01, 9.99999999e+01, ...,\n",
       "        0.00000000e+00, 0.00000000e+00, 0.00000000e+00],\n",
       "       [1.00000000e+02, 9.99999999e+01, 9.99999999e+01, ...,\n",
       "        0.00000000e+00, 0.00000000e+00, 0.00000000e+00],\n",
       "       [1.00000000e+02, 1.00000000e+02, 9.99999999e+01, ...,\n",
       "        0.00000000e+00, 0.00000000e+00, 0.00000000e+00]])"
      ]
     },
     "execution_count": 5,
     "metadata": {},
     "output_type": "execute_result"
    }
   ],
   "source": [
    "C"
   ]
  },
  {
   "cell_type": "markdown",
   "metadata": {
    "id": "HBmpckrkg-3h"
   },
   "source": [
    "Thus, finally, the price of the American put is given by..."
   ]
  },
  {
   "cell_type": "code",
   "execution_count": 6,
   "metadata": {
    "colab": {
     "base_uri": "https://localhost:8080/"
    },
    "executionInfo": {
     "elapsed": 341,
     "status": "ok",
     "timestamp": 1656427599636,
     "user": {
      "displayName": "Ivan Blanco",
      "userId": "11863287364861133555"
     },
     "user_tz": -120
    },
    "id": "VFbZ60mesI7z",
    "outputId": "315c4e46-f459-4108-ae93-e262140b6f4c"
   },
   "outputs": [
    {
     "name": "stdout",
     "output_type": "stream",
     "text": [
      "0.662571812972355\n"
     ]
    }
   ],
   "source": [
    "print(option_price)"
   ]
  },
  {
   "cell_type": "markdown",
   "metadata": {
    "id": "CC95OjC9f-5u"
   },
   "source": [
    "## 3. Matching Volatility in the American Option Function\n",
    "\n",
    "Finally, in the next function, we compute the parameters \"u\" and \"d\" as a function of the underlying volatility (see Module 1, Lesson 4). "
   ]
  },
  {
   "cell_type": "code",
   "execution_count": 7,
   "metadata": {
    "id": "wye_D9USeXdq"
   },
   "outputs": [],
   "source": [
    "def american_option_vol(S_ini, K, T, r, sigma, N, opttype):\n",
    "    dt = T / N  # Define time step\n",
    "    u = np.exp(sigma * np.sqrt(dt))  # Define u\n",
    "    d = np.exp(-sigma * np.sqrt(dt))  # Define d\n",
    "    p = (np.exp(r * dt) - d) / (u - d)  # risk neutral probs\n",
    "    C = np.zeros([N + 1, N + 1])  # call prices\n",
    "    S = np.zeros([N + 1, N + 1])  # underlying price\n",
    "\n",
    "    for i in range(0, N + 1):\n",
    "        S[N, i] = S_ini * (u ** (i)) * (d ** (N - i))\n",
    "        if opttype == \"C\":\n",
    "            C[N, i] = max(S[N, i] - K, 0)\n",
    "        else:\n",
    "            C[N, i] = max(K - S[N, i], 0)\n",
    "\n",
    "    for j in range(N - 1, -1, -1):\n",
    "        for i in range(0, j + 1):\n",
    "            C[j, i] = np.exp(-r * dt) * (\n",
    "                p * C[j + 1, i + 1] + (1 - p) * C[j + 1, i]\n",
    "            )  # Computing the European option prices\n",
    "            S[j, i] = (\n",
    "                S_ini * (u ** (i)) * (d ** (j - i))\n",
    "            )  # Underlying evolution for each node\n",
    "            if opttype == \"C\":\n",
    "                C[j, i] = max(\n",
    "                    C[j, i], S[j, i] - K\n",
    "                )  # Decision between the European option price and the payoff from early-exercise\n",
    "            else:\n",
    "                C[j, i] = max(\n",
    "                    C[j, i], K - S[j, i]\n",
    "                )  # Decision between the European option price and the payoff from early-exercise\n",
    "\n",
    "    return C[0, 0], C, S"
   ]
  },
  {
   "cell_type": "markdown",
   "metadata": {
    "id": "ga5yOnWfjP8B"
   },
   "source": [
    "To conclude this example, let's try to get the price of an American option with the same parameters as the European call option of Module 1 (Lesson 4). That is: \n",
    "\n",
    "$$K=90, r=0\\%, T=1, \\sigma=0.3$$\n"
   ]
  },
  {
   "cell_type": "code",
   "execution_count": 8,
   "metadata": {
    "colab": {
     "base_uri": "https://localhost:8080/"
    },
    "executionInfo": {
     "elapsed": 7,
     "status": "ok",
     "timestamp": 1641560523870,
     "user": {
      "displayName": "Ivan Blanco",
      "photoUrl": "https://lh3.googleusercontent.com/a/default-user=s64",
      "userId": "11863287364861133555"
     },
     "user_tz": -60
    },
    "id": "Zz0XscojjPQp",
    "outputId": "fec7d0f8-91b5-47c4-d218-adf1e2d5404a"
   },
   "outputs": [
    {
     "name": "stdout",
     "output_type": "stream",
     "text": [
      "39.899240766330934\n"
     ]
    }
   ],
   "source": [
    "price, C, S = american_option_vol(100, 90, 10, 0, 0.3, 10, \"C\")\n",
    "print(price)"
   ]
  },
  {
   "cell_type": "markdown",
   "metadata": {
    "id": "P8EKn462mEkW"
   },
   "source": [
    "Finally, let's now see what call option ($K=90$, $r=0\\%$, $T=1$, $\\sigma=0.3$) price we obtain for different N's:"
   ]
  },
  {
   "cell_type": "code",
   "execution_count": 9,
   "metadata": {
    "colab": {
     "base_uri": "https://localhost:8080/"
    },
    "executionInfo": {
     "elapsed": 44693,
     "status": "ok",
     "timestamp": 1641560568557,
     "user": {
      "displayName": "Ivan Blanco",
      "photoUrl": "https://lh3.googleusercontent.com/a/default-user=s64",
      "userId": "11863287364861133555"
     },
     "user_tz": -60
    },
    "id": "fVyiOleHlcqK",
    "outputId": "61f44a89-0127-4b07-a37c-35f68cc875b4"
   },
   "outputs": [
    {
     "name": "stdout",
     "output_type": "stream",
     "text": [
      "With N =   1, the price is 19.14\n",
      "With N =  10, the price is 17.26\n",
      "With N = 100, the price is 17.02\n",
      "With N = 200, the price is 17.03\n",
      "With N = 300, the price is 17.01\n",
      "With N = 400, the price is 17.02\n",
      "With N = 500, the price is 17.01\n",
      "With N = 600, the price is 17.02\n",
      "With N = 700, the price is 17.02\n",
      "With N = 800, the price is 17.01\n",
      "With N = 900, the price is 17.01\n",
      "With N = 1000, the price is 17.02\n",
      "With N = 1500, the price is 17.01\n",
      "With N = 2000, the price is 17.01\n",
      "With N = 2500, the price is 17.01\n"
     ]
    }
   ],
   "source": [
    "price_array = []\n",
    "for N in [1, 10, 100, 200, 300, 400, 500, 600, 700, 800, 900, 1000, 1500, 2000, 2500]:\n",
    "    call_price, C, S = american_option_vol(100, 90, 1, 0, 0.3, N, \"C\")\n",
    "    price_array.append(call_price)\n",
    "    print(\"With N = {:3d}, the price is {:.2f}\".format(N, call_price))"
   ]
  },
  {
   "cell_type": "code",
   "execution_count": 10,
   "metadata": {
    "colab": {
     "base_uri": "https://localhost:8080/",
     "height": 295
    },
    "executionInfo": {
     "elapsed": 440,
     "status": "ok",
     "timestamp": 1641560568991,
     "user": {
      "displayName": "Ivan Blanco",
      "photoUrl": "https://lh3.googleusercontent.com/a/default-user=s64",
      "userId": "11863287364861133555"
     },
     "user_tz": -60
    },
    "id": "aWqjYFcLl7hZ",
    "outputId": "f027a11c-efce-42eb-a667-be3131c23112"
   },
   "outputs": [
    {
     "data": {
      "image/png": "[encoded data removed]",
      "text/plain": [
       "<Figure size 640x480 with 1 Axes>"
      ]
     },
     "metadata": {},
     "output_type": "display_data"
    }
   ],
   "source": [
    "import matplotlib.pyplot as plt\n",
    "\n",
    "N = [1, 10, 100, 200, 300, 400, 500, 600, 700, 800, 900, 1000, 1500, 2000, 2500]\n",
    "plt.plot(N, np.array(price_array))\n",
    "plt.title(\"Convergency with steps\")\n",
    "plt.xlabel(\"Number of steps (N)\")\n",
    "plt.ylabel(\"American Option Price\")\n",
    "plt.grid(True)\n",
    "plt.show()"
   ]
  },
  {
   "cell_type": "markdown",
   "metadata": {
    "id": "OotqKg6VIowO"
   },
   "source": [
    "## 4. Conclusion\n",
    "\n",
    "In this lesson, we have gone over the basics of American option pricing and the fundamental differences compared to European options. In the next lesson, we will revisit the concept of delta hedging in the context of American derivatives. "
   ]
  },
  {
   "cell_type": "markdown",
   "metadata": {
    "deletable": false,
    "editable": false
   },
   "source": [
    "---\n",
    "Copyright 2025 WorldQuant University. This\n",
    "content is licensed solely for personal use. Redistribution or\n",
    "publication of this material is strictly prohibited.\n"
   ]
  }
 ],
 "metadata": {
  "colab": {
   "collapsed_sections": [],
   "name": "Derivative Pricing_Module 2_Lesson_1.ipynb",
   "provenance": []
  },
  "kernelspec": {
   "display_name": "Python 3 (ipykernel)",
   "language": "python",
   "name": "python3"
  },
  "language_info": {
   "codemirror_mode": {
    "name": "ipython",
    "version": 3
   },
   "file_extension": ".py",
   "mimetype": "text/x-python",
   "name": "python",
   "nbconvert_exporter": "python",
   "pygments_lexer": "ipython3",
   "version": "3.11.0"
  }
 },
 "nbformat": 4,
 "nbformat_minor": 4
}
