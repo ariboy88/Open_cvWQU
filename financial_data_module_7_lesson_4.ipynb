{
 "cells": [
  {
   "cell_type": "markdown",
   "metadata": {
    "id": "A_djuWRzMXkq"
   },
   "source": [
    "MODULE 7 | LESSON 4\n",
    "\n",
    "---\n"
   ]
  },
  {
   "cell_type": "markdown",
   "metadata": {
    "id": "sQfsxvu2MrAc"
   },
   "source": [
    "# **Numerical Methods for Core Modeling, Model Refinement, and Finding Optimal Solutions**\n"
   ]
  },
  {
   "cell_type": "markdown",
   "metadata": {
    "id": "aSW9-996Miww"
   },
   "source": [
    "|  |  |\n",
    "|:---|:---|\n",
    "|**Reading Time** |60 minutes|\n",
    "|**Prior Knowledge** |basic mathematical foundations, Calculus, Linear Algebra, Probabilities, Statistics, basic programming concepts|\n",
    "|**Keywords** | GARCH, PCA, Regression, Classification, Regularization, Modelling, Neural Networks, Ensemble, Calibration, Validation, Pseudocode, Hidden Markov, Filtering|\n",
    "|  |  |"
   ]
  },
  {
   "cell_type": "markdown",
   "metadata": {
    "id": "t6JWZbCYFhmI"
   },
   "source": [
    "In the previous lesson and this lesson, we organized and categorized numerical methods you will encounter throughout the program. In the previous lesson, we focused on data cleaning (imputation and outlier detection), data engineering (normalization and factoring), and statistical analysis (inference and simulation). In this next lesson, we will complete the second half of numerical methods, including core modeling, which will focus on regression, classification, dimensionality reduction, and conditioning; model refinement, which will focus on filtering and detecting change; and finding optimal solutions (including calibrating, optimizing, and combining models).  Afterwards, we'll summarize a broader set of skills, including soft skills, that you will hone throughout the following eight courses."
   ]
  },
  {
   "cell_type": "markdown",
   "metadata": {
    "id": "4tsZsezGth8R"
   },
   "source": [
    "## **1. Core Modeling**\n",
    "\n",
    "In this first section, we review two large groups of core models: regression/classification models and models that reduce the search space and/or condition of the data.\n",
    "\n",
    "### **1.1 Regressing/Classifying**\n",
    "The most common technical skill is regressing one variable on various predicators. Those regressions can take many different forms, which we explore in Econometrics and Machine Learning. If the target variable is continuous, we refer to the model as a regression problem. If the target variable is categorical, we refer to the model as a classification problem. We’ll run linear and nonlinear regressions; cross-sectional and time series regressions; and univariate and multivariate regression. In some regressions, we’ll easily observe the predictors; in others, we’ll use factoring (another technical skill) to identify what the features are. Regressions can appear on the news channel, where you hear stories like “studies show that eating chocolate leads to a happier life” (undoubtedly sponsored by the chocolate companies).\n",
    "\n",
    "From a software point of view, regressions are \"black boxes\" to which we supply inputs and crunch the numbers to produce the model outputs. However, like all the other areas, we will want to understand the details of the algorithm: its assumptions, derivation, advantages and disadvantages, and appropriate interpretations and applications of the results. In this program, black boxes should become white boxes, with a clear understanding of the mechanics to facilitate their best use.\n",
    "\n",
    "In Financial Econometrics, you will encounter a very interesting regression problem for the variance rather than the level of a series. In a model known as GARCH, you will regress today's volatility using yesterday's volatility and yesterday's squared return. In Module 5, we cover generalized autoregressive conditional heteroskedasticity models, known as GARCH models, that are autoregression models for a time-varying volatility.  \n",
    "\n",
    "As you will see in Machine Learning, we will run a classification model using logistic regression. The difference between regression and classification mirrors the difference between continuous and categorical variables.\n",
    "\n",
    "### **1.2 Reducing/Conditioning**\n",
    "The data we are given may be too big to handle. Learning how to divide the data is key. One method is using principal components: a data rotation technique that orders the data in orthogonal components ranked in order of decreasing variance. From this new set, we may choose only a selection of the components that captures the bulk of the variability of the data. Clustering is another way we may reduce the dimensionality of our data. Even when you perform conditional studies, you reduce the data by using only the subset that fulfills the condition. Classification trees and Naïve Bayes classifiers are two examples.\n",
    "\n",
    "Recall from Module 1, Lesson 4 that a principal component analysis was done on n columns, and by keeping 3 principal components, we explained a vast majority of the variation of the data."
   ]
  },
  {
   "cell_type": "markdown",
   "metadata": {
    "id": "MPSFY9wYE9Xt"
   },
   "source": [
    "## **2. Model Refinement**\n",
    "\n",
    "In this section, we review two large groups of refining models: filtering and detecting change.\n",
    "\n",
    "### **2.1 Filtering**\n",
    "Technically, filtering can happen anywhere in the data processing pipeline.  For example, once we have imputed missing values and excluded outliers, we may want to filter data. We’ll use filtering as a process to prepare data for analysis. At times, we may not need to do any filtering. End-of-day adjusted closing prices of an equity are likely ready to be converted to returns and modeled. However, an intraday version of the same stock series, with bid prices, ask prices, and trade prices, may require filtering to make the data more manageable.\n",
    "\n",
    "Within a model, one way to think of filtering is applying weights. (Assigning a weight of 0 would mean we are excluding.) Other times, we will use filters to smooth data due to high noise content. One example of filtering will be the Kalman filter for improved estimation of signals. We’ll see these mathematical topics in Stochastic Modeling. Another type of filtering is regularization, where we effectively assign penalties to complexity.\n",
    "\n",
    "For example, in the Financial Econometrics course, we explore regularization techniques such as L1 (Lasso) and L2 (Ridge) when working with Linear Regression models. These methods help us \"filter out\" less important variables (in the case of Lasso) or normalize the distribution of regression coefficients by assigning weights in a more robust way (in the case of Ridge). These powerful techniques are just a glimpse of what you'll learn in Financial Econometrics, where we dive deeper into sophisticated statistical methods for analyzing financial data.\n",
    "\n",
    "### **2.2 Detecting Change**\n",
    "One of the most useful technical skills in statistics is the ability to detect meaningful changes in the system. Detecting change may trigger a trading model to start trading or a risk model to no longer be effective due to exceeding a volatility breach. Changes can occur statistically when we look at a process that transitions from stationary to non-stationary or from mean-reverting to trending or that switches signs from positive to negative. We’ll explore change detection when we run tests for unit roots and stationarity. We’ll explore these in regime shifting models. We’ll look at error correction models within this group to determine how a temporary disequilibrium may revert to their equilibrium.\n",
    "\n",
    "Furthermore, we can think of detecting change as a rate of change, which brings us to derivatives. Classical calculus teaches us that the first derivative represents the rate of change. We’ll learn methods of stochastic calculus and learn how to take derivatives, including partial derivatives, of stochastic functions. These derivatives will turn out to be key sensitivities of how an option price varies with the underlying variables and parameters.\n",
    "\n",
    "In our Stochastic Modeling course, you'll discover fascinating tools like Hidden Markov Models (HMM) that help us understand how financial markets switch between different states or \"regimes.\" You will learn how to detect when the market transitions from a low-volatility \"calm\" state to a high-volatility \"turbulent\" state, or from a bullish to a bearish regime. This powerful technique allows analysts to adapt their strategies based on these changing market conditions. HMMs are just one example of the sophisticated yet practical tools you'll master in Stochastic Modeling."
   ]
  },
  {
   "cell_type": "markdown",
   "metadata": {
    "id": "joX7lytFE-I2"
   },
   "source": [
    "## **3. Finding Optimal Solutions**\n",
    "\n",
    "In this section, we review two large groups of refining models: calibrating/optimizing and combining models.\n",
    "\n",
    "### **3.1 Calibrating/Optimizing: Finding Solutions**\n",
    "Sometimes, we assume values for the constant parameters of models and then use them to price securities or estimate random variables. Other times, we will want to work in the opposite direction: input the prices and value from the current market and imply what parameter values cause those prices. This process is known as calibration. Optimization is related because it seeks to find a minimum (if maximum, we take the negative) of an objective function by changing the value of key parameters subject to specified constraints. Optimizations are a type of constrained regression if you will. These tools will require us to be relentlessly methodical and meticulous in our ability to hunt for the global minimum. Thanks to an ensemble of topics in stochastic modeling, machine learning, and deep learning, you will encounter many examples of both calibration and optimization. One of the great quants, the late Peter Carr, said that the top skill the industry looks for from FE graduates is their ability to calibrate and optimize models they use. The skills require range across mathematics, statistics, and programming so that deficiencies in any one area limit the optimizer in performing their job. For example, we’ll estimate the coefficients of a GARCH(1,1) model using Bayesian techniques.\n",
    "\n",
    "Optimizations appear in many places. Every regression problem has an associated optimization problem (minimize the sum of least squares; maximize the likelihood, etc.). Many imputations will involve an optimization. When we train and test a model, we will want to optimize the bias-variance tradeoff by minimizing a mean squared error or similar metric.\n",
    "<br>\n",
    "In Module 5 of the following Financial Econometrics course, we will learn the Bayesian technique to estimate a GARCH model. Also, in Module 2 of the Stochastic Modeling course, we will learn how to use various methods to calibrate a credit risk model.\n",
    "\n",
    "### **3.2 Combining: Strength in Numbers**\n",
    "Sometimes, the \"best\" model is not a single model but a combination of models.  Indeed, we will be examining how models that were developed independently can actually be combined to work better. For example, in a future course, you will see how an econometric model GARCH can be combined with a deep learning model to improve its performance. Instead of always looking for the best model, we may combine models. For instance, in Machine Learning, you will see two linear regression methods, one called LASSO and the other called Ridge regression. Which works better? Well, there’s a third method, called elastic nets, that uses both in the same regression. So oftentimes, you may use elastic nets and set the weights to include some amount of each model. In addition, we’ll learn how to combine results from different types of models through ensemble learning. Specifically, we’ll discuss bumping, bagging, and especially boosting. As we increase our modeling ability, we’ll even be able to combine classical models like GARCH with machine learning algorithms. For example, we can combine GARCH models and neural networks to get better results than with either one individually.\n",
    "<br>\n",
    "In the following Machine Learning course, you will learn how to combine results from several models to produce better predictions than a single model in Module 4. This module will provide us more information on this topic."
   ]
  },
  {
   "cell_type": "markdown",
   "metadata": {
    "id": "05Gsb0G7Gjzs"
   },
   "source": [
    "## **4. Building Your Technical Foundation**\n",
    "\n",
    "### **4.1 Mathematics**\n",
    "The Quantitative Proficiency Test addressed many of the mathematical areas. Math provides much needed rigor. Often, engineering students may feel that the code or solution is enough: a problem of the ends justifying the means. The problem is that mathematics is the language that is needed to get to the heart of understanding. It is not essential to master the math as if you were a mathematician. Indeed, math is rigorous in that the mathematician is tasked with proofs of theorem, lemmas, and many details. The financial engineer (FE) needs to learn enough math to be rigorous when needed but not too much at the expense of other areas. Math is almost never learned by reading the book but by reading, rereading, getting used to notation, studying examples, solving problems, getting stuck, figuring out where the disconnect occurs, remedying that, and repeating. Math skills also include the ability to read and create equations in LaTeX so that you can post or reply in forums and complete your assignments correctly.\n",
    "\n",
    "### **4.2 Modeling: Statistics/Machine Learning**\n",
    "Continuing our discussion of the quantitative area, let’s call modeling skills a separate skill set. Under the umbrella of mathematics, we have linear algebra, calculus, probability, and discrete mathematics. In these areas, questions are more objective. There are more theorems, transformations, and processes than there are models, p-values, and test scores. Linear regression requires an understanding of mathematics (e.g., expressing the equation in matrix notation or implementing a maximum likelihood estimation). But linear regression is also an art. Two different statisticians working with the same data may come up with two different looking models that perform equally well. Some models may favor an easier interpretation, others a good prediction rate, and others could help by making costly errors less likely. We’ll develop metrics for all these models starting in Econometrics and continuing in Machine Learning. There are often many ways to derive factors, use them in regressions, and combine the results. Statistics and ML are empirical and require an understanding of the assumption (often expressed mathematically) behind the models and this use.\n",
    "\n",
    "### **4.3 Coding Skills**\n",
    "Being skilled in the mathematical and modeling areas, one may think the rest of the work is easy. This assumption is not the case because of implementation. Unfortunately, many students do not get enough hands-on experience coding. Coding involves multiple skills. Let’s divide these into four areas.\n",
    "\n",
    "The first skill is problem solving. Can students tackle a project by writing pseudocode that solves the problem devoid of any language, architecture, or framework? It is stunning that some students cannot outline clear instructions for an algorithm when taking a quiz, completing a capstone project, or answering an interview question. To experienced people, this step of an ordered, comprehensive set of instructions is second nature and is not explicitly separate from the coding. Nevertheless, as you learn this material, make sure you understand an algorithm, transformation, or model by outlining its steps in a spoken language (e.g., English) rather than Python.\n",
    "\n",
    "The second skill is design. How will students write functions, design classes, and apply design patterns to architect a solution? For a simple project, writing a handful of functions may work well enough. But as a project’s complexity and scope increase, it is prudent to design how the solution looks. While a certificate in software design or architecture is certainly not needed, an FE engineers a solution in software, so that solution should be organized to solve the problem efficiently, with room to make changes and additions. Practical experience shows that more time can be spent maintaining code than writing it in the first place. So solid code should allow the FE to maintain and update code as needed.\n",
    "\n",
    "The third skill is the actual coding itself. Our official coding language is Python. That means you might learn how to do things in Python the same way you would have done them in C# or Java. Alternatively, you might learn how to do things the Pythonic way. These skills run the gamut of importing and exporting data, working with the right data structures, managing memory, and optimizing your use of existing packages. By the end of the program, Python should become as familiar as typing. You will literally spend hundreds of hours coding throughout the curriculum, including running existing examples, modifying and commenting code, and writing your own functions, classes, and even a package.\n",
    "\n",
    "A fourth skill is debugging. It’s amazing how much code is written without any checks. Students have submitted assignments with negative stock prices, negative probabilities, and negative volatilities. Some have submitted simulations with stock prices that don’t change or where they climb to 10 to the 300th power! Debugging is essential because even if you can write code perfectly the first time, you are likely going to review a colleague’s code at some point. Comments may be outdated if they even exist at all. There are often no help files, or the original author may be inaccessible (e.g., for model validation teams) or completely unavailable if they are not with the firm anymore. Debugging is more than throwing print statements in the code. It is a systematic way to find and fix errors as efficiently as possible. While the goal of this program is NOT to make you full-time software engineers, as an FE, you engineer models in code, so bugs in the code reflect on your skill as an FE. Remember that a weakness in coding due to a bug shows up as an FE who has not mastered their model.\n"
   ]
  },
  {
   "cell_type": "markdown",
   "metadata": {
    "id": "HP_DitooG9QW"
   },
   "source": [
    "## **5. Focus on Finance**\n",
    "Think of a stool with 3 legs: the legs are mathematics, statistics/machine learning, and computation. Strengthening each leg ensures the stool is sturdy. With a balanced, strong set of legs, the stool provides a place to sit at the table. On top of the table is a finance problem. Focus on understanding the problem from a financial point of view. When you enjoy and are successful at technical problems, it is tempting to focus on the technicalities, be attracted to learning new material, and take pride in the craftsmanship. These are noble attributes, and to be sure, the details are important.\n",
    "\n",
    "But rather than focus on the tools, the emphasis should be on the value your tools bring to solving a problem. For example, suppose volatility is being measured with a metric X. You are excited to learn a new area, so you spend a few weeks using tools from that area to build a new metric Y. In the end, your new metric Y measures volatility very much the same as before. It is not more insightful, not quicker, not cheaper, not better—just the same. What is the value in such a project? There are liberties to undertake new research areas, but imagine project after project where the emphasis is on the tools and not the problems. If the project were motivated by a need to produce the metric more quickly, more accurately, or with greater insight, then the focus is finance driven rather than tool driven. Perhaps a metric is needed that works in sideways markets better. Perhaps a metric is needed on days where the trading volume is well above a certain threshold. This focus is key because it reminds us that we are engineering solutions to problems and not merely coding for coding’s sake or doing math for math’s sake. Maintain an element of practicality.\n",
    "\n",
    "## **6. Building Your Non-Technical Foundation**\n",
    "Technical skills alone will not allow you to collaborate and communicate effectively with others. These non-technical skills are essential for success in working with others.\n",
    "\n",
    "### **6.1 Communication Skills**\n",
    "Communication skills encompass a broad set of areas: visualizations, presentations, speaking, and written skills. Equipped with a trisection of math, modeling, and computational skills, students may think they are well prepared to enter the industry. However, there is another array of skills that is essential for professional success. Collectively, these are sometimes known as soft skills. For some people they are easier, and for others, they are much more difficult. The first is communication.\n",
    "\n",
    "Our program builds communication skills through assignments, projects, and occasional presentations. The first of these areas is in visualization. How effectively can you communicate the results or application of your model? For example, some students print two pages of numerical output in an assignment thinking that is thorough. Why print out hundreds of numbers when a time series graph, histogram, or summary table will convey the same ideas in a cleaner, clearer, and more concise manner?\n",
    "\n",
    "Although FE is a technical area, professionals are expected to communicate ideas to both technical and non-technical audiences. This includes your ability to write documents in which you keep your target audience in mind. Presenting to an audience is another important skill, whether it's an in-person or virtual presentation. Preparing a slide deck is a communication skill that finds a balance between the details in a project and the limited time and space to emphasize key points, some of which can be technical. Presentations can vary from code reviews to conferences, weekly team meetings, or even a milestone presentation given to senior management. Being able to use language, tone, and details effectively is an important skill. Managers tend to prefer employees who give effective presentations because they trust these people will be able to represent the group in a positive light to both internal colleagues and external clients. Fortunately, you will take a workshop on giving presentations. Interestingly, your technical skills can certainly assist in your ability to give effective presentations. Likewise, mastering a technical area should mean that you are able to explain the ideas and applications to both general audiences and technical audiences.\n",
    "\n",
    "Communication also involves reading and listening. This includes being able to read forum posts, instructions for an assignment, and different types of required readings in your classes. You will also practice communicating with your fellow group members on more than two dozen group work projects throughout your coursework. Let’s call those collaboration skills, the topic of the next section.\n",
    "\n",
    "### **6.2 Collaboration Skills**  \n",
    "Most working professionals must learn to collaborate. Few and far between are the jobs where one person works in isolation. Oftentimes, a qualified individual is not hired because people feel they might be difficult to work with. Learning to work with others is not always easy, especially if there is a difference in motivation, backgrounds, the time each member is willing to commit, the quality of coding, etc. Even with a team of talented individuals, personality differences and egos can get in the way. The opportunity to work with fellow classmates exists throughout the program. Each course contains three different projects where you will work with no more than three people. The group work projects are intended not only to have you master the material but to also learn to collaborate with others.\n",
    "\n",
    "There are different ways groups collaborate. Sadly, some groups will have a negative experience: one or two people do all the work and the third member makes excuses and submits no work. Usually, the non-participating member doesn’t inform the other members until hours before the deadline, leaving their groupmates scrambling to get the work done. Other groups engage in a divide-and-conquer strategy: “I do this, you do that, then we combine the work and submit.” There is no group effort, no discussion, no brainstorming, and no checks and balances.\n",
    "\n",
    "Neither of these scenarios is our intention. The assignments are structured so that group members have some individual accountability but also must work as a team. Effective groups are teams where ideas can be freely exchanged, questions get answered, new questions get asked, and the results are better than any one member could have done individually. Good group members will become colleagues and friends. Take this opportunity to make the most of your group work by collaborating in a timely, respectful, and effective manner. Throughout years of teaching in this program, instructors have been amazed at the quality of some group work and disappointed at the missed opportunities of other groups.\n",
    "\n",
    "### **6.3 Critical Thinking Skills**  \n",
    "Our previous lesson addressed model failure and crises. As a student in the program, you might ask, “Knowing models fail and crises occur, what do I need to do differently?\" The answer is to think critically.\n",
    "\n",
    "It is likely that critical thinking is the skill that employers value most. It means that their employee is a growth stock, capable of learning, investigating, synthesizing, re-evaluating, questioning, and recommending. Throughout your quizzes, collaborative review tasks, group work projects, and other assignments, you will be challenged to develop critical thinking skills. These include:\n",
    "\n",
    "-Identifying Disruptions. Examining the impact central banks, regulatory agencies, and FinTech companies have on market volatility, liquidity, and profitability.\n",
    "\n",
    "-Detecting Biases: Identifying behavioral biases that affect asset pricing, asymmetries in markets, and risk regulation.\n",
    "\n",
    "-Systems Thinking: Viewing global markets, exchanges, and risk regulation in a systems framework.\n",
    "\n",
    "-Researching: Collecting information such as market data, regulatory policies, and tax laws to conduct research.\n",
    "\n",
    "-Problem-Solving: Categorizing financial engineering problems as pricing, hedging, or optimizing perspectives so that existing solution methodologies can be tried, as well as innovative solutions.\n",
    "\n",
    "-Interpreting: Interpreting the sensitivities (e.g., Greeks in derivatives) and market implications of parameter values from various statistical and machine learning models considering financial data.\n",
    "\n",
    "-Stressing: Reflecting on worst-case scenarios by stress testing existing models using crisis data and scenario analyses.\n",
    "\n",
    "-Critiquing: Critiquing the limitations of models that no longer work in certain economic cycles, market conditions, or financial crises.\n",
    "\n",
    "-Analyzing: Conducting a transaction analysis of an investment offering or business venture through a simplifying analysis of its hedging strategy.\n",
    "\n",
    "-Recommending: Recommending strategic portfolio or risk allocations based upon interpreting the results from various models.\n",
    "\n"
   ]
  },
  {
   "cell_type": "markdown",
   "metadata": {
    "id": "PRo2wFOGtwFg"
   },
   "source": [
    "## **7. Conclusion**\n",
    "\n",
    "If you only have the mindset of a mathematician, you simply write equations, derivations, and solutions on paper. If you just have the mindset of a programmer, you write the code, compile it, and feel a sense of accomplishment when it runs. If you only have the mindset of a statistician, you run the data through the model and call it quits when there’s output. An FE needs to build the mindset of all three of those while also connecting the dots: how does this metric, model, or methodology solve a problem that was yet unsolved, improve a solution we already have, or give insight to a process that did not exist? Focus on the financial problem."
   ]
  },
  {
   "cell_type": "markdown",
   "metadata": {
    "deletable": false,
    "editable": false,
    "id": "KvTOJQ-GFrc1"
   },
   "source": [
    "---\n",
    "Copyright 2024 WorldQuant University. This\n",
    "content is licensed solely for personal use. Redistribution or\n",
    "publication of this material is strictly prohibited.\n"
   ]
  }
 ],
 "metadata": {
  "colab": {
   "provenance": []
  },
  "kernelspec": {
   "display_name": "Python 3 (ipykernel)",
   "language": "python",
   "name": "python3"
  },
  "language_info": {
   "codemirror_mode": {
    "name": "ipython",
    "version": 3
   },
   "file_extension": ".py",
   "mimetype": "text/x-python",
   "name": "python",
   "nbconvert_exporter": "python",
   "pygments_lexer": "ipython3",
   "version": "3.11.0"
  }
 },
 "nbformat": 4,
 "nbformat_minor": 4
}
