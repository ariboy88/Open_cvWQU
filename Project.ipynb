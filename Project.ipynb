{
 "cells": [
  {
   "cell_type": "markdown",
   "metadata": {
    "id": "w-Is6iEq73PU",
    "tags": []
   },
   "source": [
    "\n",
    "## DERIVATIVE PRICING\n",
    "MODULE 1 | LESSON 1\n",
    "\n",
    "\n",
    "---\n",
    "\n"
   ]
  },
  {
   "cell_type": "markdown",
   "metadata": {
    "id": "VCce3VuGgSYe"
   },
   "source": [
    "# **FINANCIAL DERIVATIVE BASICS**\n",
    "\n"
   ]
  },
  {
   "cell_type": "markdown",
   "metadata": {
    "id": "08xZMBMDguf9"
   },
   "source": [
    "|  |  |\n",
    "|:---|:---|\n",
    "|**Reading Time** |  75 minutes |\n",
    "|**Prior Knowledge** | Options, financial derivatives basics  |\n",
    "|**Keywords** |Option, Call, Put, Risk-neutral probabilities, Real-world probabilities, No-arbitrage argument, Binomial model |\n",
    "\n",
    "\n",
    "---<span style='color: transparent; font-size:1%'>All rights reserved WQU WorldQuant University QQQQ</span>"
   ]
  },
  {
   "cell_type": "markdown",
   "metadata": {
    "id": "halptZG7h0KS"
   },
   "source": [
    "\n",
    "*Here you have the first Jupyter Notebook of your Derivative Pricing course.*\n",
    "*We will use this format throughout the whole course in order to do a proper mapping of the theoretical concepts in the slides/videos to the hands-on development of the ideas.* \n",
    "\n",
    "*In this notebook, we will develop a function in Python in order to construct a simple binomial tree. Make sure you understand this properly because it is going to set the foundation for future work.* \n"
   ]
  },
  {
   "cell_type": "code",
   "execution_count": 1,
   "metadata": {
    "tags": []
   },
   "outputs": [
    {
     "name": "stdout",
     "output_type": "stream",
     "text": [
      "/usr/local/lib/python3.11/site-packages/ipykernel_launcher.py\n"
     ]
    }
   ],
   "source": [
    "import os\n",
    "import sys\n",
    "\n",
    "# Get the full path of the current notebook\n",
    "notebook_path = os.path.join(os.getcwd(), sys.argv[0])\n",
    "print(notebook_path)"
   ]
  },
  {
   "cell_type": "markdown",
   "metadata": {
    "id": "GBGlDJm5dpVb"
   },
   "source": [
    "Let's start importing some of the libraries that we may need to use down the road:"
   ]
  },
  {
   "cell_type": "code",
   "execution_count": 2,
   "metadata": {
    "id": "8M6qW9GbwTFH",
    "tags": []
   },
   "outputs": [],
   "source": [
    "import numpy as np"
   ]
  },
  {
   "cell_type": "markdown",
   "metadata": {
    "id": "IgXYKl1g94tJ"
   },
   "source": [
    "In order to compute the binomial tree  in the video/slides of Lesson 1, we need a bunch of input data: upward movement (**u**), downward movement (**d**), risk-free rate (**$r_f$**), time-horizon (**T**), and number of steps in the tree (**N**).\n",
    "\n",
    "All these would be user-inputs to our function. However, there is one input that we need to consider with caution: the **time-step**. That is, how long does moving from one node to the next one in the tree represent in terms of time?\n",
    "\n",
    "In our baseline example on the slides the time-horizon for the evolution of the underlying (T) was equal to 1 year. There was 1 step in the tree (N=1). Therefore, there were no doubts that the time-step needed to be equal to 1. \n",
    "\n",
    "What if we want a different number of steps, or the time-horizon for the evolution of the underlying is different?\n",
    "In those cases, the time-step ($dt$) we use for our binomial model will be $→$ $dt = T/N$.\n",
    "\n",
    "Although we have not yet introduced the utility to specify $dt$, you will realize soon that $dt$ will be helpful for the calculation of risk-neutral probabilities."
   ]
  },
  {
   "cell_type": "markdown",
   "metadata": {
    "id": "VIJSDDeciZZh"
   },
   "source": [
    "## 1. Constructing a Binomial Tree\n"
   ]
  },
  {
   "cell_type": "markdown",
   "metadata": {
    "id": "6lZrLYqc1i2F"
   },
   "source": [
    "In the following code snippet, you have the code for a general function to simulate the underlying stock price for some inputs: initial stock price (`S_ini`), time-horizon ($T$), upward ($u$) and downward ($d$) movements, and number of steps (N)."
   ]
  },
  {
   "cell_type": "code",
   "execution_count": 4,
   "metadata": {
    "id": "mUvGvVjHbl57"
   },
   "outputs": [],
   "source": [
    "def binomial_tree(S_ini, T, u, d, N):\n",
    "    S = np.zeros([N + 1, N + 1])  # Underlying price\n",
    "    for i in range(0, N + 1):\n",
    "        S[N, i] = S_ini * (u ** (i)) * (d ** (N - i))\n",
    "    for j in range(N - 1, -1, -1):\n",
    "        for i in range(0, j + 1):\n",
    "            S[j, i] = S_ini * (u ** (i)) * (d ** (j - i))\n",
    "    return S"
   ]
  },
  {
   "cell_type": "markdown",
   "metadata": {
    "id": "8OntzcAbCP8H"
   },
   "source": [
    "Note that we store everything in a variable, $S$, the one returned by the function. This variable will contain an array with the values of the stock price at each point in time in a lower triangular matrix.\n",
    "\n",
    "Let's check it by replicating the same tree for $N=2$ that you have in the Lesson 1 slides:"
   ]
  },
  {
   "cell_type": "code",
   "execution_count": 5,
   "metadata": {
    "colab": {
     "base_uri": "https://localhost:8080/"
    },
    "id": "yrkW-q5wBV3u",
    "outputId": "5714a11c-3e38-474c-930c-9801852066db"
   },
   "outputs": [
    {
     "data": {
      "text/plain": [
       "array([[100.,   0.,   0.],\n",
       "       [ 80., 120.,   0.],\n",
       "       [ 64.,  96., 144.]])"
      ]
     },
     "execution_count": 5,
     "metadata": {},
     "output_type": "execute_result"
    }
   ],
   "source": [
    "Stock = binomial_tree(100, 1, 1.2, 0.8, 2)\n",
    "Stock"
   ]
  },
  {
   "cell_type": "markdown",
   "metadata": {
    "id": "ZqtJ93KkDf2s"
   },
   "source": [
    "## 2. Extending the Tree with Call Option Payoffs\n",
    "\n",
    "Next, let's extend the previous function by adding another variable that computes the payoffs associated with a Call Option of certain characteristics. Note that we are focusing on a European Call Option with strike price $K=90$, and therefore the payoff is only computed at maturity:"
   ]
  },
  {
   "cell_type": "code",
   "execution_count": 6,
   "metadata": {
    "id": "ieBZWxODDzor"
   },
   "outputs": [],
   "source": [
    "def binomial_tree_call(S_ini, K, T, u, d, N):\n",
    "    C = np.zeros([N + 1, N + 1])  # Call prices\n",
    "    S = np.zeros([N + 1, N + 1])  # Underlying price\n",
    "    for i in range(0, N + 1):\n",
    "        C[N, i] = max(S_ini * (u ** (i)) * (d ** (N - i)) - K, 0)\n",
    "        S[N, i] = S_ini * (u ** (i)) * (d ** (N - i))\n",
    "    for j in range(N - 1, -1, -1):\n",
    "        for i in range(0, j + 1):\n",
    "            S[j, i] = S_ini * (u ** (i)) * (d ** (j - i))\n",
    "    return S, C"
   ]
  },
  {
   "cell_type": "markdown",
   "metadata": {
    "id": "08X7mK63GPSC"
   },
   "source": [
    "It is easy to see that the variable $C$ output by the function will return Call Option payoff at maturity. We can verify this by replicating the simple N=1 tree with Call option payoff from the Lesson 1 slides:"
   ]
  },
  {
   "cell_type": "code",
   "execution_count": 7,
   "metadata": {
    "colab": {
     "base_uri": "https://localhost:8080/"
    },
    "id": "eII_CHtjEUpk",
    "outputId": "3b093a32-e6b8-404e-f9e7-1f468fafb273"
   },
   "outputs": [
    {
     "name": "stdout",
     "output_type": "stream",
     "text": [
      "Underlying Price Evolution:\n",
      " [[100.           0.           0.           0.           0.\n",
      "    0.           0.           0.           0.           0.\n",
      "    0.        ]\n",
      " [ 80.         120.           0.           0.           0.\n",
      "    0.           0.           0.           0.           0.\n",
      "    0.        ]\n",
      " [ 64.          96.         144.           0.           0.\n",
      "    0.           0.           0.           0.           0.\n",
      "    0.        ]\n",
      " [ 51.2         76.8        115.2        172.8          0.\n",
      "    0.           0.           0.           0.           0.\n",
      "    0.        ]\n",
      " [ 40.96        61.44        92.16       138.24       207.36\n",
      "    0.           0.           0.           0.           0.\n",
      "    0.        ]\n",
      " [ 32.768       49.152       73.728      110.592      165.888\n",
      "  248.832        0.           0.           0.           0.\n",
      "    0.        ]\n",
      " [ 26.2144      39.3216      58.9824      88.4736     132.7104\n",
      "  199.0656     298.5984       0.           0.           0.\n",
      "    0.        ]\n",
      " [ 20.97152     31.45728     47.18592     70.77888    106.16832\n",
      "  159.25248    238.87872    358.31808      0.           0.\n",
      "    0.        ]\n",
      " [ 16.777216    25.165824    37.748736    56.623104    84.934656\n",
      "  127.401984   191.102976   286.654464   429.981696     0.\n",
      "    0.        ]\n",
      " [ 13.4217728   20.1326592   30.1989888   45.2984832   67.9477248\n",
      "  101.9215872  152.8823808  229.3235712  343.9853568  515.9780352\n",
      "    0.        ]\n",
      " [ 10.73741824  16.10612736  24.15919104  36.23878656  54.35817984\n",
      "   81.53726976 122.30590464 183.45885696 275.18828544 412.78242816\n",
      "  619.17364224]]\n",
      "Call Option Payoff:\n",
      " [[  0.           0.           0.           0.           0.\n",
      "    0.           0.           0.           0.           0.\n",
      "    0.        ]\n",
      " [  0.           0.           0.           0.           0.\n",
      "    0.           0.           0.           0.           0.\n",
      "    0.        ]\n",
      " [  0.           0.           0.           0.           0.\n",
      "    0.           0.           0.           0.           0.\n",
      "    0.        ]\n",
      " [  0.           0.           0.           0.           0.\n",
      "    0.           0.           0.           0.           0.\n",
      "    0.        ]\n",
      " [  0.           0.           0.           0.           0.\n",
      "    0.           0.           0.           0.           0.\n",
      "    0.        ]\n",
      " [  0.           0.           0.           0.           0.\n",
      "    0.           0.           0.           0.           0.\n",
      "    0.        ]\n",
      " [  0.           0.           0.           0.           0.\n",
      "    0.           0.           0.           0.           0.\n",
      "    0.        ]\n",
      " [  0.           0.           0.           0.           0.\n",
      "    0.           0.           0.           0.           0.\n",
      "    0.        ]\n",
      " [  0.           0.           0.           0.           0.\n",
      "    0.           0.           0.           0.           0.\n",
      "    0.        ]\n",
      " [  0.           0.           0.           0.           0.\n",
      "    0.           0.           0.           0.           0.\n",
      "    0.        ]\n",
      " [  0.           0.           0.           0.           0.\n",
      "    0.          32.30590464  93.45885696 185.18828544 322.78242816\n",
      "  529.17364224]]\n"
     ]
    }
   ],
   "source": [
    "Stock, Call = binomial_tree_call(100, 90, 10, 1.2, 0.8, 10)\n",
    "print(\"Underlying Price Evolution:\\n\", Stock)\n",
    "print(\"Call Option Payoff:\\n\", Call)"
   ]
  },
  {
   "cell_type": "markdown",
   "metadata": {
    "id": "vZt2mlYPG47Z"
   },
   "source": [
    "## 3. Introducing Risk-Neutral Probabilities and backward induction of Call Option Value\n",
    "\n",
    "For the final part of this notebook, let's work with the risk-neutral probabilities. Once we have the probabilities, we can, by backward induction, calculate the value of the Call Option (given its future payoffs and the associated probabilities) at each node.\n",
    "\n",
    "Importantly, once we know the risk-neutral probabilities, the value of the Call Option at each node will depend on the expected payoff in the two potential future scenarios (up or down movements), discounted at risk-free. That is:\n",
    "\n",
    "$C_{t}= e^{-rdt}[p c_{t+1}^u + (1-p) c_{t+1}^d]$\n",
    "\n",
    "where $dt$ is the discounted period from one node to the next (**time-step**), and $c_{t+1}^u$ and $c_{t+1}^d$ are the **values of the Call option in the next period**. We will therefore have to start from the last period (maturity) and work backwards, hence the term backward induction.\n",
    "\n",
    "Note that we use $dt$ here because we are assuming there are a **bunch of periods (steps) in the tree from the initial date until maturity of the option**. Under the 1-step case, we can calculate risk-neutral probabilities as we did in the videos, because $dt=T/N = 1/1 = 1 = T$:\n",
    "\n",
    "$p=\\frac{e^{rT}-d}{u-d}$\n",
    "\n",
    "Once we consider a different $dt$, we just need to modify $p$ accordingly:\n",
    "\n",
    "$p=\\frac{e^{rdt}-d}{u-d}$"
   ]
  },
  {
   "cell_type": "markdown",
   "metadata": {
    "id": "5QsurhwrKYzl"
   },
   "source": [
    "Now, let's write a final function that recognizes all these issues."
   ]
  },
  {
   "cell_type": "code",
   "execution_count": 8,
   "metadata": {
    "id": "_Pg0ggVeEVWn"
   },
   "outputs": [],
   "source": [
    "def binomial_call_full(S_ini, K, T, r, u, d, N):\n",
    "    dt = T / N  # Define time step\n",
    "    p = (np.exp(r * dt) - d) / (u - d)  # Risk neutral probabilities (probs)\n",
    "    C = np.zeros([N + 1, N + 1])  # Call prices\n",
    "    S = np.zeros([N + 1, N + 1])  # Underlying price\n",
    "    for i in range(0, N + 1):\n",
    "        C[N, i] = max(S_ini * (u ** (i)) * (d ** (N - i)) - K, 0)\n",
    "        S[N, i] = S_ini * (u ** (i)) * (d ** (N - i))\n",
    "    for j in range(N - 1, -1, -1):\n",
    "        for i in range(0, j + 1):\n",
    "            C[j, i] = np.exp(-r * dt) * (p * C[j + 1, i + 1] + (1 - p) * C[j + 1, i])\n",
    "            S[j, i] = S_ini * (u ** (i)) * (d ** (j - i))\n",
    "    return C[0, 0], C, S"
   ]
  },
  {
   "cell_type": "markdown",
   "metadata": {
    "id": "OlmDvxFoMlsZ"
   },
   "source": [
    "Notice that since we are doing backward induction, the first value of the Call Option Payoff matrix (the last we calculate) is the price of the Call Option today.\n",
    "\n",
    "Let's replicate with the values from the example in the slides to check it:"
   ]
  },
  {
   "cell_type": "code",
   "execution_count": 9,
   "metadata": {
    "colab": {
     "base_uri": "https://localhost:8080/"
    },
    "id": "-QNoZlR3K4mS",
    "outputId": "1590073b-fadc-4bf6-d1b3-5d5c1eff5f7b"
   },
   "outputs": [
    {
     "name": "stdout",
     "output_type": "stream",
     "text": [
      "Underlying Price Evolution:\n",
      " [[100.           0.           0.           0.           0.\n",
      "    0.           0.           0.           0.           0.\n",
      "    0.        ]\n",
      " [ 80.         120.           0.           0.           0.\n",
      "    0.           0.           0.           0.           0.\n",
      "    0.        ]\n",
      " [ 64.          96.         144.           0.           0.\n",
      "    0.           0.           0.           0.           0.\n",
      "    0.        ]\n",
      " [ 51.2         76.8        115.2        172.8          0.\n",
      "    0.           0.           0.           0.           0.\n",
      "    0.        ]\n",
      " [ 40.96        61.44        92.16       138.24       207.36\n",
      "    0.           0.           0.           0.           0.\n",
      "    0.        ]\n",
      " [ 32.768       49.152       73.728      110.592      165.888\n",
      "  248.832        0.           0.           0.           0.\n",
      "    0.        ]\n",
      " [ 26.2144      39.3216      58.9824      88.4736     132.7104\n",
      "  199.0656     298.5984       0.           0.           0.\n",
      "    0.        ]\n",
      " [ 20.97152     31.45728     47.18592     70.77888    106.16832\n",
      "  159.25248    238.87872    358.31808      0.           0.\n",
      "    0.        ]\n",
      " [ 16.777216    25.165824    37.748736    56.623104    84.934656\n",
      "  127.401984   191.102976   286.654464   429.981696     0.\n",
      "    0.        ]\n",
      " [ 13.4217728   20.1326592   30.1989888   45.2984832   67.9477248\n",
      "  101.9215872  152.8823808  229.3235712  343.9853568  515.9780352\n",
      "    0.        ]\n",
      " [ 10.73741824  16.10612736  24.15919104  36.23878656  54.35817984\n",
      "   81.53726976 122.30590464 183.45885696 275.18828544 412.78242816\n",
      "  619.17364224]]\n",
      "Call Option Payoff:\n",
      " [[2.93845445e+01 0.00000000e+00 0.00000000e+00 0.00000000e+00\n",
      "  0.00000000e+00 0.00000000e+00 0.00000000e+00 0.00000000e+00\n",
      "  0.00000000e+00 0.00000000e+00 0.00000000e+00]\n",
      " [1.57572106e+01 4.30118784e+01 0.00000000e+00 0.00000000e+00\n",
      "  0.00000000e+00 0.00000000e+00 0.00000000e+00 0.00000000e+00\n",
      "  0.00000000e+00 0.00000000e+00 0.00000000e+00]\n",
      " [7.17743934e+00 2.43369819e+01 6.16867749e+01 0.00000000e+00\n",
      "  0.00000000e+00 0.00000000e+00 0.00000000e+00 0.00000000e+00\n",
      "  0.00000000e+00 0.00000000e+00 0.00000000e+00]\n",
      " [2.49687648e+00 1.18580022e+01 3.68159616e+01 8.65575882e+01\n",
      "  0.00000000e+00 0.00000000e+00 0.00000000e+00 0.00000000e+00\n",
      "  0.00000000e+00 0.00000000e+00 0.00000000e+00]\n",
      " [5.04779760e-01 4.48897320e+00 1.92270312e+01 5.44048920e+01\n",
      "  1.18710284e+02 0.00000000e+00 0.00000000e+00 0.00000000e+00\n",
      "  0.00000000e+00 0.00000000e+00 0.00000000e+00]\n",
      " [0.00000000e+00 1.00955952e+00 7.96838688e+00 3.04856755e+01\n",
      "  7.83241085e+01 1.59096460e+02 0.00000000e+00 0.00000000e+00\n",
      "  0.00000000e+00 0.00000000e+00 0.00000000e+00]\n",
      " [0.00000000e+00 0.00000000e+00 2.01911904e+00 1.39176547e+01\n",
      "  4.70536963e+01 1.09594521e+02 2.08598400e+02 0.00000000e+00\n",
      "  0.00000000e+00 0.00000000e+00 0.00000000e+00]\n",
      " [0.00000000e+00 0.00000000e+00 0.00000000e+00 4.03823808e+00\n",
      "  2.37970714e+01 7.03103213e+01 1.48878720e+02 2.68318080e+02\n",
      "  0.00000000e+00 0.00000000e+00 0.00000000e+00]\n",
      " [0.00000000e+00 0.00000000e+00 0.00000000e+00 0.00000000e+00\n",
      "  8.07647616e+00 3.95176666e+01 1.01102976e+02 1.96654464e+02\n",
      "  3.39981696e+02 0.00000000e+00 0.00000000e+00]\n",
      " [0.00000000e+00 0.00000000e+00 0.00000000e+00 0.00000000e+00\n",
      "  0.00000000e+00 1.61529523e+01 6.28823808e+01 1.39323571e+02\n",
      "  2.53985357e+02 4.25978035e+02 0.00000000e+00]\n",
      " [0.00000000e+00 0.00000000e+00 0.00000000e+00 0.00000000e+00\n",
      "  0.00000000e+00 0.00000000e+00 3.23059046e+01 9.34588570e+01\n",
      "  1.85188285e+02 3.22782428e+02 5.29173642e+02]]\n",
      "Call Option Price at t=0:  29.38\n"
     ]
    }
   ],
   "source": [
    "call_price, C, S = binomial_call_full(100, 90, 10, 0, 1.2, 0.8, 10)\n",
    "print(\"Underlying Price Evolution:\\n\", S)\n",
    "print(\"Call Option Payoff:\\n\", C)\n",
    "print(\"Call Option Price at t=0: \", \"{:.2f}\".format(call_price))"
   ]
  },
  {
   "cell_type": "markdown",
   "metadata": {
    "id": "mNu9SemXNgJx"
   },
   "source": [
    "Feel free to play around with these functions to get familiar with how they work.\n",
    "\n",
    "## 4. Conclusion\n",
    "\n",
    "In this lesson, we have started to price options in the simple framework of the binomial model. In the next lesson, we will keep working with the binomial model on features like the put-call parity.\n",
    "\n",
    "See you in the next lesson!"
   ]
  },
  {
   "cell_type": "markdown",
   "metadata": {
    "deletable": false,
    "editable": false
   },
   "source": [
    "---\n",
    "Copyright 2025 WorldQuant University. This\n",
    "content is licensed solely for personal use. Redistribution or\n",
    "publication of this material is strictly prohibited.\n"
   ]
  },
  {
   "cell_type": "code",
   "execution_count": null,
   "metadata": {},
   "outputs": [],
   "source": []
  }
 ],
 "metadata": {
  "colab": {
   "collapsed_sections": [],
   "name": "Derivative Pricing_Module 1_Lesson_1",
   "provenance": []
  },
  "kernelspec": {
   "display_name": "Python 3 (ipykernel)",
   "language": "python",
   "name": "python3"
  },
  "language_info": {
   "codemirror_mode": {
    "name": "ipython",
    "version": 3
   },
   "file_extension": ".py",
   "mimetype": "text/x-python",
   "name": "python",
   "nbconvert_exporter": "python",
   "pygments_lexer": "ipython3",
   "version": "3.11.0"
  }
 },
 "nbformat": 4,
 "nbformat_minor": 4
}
