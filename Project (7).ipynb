{
 "cells": [
  {
   "cell_type": "markdown",
   "metadata": {
    "id": "mRqMuT7Boqdg"
   },
   "source": [
    "## DERIVATIVE PRICING\n",
    "MODULE 3 | LESSON 4\n",
    "\n",
    "\n",
    "---\n",
    "\n"
   ]
  },
  {
   "cell_type": "markdown",
   "metadata": {
    "id": "cfvg9OFOBisO"
   },
   "source": [
    "# **OBJECT-ORIENTED PROGRAMMING IN THE TRINOMIAL TREE**"
   ]
  },
  {
   "cell_type": "markdown",
   "metadata": {
    "id": "zSWlmtr_phpd"
   },
   "source": [
    "\n",
    "|  |  |\n",
    "|:---|:---|\n",
    "|**Reading Time** |  90 minutes |\n",
    "|**Prior Knowledge** | Binomial and Trinomial model pricing dynamics, Python basics|\n",
    "|**Keywords** | Object-oriented programming  |\n",
    "\n",
    "\n",
    "---<span style='color: transparent; font-size:1%'>All rights reserved WQU WorldQuant University QQQQ</span>"
   ]
  },
  {
   "cell_type": "markdown",
   "metadata": {
    "id": "IbnemT5e42mo"
   },
   "source": [
    "*By now, you know how to price options under a more complex setting such as the trinomial tree. Lesson 4, however, is not as focused on the conceptual part of derivative pricing. Instead, we take advantage of the medium-level complexity of the trinomial model in order to introduce the notion of object-oriented programming (OOP) in the context of derivative pricing. This is purely a programming skill but one you need to master in order to succeed in highly quantitative jobs.*\n",
    "\n",
    "*Before going into more complex frameworks, let's take the opportunity now to revisit the previous pricing process under the trinomial model to build our own `TrinomialModel` class algorithm.* "
   ]
  },
  {
   "cell_type": "markdown",
   "metadata": {
    "id": "Rli4A4LgZwtF"
   },
   "source": [
    "**Note:** In case you are not familiar with OOP (object-oriented programming), [you may want to check out this tutorial on YouTube.](https://www.youtube.com/watch?v=Ej_02ICOIgs)\n",
    "\n",
    "The YouTube video tutorial is very long, as it thoroughly goes over the main features of OOP. In spite of its length, it can help to clarify any questions you may have about object-oriented programming.\n"
   ]
  },
  {
   "cell_type": "markdown",
   "metadata": {
    "id": "tv8vB_J57vyk"
   },
   "source": [
    "## **1. Let's Start Coding!**\n",
    "\n",
    "As always, start by importing the necessary libraries:"
   ]
  },
  {
   "cell_type": "code",
   "execution_count": 1,
   "metadata": {
    "id": "hwmp_z_Selki"
   },
   "outputs": [],
   "source": [
    "import numpy as np"
   ]
  },
  {
   "cell_type": "code",
   "execution_count": 2,
   "metadata": {
    "id": "xSBCWVVGc4_i"
   },
   "outputs": [],
   "source": [
    "class TrinomialModel(object):  # Here we start defining our 'class' --> Trinomial Model!\n",
    "    # First, a method to initialize our `TrinomialModel` algorithm!\n",
    "    def __init__(self, S0, r, sigma, mat):\n",
    "        self.__s0 = S0\n",
    "        self.__r = r\n",
    "        self.__sigma = sigma\n",
    "        self.__T = mat\n",
    "\n",
    "    # Second, we build a method (function) to compute the risk-neutral probabilities!\n",
    "    def __compute_probs(self):\n",
    "        self.__pu = (\n",
    "            (\n",
    "                np.exp(self.__r * self.__h / 2)\n",
    "                - np.exp(-self.__sigma * np.sqrt(self.__h / 2))\n",
    "            )\n",
    "            / (\n",
    "                np.exp(self.__sigma * np.sqrt(self.__h / 2))\n",
    "                - np.exp(-self.__sigma * np.sqrt(self.__h / 2))\n",
    "            )\n",
    "        ) ** 2\n",
    "        self.__pd = (\n",
    "            (\n",
    "                -np.exp(self.__r * self.__h / 2)\n",
    "                + np.exp(self.__sigma * np.sqrt(self.__h / 2))\n",
    "            )\n",
    "            / (\n",
    "                np.exp(self.__sigma * np.sqrt(self.__h / 2))\n",
    "                - np.exp(-self.__sigma * np.sqrt(self.__h / 2))\n",
    "            )\n",
    "        ) ** 2\n",
    "        self.__pm = 1 - self.__pu - self.__pd\n",
    "\n",
    "        assert 0 <= self.__pu <= 1.0, \"p_u should lie in [0, 1] given %s\" % self.__pu\n",
    "        assert 0 <= self.__pd <= 1.0, \"p_d should lie in [0, 1] given %s\" % self.__pd\n",
    "        assert 0 <= self.__pm <= 1.0, \"p_m should lie in [0, 1] given %s\" % self.__pm\n",
    "\n",
    "    # Third, this method checks whether the given parameters are alright and that we have a 'recombining tree'!\n",
    "    def __check_up_value(self, up):\n",
    "        if up is None:\n",
    "            up = np.exp(self.__sigma * np.sqrt(2 * self.__h))\n",
    "\n",
    "        assert up > 0.0, \"up should be non negative\"\n",
    "\n",
    "        down = 1 / up\n",
    "\n",
    "        assert down < up, \"up <= 1. / up = down\"\n",
    "\n",
    "        self.__up = up\n",
    "        self.__down = down\n",
    "\n",
    "    # Four, we use this method to compute underlying stock price path\n",
    "    def __gen_stock_vec(self, nb):\n",
    "        vec_u = self.__up * np.ones(nb)\n",
    "        np.cumprod(vec_u, out=vec_u)\n",
    "\n",
    "        vec_d = self.__down * np.ones(nb)\n",
    "        np.cumprod(vec_d, out=vec_d)\n",
    "\n",
    "        res = np.concatenate((vec_d[::-1], [1.0], vec_u))\n",
    "        res *= self.__s0\n",
    "\n",
    "        return res\n",
    "\n",
    "    # Fifth, we declare a Payoff method to be completed afterwards depending on the instrument we are pricing!\n",
    "    def payoff(self, stock_vec):\n",
    "        raise NotImplementedError()\n",
    "\n",
    "    # Sixth, compute current prices!\n",
    "    def compute_current_price(self, crt_vec_stock, nxt_vec_prices):\n",
    "        expectation = np.zeros(crt_vec_stock.size)\n",
    "        for i in range(expectation.size):\n",
    "            tmp = nxt_vec_prices[i] * self.__pd\n",
    "            tmp += nxt_vec_prices[i + 1] * self.__pm\n",
    "            tmp += nxt_vec_prices[i + 2] * self.__pu\n",
    "\n",
    "            expectation[i] = tmp\n",
    "\n",
    "        return self.__discount * expectation\n",
    "\n",
    "    # Seventh, Option pricing!\n",
    "    def price(self, nb_steps, up=None):\n",
    "        assert nb_steps > 0, \"nb_steps shoud be > 0\"\n",
    "\n",
    "        nb_steps = int(nb_steps)\n",
    "\n",
    "        self.__h = self.__T / nb_steps\n",
    "        self.__check_up_value(up)\n",
    "        self.__compute_probs()\n",
    "\n",
    "        self.__discount = np.exp(-self.__r * self.__h)\n",
    "\n",
    "        final_vec_stock = self.__gen_stock_vec(nb_steps)\n",
    "        final_payoff = self.payoff(final_vec_stock)\n",
    "        nxt_vec_prices = final_payoff\n",
    "\n",
    "        for i in range(1, nb_steps + 1):\n",
    "            vec_stock = self.__gen_stock_vec(nb_steps - i)\n",
    "            nxt_vec_prices = self.compute_current_price(vec_stock, nxt_vec_prices)\n",
    "\n",
    "        return nxt_vec_prices[0]"
   ]
  },
  {
   "cell_type": "markdown",
   "metadata": {
    "id": "Tzn922wc-zZT"
   },
   "source": [
    "Next, let's define the initialization and payoff methods for a new class (`TrinomialCall`) within the `TrinomialModel` we have just seen:"
   ]
  },
  {
   "cell_type": "code",
   "execution_count": 3,
   "metadata": {
    "id": "91uLLkvOfKdD"
   },
   "outputs": [],
   "source": [
    "class TrinomialCall(TrinomialModel):\n",
    "    def __init__(self, S0, r, sigma, mat, K):\n",
    "        super(TrinomialCall, self).__init__(S0, r, sigma, mat)\n",
    "        self.__K = K\n",
    "\n",
    "    def payoff(self, s):\n",
    "        return np.maximum(s - self.__K, 0.0)"
   ]
  },
  {
   "cell_type": "markdown",
   "metadata": {
    "id": "c3BqKkOo_xLV"
   },
   "source": [
    "We have defined two classes: `TrinomialModel` and `TrinomialCall`. These allow us to quickly initialize a trinomial model pricing algorithm for the payoff of a European call option. Please take your time in going over the previous chunk of code and make sure you understand it thoroughly.\n",
    "\n",
    "Now, let's check how our algorithm performs on a simple example with:\n",
    "\n",
    "- $S_0 = 100$\n",
    "- $r=0\\%$\n",
    "- $σ = 30\\%$\n",
    "- $T=1$\n",
    "- $K=90$"
   ]
  },
  {
   "cell_type": "code",
   "execution_count": 4,
   "metadata": {
    "id": "y4dleNbFe0RC"
   },
   "outputs": [],
   "source": [
    "tree = TrinomialCall(100.0, 0.0, 0.3, 1.0, 90.0)"
   ]
  },
  {
   "cell_type": "markdown",
   "metadata": {
    "id": "geY5JrLHBJ_R"
   },
   "source": [
    "Here, the tree variable contains all the different info from the algorithm in `TrinomialCall` class.\n",
    "\n",
    "How can we see what the price is for, let's say, $N=2$?"
   ]
  },
  {
   "cell_type": "code",
   "execution_count": 5,
   "metadata": {
    "colab": {
     "base_uri": "https://localhost:8080/"
    },
    "executionInfo": {
     "elapsed": 268,
     "status": "ok",
     "timestamp": 1642439477594,
     "user": {
      "displayName": "Sergio García",
      "photoUrl": "https://lh3.googleusercontent.com/a/default-user=s64",
      "userId": "13816158105599623863"
     },
     "user_tz": -60
    },
    "id": "J3AlUD4LBGj8",
    "outputId": "ccabd001-14f7-45ec-d112-48148b5e3251"
   },
   "outputs": [
    {
     "name": "stdout",
     "output_type": "stream",
     "text": [
      "17.50162310051333\n"
     ]
    }
   ],
   "source": [
    "print(tree.price(2))"
   ]
  },
  {
   "cell_type": "markdown",
   "metadata": {
    "id": "kwRSUyz7Bqny"
   },
   "source": [
    "As you see, we got the same number for the price of the Call option as we got from our previous example."
   ]
  },
  {
   "cell_type": "markdown",
   "metadata": {
    "id": "JRAnyztyBc9n"
   },
   "source": [
    "Note that one great thing about object orientation is that now we can define main sub-classes within the `TrinomialModel` as we want, each with a different payoff (e.g., European put option, American, etc.)\n",
    "\n",
    "\n"
   ]
  },
  {
   "cell_type": "markdown",
   "metadata": {
    "id": "P9PCcHZWpZqH"
   },
   "source": [
    "## **2. Can You Do the Same for a New Class that is `TrinomialPut`?**"
   ]
  },
  {
   "cell_type": "markdown",
   "metadata": {
    "id": "20QJldIBgNHL"
   },
   "source": [
    "## **3. Conclusion**\n",
    "\n",
    "You now know how to implement all the previous pricing techniques in a more formal way regarding programming. In the next module, we will introduce more formal mathematical notation in order to explore the inherent flaws of simple pricing models based on trees. This will be the first step toward building a more complex model that recognizes the real features of assets."
   ]
  },
  {
   "cell_type": "markdown",
   "metadata": {
    "deletable": false,
    "editable": false
   },
   "source": [
    "---\n",
    "Copyright 2025 WorldQuant University. This\n",
    "content is licensed solely for personal use. Redistribution or\n",
    "publication of this material is strictly prohibited.\n"
   ]
  }
 ],
 "metadata": {
  "colab": {
   "collapsed_sections": [],
   "name": "Derivative Pricing_Module 3_Lesson_4.ipynb",
   "provenance": []
  },
  "kernelspec": {
   "display_name": "Python 3 (ipykernel)",
   "language": "python",
   "name": "python3"
  },
  "language_info": {
   "codemirror_mode": {
    "name": "ipython",
    "version": 3
   },
   "file_extension": ".py",
   "mimetype": "text/x-python",
   "name": "python",
   "nbconvert_exporter": "python",
   "pygments_lexer": "ipython3",
   "version": "3.11.0"
  }
 },
 "nbformat": 4,
 "nbformat_minor": 4
}
