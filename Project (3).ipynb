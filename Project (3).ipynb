{
 "cells": [
  {
   "cell_type": "markdown",
   "metadata": {
    "id": "w-Is6iEq73PU"
   },
   "source": [
    "## DERIVATIVE PRICING\n",
    "MODULE 1 | LESSON 4\n",
    "\n",
    "\n",
    "---\n"
   ]
  },
  {
   "cell_type": "markdown",
   "metadata": {
    "id": "yPV6t3cHpW7F"
   },
   "source": [
    "# **MATCHING VOLATILITY AND RISK-MEASURES**"
   ]
  },
  {
   "cell_type": "markdown",
   "metadata": {
    "id": "Z96WxHgCpfPh"
   },
   "source": [
    "\n",
    "|  |  |\n",
    "|:---|:---|\n",
    "|**Reading Time** |  45 minutes |\n",
    "|**Prior Knowledge** | Risk-neutral probability, Volatility, Time-step  |\n",
    "|**Keywords** | Model calibration, Matching volatility|\n",
    "\n",
    "\n",
    "---"
   ]
  },
  {
   "cell_type": "markdown",
   "metadata": {
    "id": "halptZG7h0KS"
   },
   "source": [
    "*In the final notebook for Module 1, we will put all the previous concepts together to perform a complete valuation of a call option adjusting the binomial tree inputs $u$ and $d$ for the volatility of the underlying asset.*\n",
    "\n",
    "*This adjusting step is the foundation of **model calibration**, which will be one of the keystones of the course and of derivative pricing in general.*"
   ]
  },
  {
   "cell_type": "markdown",
   "metadata": {
    "id": "GBGlDJm5dpVb"
   },
   "source": [
    "Let's start importing some of the libraries that we will need to use down the road:"
   ]
  },
  {
   "cell_type": "code",
   "execution_count": 1,
   "metadata": {
    "id": "8M6qW9GbwTFH"
   },
   "outputs": [],
   "source": [
    "import numpy as np"
   ]
  },
  {
   "cell_type": "markdown",
   "metadata": {
    "id": "VIJSDDeciZZh"
   },
   "source": [
    "## 1. Adjusting $u$ and $d$ for Underlying Volatility\n"
   ]
  },
  {
   "cell_type": "markdown",
   "metadata": {
    "id": "6lZrLYqc1i2F"
   },
   "source": [
    "Let's start by adjusting the inputs $u$ and $d$ to match underlying volatility. As we have covered in the notes/videos for the lesson, we know that adjustment will lead to:\n",
    "\n",
    "$u = e^{\\sigma \\sqrt{dt}}$ and $d=e^{-\\sigma \\sqrt{dt}}$\n",
    "\n",
    "Now, assume that we know the underlying stock volatility for the next year (e.g., $\\sigma =30\\%$). (*For now, let's take this number as given*.)\n",
    "\n",
    "We can modify our previous functions to incorporate the volatility adjustment to $u$ and $d$:<span style='color: transparent; font-size:1%'>All rights reserved WQU WorldQuant University QQQQ</span>"
   ]
  },
  {
   "cell_type": "code",
   "execution_count": 2,
   "metadata": {
    "id": "mUvGvVjHbl57"
   },
   "outputs": [],
   "source": [
    "def call_option_delta(S_ini, K, T, r, sigma, N):\n",
    "    dt = T / N  # Define time step\n",
    "    u = np.exp(sigma * np.sqrt(dt))  # Define u\n",
    "    d = np.exp(-sigma * np.sqrt(dt))  # Define d\n",
    "    p = (np.exp(r * dt) - d) / (u - d)  # risk neutral probs\n",
    "    C = np.zeros([N + 1, N + 1])  # call prices\n",
    "    S = np.zeros([N + 1, N + 1])  # underlying price\n",
    "    Delta = np.zeros([N, N])  # delta\n",
    "    for i in range(0, N + 1):\n",
    "        C[N, i] = max(S_ini * (u ** (i)) * (d ** (N - i)) - K, 0)\n",
    "        S[N, i] = S_ini * (u ** (i)) * (d ** (N - i))\n",
    "    for j in range(N - 1, -1, -1):\n",
    "        for i in range(0, j + 1):\n",
    "            C[j, i] = np.exp(-r * dt) * (p * C[j + 1, i + 1] + (1 - p) * C[j + 1, i])\n",
    "            S[j, i] = S_ini * (u ** (i)) * (d ** (j - i))\n",
    "            Delta[j, i] = (C[j + 1, i + 1] - C[j + 1, i]) / (\n",
    "                S[j + 1, i + 1] - S[j + 1, i]\n",
    "            )\n",
    "    return C[0, 0], C, S, Delta"
   ]
  },
  {
   "cell_type": "markdown",
   "metadata": {
    "id": "5f1K0zVqBBHq"
   },
   "source": [
    "## 2. Convergence"
   ]
  },
  {
   "cell_type": "markdown",
   "metadata": {
    "id": "N7RtZzIn9BzH"
   },
   "source": [
    "Let's see what the call option ($K=90$, $r=0\\%$, $T=1$, $\\sigma=0.3$) price is for different N's:"
   ]
  },
  {
   "cell_type": "code",
   "execution_count": 3,
   "metadata": {
    "colab": {
     "base_uri": "https://localhost:8080/"
    },
    "executionInfo": {
     "elapsed": 32834,
     "status": "ok",
     "timestamp": 1656423850573,
     "user": {
      "displayName": "Ivan Blanco",
      "userId": "11863287364861133555"
     },
     "user_tz": -120
    },
    "id": "2Q4E7Zah9KpT",
    "outputId": "d1d28cc7-c105-46f1-8899-a022d1dcd625"
   },
   "outputs": [
    {
     "name": "stdout",
     "output_type": "stream",
     "text": [
      "With N =   1, the price is 19.14\n",
      "With N =  10, the price is 17.26\n",
      "With N = 100, the price is 17.02\n",
      "With N = 200, the price is 17.03\n",
      "With N = 300, the price is 17.01\n",
      "With N = 400, the price is 17.02\n",
      "With N = 500, the price is 17.01\n",
      "With N = 600, the price is 17.02\n",
      "With N = 700, the price is 17.02\n",
      "With N = 800, the price is 17.01\n",
      "With N = 900, the price is 17.01\n",
      "With N = 1000, the price is 17.02\n",
      "With N = 1500, the price is 17.01\n",
      "With N = 2000, the price is 17.01\n",
      "With N = 2500, the price is 17.01\n"
     ]
    }
   ],
   "source": [
    "price_array = []\n",
    "for N in [1, 10, 100, 200, 300, 400, 500, 600, 700, 800, 900, 1000, 1500, 2000, 2500]:\n",
    "    call_price, C, S, delta = call_option_delta(100, 90, 1, 0, 0.3, N)\n",
    "    price_array.append(call_price)\n",
    "    print(\"With N = {:3d}, the price is {:.2f}\".format(N, call_price))"
   ]
  },
  {
   "cell_type": "code",
   "execution_count": 4,
   "metadata": {
    "colab": {
     "base_uri": "https://localhost:8080/",
     "height": 295
    },
    "executionInfo": {
     "elapsed": 455,
     "status": "ok",
     "timestamp": 1650536668434,
     "user": {
      "displayName": "Sergio García",
      "userId": "13816158105599623863"
     },
     "user_tz": -120
    },
    "id": "h4cqM5nBF7kt",
    "outputId": "f19d644f-4bb1-4872-b6eb-2bda4fe693e8"
   },
   "outputs": [
    {
     "data": {
      "image/png": "[encoded data removed]",
      "text/plain": [
       "<Figure size 640x480 with 1 Axes>"
      ]
     },
     "metadata": {},
     "output_type": "display_data"
    }
   ],
   "source": [
    "import matplotlib.pyplot as plt\n",
    "\n",
    "N = [1, 10, 100, 200, 300, 400, 500, 600, 700, 800, 900, 1000, 1500, 2000, 2500]\n",
    "plt.plot(N, np.array(price_array))\n",
    "plt.title(\"Convergency with steps\")\n",
    "plt.xlabel(\"Number of steps (N)\")\n",
    "plt.ylabel(\"Option Price\")\n",
    "plt.grid(True)\n",
    "plt.show()"
   ]
  },
  {
   "cell_type": "markdown",
   "metadata": {
    "id": "eV600_f6FO8c"
   },
   "source": [
    "As we can see in the graph above, the price of the call option now clearly converges to a price of $c = 17.01$. "
   ]
  },
  {
   "cell_type": "markdown",
   "metadata": {
    "id": "gZR-f9t0Bd4G"
   },
   "source": [
    "## 3. How Do We Obtain $\\sigma$ ?"
   ]
  },
  {
   "cell_type": "markdown",
   "metadata": {
    "id": "Wtgw5YZFCC1d"
   },
   "source": [
    "Obtaining the volatility of the underlying asset in order to calibrate the model is one of the most challenging tasks that we will face.\n",
    "\n",
    "For now, we have taken this input as a given. However, in reality, we would need to estimate this somehow. Can you think of how to do it?\n",
    "\n",
    "* Historical asset volatility (e.g., last year) ? → But this relies on the past = No good\n",
    "\n",
    "* Implied asset volatility ? → implied by what? → Exchange-traded option prices\n",
    "\n",
    "We will do a deep analysis of the latter point during the course. For now, just think about the following idea:\n",
    "\n",
    "If we have an exchange-traded option (for which the **price is set by supply and demand**) and a **pricing equation** that depends on parameters (including $\\sigma$), we can resolve this equation and **extract the volatility implied by that price.**\n",
    "\n",
    "We will come back to this concept in the future. For now, you can explore this by looking at the Options Chain for Apple (AAPL) [in Yahoo! Finance.](https://finance.yahoo.com/quote/AAPL/options?p=AAPL)\n"
   ]
  },
  {
   "cell_type": "markdown",
   "metadata": {
    "id": "u_hfnsy9EfXU"
   },
   "source": [
    "## 4. Conclusion\n",
    "\n",
    "Throughout this lesson, we have worked on a simple model calibration, something that will become very relevant when dealing with more complex models. We will be constantly revisiting model calibration throughout the course, so make sure you grasp the concept fully. \n",
    "\n",
    "In the next module, we will revisit most of these ideas for the case of American options.\n",
    "\n",
    "See you in Module 2!"
   ]
  },
  {
   "cell_type": "markdown",
   "metadata": {
    "deletable": false,
    "editable": false
   },
   "source": [
    "---\n",
    "Copyright 2025 WorldQuant University. This\n",
    "content is licensed solely for personal use. Redistribution or\n",
    "publication of this material is strictly prohibited.\n"
   ]
  }
 ],
 "metadata": {
  "colab": {
   "collapsed_sections": [],
   "name": "Derivative Pricing_Module 1_Lesson_4",
   "provenance": []
  },
  "kernelspec": {
   "display_name": "Python 3 (ipykernel)",
   "language": "python",
   "name": "python3"
  },
  "language_info": {
   "codemirror_mode": {
    "name": "ipython",
    "version": 3
   },
   "file_extension": ".py",
   "mimetype": "text/x-python",
   "name": "python",
   "nbconvert_exporter": "python",
   "pygments_lexer": "ipython3",
   "version": "3.11.0"
  }
 },
 "nbformat": 4,
 "nbformat_minor": 4
}
