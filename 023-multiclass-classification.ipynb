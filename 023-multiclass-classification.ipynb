{
 "cells": [
  {
   "cell_type": "markdown",
   "metadata": {
    "deletable": false,
    "editable": false
   },
   "source": [
    "<p>\n",
    "  <b>AI Lab: Deep Learning for Computer Vision</b><br>\n",
    "  <b><a href=\"https://www.wqu.edu/\">WorldQuant University</a></b>\n",
    "</p>"
   ]
  },
  {
   "cell_type": "markdown",
   "metadata": {
    "deletable": false,
    "editable": false
   },
   "source": [
    "<div class=\"alert alert-success\" role=\"alert\">\n",
    "  <p>\n",
    "    <center><b>Usage Guidelines</b></center>\n",
    "  </p>\n",
    "  <p>\n",
    "    This file is licensed under <a href=\"https://creativecommons.org/licenses/by-nc-nd/4.0/\">Creative Commons Attribution-NonCommercial-NoDerivatives 4.0 International</a>.\n",
    "  </p>\n",
    "  <p>\n",
    "    You <b>can</b>:\n",
    "    <ul>\n",
    "      <li><span style=\"color: green\">✓</span> Download this file</li>\n",
    "      <li><span style=\"color: green\">✓</span> Post this file in public repositories</li>\n",
    "    </ul>\n",
    "    You <b>must always</b>:\n",
    "    <ul>\n",
    "      <li><span style=\"color: green\">✓</span> Give credit to <a href=\"https://www.wqu.edu/\">WorldQuant University</a> for the creation of this file</li>\n",
    "      <li><span style=\"color: green\">✓</span> Provide a <a href=\"https://creativecommons.org/licenses/by-nc-nd/4.0/\">link to the license</a></li>\n",
    "    </ul>\n",
    "    You <b>cannot</b>:\n",
    "    <ul>\n",
    "      <li><span style=\"color: red\">✗</span> Create derivatives or adaptations of this file</li>\n",
    "      <li><span style=\"color: red\">✗</span> Use this file for commercial purposes</li>\n",
    "    </ul>\n",
    "  </p>\n",
    "  <p>\n",
    "    Failure to follow these guidelines is a violation of your terms of service and could lead to your expulsion from WorldQuant University and the revocation your certificate.\n",
    "  </p>\n",
    "</div>"
   ]
  },
  {
   "cell_type": "markdown",
   "metadata": {},
   "source": [
    "### Getting Ready"
   ]
  },
  {
   "cell_type": "markdown",
   "metadata": {},
   "source": [
    "As usual, there are a few things we need to do before we can begin. We'll start by importing the packages we'll need."
   ]
  },
  {
   "cell_type": "code",
   "execution_count": 1,
   "metadata": {},
   "outputs": [],
   "source": [
    "import os\n",
    "\n",
    "import pandas as pd\n",
    "import matplotlib\n",
    "import matplotlib.pyplot as plt\n",
    "import numpy as np\n",
    "import PIL\n",
    "import torch\n",
    "import torch.nn as nn\n",
    "import torch.optim as optim\n",
    "import torchinfo\n",
    "import torchvision\n",
    "from sklearn.metrics import ConfusionMatrixDisplay, confusion_matrix\n",
    "from torch.utils.data import DataLoader, random_split\n",
    "from torchinfo import summary\n",
    "from torchvision import datasets, transforms\n",
    "from tqdm import tqdm"
   ]
  },
  {
   "cell_type": "markdown",
   "metadata": {},
   "source": [
    "Next, let's also print out the version numbers for our libraries as well as the Python version. This makes our analysis reproducible for anyone who wants to review or reuse our work."
   ]
  },
  {
   "cell_type": "code",
   "execution_count": 2,
   "metadata": {},
   "outputs": [
    {
     "name": "stdout",
     "output_type": "stream",
     "text": [
      "torch version :  2.2.2+cu121\n",
      "torchvision version :  0.17.2+cu121\n",
      "torchinfo version :  1.8.0\n",
      "numpy version :  1.26.3\n",
      "matplotlib version :  3.9.2\n",
      "PIL version :  10.2.0\n",
      "Python 3.11.0\n"
     ]
    }
   ],
   "source": [
    "print(\"torch version : \", torch.__version__)\n",
    "print(\"torchvision version : \", torchvision.__version__)\n",
    "print(\"torchinfo version : \", torchinfo.__version__)\n",
    "print(\"numpy version : \", np.__version__)\n",
    "print(\"matplotlib version : \", matplotlib.__version__)\n",
    "print(\"PIL version : \", PIL.__version__)\n",
    "\n",
    "!python --version"
   ]
  },
  {
   "cell_type": "markdown",
   "metadata": {},
   "source": [
    "As we've done in past lessons, we'll also check if GPUs are available. Remember that some computers come with GPUs, which allow for bigger and faster model training. The `cuda` package is used to access GPUs on Linux and Windows machines in PyTorch; `mps` is used on Macs. \n",
    "\n",
    "We'll use the `device` variable later to set the location of our data and model."
   ]
  },
  {
   "cell_type": "code",
   "execution_count": 3,
   "metadata": {},
   "outputs": [
    {
     "name": "stdout",
     "output_type": "stream",
     "text": [
      "Using cuda device.\n"
     ]
    }
   ],
   "source": [
    "if torch.cuda.is_available():\n",
    "    device = \"cuda\"\n",
    "elif torch.backends.mps.is_available():\n",
    "    device = \"mps\"\n",
    "else:\n",
    "    device = \"cpu\"\n",
    "\n",
    "print(f\"Using {device} device.\")"
   ]
  },
  {
   "cell_type": "markdown",
   "metadata": {},
   "source": [
    "### Exploring and Preparing Our Data"
   ]
  },
  {
   "cell_type": "markdown",
   "metadata": {},
   "source": [
    "We'll work with images of crop disease from Uganda which we prepared in the previous lesson. You may remember that we created an undersampled dataset that has a uniform distribution across classes. Let's use that dataset.\n",
    "\n",
    "The data is in the `data_p2` folder within which is the `data_undersampled` folder. In that folder we have the `train` folder that contains the training data."
   ]
  },
  {
   "cell_type": "markdown",
   "metadata": {},
   "source": [
    "**Task 2.3.1:** Assign `train_dir` the path to the training data. Follow the pattern of `data_dir`."
   ]
  },
  {
   "cell_type": "code",
   "execution_count": 4,
   "metadata": {},
   "outputs": [
    {
     "name": "stdout",
     "output_type": "stream",
     "text": [
      "Data Directory: data_p2/data_undersampled\n",
      "Training Data Directory: data_p2/data_undersampled/train\n"
     ]
    }
   ],
   "source": [
    "data_dir = os.path.join(\"data_p2\", \"data_undersampled\")\n",
    "train_dir = os.path.join(data_dir, \"train\")\n",
    "\n",
    "print(\"Data Directory:\", data_dir)\n",
    "print(\"Training Data Directory:\", train_dir)"
   ]
  },
  {
   "cell_type": "markdown",
   "metadata": {},
   "source": [
    "Next let's check what classes we have in the data. Images from each class are contained in a separate subdirectory in `train_dir` where the name of each subdirectory is the name of the class."
   ]
  },
  {
   "cell_type": "markdown",
   "metadata": {},
   "source": [
    "**Task 2.3.2:** Create a list of class names using `os.listdir`."
   ]
  },
  {
   "cell_type": "code",
   "execution_count": 5,
   "metadata": {},
   "outputs": [
    {
     "name": "stdout",
     "output_type": "stream",
     "text": [
      "List of classes: ['cassava-healthy', 'cassava-mosaic-disease-cmd', 'cassava-brown-streak-disease-cbsd', 'cassava-green-mottle-cgm', 'cassava-bacterial-blight-cbb']\n"
     ]
    }
   ],
   "source": [
    "classes = os.listdir(train_dir)\n",
    "\n",
    "print(\"List of classes:\", classes)"
   ]
  },
  {
   "cell_type": "markdown",
   "metadata": {},
   "source": [
    "Following what we did in the previous lesson to standardize the images, we'll again use the same set of transformations:\n",
    "\n",
    "- Convert any grayscale images to RGB format with a custom class\n",
    "- Resize the image, so that they're all the same size (we chose $224$ x $224$)\n",
    "- Convert the image to a Tensor of pixel values\n",
    "- Normalize the data (we normalize each color channel separately)\n",
    "\n",
    "Here's the custom transformation that we've used before which converts images to RGB format:"
   ]
  },
  {
   "cell_type": "code",
   "execution_count": 6,
   "metadata": {},
   "outputs": [],
   "source": [
    "class ConvertToRGB(object):\n",
    "    def __call__(self, img):\n",
    "        if img.mode != \"RGB\":\n",
    "            img = img.convert(\"RGB\")\n",
    "        return img"
   ]
  },
  {
   "cell_type": "markdown",
   "metadata": {},
   "source": [
    "Now we'll use `transforms.Compose` from `torchvision` package to compose our pipeline of transformations."
   ]
  },
  {
   "cell_type": "markdown",
   "metadata": {},
   "source": [
    "**Task 2.3.3:** Complete the transformation pipeline below. It's missing the last two steps (converting images to PyTorch tensors and normalizing them). In the normalization step, make sure to use the `mean` and `std` values from the previous lesson."
   ]
  },
  {
   "cell_type": "code",
   "execution_count": 7,
   "metadata": {},
   "outputs": [
    {
     "name": "stdout",
     "output_type": "stream",
     "text": [
      "<class 'torchvision.transforms.transforms.Compose'>\n",
      "-----------------\n",
      "Compose(\n",
      "    <__main__.ConvertToRGB object at 0x72c0f2993a50>\n",
      "    Resize(size=(224, 224), interpolation=bilinear, max_size=None, antialias=True)\n",
      "    ToTensor()\n",
      "    Normalize(mean=[0.4236, 0.4953, 0.312], std=[0.2178, 0.2214, 0.2091])\n",
      ")\n"
     ]
    }
   ],
   "source": [
    "# Define transformation to apply to the images\n",
    "transform_normalized = transforms.Compose(\n",
    "    [\n",
    "        ConvertToRGB(),\n",
    "        transforms.Resize((224, 224)),\n",
    "        # Convert images to tensors\n",
    "        transforms.ToTensor(),\n",
    "        # Normalize the tensors (copy the mean and std from previous lesson!)\n",
    "        transforms.Normalize(\n",
    "            mean=[0.4236, 0.4953, 0.3120], std=[0.2178, 0.2214, 0.2091]\n",
    "        )\n",
    "    ]\n",
    ")\n",
    "\n",
    "print(type(transform_normalized))\n",
    "print(\"-----------------\")\n",
    "print(transform_normalized)"
   ]
  },
  {
   "cell_type": "markdown",
   "metadata": {},
   "source": [
    "We are now ready to create our dataset with our transformations."
   ]
  },
  {
   "cell_type": "markdown",
   "metadata": {},
   "source": [
    "**Task 2.3.4:** Make a normalized dataset using `ImageFolder` from `datasets` and print the length of the dataset."
   ]
  },
  {
   "cell_type": "code",
   "execution_count": 8,
   "metadata": {},
   "outputs": [
    {
     "name": "stdout",
     "output_type": "stream",
     "text": [
      "Length of dataset: 7615\n"
     ]
    }
   ],
   "source": [
    "dataset = datasets.ImageFolder(root=train_dir, transform=transform_normalized)\n",
    "\n",
    "print('Length of dataset:', len(dataset))"
   ]
  },
  {
   "cell_type": "markdown",
   "metadata": {},
   "source": [
    "### Train and validation splitting"
   ]
  },
  {
   "cell_type": "markdown",
   "metadata": {},
   "source": [
    "We'll follow good practice and divide our data into two parts. One part will be the data we'll train our model on. The second part will be used to evaluate the model on images it hasn't seen in training.\n",
    "\n",
    "This is an important step in order for us to check how good the model is. If it makes good predictions on the training data but not on the validation data, we'll know the model's overfit."
   ]
  },
  {
   "cell_type": "markdown",
   "metadata": {},
   "source": [
    "**Task 2.3.5:** Use `random_split` to create a 80/20 split (training dataset should have 80% of the data, validation dataset should have 20% of the data)."
   ]
  },
  {
   "cell_type": "markdown",
   "metadata": {},
   "source": [
    "<div class=\"alert alert-info\" role=\"alert\">\n",
    "    <p><b>About random number generators</b></p>\n",
    "<p>The following cell adds a <code>generator=g</code> line of code that is not present in the video. This is something we have added to make sure you always get the same results in your predictions. Please don't change it or remove it.\n",
    "</p>\n",
    "</div>"
   ]
  },
  {
   "cell_type": "code",
   "execution_count": 9,
   "metadata": {},
   "outputs": [
    {
     "name": "stdout",
     "output_type": "stream",
     "text": [
      "Length of training dataset: 6092\n",
      "Length of validation dataset: 1523\n"
     ]
    }
   ],
   "source": [
    "# Important, don't change this!\n",
    "g = torch.Generator()\n",
    "g.manual_seed(42)\n",
    "\n",
    "train_dataset, val_dataset = random_split(dataset, [0.8, 0.2], generator=g)\n",
    "\n",
    "print(\"Length of training dataset:\", len(train_dataset))\n",
    "print(\"Length of validation dataset:\", len(val_dataset))"
   ]
  },
  {
   "cell_type": "markdown",
   "metadata": {},
   "source": [
    "Now let's make sure that the training data indeed contains 80% of the dataset and the validation set 20%."
   ]
  },
  {
   "cell_type": "markdown",
   "metadata": {},
   "source": [
    "**Task 2.3.6:** Compute the length of the entire dataset, the training dataset and the validation dataset. We've added the code that computes the percentage of data that's training data and percentage that's validation."
   ]
  },
  {
   "cell_type": "code",
   "execution_count": 10,
   "metadata": {},
   "outputs": [
    {
     "name": "stdout",
     "output_type": "stream",
     "text": [
      "Train data is 80.0% of full data\n",
      "Validation data is 20.0% of full data\n"
     ]
    }
   ],
   "source": [
    "length_dataset = len(dataset)\n",
    "length_train = len(train_dataset)\n",
    "length_val = len(val_dataset)\n",
    "\n",
    "percent_train = np.round(100 * length_train / length_dataset, 2)\n",
    "percent_val = np.round(100 * length_val / length_dataset, 2)\n",
    "\n",
    "print(f\"Train data is {percent_train}% of full data\")\n",
    "print(f\"Validation data is {percent_val}% of full data\")"
   ]
  },
  {
   "cell_type": "markdown",
   "metadata": {},
   "source": [
    "We're also curious about the breakdown of the classes. We're using the dataset that we prepared in such a way that all classes have the same number of images. But let's make sure that this is indeed true! \n",
    "\n",
    "We'll reuse the `class_count` function that we can import from `training.py`. The function goes through a dataset and counts how many images are in each class."
   ]
  },
  {
   "cell_type": "markdown",
   "metadata": {},
   "source": [
    "**Task 2.3.7:** Use `class_counts` function on the entire dataset and visualize the results with a bar chart. Note that computing `dataset_counts` may take a long time."
   ]
  },
  {
   "cell_type": "code",
   "execution_count": 12,
   "metadata": {},
   "outputs": [
    {
     "data": {
      "application/vnd.jupyter.widget-view+json": {
       "model_id": "8af5c66764b245aca0a4d649e4e05b18",
       "version_major": 2,
       "version_minor": 0
      },
      "text/plain": [
       "  0%|          | 0/7615 [00:00<?, ?it/s]"
      ]
     },
     "metadata": {},
     "output_type": "display_data"
    },
    {
     "data": {
      "image/png": "[encoded data removed]",
      "text/plain": [
       "<Figure size 640x480 with 1 Axes>"
      ]
     },
     "metadata": {},
     "output_type": "display_data"
    }
   ],
   "source": [
    "from training import class_counts\n",
    "\n",
    "dataset_counts = class_counts(dataset)\n",
    "\n",
    "# Make a bar chart from the function output\n",
    "dataset_counts.sort_values().plot(kind='bar')\n",
    "# Add axis labels and title\n",
    "plt.xlabel(\"Class Label\")\n",
    "plt.ylabel(\"Frequency [count]\")\n",
    "plt.title(\"Distribution of Classes in Entire Dataset\");"
   ]
  },
  {
   "cell_type": "markdown",
   "metadata": {},
   "source": [
    "**Task 2.3.8:** Use the `class_counts` function and pandas plotting to make the same plot for the training data."
   ]
  },
  {
   "cell_type": "code",
   "execution_count": 13,
   "metadata": {},
   "outputs": [
    {
     "data": {
      "application/vnd.jupyter.widget-view+json": {
       "model_id": "32062a36efb0477bb5ef34c8f0ccf09f",
       "version_major": 2,
       "version_minor": 0
      },
      "text/plain": [
       "  0%|          | 0/6092 [00:00<?, ?it/s]"
      ]
     },
     "metadata": {},
     "output_type": "display_data"
    },
    {
     "data": {
      "image/png": "[encoded data removed]",
      "text/plain": [
       "<Figure size 640x480 with 1 Axes>"
      ]
     },
     "metadata": {},
     "output_type": "display_data"
    }
   ],
   "source": [
    "train_counts = class_counts(train_dataset)\n",
    "\n",
    "# Make a bar chart from the function output\n",
    "train_counts.sort_values().plot(kind='bar')\n",
    "\n",
    "# Add axis labels and title\n",
    "plt.xlabel(\"Class Label\")\n",
    "plt.ylabel(\"Frequency [count]\")\n",
    "plt.title(\"Distribution of Classes in Training Dataset\");"
   ]
  },
  {
   "cell_type": "markdown",
   "metadata": {},
   "source": [
    "Let's make the same plot, but this time for the validation data."
   ]
  },
  {
   "cell_type": "markdown",
   "metadata": {},
   "source": [
    "**Task 2.3.9:** Use the `class_counts` function and pandas plotting to get the breakdown across classes for the validation split."
   ]
  },
  {
   "cell_type": "code",
   "execution_count": 14,
   "metadata": {},
   "outputs": [
    {
     "data": {
      "application/vnd.jupyter.widget-view+json": {
       "model_id": "c89d346f56034c8590f873cb29d7fbae",
       "version_major": 2,
       "version_minor": 0
      },
      "text/plain": [
       "  0%|          | 0/1523 [00:00<?, ?it/s]"
      ]
     },
     "metadata": {},
     "output_type": "display_data"
    },
    {
     "data": {
      "image/png": "[encoded data removed]",
      "text/plain": [
       "<Figure size 640x480 with 1 Axes>"
      ]
     },
     "metadata": {},
     "output_type": "display_data"
    }
   ],
   "source": [
    "val_counts = class_counts(val_dataset)\n",
    "\n",
    "# Make a bar chart from the function output\n",
    "val_counts.sort_values().plot(kind='bar')\n",
    "# Add axis labels and title\n",
    "plt.xlabel(\"Class Label\")\n",
    "plt.ylabel(\"Frequency [count]\")\n",
    "plt.title(\"Distribution of Classes in Validation Dataset\");"
   ]
  },
  {
   "cell_type": "markdown",
   "metadata": {},
   "source": [
    "From these visualizations, we see that we indeed have a roughly uniform distribution across classes in the entire dataset as well as in the training and validation splits. Some deviations from a uniform distribution are normal given that we're working with a fairly small number of observations when it comes to statistics."
   ]
  },
  {
   "cell_type": "markdown",
   "metadata": {},
   "source": [
    "Well done! We're now ready to create `DataLoader` objects. We'll use a batch size of 32 and start with the `DataLoader` for training. Remember that in training we want to shuffle the data after each epoch.\n",
    "\n",
    "<div class=\"alert alert-info\" role=\"alert\">\n",
    "<p>Curious to learn more about data loaders (or any other class or function)? You can follow up the object name with a question mark as shown below. After running the code cell, the documentation for that object will be displayed for you.</p>\n",
    "\n",
    "<p>Another way to bring up the documentation in Jupyter is to put your cursor at the end of object name and use shift+tab 🤓</p>\n",
    "</div>"
   ]
  },
  {
   "cell_type": "code",
   "execution_count": null,
   "metadata": {},
   "outputs": [],
   "source": [
    "DataLoader?"
   ]
  },
  {
   "cell_type": "markdown",
   "metadata": {},
   "source": [
    "**Task 2.3.10:** Create the training loader. Make sure to set shuffling to be on."
   ]
  },
  {
   "cell_type": "code",
   "execution_count": 15,
   "metadata": {},
   "outputs": [
    {
     "name": "stdout",
     "output_type": "stream",
     "text": [
      "<class 'torch.utils.data.dataloader.DataLoader'>\n"
     ]
    }
   ],
   "source": [
    "batch_size = 32\n",
    "\n",
    "train_loader = DataLoader(train_dataset, batch_size=batch_size, shuffle=True)\n",
    "\n",
    "print(type(train_loader))"
   ]
  },
  {
   "cell_type": "markdown",
   "metadata": {},
   "source": [
    "Next let's create a `DataLoader` for validation data."
   ]
  },
  {
   "cell_type": "markdown",
   "metadata": {},
   "source": [
    "**Task 2.3.11:** Create the validation loader. Make sure to set shuffling to be off."
   ]
  },
  {
   "cell_type": "code",
   "execution_count": 16,
   "metadata": {},
   "outputs": [
    {
     "name": "stdout",
     "output_type": "stream",
     "text": [
      "<class 'torch.utils.data.dataloader.DataLoader'>\n"
     ]
    }
   ],
   "source": [
    "val_loader = DataLoader(val_dataset, batch_size=batch_size, shuffle=False)\n",
    "\n",
    "print(type(val_loader))"
   ]
  },
  {
   "cell_type": "markdown",
   "metadata": {},
   "source": [
    "Next let's check the shape of a batch of images and labels. We'll use the `DataLoader` object and turn it into an iterator by using `iter`. Then with `next` we can fetch a batch of data.\n",
    "\n",
    "We expect one batch of images to be a 4D tensor with dimension `[32, 3, 224, 224]` and one batch of labels to be a one dimensional tensor of length 32."
   ]
  },
  {
   "cell_type": "markdown",
   "metadata": {},
   "source": [
    "**Task 2.3.12:** Print the shape of a batch of images and the shape of a batch of labels."
   ]
  },
  {
   "cell_type": "code",
   "execution_count": 17,
   "metadata": {},
   "outputs": [
    {
     "name": "stdout",
     "output_type": "stream",
     "text": [
      "Shape of batch of images torch.Size([32, 3, 224, 224])\n",
      "Shape of batch of labels: torch.Size([32])\n"
     ]
    }
   ],
   "source": [
    "data_iter = iter(train_loader)\n",
    "images, labels = next(data_iter)\n",
    "\n",
    "image_shape = images.shape\n",
    "print(\"Shape of batch of images\", image_shape)\n",
    "\n",
    "label_shape = labels.shape\n",
    "print(\"Shape of batch of labels:\", label_shape)"
   ]
  },
  {
   "cell_type": "markdown",
   "metadata": {},
   "source": [
    "Out of curiosity, let's examine the `labels` tensor."
   ]
  },
  {
   "cell_type": "code",
   "execution_count": 18,
   "metadata": {},
   "outputs": [
    {
     "data": {
      "text/plain": [
       "tensor([2, 3, 4, 2, 4, 4, 2, 4, 0, 2, 4, 3, 0, 4, 2, 1, 2, 2, 1, 3, 4, 1, 1, 2,\n",
       "        2, 0, 0, 0, 2, 0, 3, 3])"
      ]
     },
     "execution_count": 18,
     "metadata": {},
     "output_type": "execute_result"
    }
   ],
   "source": [
    "labels"
   ]
  },
  {
   "cell_type": "markdown",
   "metadata": {},
   "source": [
    "### Building a Convolutional Neural Network"
   ]
  },
  {
   "cell_type": "markdown",
   "metadata": {},
   "source": [
    "As we learned in the previous project, a network architecture suitable for image classification is the convolutional neural network (CNN). It primarily consists of a sequence of convolutional and max pooling layers. These layers are followed by some fully connected layers and an output layer.\n",
    "\n",
    "Let's build a CNN!\n",
    "\n",
    "Same as previously, we'll use the `nn.Sequential` class from PyTorch to define the architecture. We'll start with an empty model and append layers to it one by one."
   ]
  },
  {
   "cell_type": "code",
   "execution_count": 19,
   "metadata": {},
   "outputs": [],
   "source": [
    "model = torch.nn.Sequential()"
   ]
  },
  {
   "cell_type": "markdown",
   "metadata": {},
   "source": [
    "**Task 2.3.13:** Define the first convolutional layer of our network. Remember that we have three color channels, so set `in_channels=3`. Use $16$ kernels, each of size $3$ and set padding to $1$."
   ]
  },
  {
   "cell_type": "code",
   "execution_count": 20,
   "metadata": {},
   "outputs": [
    {
     "name": "stdout",
     "output_type": "stream",
     "text": [
      "Sequential(\n",
      "  (0): Conv2d(3, 16, kernel_size=(3, 3), stride=(1, 1), padding=(1, 1))\n",
      ")\n"
     ]
    }
   ],
   "source": [
    "# Convolutional layer 1 (sees 3x224x224 image tensor)\n",
    "conv1 = nn.Conv2d(in_channels=3, out_channels=16, kernel_size=3, padding=1)\n",
    "model.append(conv1)\n",
    "\n",
    "print(model)"
   ]
  },
  {
   "cell_type": "markdown",
   "metadata": {},
   "source": [
    "After the first convolutional layer, we'll use the ReLU activation and follow that with a max pooling layer."
   ]
  },
  {
   "cell_type": "code",
   "execution_count": 21,
   "metadata": {},
   "outputs": [
    {
     "data": {
      "text/plain": [
       "Sequential(\n",
       "  (0): Conv2d(3, 16, kernel_size=(3, 3), stride=(1, 1), padding=(1, 1))\n",
       "  (1): ReLU()\n",
       "  (2): MaxPool2d(kernel_size=2, stride=2, padding=0, dilation=1, ceil_mode=False)\n",
       ")"
      ]
     },
     "execution_count": 21,
     "metadata": {},
     "output_type": "execute_result"
    }
   ],
   "source": [
    "max_pool1 = nn.MaxPool2d(2, 2)\n",
    "model.append(torch.nn.ReLU())\n",
    "model.append(max_pool1)"
   ]
  },
  {
   "cell_type": "markdown",
   "metadata": {},
   "source": [
    "**Task 2.3.14:** Define another convolutional layer of our network. This one should have $32$ kernels. Use kernels of size $3$ and padding of $1$."
   ]
  },
  {
   "cell_type": "code",
   "execution_count": 22,
   "metadata": {},
   "outputs": [
    {
     "name": "stdout",
     "output_type": "stream",
     "text": [
      "Sequential(\n",
      "  (0): Conv2d(3, 16, kernel_size=(3, 3), stride=(1, 1), padding=(1, 1))\n",
      "  (1): ReLU()\n",
      "  (2): MaxPool2d(kernel_size=2, stride=2, padding=0, dilation=1, ceil_mode=False)\n",
      "  (3): Conv2d(16, 32, kernel_size=(3, 3), stride=(1, 1), padding=(1, 1))\n",
      "  (4): ReLU()\n",
      "  (5): MaxPool2d(kernel_size=2, stride=2, padding=0, dilation=1, ceil_mode=False)\n",
      ")\n"
     ]
    }
   ],
   "source": [
    "# Convolutional layer 2 (sees 16x112x112 tensor)\n",
    "conv2 = nn.Conv2d(in_channels=16, out_channels=32, kernel_size=3, padding=1)\n",
    "max_pool2 = nn.MaxPool2d(2, 2)\n",
    "model.append(conv2)\n",
    "model.append(torch.nn.ReLU())\n",
    "model.append(max_pool2)\n",
    "\n",
    "print(model)"
   ]
  },
  {
   "cell_type": "markdown",
   "metadata": {},
   "source": [
    "**Task 2.3.15:** Define the last convolutional layer of our network. This one should have $64$ kernels. Again use kernels of size $3$ and padding of $1$."
   ]
  },
  {
   "cell_type": "code",
   "execution_count": 23,
   "metadata": {},
   "outputs": [
    {
     "name": "stdout",
     "output_type": "stream",
     "text": [
      "Sequential(\n",
      "  (0): Conv2d(3, 16, kernel_size=(3, 3), stride=(1, 1), padding=(1, 1))\n",
      "  (1): ReLU()\n",
      "  (2): MaxPool2d(kernel_size=2, stride=2, padding=0, dilation=1, ceil_mode=False)\n",
      "  (3): Conv2d(16, 32, kernel_size=(3, 3), stride=(1, 1), padding=(1, 1))\n",
      "  (4): ReLU()\n",
      "  (5): MaxPool2d(kernel_size=2, stride=2, padding=0, dilation=1, ceil_mode=False)\n",
      "  (6): Conv2d(32, 64, kernel_size=(3, 3), stride=(1, 1), padding=(1, 1))\n",
      "  (7): ReLU()\n",
      "  (8): MaxPool2d(kernel_size=2, stride=2, padding=0, dilation=1, ceil_mode=False)\n",
      ")\n"
     ]
    }
   ],
   "source": [
    "# Convolutional layer 3 (sees 32x56x56 tensor)\n",
    "conv3 = nn.Conv2d(in_channels=32, out_channels=64, kernel_size=3, padding=1)\n",
    "max_pool3 = nn.MaxPool2d(2, 2)\n",
    "model.append(conv3)\n",
    "model.append(torch.nn.ReLU())\n",
    "model.append(max_pool3)\n",
    "\n",
    "print(model)"
   ]
  },
  {
   "cell_type": "markdown",
   "metadata": {},
   "source": [
    "Next we'll add the flattening layer and a `Dropout` layer."
   ]
  },
  {
   "cell_type": "code",
   "execution_count": 24,
   "metadata": {},
   "outputs": [
    {
     "data": {
      "text/plain": [
       "Sequential(\n",
       "  (0): Conv2d(3, 16, kernel_size=(3, 3), stride=(1, 1), padding=(1, 1))\n",
       "  (1): ReLU()\n",
       "  (2): MaxPool2d(kernel_size=2, stride=2, padding=0, dilation=1, ceil_mode=False)\n",
       "  (3): Conv2d(16, 32, kernel_size=(3, 3), stride=(1, 1), padding=(1, 1))\n",
       "  (4): ReLU()\n",
       "  (5): MaxPool2d(kernel_size=2, stride=2, padding=0, dilation=1, ceil_mode=False)\n",
       "  (6): Conv2d(32, 64, kernel_size=(3, 3), stride=(1, 1), padding=(1, 1))\n",
       "  (7): ReLU()\n",
       "  (8): MaxPool2d(kernel_size=2, stride=2, padding=0, dilation=1, ceil_mode=False)\n",
       "  (9): Flatten(start_dim=1, end_dim=-1)\n",
       "  (10): Dropout(p=0.5, inplace=False)\n",
       ")"
      ]
     },
     "execution_count": 24,
     "metadata": {},
     "output_type": "execute_result"
    }
   ],
   "source": [
    "model.append(torch.nn.Flatten())\n",
    "model.append(nn.Dropout(0.5))"
   ]
  },
  {
   "cell_type": "markdown",
   "metadata": {},
   "source": [
    "While we could go straight to our output $5$ classes from here, we'll get better performance by adding another layer. We're getting 64 * 28 * 28 outputs from the flattening layer, let's feed that into a dense layer."
   ]
  },
  {
   "cell_type": "markdown",
   "metadata": {},
   "source": [
    "**Task 2.3.16:** Add a `Linear` layer to the model. You'll need to tell it the size of the input, and how many neurons we want in the layer (let's use $500$ neurons)."
   ]
  },
  {
   "cell_type": "code",
   "execution_count": 25,
   "metadata": {},
   "outputs": [
    {
     "name": "stdout",
     "output_type": "stream",
     "text": [
      "Sequential(\n",
      "  (0): Conv2d(3, 16, kernel_size=(3, 3), stride=(1, 1), padding=(1, 1))\n",
      "  (1): ReLU()\n",
      "  (2): MaxPool2d(kernel_size=2, stride=2, padding=0, dilation=1, ceil_mode=False)\n",
      "  (3): Conv2d(16, 32, kernel_size=(3, 3), stride=(1, 1), padding=(1, 1))\n",
      "  (4): ReLU()\n",
      "  (5): MaxPool2d(kernel_size=2, stride=2, padding=0, dilation=1, ceil_mode=False)\n",
      "  (6): Conv2d(32, 64, kernel_size=(3, 3), stride=(1, 1), padding=(1, 1))\n",
      "  (7): ReLU()\n",
      "  (8): MaxPool2d(kernel_size=2, stride=2, padding=0, dilation=1, ceil_mode=False)\n",
      "  (9): Flatten(start_dim=1, end_dim=-1)\n",
      "  (10): Dropout(p=0.5, inplace=False)\n",
      "  (11): Linear(in_features=50176, out_features=500, bias=True)\n",
      "  (12): ReLU()\n",
      "  (13): Dropout(p=0.5, inplace=False)\n",
      ")\n"
     ]
    }
   ],
   "source": [
    "# Linear layer (64 * 28 * 28 -> 500)\n",
    "linear1 = torch.nn.Linear(64 * 28 * 28, 500)\n",
    "model.append(linear1)\n",
    "model.append(torch.nn.ReLU())\n",
    "model.append(torch.nn.Dropout())\n",
    "\n",
    "print(model)"
   ]
  },
  {
   "cell_type": "markdown",
   "metadata": {},
   "source": [
    "We are ready to add the final layer to the model. It should have as many neurons as we have classes."
   ]
  },
  {
   "cell_type": "markdown",
   "metadata": {},
   "source": [
    "**Task 2.3.17:** Add the output layer to the model. "
   ]
  },
  {
   "cell_type": "code",
   "execution_count": 26,
   "metadata": {},
   "outputs": [
    {
     "name": "stdout",
     "output_type": "stream",
     "text": [
      "Sequential(\n",
      "  (0): Conv2d(3, 16, kernel_size=(3, 3), stride=(1, 1), padding=(1, 1))\n",
      "  (1): ReLU()\n",
      "  (2): MaxPool2d(kernel_size=2, stride=2, padding=0, dilation=1, ceil_mode=False)\n",
      "  (3): Conv2d(16, 32, kernel_size=(3, 3), stride=(1, 1), padding=(1, 1))\n",
      "  (4): ReLU()\n",
      "  (5): MaxPool2d(kernel_size=2, stride=2, padding=0, dilation=1, ceil_mode=False)\n",
      "  (6): Conv2d(32, 64, kernel_size=(3, 3), stride=(1, 1), padding=(1, 1))\n",
      "  (7): ReLU()\n",
      "  (8): MaxPool2d(kernel_size=2, stride=2, padding=0, dilation=1, ceil_mode=False)\n",
      "  (9): Flatten(start_dim=1, end_dim=-1)\n",
      "  (10): Dropout(p=0.5, inplace=False)\n",
      "  (11): Linear(in_features=50176, out_features=500, bias=True)\n",
      "  (12): ReLU()\n",
      "  (13): Dropout(p=0.5, inplace=False)\n",
      "  (14): Linear(in_features=500, out_features=5, bias=True)\n",
      ")\n"
     ]
    }
   ],
   "source": [
    "# Linear layer (500 -> 5)\n",
    "output_layer = nn.Linear(500, 5)\n",
    "model.append(output_layer)\n",
    "\n",
    "print(model)"
   ]
  },
  {
   "cell_type": "markdown",
   "metadata": {},
   "source": [
    "We have our model! Let's train it!"
   ]
  },
  {
   "cell_type": "markdown",
   "metadata": {},
   "source": [
    "### Training the Model"
   ]
  },
  {
   "cell_type": "markdown",
   "metadata": {},
   "source": [
    "Let's define the loss and what optimizer we'll use. We'll go with the standard loss function in classification problems, cross entropy. For the optimizer we'll chose Adam optimizer as we've done before."
   ]
  },
  {
   "cell_type": "markdown",
   "metadata": {},
   "source": [
    "**Task 2.3.18:** Define cross-entropy as the loss function and set Adam optimizer to be the optimizer. You can use the default learning rate `lr=0.001`."
   ]
  },
  {
   "cell_type": "code",
   "execution_count": 27,
   "metadata": {},
   "outputs": [
    {
     "name": "stdout",
     "output_type": "stream",
     "text": [
      "CrossEntropyLoss()\n",
      "----------------------\n",
      "Adam (\n",
      "Parameter Group 0\n",
      "    amsgrad: False\n",
      "    betas: (0.9, 0.999)\n",
      "    capturable: False\n",
      "    differentiable: False\n",
      "    eps: 1e-08\n",
      "    foreach: None\n",
      "    fused: None\n",
      "    lr: 0.001\n",
      "    maximize: False\n",
      "    weight_decay: 0\n",
      ")\n"
     ]
    }
   ],
   "source": [
    "loss_fn = nn.CrossEntropyLoss()\n",
    "optimizer = optim.Adam(model.parameters())\n",
    "\n",
    "print(loss_fn)\n",
    "print(\"----------------------\")\n",
    "print(optimizer)"
   ]
  },
  {
   "cell_type": "markdown",
   "metadata": {},
   "source": [
    "Let's use the GPU we have at our disposal and place our model on `device`. We'll also print the summary of the model."
   ]
  },
  {
   "cell_type": "code",
   "execution_count": 28,
   "metadata": {},
   "outputs": [
    {
     "data": {
      "text/plain": [
       "Sequential(\n",
       "  (0): Conv2d(3, 16, kernel_size=(3, 3), stride=(1, 1), padding=(1, 1))\n",
       "  (1): ReLU()\n",
       "  (2): MaxPool2d(kernel_size=2, stride=2, padding=0, dilation=1, ceil_mode=False)\n",
       "  (3): Conv2d(16, 32, kernel_size=(3, 3), stride=(1, 1), padding=(1, 1))\n",
       "  (4): ReLU()\n",
       "  (5): MaxPool2d(kernel_size=2, stride=2, padding=0, dilation=1, ceil_mode=False)\n",
       "  (6): Conv2d(32, 64, kernel_size=(3, 3), stride=(1, 1), padding=(1, 1))\n",
       "  (7): ReLU()\n",
       "  (8): MaxPool2d(kernel_size=2, stride=2, padding=0, dilation=1, ceil_mode=False)\n",
       "  (9): Flatten(start_dim=1, end_dim=-1)\n",
       "  (10): Dropout(p=0.5, inplace=False)\n",
       "  (11): Linear(in_features=50176, out_features=500, bias=True)\n",
       "  (12): ReLU()\n",
       "  (13): Dropout(p=0.5, inplace=False)\n",
       "  (14): Linear(in_features=500, out_features=5, bias=True)\n",
       ")"
      ]
     },
     "execution_count": 28,
     "metadata": {},
     "output_type": "execute_result"
    }
   ],
   "source": [
    "model.to(device)"
   ]
  },
  {
   "cell_type": "code",
   "execution_count": 29,
   "metadata": {},
   "outputs": [
    {
     "data": {
      "text/plain": [
       "==========================================================================================\n",
       "Layer (type:depth-idx)                   Output Shape              Param #\n",
       "==========================================================================================\n",
       "Sequential                               [32, 5]                   --\n",
       "├─Conv2d: 1-1                            [32, 16, 224, 224]        448\n",
       "├─ReLU: 1-2                              [32, 16, 224, 224]        --\n",
       "├─MaxPool2d: 1-3                         [32, 16, 112, 112]        --\n",
       "├─Conv2d: 1-4                            [32, 32, 112, 112]        4,640\n",
       "├─ReLU: 1-5                              [32, 32, 112, 112]        --\n",
       "├─MaxPool2d: 1-6                         [32, 32, 56, 56]          --\n",
       "├─Conv2d: 1-7                            [32, 64, 56, 56]          18,496\n",
       "├─ReLU: 1-8                              [32, 64, 56, 56]          --\n",
       "├─MaxPool2d: 1-9                         [32, 64, 28, 28]          --\n",
       "├─Flatten: 1-10                          [32, 50176]               --\n",
       "├─Dropout: 1-11                          [32, 50176]               --\n",
       "├─Linear: 1-12                           [32, 500]                 25,088,500\n",
       "├─ReLU: 1-13                             [32, 500]                 --\n",
       "├─Dropout: 1-14                          [32, 500]                 --\n",
       "├─Linear: 1-15                           [32, 5]                   2,505\n",
       "==========================================================================================\n",
       "Total params: 25,114,589\n",
       "Trainable params: 25,114,589\n",
       "Non-trainable params: 0\n",
       "Total mult-adds (Units.GIGABYTES): 5.24\n",
       "==========================================================================================\n",
       "Input size (MB): 19.27\n",
       "Forward/backward pass size (MB): 359.79\n",
       "Params size (MB): 100.46\n",
       "Estimated Total Size (MB): 479.52\n",
       "=========================================================================================="
      ]
     },
     "execution_count": 29,
     "metadata": {},
     "output_type": "execute_result"
    }
   ],
   "source": [
    "height = 224\n",
    "width = 224\n",
    "summary(model, input_size=(batch_size, 3, height, width))"
   ]
  },
  {
   "cell_type": "markdown",
   "metadata": {},
   "source": [
    "Notice the huge number of parameters that this model has! Are you starting to worry about overfitting? Although neural networks tend to overfit less than other models, we can still overfit with them. We can actually show that using this model. Let's train it for many epochs and demonstrate overfitting.\n",
    "\n",
    "For training the model, we can import the functions we built in the last project. Same as before, we have a `training.py` file here, which contains the `train` function. Note that the `train` function has been slightly modified - it now returns the losses and accuracies. Otherwise it's the same as in Project 1. The cell below prints out the arguments it needs."
   ]
  },
  {
   "cell_type": "code",
   "execution_count": 30,
   "metadata": {},
   "outputs": [],
   "source": [
    "from training import train"
   ]
  },
  {
   "cell_type": "code",
   "execution_count": 31,
   "metadata": {},
   "outputs": [
    {
     "data": {
      "text/plain": [
       "\u001b[0;31mSignature:\u001b[0m\n",
       "\u001b[0mtrain\u001b[0m\u001b[0;34m(\u001b[0m\u001b[0;34m\u001b[0m\n",
       "\u001b[0;34m\u001b[0m    \u001b[0mmodel\u001b[0m\u001b[0;34m,\u001b[0m\u001b[0;34m\u001b[0m\n",
       "\u001b[0;34m\u001b[0m    \u001b[0moptimizer\u001b[0m\u001b[0;34m,\u001b[0m\u001b[0;34m\u001b[0m\n",
       "\u001b[0;34m\u001b[0m    \u001b[0mloss_fn\u001b[0m\u001b[0;34m,\u001b[0m\u001b[0;34m\u001b[0m\n",
       "\u001b[0;34m\u001b[0m    \u001b[0mtrain_loader\u001b[0m\u001b[0;34m,\u001b[0m\u001b[0;34m\u001b[0m\n",
       "\u001b[0;34m\u001b[0m    \u001b[0mval_loader\u001b[0m\u001b[0;34m,\u001b[0m\u001b[0;34m\u001b[0m\n",
       "\u001b[0;34m\u001b[0m    \u001b[0mepochs\u001b[0m\u001b[0;34m=\u001b[0m\u001b[0;36m20\u001b[0m\u001b[0;34m,\u001b[0m\u001b[0;34m\u001b[0m\n",
       "\u001b[0;34m\u001b[0m    \u001b[0mdevice\u001b[0m\u001b[0;34m=\u001b[0m\u001b[0;34m'cpu'\u001b[0m\u001b[0;34m,\u001b[0m\u001b[0;34m\u001b[0m\n",
       "\u001b[0;34m\u001b[0m    \u001b[0muse_train_accuracy\u001b[0m\u001b[0;34m=\u001b[0m\u001b[0;32mTrue\u001b[0m\u001b[0;34m,\u001b[0m\u001b[0;34m\u001b[0m\n",
       "\u001b[0;34m\u001b[0m\u001b[0;34m)\u001b[0m\u001b[0;34m\u001b[0m\u001b[0;34m\u001b[0m\u001b[0m\n",
       "\u001b[0;31mDocstring:\u001b[0m <no docstring>\n",
       "\u001b[0;31mFile:\u001b[0m      /app/training.py\n",
       "\u001b[0;31mType:\u001b[0m      function"
      ]
     },
     "metadata": {},
     "output_type": "display_data"
    }
   ],
   "source": [
    "train?"
   ]
  },
  {
   "cell_type": "markdown",
   "metadata": {},
   "source": [
    "**Task 2.3.19:** Use the `train` function to train the model for 15 epochs. Note that this may take a long time to run."
   ]
  },
  {
   "cell_type": "markdown",
   "metadata": {},
   "source": [
    "<div class=\"alert alert-info\" role=\"alert\"> <strong>Regarding Model Training Times</strong>\n",
    "\n",
    "This task involves training a neural network for <b>15 epochs</b>. As highlighted in the accompanying video, the training process is computationally intensive and can be very time-consuming. On most systems, each epoch may take between 10 and 15 minutes, meaning the entire training process could last well over one hour. In an online lab, this could result in timeouts or interruptions.\n",
    "<br>\n",
    "\n",
    "To streamline your learning experience, where the video omits over an hour of training footage, we have provided a pre-trained model for your convenience. This model is an exact replica of the one you have been working on, trained for 15 epochs and carefully serialized using <code>torch.save()</code>.\n",
    "\n",
    "Upon completing the video for this task you can proceed by loading the pre-trained model indicated in the cell after the empty <code>train(...)</code> one.\n",
    "\n",
    "<b>We strongly recommend you to use the saved model instead of training your own for 15 epochs</b>\n",
    "</div>"
   ]
  },
  {
   "cell_type": "code",
   "execution_count": 44,
   "metadata": {
    "scrolled": true
   },
   "outputs": [
    {
     "data": {
      "application/vnd.jupyter.widget-view+json": {
       "model_id": "",
       "version_major": 2,
       "version_minor": 0
      },
      "text/plain": [
       "Training:   0%|          | 0/191 [00:00<?, ?it/s]"
      ]
     },
     "metadata": {},
     "output_type": "display_data"
    },
    {
     "data": {
      "application/vnd.jupyter.widget-view+json": {
       "model_id": "",
       "version_major": 2,
       "version_minor": 0
      },
      "text/plain": [
       "Scoring:   0%|          | 0/191 [00:00<?, ?it/s]"
      ]
     },
     "metadata": {},
     "output_type": "display_data"
    },
    {
     "data": {
      "application/vnd.jupyter.widget-view+json": {
       "model_id": "",
       "version_major": 2,
       "version_minor": 0
      },
      "text/plain": [
       "Scoring:   0%|          | 0/48 [00:00<?, ?it/s]"
      ]
     },
     "metadata": {},
     "output_type": "display_data"
    },
    {
     "name": "stdout",
     "output_type": "stream",
     "text": [
      "Epoch: 1\n",
      "    Training loss: 0.47\n",
      "    Training accuracy: 0.88\n",
      "    Validation loss: 0.45\n",
      "    Validation accuracy: 0.87\n"
     ]
    },
    {
     "data": {
      "application/vnd.jupyter.widget-view+json": {
       "model_id": "",
       "version_major": 2,
       "version_minor": 0
      },
      "text/plain": [
       "Training:   0%|          | 0/191 [00:00<?, ?it/s]"
      ]
     },
     "metadata": {},
     "output_type": "display_data"
    },
    {
     "data": {
      "application/vnd.jupyter.widget-view+json": {
       "model_id": "",
       "version_major": 2,
       "version_minor": 0
      },
      "text/plain": [
       "Scoring:   0%|          | 0/191 [00:00<?, ?it/s]"
      ]
     },
     "metadata": {},
     "output_type": "display_data"
    },
    {
     "data": {
      "application/vnd.jupyter.widget-view+json": {
       "model_id": "",
       "version_major": 2,
       "version_minor": 0
      },
      "text/plain": [
       "Scoring:   0%|          | 0/48 [00:00<?, ?it/s]"
      ]
     },
     "metadata": {},
     "output_type": "display_data"
    },
    {
     "name": "stdout",
     "output_type": "stream",
     "text": [
      "Epoch: 2\n",
      "    Training loss: 0.47\n",
      "    Training accuracy: 0.88\n",
      "    Validation loss: 0.45\n",
      "    Validation accuracy: 0.87\n"
     ]
    },
    {
     "data": {
      "application/vnd.jupyter.widget-view+json": {
       "model_id": "",
       "version_major": 2,
       "version_minor": 0
      },
      "text/plain": [
       "Training:   0%|          | 0/191 [00:00<?, ?it/s]"
      ]
     },
     "metadata": {},
     "output_type": "display_data"
    },
    {
     "data": {
      "application/vnd.jupyter.widget-view+json": {
       "model_id": "",
       "version_major": 2,
       "version_minor": 0
      },
      "text/plain": [
       "Scoring:   0%|          | 0/191 [00:00<?, ?it/s]"
      ]
     },
     "metadata": {},
     "output_type": "display_data"
    },
    {
     "data": {
      "application/vnd.jupyter.widget-view+json": {
       "model_id": "",
       "version_major": 2,
       "version_minor": 0
      },
      "text/plain": [
       "Scoring:   0%|          | 0/48 [00:00<?, ?it/s]"
      ]
     },
     "metadata": {},
     "output_type": "display_data"
    },
    {
     "name": "stdout",
     "output_type": "stream",
     "text": [
      "Epoch: 3\n",
      "    Training loss: 0.47\n",
      "    Training accuracy: 0.88\n",
      "    Validation loss: 0.45\n",
      "    Validation accuracy: 0.87\n"
     ]
    },
    {
     "data": {
      "application/vnd.jupyter.widget-view+json": {
       "model_id": "",
       "version_major": 2,
       "version_minor": 0
      },
      "text/plain": [
       "Training:   0%|          | 0/191 [00:00<?, ?it/s]"
      ]
     },
     "metadata": {},
     "output_type": "display_data"
    },
    {
     "data": {
      "application/vnd.jupyter.widget-view+json": {
       "model_id": "",
       "version_major": 2,
       "version_minor": 0
      },
      "text/plain": [
       "Scoring:   0%|          | 0/191 [00:00<?, ?it/s]"
      ]
     },
     "metadata": {},
     "output_type": "display_data"
    },
    {
     "data": {
      "application/vnd.jupyter.widget-view+json": {
       "model_id": "",
       "version_major": 2,
       "version_minor": 0
      },
      "text/plain": [
       "Scoring:   0%|          | 0/48 [00:00<?, ?it/s]"
      ]
     },
     "metadata": {},
     "output_type": "display_data"
    },
    {
     "name": "stdout",
     "output_type": "stream",
     "text": [
      "Epoch: 4\n",
      "    Training loss: 0.47\n",
      "    Training accuracy: 0.88\n",
      "    Validation loss: 0.45\n",
      "    Validation accuracy: 0.87\n"
     ]
    },
    {
     "data": {
      "application/vnd.jupyter.widget-view+json": {
       "model_id": "",
       "version_major": 2,
       "version_minor": 0
      },
      "text/plain": [
       "Training:   0%|          | 0/191 [00:00<?, ?it/s]"
      ]
     },
     "metadata": {},
     "output_type": "display_data"
    },
    {
     "data": {
      "application/vnd.jupyter.widget-view+json": {
       "model_id": "",
       "version_major": 2,
       "version_minor": 0
      },
      "text/plain": [
       "Scoring:   0%|          | 0/191 [00:00<?, ?it/s]"
      ]
     },
     "metadata": {},
     "output_type": "display_data"
    },
    {
     "data": {
      "application/vnd.jupyter.widget-view+json": {
       "model_id": "",
       "version_major": 2,
       "version_minor": 0
      },
      "text/plain": [
       "Scoring:   0%|          | 0/48 [00:00<?, ?it/s]"
      ]
     },
     "metadata": {},
     "output_type": "display_data"
    },
    {
     "name": "stdout",
     "output_type": "stream",
     "text": [
      "Epoch: 5\n",
      "    Training loss: 0.47\n",
      "    Training accuracy: 0.88\n",
      "    Validation loss: 0.45\n",
      "    Validation accuracy: 0.87\n"
     ]
    },
    {
     "data": {
      "application/vnd.jupyter.widget-view+json": {
       "model_id": "",
       "version_major": 2,
       "version_minor": 0
      },
      "text/plain": [
       "Training:   0%|          | 0/191 [00:00<?, ?it/s]"
      ]
     },
     "metadata": {},
     "output_type": "display_data"
    },
    {
     "data": {
      "application/vnd.jupyter.widget-view+json": {
       "model_id": "",
       "version_major": 2,
       "version_minor": 0
      },
      "text/plain": [
       "Scoring:   0%|          | 0/191 [00:00<?, ?it/s]"
      ]
     },
     "metadata": {},
     "output_type": "display_data"
    },
    {
     "data": {
      "application/vnd.jupyter.widget-view+json": {
       "model_id": "",
       "version_major": 2,
       "version_minor": 0
      },
      "text/plain": [
       "Scoring:   0%|          | 0/48 [00:00<?, ?it/s]"
      ]
     },
     "metadata": {},
     "output_type": "display_data"
    },
    {
     "name": "stdout",
     "output_type": "stream",
     "text": [
      "Epoch: 6\n",
      "    Training loss: 0.47\n",
      "    Training accuracy: 0.88\n",
      "    Validation loss: 0.45\n",
      "    Validation accuracy: 0.87\n"
     ]
    },
    {
     "data": {
      "application/vnd.jupyter.widget-view+json": {
       "model_id": "",
       "version_major": 2,
       "version_minor": 0
      },
      "text/plain": [
       "Training:   0%|          | 0/191 [00:00<?, ?it/s]"
      ]
     },
     "metadata": {},
     "output_type": "display_data"
    },
    {
     "data": {
      "application/vnd.jupyter.widget-view+json": {
       "model_id": "",
       "version_major": 2,
       "version_minor": 0
      },
      "text/plain": [
       "Scoring:   0%|          | 0/191 [00:00<?, ?it/s]"
      ]
     },
     "metadata": {},
     "output_type": "display_data"
    },
    {
     "data": {
      "application/vnd.jupyter.widget-view+json": {
       "model_id": "",
       "version_major": 2,
       "version_minor": 0
      },
      "text/plain": [
       "Scoring:   0%|          | 0/48 [00:00<?, ?it/s]"
      ]
     },
     "metadata": {},
     "output_type": "display_data"
    },
    {
     "name": "stdout",
     "output_type": "stream",
     "text": [
      "Epoch: 7\n",
      "    Training loss: 0.47\n",
      "    Training accuracy: 0.88\n",
      "    Validation loss: 0.45\n",
      "    Validation accuracy: 0.87\n"
     ]
    },
    {
     "data": {
      "application/vnd.jupyter.widget-view+json": {
       "model_id": "",
       "version_major": 2,
       "version_minor": 0
      },
      "text/plain": [
       "Training:   0%|          | 0/191 [00:00<?, ?it/s]"
      ]
     },
     "metadata": {},
     "output_type": "display_data"
    },
    {
     "data": {
      "application/vnd.jupyter.widget-view+json": {
       "model_id": "",
       "version_major": 2,
       "version_minor": 0
      },
      "text/plain": [
       "Scoring:   0%|          | 0/191 [00:00<?, ?it/s]"
      ]
     },
     "metadata": {},
     "output_type": "display_data"
    },
    {
     "data": {
      "application/vnd.jupyter.widget-view+json": {
       "model_id": "",
       "version_major": 2,
       "version_minor": 0
      },
      "text/plain": [
       "Scoring:   0%|          | 0/48 [00:00<?, ?it/s]"
      ]
     },
     "metadata": {},
     "output_type": "display_data"
    },
    {
     "name": "stdout",
     "output_type": "stream",
     "text": [
      "Epoch: 8\n",
      "    Training loss: 0.47\n",
      "    Training accuracy: 0.88\n",
      "    Validation loss: 0.45\n",
      "    Validation accuracy: 0.87\n"
     ]
    },
    {
     "data": {
      "application/vnd.jupyter.widget-view+json": {
       "model_id": "",
       "version_major": 2,
       "version_minor": 0
      },
      "text/plain": [
       "Training:   0%|          | 0/191 [00:00<?, ?it/s]"
      ]
     },
     "metadata": {},
     "output_type": "display_data"
    },
    {
     "data": {
      "application/vnd.jupyter.widget-view+json": {
       "model_id": "",
       "version_major": 2,
       "version_minor": 0
      },
      "text/plain": [
       "Scoring:   0%|          | 0/191 [00:00<?, ?it/s]"
      ]
     },
     "metadata": {},
     "output_type": "display_data"
    },
    {
     "data": {
      "application/vnd.jupyter.widget-view+json": {
       "model_id": "",
       "version_major": 2,
       "version_minor": 0
      },
      "text/plain": [
       "Scoring:   0%|          | 0/48 [00:00<?, ?it/s]"
      ]
     },
     "metadata": {},
     "output_type": "display_data"
    },
    {
     "name": "stdout",
     "output_type": "stream",
     "text": [
      "Epoch: 9\n",
      "    Training loss: 0.47\n",
      "    Training accuracy: 0.88\n",
      "    Validation loss: 0.45\n",
      "    Validation accuracy: 0.87\n"
     ]
    },
    {
     "data": {
      "application/vnd.jupyter.widget-view+json": {
       "model_id": "",
       "version_major": 2,
       "version_minor": 0
      },
      "text/plain": [
       "Training:   0%|          | 0/191 [00:00<?, ?it/s]"
      ]
     },
     "metadata": {},
     "output_type": "display_data"
    },
    {
     "data": {
      "application/vnd.jupyter.widget-view+json": {
       "model_id": "",
       "version_major": 2,
       "version_minor": 0
      },
      "text/plain": [
       "Scoring:   0%|          | 0/191 [00:00<?, ?it/s]"
      ]
     },
     "metadata": {},
     "output_type": "display_data"
    },
    {
     "data": {
      "application/vnd.jupyter.widget-view+json": {
       "model_id": "",
       "version_major": 2,
       "version_minor": 0
      },
      "text/plain": [
       "Scoring:   0%|          | 0/48 [00:00<?, ?it/s]"
      ]
     },
     "metadata": {},
     "output_type": "display_data"
    },
    {
     "name": "stdout",
     "output_type": "stream",
     "text": [
      "Epoch: 10\n",
      "    Training loss: 0.47\n",
      "    Training accuracy: 0.88\n",
      "    Validation loss: 0.45\n",
      "    Validation accuracy: 0.87\n"
     ]
    },
    {
     "data": {
      "application/vnd.jupyter.widget-view+json": {
       "model_id": "",
       "version_major": 2,
       "version_minor": 0
      },
      "text/plain": [
       "Training:   0%|          | 0/191 [00:00<?, ?it/s]"
      ]
     },
     "metadata": {},
     "output_type": "display_data"
    },
    {
     "data": {
      "application/vnd.jupyter.widget-view+json": {
       "model_id": "",
       "version_major": 2,
       "version_minor": 0
      },
      "text/plain": [
       "Scoring:   0%|          | 0/191 [00:00<?, ?it/s]"
      ]
     },
     "metadata": {},
     "output_type": "display_data"
    },
    {
     "data": {
      "application/vnd.jupyter.widget-view+json": {
       "model_id": "",
       "version_major": 2,
       "version_minor": 0
      },
      "text/plain": [
       "Scoring:   0%|          | 0/48 [00:00<?, ?it/s]"
      ]
     },
     "metadata": {},
     "output_type": "display_data"
    },
    {
     "name": "stdout",
     "output_type": "stream",
     "text": [
      "Epoch: 11\n",
      "    Training loss: 0.47\n",
      "    Training accuracy: 0.88\n",
      "    Validation loss: 0.45\n",
      "    Validation accuracy: 0.87\n"
     ]
    },
    {
     "data": {
      "application/vnd.jupyter.widget-view+json": {
       "model_id": "",
       "version_major": 2,
       "version_minor": 0
      },
      "text/plain": [
       "Training:   0%|          | 0/191 [00:00<?, ?it/s]"
      ]
     },
     "metadata": {},
     "output_type": "display_data"
    },
    {
     "data": {
      "application/vnd.jupyter.widget-view+json": {
       "model_id": "",
       "version_major": 2,
       "version_minor": 0
      },
      "text/plain": [
       "Scoring:   0%|          | 0/191 [00:00<?, ?it/s]"
      ]
     },
     "metadata": {},
     "output_type": "display_data"
    },
    {
     "data": {
      "application/vnd.jupyter.widget-view+json": {
       "model_id": "",
       "version_major": 2,
       "version_minor": 0
      },
      "text/plain": [
       "Scoring:   0%|          | 0/48 [00:00<?, ?it/s]"
      ]
     },
     "metadata": {},
     "output_type": "display_data"
    },
    {
     "name": "stdout",
     "output_type": "stream",
     "text": [
      "Epoch: 12\n",
      "    Training loss: 0.47\n",
      "    Training accuracy: 0.88\n",
      "    Validation loss: 0.45\n",
      "    Validation accuracy: 0.87\n"
     ]
    },
    {
     "data": {
      "application/vnd.jupyter.widget-view+json": {
       "model_id": "",
       "version_major": 2,
       "version_minor": 0
      },
      "text/plain": [
       "Training:   0%|          | 0/191 [00:00<?, ?it/s]"
      ]
     },
     "metadata": {},
     "output_type": "display_data"
    },
    {
     "data": {
      "application/vnd.jupyter.widget-view+json": {
       "model_id": "",
       "version_major": 2,
       "version_minor": 0
      },
      "text/plain": [
       "Scoring:   0%|          | 0/191 [00:00<?, ?it/s]"
      ]
     },
     "metadata": {},
     "output_type": "display_data"
    },
    {
     "data": {
      "application/vnd.jupyter.widget-view+json": {
       "model_id": "",
       "version_major": 2,
       "version_minor": 0
      },
      "text/plain": [
       "Scoring:   0%|          | 0/48 [00:00<?, ?it/s]"
      ]
     },
     "metadata": {},
     "output_type": "display_data"
    },
    {
     "name": "stdout",
     "output_type": "stream",
     "text": [
      "Epoch: 13\n",
      "    Training loss: 0.47\n",
      "    Training accuracy: 0.88\n",
      "    Validation loss: 0.45\n",
      "    Validation accuracy: 0.87\n"
     ]
    },
    {
     "data": {
      "application/vnd.jupyter.widget-view+json": {
       "model_id": "",
       "version_major": 2,
       "version_minor": 0
      },
      "text/plain": [
       "Training:   0%|          | 0/191 [00:00<?, ?it/s]"
      ]
     },
     "metadata": {},
     "output_type": "display_data"
    },
    {
     "data": {
      "application/vnd.jupyter.widget-view+json": {
       "model_id": "",
       "version_major": 2,
       "version_minor": 0
      },
      "text/plain": [
       "Scoring:   0%|          | 0/191 [00:00<?, ?it/s]"
      ]
     },
     "metadata": {},
     "output_type": "display_data"
    },
    {
     "data": {
      "application/vnd.jupyter.widget-view+json": {
       "model_id": "",
       "version_major": 2,
       "version_minor": 0
      },
      "text/plain": [
       "Scoring:   0%|          | 0/48 [00:00<?, ?it/s]"
      ]
     },
     "metadata": {},
     "output_type": "display_data"
    },
    {
     "name": "stdout",
     "output_type": "stream",
     "text": [
      "Epoch: 14\n",
      "    Training loss: 0.47\n",
      "    Training accuracy: 0.88\n",
      "    Validation loss: 0.45\n",
      "    Validation accuracy: 0.87\n"
     ]
    },
    {
     "data": {
      "application/vnd.jupyter.widget-view+json": {
       "model_id": "",
       "version_major": 2,
       "version_minor": 0
      },
      "text/plain": [
       "Training:   0%|          | 0/191 [00:00<?, ?it/s]"
      ]
     },
     "metadata": {},
     "output_type": "display_data"
    },
    {
     "data": {
      "application/vnd.jupyter.widget-view+json": {
       "model_id": "",
       "version_major": 2,
       "version_minor": 0
      },
      "text/plain": [
       "Scoring:   0%|          | 0/191 [00:00<?, ?it/s]"
      ]
     },
     "metadata": {},
     "output_type": "display_data"
    },
    {
     "data": {
      "application/vnd.jupyter.widget-view+json": {
       "model_id": "",
       "version_major": 2,
       "version_minor": 0
      },
      "text/plain": [
       "Scoring:   0%|          | 0/48 [00:00<?, ?it/s]"
      ]
     },
     "metadata": {},
     "output_type": "display_data"
    },
    {
     "name": "stdout",
     "output_type": "stream",
     "text": [
      "Epoch: 15\n",
      "    Training loss: 0.47\n",
      "    Training accuracy: 0.88\n",
      "    Validation loss: 0.45\n",
      "    Validation accuracy: 0.87\n"
     ]
    }
   ],
   "source": [
    "train_losses, valid_losses, train_accuracies, valid_accuracies = train(\n",
    "     model,\n",
    "    optimizer,\n",
    "    loss_fn,\n",
    "    train_loader,\n",
    "    val_loader,\n",
    "    epochs=15,\n",
    "    device=device,\n",
    "    \n",
    ")"
   ]
  },
  {
   "cell_type": "markdown",
   "metadata": {},
   "source": [
    "**[RECOMMENDED]** Load the pre-trained model:"
   ]
  },
  {
   "cell_type": "code",
   "execution_count": 45,
   "metadata": {},
   "outputs": [
    {
     "data": {
      "text/plain": [
       "Sequential(\n",
       "  (0): Conv2d(3, 16, kernel_size=(3, 3), stride=(1, 1), padding=(1, 1))\n",
       "  (1): ReLU()\n",
       "  (2): MaxPool2d(kernel_size=2, stride=2, padding=0, dilation=1, ceil_mode=False)\n",
       "  (3): Conv2d(16, 32, kernel_size=(3, 3), stride=(1, 1), padding=(1, 1))\n",
       "  (4): ReLU()\n",
       "  (5): MaxPool2d(kernel_size=2, stride=2, padding=0, dilation=1, ceil_mode=False)\n",
       "  (6): Conv2d(32, 64, kernel_size=(3, 3), stride=(1, 1), padding=(1, 1))\n",
       "  (7): ReLU()\n",
       "  (8): MaxPool2d(kernel_size=2, stride=2, padding=0, dilation=1, ceil_mode=False)\n",
       "  (9): Flatten(start_dim=1, end_dim=-1)\n",
       "  (10): Dropout(p=0.5, inplace=False)\n",
       "  (11): Linear(in_features=50176, out_features=500, bias=True)\n",
       "  (12): ReLU()\n",
       "  (13): Dropout(p=0.5, inplace=False)\n",
       "  (14): Linear(in_features=500, out_features=5, bias=True)\n",
       ")"
      ]
     },
     "execution_count": 45,
     "metadata": {},
     "output_type": "execute_result"
    }
   ],
   "source": [
    "model = torch.load(\"model_trained.pth\", weights_only=False)\n",
    "model.to(\"cuda\")"
   ]
  },
  {
   "cell_type": "markdown",
   "metadata": {},
   "source": [
    "Now let's plot the learning curve, so training and validation loss as a function of epoch number. And let's add a similar plot for training and validation accuracy."
   ]
  },
  {
   "cell_type": "markdown",
   "metadata": {},
   "source": [
    "<div class=\"alert alert-info\" role=\"alert\"> <strong>Loading Evaluation Metrics</strong>\n",
    "\n",
    "The next cell plots the training and validation losses and accuracies resulting from training the model for 15 epochs. Since we're recommending you to train the model for fewer epochs and instead loading the pretrained model, you'll also need to load the metrics that we have saved along with the model.\n",
    "\n",
    "To do so, execute the following cell that loads the CSV with the values of these metrics that we have saved after our training. Feel free to explore the dataframe freely.\n",
    "</div>"
   ]
  },
  {
   "cell_type": "code",
   "execution_count": 46,
   "metadata": {},
   "outputs": [],
   "source": [
    "df = pd.read_csv('post_train_evaluation_metrics.csv')"
   ]
  },
  {
   "cell_type": "code",
   "execution_count": 47,
   "metadata": {},
   "outputs": [],
   "source": [
    "train_losses = df['Train Loss']\n",
    "valid_losses = df['Validation Loss']\n",
    "\n",
    "train_accuracies = df['Train Accuracy']\n",
    "valid_accuracies = df['Validation Accuracy']"
   ]
  },
  {
   "cell_type": "code",
   "execution_count": 48,
   "metadata": {},
   "outputs": [
    {
     "data": {
      "image/png": "[encoded data removed]",
      "text/plain": [
       "<Figure size 1200x500 with 2 Axes>"
      ]
     },
     "metadata": {},
     "output_type": "display_data"
    }
   ],
   "source": [
    "plt.figure(figsize=(12, 5))\n",
    "\n",
    "plt.subplot(1, 2, 1)\n",
    "plt.plot(train_losses, label=\"Training Loss\")\n",
    "plt.plot(valid_losses, label=\"Validation Loss\")\n",
    "plt.title(\"Loss over epochs\")\n",
    "plt.xlabel(\"Epochs\")\n",
    "plt.ylabel(\"Loss\")\n",
    "plt.legend()\n",
    "\n",
    "plt.subplot(1, 2, 2)\n",
    "plt.plot(train_accuracies, label=\"Training Accuracy\")\n",
    "plt.plot(valid_accuracies, label=\"Validation Accuracy\")\n",
    "plt.title(\"Accuracy over epochs\")\n",
    "plt.xlabel(\"Epochs\")\n",
    "plt.ylabel(\"Accuracy\")\n",
    "plt.legend()\n",
    "\n",
    "plt.show()"
   ]
  },
  {
   "cell_type": "markdown",
   "metadata": {},
   "source": [
    "This training loop results show a common pattern observed in deep learning models: As training progresses, the training accuracy improves significantly, suggesting that the model's effectively learning from the training dataset. However, the validation accuracy does not improve at the same rate, and the validation loss starts to increase after a certain point. This is a classic sign of overfitting."
   ]
  },
  {
   "cell_type": "markdown",
   "metadata": {},
   "source": [
    "<div class=\"alert alert-info\" role=\"alert\">\n",
    "<p>Oh no, we&rsquo;re overfitting! 🤯</p>\n",
    "\n",
    "<p>Overfitting occurs when a model learns the training data too well, capturing noise and details to the extent that it negatively impacts the model&rsquo;s performance on new data. The symptoms of overfitting in our training results are:</p>\n",
    "\n",
    "<ul>\n",
    "<li>High training accuracy: The model performs exceptionally well on the training data.</li>\n",
    "<li>Increasing validation loss: Despite improvements in training loss and accuracy, the validation loss starts to increase after reaching a certain point.</li>\n",
    "<li>Stagnant or decreasing validation accuracy: The model&rsquo;s ability to generalize to unseen data does not improve or worsens as training progresses.</li>\n",
    "</ul>\n",
    "\n",
    "\n",
    "<p><strong>Addressing Overfitting</strong></p>\n",
    "\n",
    "<p>To mitigate overfitting, consider the following strategies:</p>\n",
    "\n",
    "<ul>\n",
    "<li><p><strong>Data Augmentation</strong>: Augment the training data by applying random transformations (e.g., rotations, scaling, flips) to generate new training samples. This can help the model generalize better.</p></li>\n",
    "<li><p><strong>Dropout</strong>: Introduce dropout layers into our network. Dropout randomly sets a fraction of input units to 0 during training, which helps prevent the model from becoming too reliant on any single feature.</p></li>\n",
    "<li><p><strong>Regularization</strong>: Apply regularization techniques, such as L1 or L2 regularization, which add a penalty on the magnitude of network parameters. This can discourage complex models that overfit.</p></li>\n",
    "<li><p><strong>Early Stopping</strong>: Monitor the model&rsquo;s performance on a validation set and stop training when the validation loss starts to increase, which is a sign that the model's beginning to overfit.</p></li>\n",
    "<li><p><strong>Reduce Model Complexity</strong>: Simplify your model by reducing the number of layers or the number of units in the layers. A simpler model may generalize better.</p></li>\n",
    "<li><p><strong>Use More Data</strong>: If possible, adding more data can help the model learn better and generalize well to new, unseen data.</p></li>\n",
    "<li><p><strong>Batch Normalization</strong>: Although primarily used to help with training stability and convergence, batch normalization can sometimes also help with overfitting by regularizing the model somewhat.</p></li>\n",
    "<li><p><strong>Cross-validation</strong>: Helps prevent overfitting by testing the model on different parts of the data, ensuring it performs well on new data.</p></li>\n",
    "</ul>\n",
    "</div>"
   ]
  },
  {
   "cell_type": "markdown",
   "metadata": {},
   "source": [
    "We'll use some of these strategies in the following lessons.\n",
    "\n",
    "Let's conclude this lesson by computing the confusion matrix for our model using the validation data. You may remember that in order to obtain the confusion matrix, we need the predictions of the model and the target values.\n",
    "\n",
    "We'll obtain the probabilities that our model predicts by using the `predict` function from `training.py`. This function expects the model, the loader and the device as input arguments."
   ]
  },
  {
   "cell_type": "markdown",
   "metadata": {},
   "source": [
    "**Task 2.3.20:** Use the `predict` function from `training.py` to compute probabilities that our model predicts on the validation data. The rest of the code provided will take these probabilities and compute the predicted classes."
   ]
  },
  {
   "cell_type": "markdown",
   "metadata": {},
   "source": [
    "<div class=\"alert alert-info\" role=\"alert\"> <strong>Use the pre-trained model</strong>\n",
    "\n",
    "For the following activity, we have assumed that you're using the pre-trained model from activity <code>2.3.19</code>. If you have trained the model by yourself, the activity <code>2.3.20</code> will not evaluate correctly.\n",
    "\n",
    "Make sure you're loading the model from the pre-trained data as specified above.\n",
    "</div>"
   ]
  },
  {
   "cell_type": "code",
   "execution_count": 49,
   "metadata": {},
   "outputs": [
    {
     "data": {
      "application/vnd.jupyter.widget-view+json": {
       "model_id": "",
       "version_major": 2,
       "version_minor": 0
      },
      "text/plain": [
       "Predicting:   0%|          | 0/48 [00:00<?, ?it/s]"
      ]
     },
     "metadata": {},
     "output_type": "display_data"
    },
    {
     "name": "stdout",
     "output_type": "stream",
     "text": [
      "tensor([0, 4, 4,  ..., 1, 0, 0], device='cuda:0')\n"
     ]
    }
   ],
   "source": [
    "from training import predict\n",
    "\n",
    "probabilities_val = predict(model, val_loader, device)\n",
    "predictions_val = torch.argmax(probabilities_val, dim=1)\n",
    "\n",
    "print(predictions_val)"
   ]
  },
  {
   "cell_type": "markdown",
   "metadata": {},
   "source": [
    "All we need before we can compute the confusion matrix is the target values, so let's compute those."
   ]
  },
  {
   "cell_type": "code",
   "execution_count": 50,
   "metadata": {},
   "outputs": [
    {
     "name": "stderr",
     "output_type": "stream",
     "text": [
      "Get Labels: 100%|██████████| 48/48 [00:10<00:00,  4.57it/s]\n"
     ]
    }
   ],
   "source": [
    "targets_val = torch.cat(\n",
    "    [labels for _, labels in tqdm(val_loader, desc=\"Get Labels\")]\n",
    ").to(device)"
   ]
  },
  {
   "cell_type": "markdown",
   "metadata": {},
   "source": [
    "Now we can get the confusion matrix."
   ]
  },
  {
   "cell_type": "code",
   "execution_count": 52,
   "metadata": {},
   "outputs": [
    {
     "data": {
      "text/plain": [
       "<Figure size 1000x800 with 0 Axes>"
      ]
     },
     "metadata": {},
     "output_type": "display_data"
    },
    {
     "data": {
      "image/png": "[encoded data removed]",
      "text/plain": [
       "<Figure size 640x480 with 2 Axes>"
      ]
     },
     "metadata": {},
     "output_type": "display_data"
    }
   ],
   "source": [
    "cm = confusion_matrix(targets_val.cpu(), predictions_val.cpu())\n",
    "\n",
    "disp = ConfusionMatrixDisplay(confusion_matrix=cm, display_labels=classes)\n",
    "\n",
    "# Set figure size\n",
    "plt.figure(figsize=(10, 8))\n",
    "\n",
    "disp.plot(cmap=plt.cm.Blues, xticks_rotation=\"vertical\")\n",
    "plt.show()"
   ]
  },
  {
   "cell_type": "markdown",
   "metadata": {},
   "source": [
    "The confusion matrix looks like quite a mess, which we expect, since the model's so overfit."
   ]
  },
  {
   "cell_type": "markdown",
   "metadata": {},
   "source": [
    "### Conclusion"
   ]
  },
  {
   "cell_type": "markdown",
   "metadata": {},
   "source": [
    "In this lesson, we worked hard to create a CNN model, trained the model for a long time, and what we ended up with was a model that overfits! 😫\n",
    "\n",
    "But along the way, we practiced and learned some important things:\n",
    "- Once more we preprocessed our data to make it ready for deep learning. \n",
    "- We built a CNN with 3 convolutional and max pooling layers, followed by flattening and two dense layers.\n",
    "- We used `nn.Sequential` to easily build our model's architecture by defining the order of the layers.\n",
    "- Training the model for too many epochs produced an overfit model.\n",
    "- We discussed techniques to combat overfitting, which we'll see in future lessons.\n",
    "\n",
    "\n",
    "In the next lesson we'll learn that we don't have to build and train our neural network from scratch. That sounds promising!"
   ]
  },
  {
   "cell_type": "markdown",
   "metadata": {
    "deletable": false,
    "editable": false
   },
   "source": [
    "---\n",
    "This file &#169; 2024 by [WorldQuant University](https://www.wqu.edu/) is licensed under [CC BY-NC-ND 4.0](https://creativecommons.org/licenses/by-nc-nd/4.0/)."
   ]
  }
 ],
 "metadata": {
  "kernelspec": {
   "display_name": "Python 3 (ipykernel)",
   "language": "python",
   "name": "python3"
  },
  "language_info": {
   "codemirror_mode": {
    "name": "ipython",
    "version": 3
   },
   "file_extension": ".py",
   "mimetype": "text/x-python",
   "name": "python",
   "nbconvert_exporter": "python",
   "pygments_lexer": "ipython3",
   "version": "3.11.0"
  },
  "widgets": {
   "application/vnd.jupyter.widget-state+json": {
    "state": {
     "00098216415a4bb7935223ae6260f2bb": {
      "model_module": "@jupyter-widgets/controls",
      "model_module_version": "2.0.0",
      "model_name": "FloatProgressModel",
      "state": {
       "layout": "IPY_MODEL_7e632da0ddb14f3ca0d6a3c5aa6f0b19",
       "max": 191,
       "style": "IPY_MODEL_43ede2d2e6a2442c92f158a609ed3e71",
       "value": 191
      }
     },
     "0015bf7270eb437f8fd976168b10d65c": {
      "model_module": "@jupyter-widgets/controls",
      "model_module_version": "2.0.0",
      "model_name": "HTMLStyleModel",
      "state": {
       "description_width": "",
       "font_size": null,
       "text_color": null
      }
     },
     "00364eeb41cf47649367571c2a3f99e9": {
      "model_module": "@jupyter-widgets/controls",
      "model_module_version": "2.0.0",
      "model_name": "HTMLModel",
      "state": {
       "layout": "IPY_MODEL_622b40bac58f4fafa88c05acda10a879",
       "style": "IPY_MODEL_edf60f59ad294d32a28c61b23c22138f",
       "value": " 48/48 [00:10&lt;00:00,  5.16it/s]"
      }
     },
     "009aee89db79412e96be3ed4af24005e": {
      "model_module": "@jupyter-widgets/controls",
      "model_module_version": "2.0.0",
      "model_name": "HTMLModel",
      "state": {
       "layout": "IPY_MODEL_34ee8eed12624febb6042f2613ee6504",
       "style": "IPY_MODEL_d86ba5287d3c40ad8e0897e25e8b1958",
       "value": " 191/191 [00:50&lt;00:00,  4.63it/s]"
      }
     },
     "01e872048e8240e98f010a1e2c1f0ca7": {
      "model_module": "@jupyter-widgets/controls",
      "model_module_version": "2.0.0",
      "model_name": "HTMLModel",
      "state": {
       "layout": "IPY_MODEL_8cb1160cb69e4249af71cbec2d60190c",
       "style": "IPY_MODEL_708355217525435fa021a10c6abe23b1",
       "value": " 191/191 [00:50&lt;00:00,  4.05it/s]"
      }
     },
     "01e962b6ff724eb8856ed676aa2dda25": {
      "model_module": "@jupyter-widgets/controls",
      "model_module_version": "2.0.0",
      "model_name": "HTMLStyleModel",
      "state": {
       "description_width": "",
       "font_size": null,
       "text_color": null
      }
     },
     "01ea58d6fc9246798579a15a85a3f40b": {
      "model_module": "@jupyter-widgets/controls",
      "model_module_version": "2.0.0",
      "model_name": "HTMLStyleModel",
      "state": {
       "description_width": "",
       "font_size": null,
       "text_color": null
      }
     },
     "0256649882194774be9ed6b42fa5332f": {
      "model_module": "@jupyter-widgets/controls",
      "model_module_version": "2.0.0",
      "model_name": "HTMLModel",
      "state": {
       "layout": "IPY_MODEL_06314c3bcbb54ef6b44920330a6f668e",
       "style": "IPY_MODEL_134421303ea744b28b02431e05a3bb7d",
       "value": " 48/48 [00:11&lt;00:00,  4.80it/s]"
      }
     },
     "028bae739435430085d3ddf3b3d732d2": {
      "model_module": "@jupyter-widgets/base",
      "model_module_version": "2.0.0",
      "model_name": "LayoutModel",
      "state": {
       "visibility": "hidden"
      }
     },
     "02be3892132b4f91a214b179bb9fe95f": {
      "model_module": "@jupyter-widgets/controls",
      "model_module_version": "2.0.0",
      "model_name": "HTMLStyleModel",
      "state": {
       "description_width": "",
       "font_size": null,
       "text_color": null
      }
     },
     "0301c065af014781be88a213e3bc03af": {
      "model_module": "@jupyter-widgets/controls",
      "model_module_version": "2.0.0",
      "model_name": "HTMLStyleModel",
      "state": {
       "description_width": "",
       "font_size": null,
       "text_color": null
      }
     },
     "03505df5a0794a548f9f5c32db279226": {
      "model_module": "@jupyter-widgets/controls",
      "model_module_version": "2.0.0",
      "model_name": "HTMLModel",
      "state": {
       "layout": "IPY_MODEL_e738b3ac4b4e4355be85bfd805fc0658",
       "style": "IPY_MODEL_45f9495c939e452eaf2a0b08cf5ad692",
       "value": " 191/191 [00:50&lt;00:00,  4.48it/s]"
      }
     },
     "04444ade880a43019fb44745eb71442a": {
      "model_module": "@jupyter-widgets/base",
      "model_module_version": "2.0.0",
      "model_name": "LayoutModel",
      "state": {}
     },
     "045324f5da0449eea6d0047cf8de51b6": {
      "model_module": "@jupyter-widgets/controls",
      "model_module_version": "2.0.0",
      "model_name": "FloatProgressModel",
      "state": {
       "layout": "IPY_MODEL_f1126090b6e64c12a20d0bdd4497ff93",
       "max": 191,
       "style": "IPY_MODEL_1e79b610398e4e87bb65ecca4fbaa263",
       "value": 191
      }
     },
     "047eb7297cb74eab9c7f71c43612bc26": {
      "model_module": "@jupyter-widgets/controls",
      "model_module_version": "2.0.0",
      "model_name": "HTMLStyleModel",
      "state": {
       "description_width": "",
       "font_size": null,
       "text_color": null
      }
     },
     "0487892aabdf473298059d6583d7367c": {
      "model_module": "@jupyter-widgets/controls",
      "model_module_version": "2.0.0",
      "model_name": "HTMLModel",
      "state": {
       "layout": "IPY_MODEL_3e27d3f2ca9349cea9754a28623cdbf3",
       "style": "IPY_MODEL_6389c75ddb074e779cfd9e86a7e449f5",
       "value": "Scoring: 100%"
      }
     },
     "04a7ff46f1774aaf95b79e905cf953a9": {
      "model_module": "@jupyter-widgets/controls",
      "model_module_version": "2.0.0",
      "model_name": "HTMLModel",
      "state": {
       "layout": "IPY_MODEL_0b51f2013bd04804ad3842c12e5c7114",
       "style": "IPY_MODEL_4ac05cf98f2a4b0189f6478e58514c18",
       "value": "Scoring:  99%"
      }
     },
     "04be4f1f66e24fcc9b014a2ebf567fe5": {
      "model_module": "@jupyter-widgets/base",
      "model_module_version": "2.0.0",
      "model_name": "LayoutModel",
      "state": {}
     },
     "04f5c385797a42e68b20bde821395df8": {
      "model_module": "@jupyter-widgets/controls",
      "model_module_version": "2.0.0",
      "model_name": "HTMLStyleModel",
      "state": {
       "description_width": "",
       "font_size": null,
       "text_color": null
      }
     },
     "04fc9f20665f416388b2caed99ab13e2": {
      "model_module": "@jupyter-widgets/base",
      "model_module_version": "2.0.0",
      "model_name": "LayoutModel",
      "state": {}
     },
     "052529bb32df4ee79c02f284df4e2462": {
      "model_module": "@jupyter-widgets/controls",
      "model_module_version": "2.0.0",
      "model_name": "ProgressStyleModel",
      "state": {
       "description_width": ""
      }
     },
     "0525533831b549aaa17945c38aa43168": {
      "model_module": "@jupyter-widgets/controls",
      "model_module_version": "2.0.0",
      "model_name": "HTMLStyleModel",
      "state": {
       "description_width": "",
       "font_size": null,
       "text_color": null
      }
     },
     "0531302fa2964ba4ab217153d25fd92b": {
      "model_module": "@jupyter-widgets/base",
      "model_module_version": "2.0.0",
      "model_name": "LayoutModel",
      "state": {}
     },
     "05d477e580b74fd7a60a80d9145d0731": {
      "model_module": "@jupyter-widgets/base",
      "model_module_version": "2.0.0",
      "model_name": "LayoutModel",
      "state": {
       "visibility": "hidden"
      }
     },
     "05dfdd38198f42f5b2090822efd5b26c": {
      "model_module": "@jupyter-widgets/base",
      "model_module_version": "2.0.0",
      "model_name": "LayoutModel",
      "state": {}
     },
     "05e635d446454a55a7f98ff4b900f94b": {
      "model_module": "@jupyter-widgets/base",
      "model_module_version": "2.0.0",
      "model_name": "LayoutModel",
      "state": {}
     },
     "05ff273afa314fddbe05d439bfd107da": {
      "model_module": "@jupyter-widgets/controls",
      "model_module_version": "2.0.0",
      "model_name": "HTMLStyleModel",
      "state": {
       "description_width": "",
       "font_size": null,
       "text_color": null
      }
     },
     "060c2c5733cb4e17b27039ca1cb7c707": {
      "model_module": "@jupyter-widgets/base",
      "model_module_version": "2.0.0",
      "model_name": "LayoutModel",
      "state": {}
     },
     "06314c3bcbb54ef6b44920330a6f668e": {
      "model_module": "@jupyter-widgets/base",
      "model_module_version": "2.0.0",
      "model_name": "LayoutModel",
      "state": {}
     },
     "06796d0b039343d2977528fb14d09c77": {
      "model_module": "@jupyter-widgets/controls",
      "model_module_version": "2.0.0",
      "model_name": "HTMLModel",
      "state": {
       "layout": "IPY_MODEL_825aadd0259f4dbc80afda3c657403ad",
       "style": "IPY_MODEL_4a79757b1bef44568a144a45a7383c33",
       "value": " 191/191 [00:43&lt;00:00,  5.16it/s]"
      }
     },
     "068f74755ff0460abc1e574c1aa19bba": {
      "model_module": "@jupyter-widgets/base",
      "model_module_version": "2.0.0",
      "model_name": "LayoutModel",
      "state": {}
     },
     "06ebb6eb6c5c401a9dd50262e9cf4d22": {
      "model_module": "@jupyter-widgets/controls",
      "model_module_version": "2.0.0",
      "model_name": "HTMLStyleModel",
      "state": {
       "description_width": "",
       "font_size": null,
       "text_color": null
      }
     },
     "070cdd42eba64c4ba625bdbb42ccefa8": {
      "model_module": "@jupyter-widgets/controls",
      "model_module_version": "2.0.0",
      "model_name": "HTMLStyleModel",
      "state": {
       "description_width": "",
       "font_size": null,
       "text_color": null
      }
     },
     "0742861fa32d4ee8b92f1371bc3ecd76": {
      "model_module": "@jupyter-widgets/base",
      "model_module_version": "2.0.0",
      "model_name": "LayoutModel",
      "state": {}
     },
     "074408f172c94642af5bd5fc2dadcfc4": {
      "model_module": "@jupyter-widgets/controls",
      "model_module_version": "2.0.0",
      "model_name": "HTMLStyleModel",
      "state": {
       "description_width": "",
       "font_size": null,
       "text_color": null
      }
     },
     "076565c8e9a640729c859a32ce5e6303": {
      "model_module": "@jupyter-widgets/controls",
      "model_module_version": "2.0.0",
      "model_name": "HTMLModel",
      "state": {
       "layout": "IPY_MODEL_852c9cf81112415d9222fc298272cf86",
       "style": "IPY_MODEL_96ae2df491994b76a8179d4cb364cf3e",
       "value": "Scoring: 100%"
      }
     },
     "0789724c8ef148749236a85e9c3319fa": {
      "model_module": "@jupyter-widgets/base",
      "model_module_version": "2.0.0",
      "model_name": "LayoutModel",
      "state": {}
     },
     "0858844522e64fa9b3a977a4a7311487": {
      "model_module": "@jupyter-widgets/controls",
      "model_module_version": "2.0.0",
      "model_name": "HTMLStyleModel",
      "state": {
       "description_width": "",
       "font_size": null,
       "text_color": null
      }
     },
     "087da7cf03ea449a965591d6abf2ce5e": {
      "model_module": "@jupyter-widgets/base",
      "model_module_version": "2.0.0",
      "model_name": "LayoutModel",
      "state": {}
     },
     "08fbd5581d754646ba98c441f3eb22e0": {
      "model_module": "@jupyter-widgets/controls",
      "model_module_version": "2.0.0",
      "model_name": "ProgressStyleModel",
      "state": {
       "description_width": ""
      }
     },
     "08fd63f569f04c11b642785ab07515f5": {
      "model_module": "@jupyter-widgets/controls",
      "model_module_version": "2.0.0",
      "model_name": "ProgressStyleModel",
      "state": {
       "description_width": ""
      }
     },
     "094e6af5196a427ca031098723c5144e": {
      "model_module": "@jupyter-widgets/base",
      "model_module_version": "2.0.0",
      "model_name": "LayoutModel",
      "state": {}
     },
     "09810500dba9472ba0bc7d5ba3f9fc4e": {
      "model_module": "@jupyter-widgets/controls",
      "model_module_version": "2.0.0",
      "model_name": "FloatProgressModel",
      "state": {
       "layout": "IPY_MODEL_8e907ed3fd65490996f119dbe1b31503",
       "max": 191,
       "style": "IPY_MODEL_bef940ec719c46c9850d7ed69324b828",
       "value": 191
      }
     },
     "09c15c0f04d849668f6616300997f51d": {
      "model_module": "@jupyter-widgets/controls",
      "model_module_version": "2.0.0",
      "model_name": "HTMLModel",
      "state": {
       "layout": "IPY_MODEL_135bb6bd71cc4ef687b908f926b36d22",
       "style": "IPY_MODEL_4817c65ab4894a3793a3af23b817f507",
       "value": " 190/191 [00:44&lt;00:00,  4.38it/s]"
      }
     },
     "0a6eeb85a24f4d1c8cc1f6aebd2ce3bd": {
      "model_module": "@jupyter-widgets/base",
      "model_module_version": "2.0.0",
      "model_name": "LayoutModel",
      "state": {}
     },
     "0a7b65a9385a4dd08e31efb4a3978ec5": {
      "model_module": "@jupyter-widgets/base",
      "model_module_version": "2.0.0",
      "model_name": "LayoutModel",
      "state": {}
     },
     "0afce299d1784b54802958b3dfc9c819": {
      "model_module": "@jupyter-widgets/base",
      "model_module_version": "2.0.0",
      "model_name": "LayoutModel",
      "state": {}
     },
     "0b51f2013bd04804ad3842c12e5c7114": {
      "model_module": "@jupyter-widgets/base",
      "model_module_version": "2.0.0",
      "model_name": "LayoutModel",
      "state": {}
     },
     "0b530fdf20464682b5132145f78527f5": {
      "model_module": "@jupyter-widgets/controls",
      "model_module_version": "2.0.0",
      "model_name": "FloatProgressModel",
      "state": {
       "layout": "IPY_MODEL_7474c1c360004beaa505a3f16544d451",
       "max": 191,
       "style": "IPY_MODEL_9ba755a0862248289b659f4599d244ee",
       "value": 191
      }
     },
     "0be499f813964cf09d0834f080478b34": {
      "model_module": "@jupyter-widgets/base",
      "model_module_version": "2.0.0",
      "model_name": "LayoutModel",
      "state": {
       "visibility": "hidden"
      }
     },
     "0c040e5c0daf426398d2e3d0edb4eee7": {
      "model_module": "@jupyter-widgets/base",
      "model_module_version": "2.0.0",
      "model_name": "LayoutModel",
      "state": {}
     },
     "0c0b5e08fa09460e87de95d65ff8dd35": {
      "model_module": "@jupyter-widgets/base",
      "model_module_version": "2.0.0",
      "model_name": "LayoutModel",
      "state": {
       "visibility": "hidden"
      }
     },
     "0c0c02598d90465a95a0e7d640dae210": {
      "model_module": "@jupyter-widgets/controls",
      "model_module_version": "2.0.0",
      "model_name": "HTMLModel",
      "state": {
       "layout": "IPY_MODEL_240d4da0ebb94e72a3bea20d914d5695",
       "style": "IPY_MODEL_657206e8e6c442eeae013161cc5cbbe8",
       "value": "Scoring: 100%"
      }
     },
     "0c290b3f452d46a7a02332c54159dcd4": {
      "model_module": "@jupyter-widgets/base",
      "model_module_version": "2.0.0",
      "model_name": "LayoutModel",
      "state": {}
     },
     "0c29f82f6ad04cc3900c14e589e6393b": {
      "model_module": "@jupyter-widgets/controls",
      "model_module_version": "2.0.0",
      "model_name": "HTMLStyleModel",
      "state": {
       "description_width": "",
       "font_size": null,
       "text_color": null
      }
     },
     "0c70eda905c94f359337af85fdaebf29": {
      "model_module": "@jupyter-widgets/controls",
      "model_module_version": "2.0.0",
      "model_name": "ProgressStyleModel",
      "state": {
       "description_width": ""
      }
     },
     "0ce2e5d7a90541818a05690d13298d77": {
      "model_module": "@jupyter-widgets/controls",
      "model_module_version": "2.0.0",
      "model_name": "HTMLModel",
      "state": {
       "layout": "IPY_MODEL_50c9783c453c41659afa05d2a0b9c80b",
       "style": "IPY_MODEL_ce453dd50df243f59f83b7e9e07ff7a2",
       "value": " 48/48 [00:10&lt;00:00,  4.89it/s]"
      }
     },
     "0d0a8d2a218f45d787b63ad38e7edfed": {
      "model_module": "@jupyter-widgets/controls",
      "model_module_version": "2.0.0",
      "model_name": "HTMLStyleModel",
      "state": {
       "description_width": "",
       "font_size": null,
       "text_color": null
      }
     },
     "0d0c98f6382b428da099f940fe58caed": {
      "model_module": "@jupyter-widgets/controls",
      "model_module_version": "2.0.0",
      "model_name": "HTMLStyleModel",
      "state": {
       "description_width": "",
       "font_size": null,
       "text_color": null
      }
     },
     "0d5e093e996041f38f0a9ca70edfb141": {
      "model_module": "@jupyter-widgets/controls",
      "model_module_version": "2.0.0",
      "model_name": "HTMLModel",
      "state": {
       "layout": "IPY_MODEL_54e8f5e379e34689a68bc89ca491a131",
       "style": "IPY_MODEL_bb0dfb8f8b6f46c1863af58c882889c0",
       "value": " 190/191 [00:43&lt;00:00,  4.42it/s]"
      }
     },
     "0d87ee606aa24357915d9cf87adcd5a3": {
      "model_module": "@jupyter-widgets/base",
      "model_module_version": "2.0.0",
      "model_name": "LayoutModel",
      "state": {
       "visibility": "hidden"
      }
     },
     "0dd1d66a9f0f488381fa3ce62da7ebef": {
      "model_module": "@jupyter-widgets/controls",
      "model_module_version": "2.0.0",
      "model_name": "FloatProgressModel",
      "state": {
       "layout": "IPY_MODEL_f1ad48f26a7c4e4fbfb66e6a60c58d83",
       "max": 191,
       "style": "IPY_MODEL_8115185ba8d9492e8e0f9eec453cce6f",
       "value": 191
      }
     },
     "0e7c65fb45d94bde90bf72e3f60693f8": {
      "model_module": "@jupyter-widgets/controls",
      "model_module_version": "2.0.0",
      "model_name": "HTMLModel",
      "state": {
       "layout": "IPY_MODEL_beecb6eb9619432585c48ba3a3060b9b",
       "style": "IPY_MODEL_3ba2244b2cf94b8ca3e04a601af8c141",
       "value": "100%"
      }
     },
     "0ebb5d348d7d4882865344eb158bc7bb": {
      "model_module": "@jupyter-widgets/base",
      "model_module_version": "2.0.0",
      "model_name": "LayoutModel",
      "state": {}
     },
     "0f05364b82c6460382d8b09a79fc7ae4": {
      "model_module": "@jupyter-widgets/base",
      "model_module_version": "2.0.0",
      "model_name": "LayoutModel",
      "state": {}
     },
     "0f061316c5bc43b191c7a1efa0789eb5": {
      "model_module": "@jupyter-widgets/controls",
      "model_module_version": "2.0.0",
      "model_name": "HTMLStyleModel",
      "state": {
       "description_width": "",
       "font_size": null,
       "text_color": null
      }
     },
     "0f1cea7a03bd449b9a2c5bc6424b2024": {
      "model_module": "@jupyter-widgets/base",
      "model_module_version": "2.0.0",
      "model_name": "LayoutModel",
      "state": {}
     },
     "0fcb6f6eb4594c16bc6c75a8e44a296e": {
      "model_module": "@jupyter-widgets/controls",
      "model_module_version": "2.0.0",
      "model_name": "FloatProgressModel",
      "state": {
       "layout": "IPY_MODEL_d1d49b5ccebf4c95b8f3de42c7c0315b",
       "max": 48,
       "style": "IPY_MODEL_9ec6438235cc4be7889905a2ce6b8fc8",
       "value": 48
      }
     },
     "112d035de8c34250a0686fbd9c53f614": {
      "model_module": "@jupyter-widgets/controls",
      "model_module_version": "2.0.0",
      "model_name": "FloatProgressModel",
      "state": {
       "layout": "IPY_MODEL_ae5ddec076324e3689da6cca30ef020a",
       "max": 48,
       "style": "IPY_MODEL_70b8ad492e254366a9d7de329d7c9f45",
       "value": 48
      }
     },
     "11ec386d283d4612bddc40e48b6d6144": {
      "model_module": "@jupyter-widgets/base",
      "model_module_version": "2.0.0",
      "model_name": "LayoutModel",
      "state": {
       "visibility": "hidden"
      }
     },
     "120076b6d2374728b394df55b1092427": {
      "model_module": "@jupyter-widgets/base",
      "model_module_version": "2.0.0",
      "model_name": "LayoutModel",
      "state": {
       "visibility": "hidden"
      }
     },
     "1256e1f2d3694f9190d96431a4fc7ede": {
      "model_module": "@jupyter-widgets/controls",
      "model_module_version": "2.0.0",
      "model_name": "HTMLStyleModel",
      "state": {
       "description_width": "",
       "font_size": null,
       "text_color": null
      }
     },
     "12a5d775fd5f4126bfa63eda3a8a552a": {
      "model_module": "@jupyter-widgets/controls",
      "model_module_version": "2.0.0",
      "model_name": "ProgressStyleModel",
      "state": {
       "description_width": ""
      }
     },
     "12eedd34c436464da1393150a05b5a02": {
      "model_module": "@jupyter-widgets/base",
      "model_module_version": "2.0.0",
      "model_name": "LayoutModel",
      "state": {}
     },
     "1321b16344174626b5784e3573b0b185": {
      "model_module": "@jupyter-widgets/base",
      "model_module_version": "2.0.0",
      "model_name": "LayoutModel",
      "state": {}
     },
     "134421303ea744b28b02431e05a3bb7d": {
      "model_module": "@jupyter-widgets/controls",
      "model_module_version": "2.0.0",
      "model_name": "HTMLStyleModel",
      "state": {
       "description_width": "",
       "font_size": null,
       "text_color": null
      }
     },
     "134b64eca96240d99d0539acff491e6b": {
      "model_module": "@jupyter-widgets/controls",
      "model_module_version": "2.0.0",
      "model_name": "ProgressStyleModel",
      "state": {
       "description_width": ""
      }
     },
     "134ea8f9057948babfff8c256becefc6": {
      "model_module": "@jupyter-widgets/controls",
      "model_module_version": "2.0.0",
      "model_name": "HTMLModel",
      "state": {
       "layout": "IPY_MODEL_9a60e41c4ec140f98d5de02db4fac72a",
       "style": "IPY_MODEL_2dc7ab03dfc14ba398b86bc84c0a62f8",
       "value": "Scoring: 100%"
      }
     },
     "135bb6bd71cc4ef687b908f926b36d22": {
      "model_module": "@jupyter-widgets/base",
      "model_module_version": "2.0.0",
      "model_name": "LayoutModel",
      "state": {}
     },
     "13ec329f144c476eb450d10296f72346": {
      "model_module": "@jupyter-widgets/controls",
      "model_module_version": "2.0.0",
      "model_name": "HTMLStyleModel",
      "state": {
       "description_width": "",
       "font_size": null,
       "text_color": null
      }
     },
     "141aa6a89aae4d119f8640c31cca16e5": {
      "model_module": "@jupyter-widgets/controls",
      "model_module_version": "2.0.0",
      "model_name": "HTMLStyleModel",
      "state": {
       "description_width": "",
       "font_size": null,
       "text_color": null
      }
     },
     "14bf3d02365b44e88c7af92fc37eca28": {
      "model_module": "@jupyter-widgets/controls",
      "model_module_version": "2.0.0",
      "model_name": "HTMLStyleModel",
      "state": {
       "description_width": "",
       "font_size": null,
       "text_color": null
      }
     },
     "156df50c92d34d5face24ab2a2acdb40": {
      "model_module": "@jupyter-widgets/base",
      "model_module_version": "2.0.0",
      "model_name": "LayoutModel",
      "state": {}
     },
     "16043b877c0d43e68bd89a894ca9a215": {
      "model_module": "@jupyter-widgets/controls",
      "model_module_version": "2.0.0",
      "model_name": "HTMLModel",
      "state": {
       "layout": "IPY_MODEL_f1be366d6ea44749b068f7eeab72e382",
       "style": "IPY_MODEL_2f9fe9227a1c4831a7135dc1ed12f2c7",
       "value": " 6092/6092 [00:39&lt;00:00, 156.09it/s]"
      }
     },
     "16cfee0948a748b6b5c9eb70d108ecaa": {
      "model_module": "@jupyter-widgets/base",
      "model_module_version": "2.0.0",
      "model_name": "LayoutModel",
      "state": {}
     },
     "16df4b28f0104f1fb0d40aaca2bfed83": {
      "model_module": "@jupyter-widgets/base",
      "model_module_version": "2.0.0",
      "model_name": "LayoutModel",
      "state": {}
     },
     "16f074cc12144dee8e217450983254e3": {
      "model_module": "@jupyter-widgets/controls",
      "model_module_version": "2.0.0",
      "model_name": "HTMLStyleModel",
      "state": {
       "description_width": "",
       "font_size": null,
       "text_color": null
      }
     },
     "17ad66b92cb24c4ea140f7b574b670f4": {
      "model_module": "@jupyter-widgets/controls",
      "model_module_version": "2.0.0",
      "model_name": "HTMLModel",
      "state": {
       "layout": "IPY_MODEL_3571ad8dce504baaa9a618e1fad3ae95",
       "style": "IPY_MODEL_6c330daf745d4b9094cdb541b5eef169",
       "value": "Scoring: 100%"
      }
     },
     "17d2a7db2e3042bd8e14dcad45dcc243": {
      "model_module": "@jupyter-widgets/controls",
      "model_module_version": "2.0.0",
      "model_name": "HTMLStyleModel",
      "state": {
       "description_width": "",
       "font_size": null,
       "text_color": null
      }
     },
     "17e407b9d0c54cf2b9858210d9941a69": {
      "model_module": "@jupyter-widgets/base",
      "model_module_version": "2.0.0",
      "model_name": "LayoutModel",
      "state": {}
     },
     "19e3d8a369464285a575863407d293e3": {
      "model_module": "@jupyter-widgets/controls",
      "model_module_version": "2.0.0",
      "model_name": "HTMLModel",
      "state": {
       "layout": "IPY_MODEL_9e4387d0dd1e40ac94c621fbfb4426df",
       "style": "IPY_MODEL_a431f75c7682412c880eca417a4f5b3d",
       "value": "Training: 100%"
      }
     },
     "1a2c675be8774b40a3098c42716a0fd4": {
      "model_module": "@jupyter-widgets/base",
      "model_module_version": "2.0.0",
      "model_name": "LayoutModel",
      "state": {}
     },
     "1a36ced25ca142839cada35d6d6502e3": {
      "model_module": "@jupyter-widgets/base",
      "model_module_version": "2.0.0",
      "model_name": "LayoutModel",
      "state": {
       "visibility": "hidden"
      }
     },
     "1a9f44d2ca364bd7be5633938cdb0482": {
      "model_module": "@jupyter-widgets/controls",
      "model_module_version": "2.0.0",
      "model_name": "HTMLStyleModel",
      "state": {
       "description_width": "",
       "font_size": null,
       "text_color": null
      }
     },
     "1aee4843e8ad448a8b7da92390b1aafb": {
      "model_module": "@jupyter-widgets/controls",
      "model_module_version": "2.0.0",
      "model_name": "HTMLModel",
      "state": {
       "layout": "IPY_MODEL_e303fd803aeb40f3a200e0c49c767bfb",
       "style": "IPY_MODEL_fc3f3278afb4433ba7c8fd7c68257ecc",
       "value": "Training: 100%"
      }
     },
     "1b1a72dfeec943fdbb848b84e9b42d87": {
      "model_module": "@jupyter-widgets/base",
      "model_module_version": "2.0.0",
      "model_name": "LayoutModel",
      "state": {}
     },
     "1b25926ebfaf48e5bc16cac67fa1482b": {
      "model_module": "@jupyter-widgets/base",
      "model_module_version": "2.0.0",
      "model_name": "LayoutModel",
      "state": {}
     },
     "1b3196b3dcb94872b9180391d181aba2": {
      "model_module": "@jupyter-widgets/controls",
      "model_module_version": "2.0.0",
      "model_name": "FloatProgressModel",
      "state": {
       "layout": "IPY_MODEL_60be9c919d444bbdb446aa244b1a7aa5",
       "max": 191,
       "style": "IPY_MODEL_d31d9e10bf664e54ab5fe5c4ba1125ce",
       "value": 191
      }
     },
     "1bee9441b3a842dbb1bbb1468dc230dc": {
      "model_module": "@jupyter-widgets/base",
      "model_module_version": "2.0.0",
      "model_name": "LayoutModel",
      "state": {}
     },
     "1cbed2de4d134a92a48581a084eedbe9": {
      "model_module": "@jupyter-widgets/controls",
      "model_module_version": "2.0.0",
      "model_name": "HTMLStyleModel",
      "state": {
       "description_width": "",
       "font_size": null,
       "text_color": null
      }
     },
     "1cf750a261bc4f048e6afb72d9252b52": {
      "model_module": "@jupyter-widgets/controls",
      "model_module_version": "2.0.0",
      "model_name": "HTMLStyleModel",
      "state": {
       "description_width": "",
       "font_size": null,
       "text_color": null
      }
     },
     "1d47a6fd0e0e4e79b6d0db156ad7be9b": {
      "model_module": "@jupyter-widgets/base",
      "model_module_version": "2.0.0",
      "model_name": "LayoutModel",
      "state": {
       "visibility": "hidden"
      }
     },
     "1d5543db2d7843429082b4bfc646511d": {
      "model_module": "@jupyter-widgets/controls",
      "model_module_version": "2.0.0",
      "model_name": "HTMLModel",
      "state": {
       "layout": "IPY_MODEL_c80585815ce6494da9abb8326220d033",
       "style": "IPY_MODEL_141aa6a89aae4d119f8640c31cca16e5",
       "value": " 191/191 [00:49&lt;00:00,  4.79it/s]"
      }
     },
     "1df38a6be25841e79c02207f939fd53f": {
      "model_module": "@jupyter-widgets/controls",
      "model_module_version": "2.0.0",
      "model_name": "ProgressStyleModel",
      "state": {
       "description_width": ""
      }
     },
     "1df625d9cb39444ba6e7c255186a17e3": {
      "model_module": "@jupyter-widgets/base",
      "model_module_version": "2.0.0",
      "model_name": "LayoutModel",
      "state": {
       "visibility": "hidden"
      }
     },
     "1e097becb2f84b4a83ff357b04dfb1d6": {
      "model_module": "@jupyter-widgets/base",
      "model_module_version": "2.0.0",
      "model_name": "LayoutModel",
      "state": {
       "visibility": "hidden"
      }
     },
     "1e31f320f5c44fa3b849aa21bbfbb5c4": {
      "model_module": "@jupyter-widgets/base",
      "model_module_version": "2.0.0",
      "model_name": "LayoutModel",
      "state": {}
     },
     "1e6eb542383d4e098e8be19c3e839a46": {
      "model_module": "@jupyter-widgets/base",
      "model_module_version": "2.0.0",
      "model_name": "LayoutModel",
      "state": {
       "visibility": "hidden"
      }
     },
     "1e79b610398e4e87bb65ecca4fbaa263": {
      "model_module": "@jupyter-widgets/controls",
      "model_module_version": "2.0.0",
      "model_name": "ProgressStyleModel",
      "state": {
       "description_width": ""
      }
     },
     "1eba76b9c48c426f93ae90cecb480119": {
      "model_module": "@jupyter-widgets/controls",
      "model_module_version": "2.0.0",
      "model_name": "ProgressStyleModel",
      "state": {
       "description_width": ""
      }
     },
     "1f3fa00b11434c989c7830d5b391749e": {
      "model_module": "@jupyter-widgets/base",
      "model_module_version": "2.0.0",
      "model_name": "LayoutModel",
      "state": {}
     },
     "1f5b71b0d1764282948f9d2b1fe5916b": {
      "model_module": "@jupyter-widgets/base",
      "model_module_version": "2.0.0",
      "model_name": "LayoutModel",
      "state": {}
     },
     "1f5cd8d1f5a34db99c10d0db6b03ffd4": {
      "model_module": "@jupyter-widgets/controls",
      "model_module_version": "2.0.0",
      "model_name": "HTMLStyleModel",
      "state": {
       "description_width": "",
       "font_size": null,
       "text_color": null
      }
     },
     "1fa314528d884a02a3de8443704cd035": {
      "model_module": "@jupyter-widgets/base",
      "model_module_version": "2.0.0",
      "model_name": "LayoutModel",
      "state": {}
     },
     "1fd714516fd040f380c67e0d3085a476": {
      "model_module": "@jupyter-widgets/base",
      "model_module_version": "2.0.0",
      "model_name": "LayoutModel",
      "state": {}
     },
     "2020b94496684a7ca3dbc46b51aa803d": {
      "model_module": "@jupyter-widgets/base",
      "model_module_version": "2.0.0",
      "model_name": "LayoutModel",
      "state": {}
     },
     "20628a5aab9e49359bdd093f7f00e09d": {
      "model_module": "@jupyter-widgets/controls",
      "model_module_version": "2.0.0",
      "model_name": "ProgressStyleModel",
      "state": {
       "description_width": ""
      }
     },
     "209ef6e2f1304e7b876bc726b2d0ec0a": {
      "model_module": "@jupyter-widgets/controls",
      "model_module_version": "2.0.0",
      "model_name": "HTMLStyleModel",
      "state": {
       "description_width": "",
       "font_size": null,
       "text_color": null
      }
     },
     "20f6976f158142da8f067d481e8bdd5d": {
      "model_module": "@jupyter-widgets/controls",
      "model_module_version": "2.0.0",
      "model_name": "HTMLStyleModel",
      "state": {
       "description_width": "",
       "font_size": null,
       "text_color": null
      }
     },
     "20fa01d5be404fdf83dd93f43afce727": {
      "model_module": "@jupyter-widgets/controls",
      "model_module_version": "2.0.0",
      "model_name": "HTMLModel",
      "state": {
       "layout": "IPY_MODEL_1f5b71b0d1764282948f9d2b1fe5916b",
       "style": "IPY_MODEL_e92fbc802ab443ac83c6d1ae74e75371",
       "value": "100%"
      }
     },
     "21096c1adfb14d75ac7634df493c6b71": {
      "model_module": "@jupyter-widgets/controls",
      "model_module_version": "2.0.0",
      "model_name": "HTMLModel",
      "state": {
       "layout": "IPY_MODEL_26bff0aef2134c84a3f13e2d1636f6e8",
       "style": "IPY_MODEL_ed577141ce7e45ff84da3a21daf5ceda",
       "value": "Scoring:  99%"
      }
     },
     "212abb423e6c4e9d94ec0d016a25b8e6": {
      "model_module": "@jupyter-widgets/base",
      "model_module_version": "2.0.0",
      "model_name": "LayoutModel",
      "state": {}
     },
     "216f3843ebd84ee6855c6daca635c842": {
      "model_module": "@jupyter-widgets/controls",
      "model_module_version": "2.0.0",
      "model_name": "HTMLModel",
      "state": {
       "layout": "IPY_MODEL_e4976db040b4459597064c6e63d74943",
       "style": "IPY_MODEL_e86b8a126df94d7f9e1fddb5176a1070",
       "value": "Scoring: 100%"
      }
     },
     "217b0d2ffc774525930df1bed9eb943f": {
      "model_module": "@jupyter-widgets/controls",
      "model_module_version": "2.0.0",
      "model_name": "HTMLModel",
      "state": {
       "layout": "IPY_MODEL_6e7a728630a5438f9bed657480b4147b",
       "style": "IPY_MODEL_cb316e7de8a6494c9578b46279712cb9",
       "value": "Scoring:  99%"
      }
     },
     "219c3ee1d1504c81b614281ea98971af": {
      "model_module": "@jupyter-widgets/controls",
      "model_module_version": "2.0.0",
      "model_name": "HTMLStyleModel",
      "state": {
       "description_width": "",
       "font_size": null,
       "text_color": null
      }
     },
     "21c7215098f1470ba524747d19e99016": {
      "model_module": "@jupyter-widgets/controls",
      "model_module_version": "2.0.0",
      "model_name": "HTMLStyleModel",
      "state": {
       "description_width": "",
       "font_size": null,
       "text_color": null
      }
     },
     "2216d9f6ed57461bbd800c1b034fb4de": {
      "model_module": "@jupyter-widgets/controls",
      "model_module_version": "2.0.0",
      "model_name": "HTMLStyleModel",
      "state": {
       "description_width": "",
       "font_size": null,
       "text_color": null
      }
     },
     "2303b2b312c9449c92eedee71db54a69": {
      "model_module": "@jupyter-widgets/controls",
      "model_module_version": "2.0.0",
      "model_name": "HTMLModel",
      "state": {
       "layout": "IPY_MODEL_e0ebdab0890348a980e4ae39d4d37a24",
       "style": "IPY_MODEL_05ff273afa314fddbe05d439bfd107da",
       "value": " 190/191 [00:44&lt;00:00,  4.25it/s]"
      }
     },
     "233e73b2b12a4f638cceb7f282678a3b": {
      "model_module": "@jupyter-widgets/controls",
      "model_module_version": "2.0.0",
      "model_name": "FloatProgressModel",
      "state": {
       "layout": "IPY_MODEL_366ceb94e5ba4b5b81d7d2935fbee7d5",
       "max": 191,
       "style": "IPY_MODEL_8b52272a50664f3ab568d8ced628e9b6",
       "value": 191
      }
     },
     "2380a35ddcfb4bfe98cca34cb08ee8d9": {
      "model_module": "@jupyter-widgets/controls",
      "model_module_version": "2.0.0",
      "model_name": "HTMLModel",
      "state": {
       "layout": "IPY_MODEL_a1ac440e9e0f46d98cc514ce8543997b",
       "style": "IPY_MODEL_8fe3a555859942d98e916b8b20a49bcf",
       "value": "Scoring:  99%"
      }
     },
     "23f0ba1ac29f41fca532676a5fd69897": {
      "model_module": "@jupyter-widgets/base",
      "model_module_version": "2.0.0",
      "model_name": "LayoutModel",
      "state": {}
     },
     "240d4da0ebb94e72a3bea20d914d5695": {
      "model_module": "@jupyter-widgets/base",
      "model_module_version": "2.0.0",
      "model_name": "LayoutModel",
      "state": {}
     },
     "247ae3a1e2f14f3ab5e4d8b6f807f020": {
      "model_module": "@jupyter-widgets/controls",
      "model_module_version": "2.0.0",
      "model_name": "ProgressStyleModel",
      "state": {
       "description_width": ""
      }
     },
     "24fcef718f704fb7bd751fdaa21f6a80": {
      "model_module": "@jupyter-widgets/controls",
      "model_module_version": "2.0.0",
      "model_name": "HTMLModel",
      "state": {
       "layout": "IPY_MODEL_b7eb6237fc0b4a8a9a338d0dbf40bd6c",
       "style": "IPY_MODEL_1a9f44d2ca364bd7be5633938cdb0482",
       "value": "Scoring: 100%"
      }
     },
     "25b55cb6a89b40e1adcfec7b1ad60496": {
      "model_module": "@jupyter-widgets/base",
      "model_module_version": "2.0.0",
      "model_name": "LayoutModel",
      "state": {}
     },
     "25ce4685132f4531a57a112c3bb03fd9": {
      "model_module": "@jupyter-widgets/controls",
      "model_module_version": "2.0.0",
      "model_name": "HTMLModel",
      "state": {
       "layout": "IPY_MODEL_598f05de04d042059a8048d3364f9bb5",
       "style": "IPY_MODEL_8c43b87f16694e688439ad1169f65b4f",
       "value": " 191/191 [00:49&lt;00:00,  4.73it/s]"
      }
     },
     "26673b615fdb4e97b4c27388d50c7a4d": {
      "model_module": "@jupyter-widgets/base",
      "model_module_version": "2.0.0",
      "model_name": "LayoutModel",
      "state": {}
     },
     "26bff0aef2134c84a3f13e2d1636f6e8": {
      "model_module": "@jupyter-widgets/base",
      "model_module_version": "2.0.0",
      "model_name": "LayoutModel",
      "state": {}
     },
     "2706f1499f5d4c34a4d0e728473ef253": {
      "model_module": "@jupyter-widgets/controls",
      "model_module_version": "2.0.0",
      "model_name": "HTMLStyleModel",
      "state": {
       "description_width": "",
       "font_size": null,
       "text_color": null
      }
     },
     "272417329b1341abb4a6ed76116840da": {
      "model_module": "@jupyter-widgets/controls",
      "model_module_version": "2.0.0",
      "model_name": "ProgressStyleModel",
      "state": {
       "description_width": ""
      }
     },
     "276dd8dc711d4d76a9a3648ea2b646ff": {
      "model_module": "@jupyter-widgets/base",
      "model_module_version": "2.0.0",
      "model_name": "LayoutModel",
      "state": {
       "visibility": "hidden"
      }
     },
     "27ccd3dca84a4d8ea879f9445a77a61c": {
      "model_module": "@jupyter-widgets/base",
      "model_module_version": "2.0.0",
      "model_name": "LayoutModel",
      "state": {}
     },
     "28de6d4eb11044bd9e1f53711d6e8664": {
      "model_module": "@jupyter-widgets/controls",
      "model_module_version": "2.0.0",
      "model_name": "HTMLModel",
      "state": {
       "layout": "IPY_MODEL_bb2a7a0d96f045d785e1720938fdba8d",
       "style": "IPY_MODEL_6e5b144bfe7f466d9e9c74fede5bc24d",
       "value": " 1523/1523 [00:09&lt;00:00, 160.76it/s]"
      }
     },
     "29f380e3d7954428a9bc161eae3b89c6": {
      "model_module": "@jupyter-widgets/base",
      "model_module_version": "2.0.0",
      "model_name": "LayoutModel",
      "state": {}
     },
     "2a1ff1916ba3485ba2cf7024895f7381": {
      "model_module": "@jupyter-widgets/controls",
      "model_module_version": "2.0.0",
      "model_name": "HTMLModel",
      "state": {
       "layout": "IPY_MODEL_1e31f320f5c44fa3b849aa21bbfbb5c4",
       "style": "IPY_MODEL_34711a65ddbe47ae939d185cce6e2c34",
       "value": " 190/191 [00:44&lt;00:00,  4.21it/s]"
      }
     },
     "2a5c917848744b459395105a6ce7c2d2": {
      "model_module": "@jupyter-widgets/base",
      "model_module_version": "2.0.0",
      "model_name": "LayoutModel",
      "state": {}
     },
     "2aa3715d77014a10b63282af0962351f": {
      "model_module": "@jupyter-widgets/base",
      "model_module_version": "2.0.0",
      "model_name": "LayoutModel",
      "state": {}
     },
     "2ab175a95756461eb50b4349ac558563": {
      "model_module": "@jupyter-widgets/controls",
      "model_module_version": "2.0.0",
      "model_name": "FloatProgressModel",
      "state": {
       "layout": "IPY_MODEL_0afce299d1784b54802958b3dfc9c819",
       "max": 48,
       "style": "IPY_MODEL_3b18b2ccb6a14f4e87ef6c03255aee43",
       "value": 48
      }
     },
     "2afddd86f9414587a21bcbee79d57778": {
      "model_module": "@jupyter-widgets/controls",
      "model_module_version": "2.0.0",
      "model_name": "HTMLStyleModel",
      "state": {
       "description_width": "",
       "font_size": null,
       "text_color": null
      }
     },
     "2b58bfab0a9e4b359659fdca8f4e7063": {
      "model_module": "@jupyter-widgets/controls",
      "model_module_version": "2.0.0",
      "model_name": "HTMLModel",
      "state": {
       "layout": "IPY_MODEL_ca1bcfb65e1f4a02995b0a8ab1686e2d",
       "style": "IPY_MODEL_4221a8e2187745dabf59ee2e8c9a809e",
       "value": " 190/191 [00:45&lt;00:00,  4.35it/s]"
      }
     },
     "2b8b7477c2db43a9b8276d66cb288bee": {
      "model_module": "@jupyter-widgets/base",
      "model_module_version": "2.0.0",
      "model_name": "LayoutModel",
      "state": {}
     },
     "2bacb71ef827407394f53a3266e251eb": {
      "model_module": "@jupyter-widgets/controls",
      "model_module_version": "2.0.0",
      "model_name": "ProgressStyleModel",
      "state": {
       "description_width": ""
      }
     },
     "2c0c127ec007459aaa1bbd304ef485a1": {
      "model_module": "@jupyter-widgets/controls",
      "model_module_version": "2.0.0",
      "model_name": "ProgressStyleModel",
      "state": {
       "description_width": ""
      }
     },
     "2c262dd2f08c42b78c3266f99139ebb3": {
      "model_module": "@jupyter-widgets/controls",
      "model_module_version": "2.0.0",
      "model_name": "FloatProgressModel",
      "state": {
       "layout": "IPY_MODEL_49900caa231c4cb3ad96fa5733bac2a7",
       "max": 191,
       "style": "IPY_MODEL_cbff4f8f899d4080abd424b9d124d9fb",
       "value": 191
      }
     },
     "2cd483fa7b5c49c98713165c42b3d9fc": {
      "model_module": "@jupyter-widgets/base",
      "model_module_version": "2.0.0",
      "model_name": "LayoutModel",
      "state": {}
     },
     "2d088dbb9dec45279fd98fe47c82ba69": {
      "model_module": "@jupyter-widgets/controls",
      "model_module_version": "2.0.0",
      "model_name": "HTMLModel",
      "state": {
       "layout": "IPY_MODEL_bf9df1b803f54fe6b8ba728adf57cb0a",
       "style": "IPY_MODEL_b5f8faaec6a94342ab8ae1edcdd68ab4",
       "value": " 191/191 [00:50&lt;00:00,  4.65it/s]"
      }
     },
     "2d1ab4e7036342f8bda603d9b48ce231": {
      "model_module": "@jupyter-widgets/base",
      "model_module_version": "2.0.0",
      "model_name": "LayoutModel",
      "state": {}
     },
     "2d3c2473ef444e45af8796e90beedc59": {
      "model_module": "@jupyter-widgets/base",
      "model_module_version": "2.0.0",
      "model_name": "LayoutModel",
      "state": {
       "visibility": "hidden"
      }
     },
     "2d9996b174554a71935a5bdfb86103c7": {
      "model_module": "@jupyter-widgets/base",
      "model_module_version": "2.0.0",
      "model_name": "LayoutModel",
      "state": {}
     },
     "2dc7ab03dfc14ba398b86bc84c0a62f8": {
      "model_module": "@jupyter-widgets/controls",
      "model_module_version": "2.0.0",
      "model_name": "HTMLStyleModel",
      "state": {
       "description_width": "",
       "font_size": null,
       "text_color": null
      }
     },
     "2df11f6fdf3c4b3599ec6229955acfee": {
      "model_module": "@jupyter-widgets/base",
      "model_module_version": "2.0.0",
      "model_name": "LayoutModel",
      "state": {}
     },
     "2e1a91985cfa457b90268b288ecf1497": {
      "model_module": "@jupyter-widgets/base",
      "model_module_version": "2.0.0",
      "model_name": "LayoutModel",
      "state": {}
     },
     "2e51cfd1f2994afd9c52eaaf08e947f4": {
      "model_module": "@jupyter-widgets/controls",
      "model_module_version": "2.0.0",
      "model_name": "HTMLModel",
      "state": {
       "layout": "IPY_MODEL_726d01dc47c64f38951d6550f95be2c9",
       "style": "IPY_MODEL_613cd9dce1c24bb6894a7b629e51d145",
       "value": "Scoring:  99%"
      }
     },
     "2ed7286bbdb24c50856c15f963093154": {
      "model_module": "@jupyter-widgets/controls",
      "model_module_version": "2.0.0",
      "model_name": "HTMLModel",
      "state": {
       "layout": "IPY_MODEL_c33a3150abc0452896d646334715c6e7",
       "style": "IPY_MODEL_e35b05d4fcdf4cbaa039fff006a19a3a",
       "value": " 48/48 [00:11&lt;00:00,  4.90it/s]"
      }
     },
     "2f9fe9227a1c4831a7135dc1ed12f2c7": {
      "model_module": "@jupyter-widgets/controls",
      "model_module_version": "2.0.0",
      "model_name": "HTMLStyleModel",
      "state": {
       "description_width": "",
       "font_size": null,
       "text_color": null
      }
     },
     "2fa97ccca4624d58aea8d89b27893d08": {
      "model_module": "@jupyter-widgets/controls",
      "model_module_version": "2.0.0",
      "model_name": "HTMLModel",
      "state": {
       "layout": "IPY_MODEL_42a8d6d7437b4b6eba8347e38751d12f",
       "style": "IPY_MODEL_f86363f1f64d4778b6f6d9618bc505f2",
       "value": " 190/191 [00:43&lt;00:00,  4.30it/s]"
      }
     },
     "2fd5d00bc14943c495e9085af75c67cc": {
      "model_module": "@jupyter-widgets/controls",
      "model_module_version": "2.0.0",
      "model_name": "ProgressStyleModel",
      "state": {
       "description_width": ""
      }
     },
     "2fdd50cdf3f04df58a6915c155f51981": {
      "model_module": "@jupyter-widgets/controls",
      "model_module_version": "2.0.0",
      "model_name": "ProgressStyleModel",
      "state": {
       "description_width": ""
      }
     },
     "30122150ac5745c5868c97d04af3dfca": {
      "model_module": "@jupyter-widgets/base",
      "model_module_version": "2.0.0",
      "model_name": "LayoutModel",
      "state": {}
     },
     "3084421fb5d744a7bd4b1b13f7980e85": {
      "model_module": "@jupyter-widgets/controls",
      "model_module_version": "2.0.0",
      "model_name": "HTMLModel",
      "state": {
       "layout": "IPY_MODEL_9911733e9893442c95babfa2ee1b8ad5",
       "style": "IPY_MODEL_6c9e10eebf254f0d97dd3c3445bce15b",
       "value": "Training: 100%"
      }
     },
     "30e0c8260f914d6aa50ff4667b925b2a": {
      "model_module": "@jupyter-widgets/controls",
      "model_module_version": "2.0.0",
      "model_name": "FloatProgressModel",
      "state": {
       "layout": "IPY_MODEL_4151df44fd2048448bd53b8880e0e4ba",
       "max": 48,
       "style": "IPY_MODEL_d0053c49e5dc436aaff40ad50aaa7544",
       "value": 48
      }
     },
     "310718dfa29448e1ab787d881e3addd8": {
      "model_module": "@jupyter-widgets/controls",
      "model_module_version": "2.0.0",
      "model_name": "HTMLModel",
      "state": {
       "layout": "IPY_MODEL_36d8e3050969444aa87f50049a1a852b",
       "style": "IPY_MODEL_bc7452b718814eb587d42fed396860c0",
       "value": "Scoring: 100%"
      }
     },
     "315239b4adbb41f5a9dd91cbd8d78a92": {
      "model_module": "@jupyter-widgets/controls",
      "model_module_version": "2.0.0",
      "model_name": "HTMLModel",
      "state": {
       "layout": "IPY_MODEL_dbc7801c6ba444bbb6ee8bf12b90853c",
       "style": "IPY_MODEL_364d288869114078b3c77023038609bf",
       "value": "Scoring:  99%"
      }
     },
     "31e6dcfc14aa4892ba949fe94388762e": {
      "model_module": "@jupyter-widgets/controls",
      "model_module_version": "2.0.0",
      "model_name": "FloatProgressModel",
      "state": {
       "layout": "IPY_MODEL_ab8af739f8594c089b011971aad44379",
       "max": 191,
       "style": "IPY_MODEL_d7f90e198f1946e3a25195436a229761",
       "value": 191
      }
     },
     "32062a36efb0477bb5ef34c8f0ccf09f": {
      "model_module": "@jupyter-widgets/controls",
      "model_module_version": "2.0.0",
      "model_name": "HBoxModel",
      "state": {
       "children": [
        "IPY_MODEL_b4360e151f844c43bf8d532e384b9f48",
        "IPY_MODEL_e481774a4d524191a12215e3165d8e89",
        "IPY_MODEL_16043b877c0d43e68bd89a894ca9a215"
       ],
       "layout": "IPY_MODEL_b314fb0990a74e8895cb84a9a4192de1"
      }
     },
     "321dd7d2674b48899ea3706bb5e1593b": {
      "model_module": "@jupyter-widgets/controls",
      "model_module_version": "2.0.0",
      "model_name": "FloatProgressModel",
      "state": {
       "layout": "IPY_MODEL_4e6061d112644162bca00eb4a754d2e2",
       "max": 48,
       "style": "IPY_MODEL_bb97565e90174e1484420010f1e56c69",
       "value": 48
      }
     },
     "32509c1af6fc46c6ac25535b8c610be6": {
      "model_module": "@jupyter-widgets/base",
      "model_module_version": "2.0.0",
      "model_name": "LayoutModel",
      "state": {}
     },
     "326dc609eeb14e16b435c49963c39165": {
      "model_module": "@jupyter-widgets/controls",
      "model_module_version": "2.0.0",
      "model_name": "FloatProgressModel",
      "state": {
       "layout": "IPY_MODEL_535c07968e9d4c8e807a08273adc3f78",
       "max": 191,
       "style": "IPY_MODEL_b59f9b6d0c4c4af8b4bdaba47a220662",
       "value": 191
      }
     },
     "326efe69d9ac4f71a332852855df6c67": {
      "model_module": "@jupyter-widgets/controls",
      "model_module_version": "2.0.0",
      "model_name": "HTMLModel",
      "state": {
       "layout": "IPY_MODEL_d718ccf5fabb43c09bdb6545148ddc0b",
       "style": "IPY_MODEL_7211d678aead4cc8a51fb1734ea693b8",
       "value": " 48/48 [00:11&lt;00:00,  4.87it/s]"
      }
     },
     "333941f4eec24bb1924b48e1dc49a93d": {
      "model_module": "@jupyter-widgets/controls",
      "model_module_version": "2.0.0",
      "model_name": "FloatProgressModel",
      "state": {
       "layout": "IPY_MODEL_087da7cf03ea449a965591d6abf2ce5e",
       "max": 191,
       "style": "IPY_MODEL_f6beea4fe5a5488792b29f88db727478",
       "value": 191
      }
     },
     "33678beb348c46378e6df982be354cb9": {
      "model_module": "@jupyter-widgets/base",
      "model_module_version": "2.0.0",
      "model_name": "LayoutModel",
      "state": {
       "visibility": "hidden"
      }
     },
     "33c4abcf381a4e1a8b27671fb9fedafc": {
      "model_module": "@jupyter-widgets/controls",
      "model_module_version": "2.0.0",
      "model_name": "HTMLModel",
      "state": {
       "layout": "IPY_MODEL_3b888a91dd8e4c329eecbf8142dd306a",
       "style": "IPY_MODEL_02be3892132b4f91a214b179bb9fe95f",
       "value": "Scoring: 100%"
      }
     },
     "341f856de402424dbeac30094bfa705f": {
      "model_module": "@jupyter-widgets/base",
      "model_module_version": "2.0.0",
      "model_name": "LayoutModel",
      "state": {}
     },
     "342998204fc14f4e8cabcb749813deb7": {
      "model_module": "@jupyter-widgets/base",
      "model_module_version": "2.0.0",
      "model_name": "LayoutModel",
      "state": {}
     },
     "343abbb45906442c8a922326a90ca7d4": {
      "model_module": "@jupyter-widgets/base",
      "model_module_version": "2.0.0",
      "model_name": "LayoutModel",
      "state": {}
     },
     "34492dc5ba324c5d81870b8502202cee": {
      "model_module": "@jupyter-widgets/controls",
      "model_module_version": "2.0.0",
      "model_name": "HTMLStyleModel",
      "state": {
       "description_width": "",
       "font_size": null,
       "text_color": null
      }
     },
     "34711a65ddbe47ae939d185cce6e2c34": {
      "model_module": "@jupyter-widgets/controls",
      "model_module_version": "2.0.0",
      "model_name": "HTMLStyleModel",
      "state": {
       "description_width": "",
       "font_size": null,
       "text_color": null
      }
     },
     "34ceab4ed29147448a9afe3c7952be5b": {
      "model_module": "@jupyter-widgets/base",
      "model_module_version": "2.0.0",
      "model_name": "LayoutModel",
      "state": {}
     },
     "34ee8eed12624febb6042f2613ee6504": {
      "model_module": "@jupyter-widgets/base",
      "model_module_version": "2.0.0",
      "model_name": "LayoutModel",
      "state": {}
     },
     "35067f293a044d84baa63b9fdc4637cd": {
      "model_module": "@jupyter-widgets/base",
      "model_module_version": "2.0.0",
      "model_name": "LayoutModel",
      "state": {
       "visibility": "hidden"
      }
     },
     "350b947766a3496c97ce8315d1ea0253": {
      "model_module": "@jupyter-widgets/controls",
      "model_module_version": "2.0.0",
      "model_name": "HTMLStyleModel",
      "state": {
       "description_width": "",
       "font_size": null,
       "text_color": null
      }
     },
     "3571ad8dce504baaa9a618e1fad3ae95": {
      "model_module": "@jupyter-widgets/base",
      "model_module_version": "2.0.0",
      "model_name": "LayoutModel",
      "state": {}
     },
     "35b7d5a625d4431d867ddc24ae8c22a4": {
      "model_module": "@jupyter-widgets/controls",
      "model_module_version": "2.0.0",
      "model_name": "FloatProgressModel",
      "state": {
       "layout": "IPY_MODEL_e45a4d6e945f4b3eaba7412a62b76741",
       "max": 48,
       "style": "IPY_MODEL_20628a5aab9e49359bdd093f7f00e09d",
       "value": 48
      }
     },
     "35d94fb85ef748b4b02faebc1c564498": {
      "model_module": "@jupyter-widgets/base",
      "model_module_version": "2.0.0",
      "model_name": "LayoutModel",
      "state": {}
     },
     "362bdb74c7f9474784f9ef67ffaeeddb": {
      "model_module": "@jupyter-widgets/controls",
      "model_module_version": "2.0.0",
      "model_name": "HTMLModel",
      "state": {
       "layout": "IPY_MODEL_1b25926ebfaf48e5bc16cac67fa1482b",
       "style": "IPY_MODEL_79271faf2f0d461f9d10e0987a9bae87",
       "value": " 190/191 [00:49&lt;00:00,  3.99it/s]"
      }
     },
     "364d288869114078b3c77023038609bf": {
      "model_module": "@jupyter-widgets/controls",
      "model_module_version": "2.0.0",
      "model_name": "HTMLStyleModel",
      "state": {
       "description_width": "",
       "font_size": null,
       "text_color": null
      }
     },
     "366ceb94e5ba4b5b81d7d2935fbee7d5": {
      "model_module": "@jupyter-widgets/base",
      "model_module_version": "2.0.0",
      "model_name": "LayoutModel",
      "state": {}
     },
     "36a2353a6b0c4494a87f466161a27ae1": {
      "model_module": "@jupyter-widgets/base",
      "model_module_version": "2.0.0",
      "model_name": "LayoutModel",
      "state": {
       "visibility": "hidden"
      }
     },
     "36d8e3050969444aa87f50049a1a852b": {
      "model_module": "@jupyter-widgets/base",
      "model_module_version": "2.0.0",
      "model_name": "LayoutModel",
      "state": {}
     },
     "3715e2f481204c1e825b11a0c238b645": {
      "model_module": "@jupyter-widgets/controls",
      "model_module_version": "2.0.0",
      "model_name": "HTMLModel",
      "state": {
       "layout": "IPY_MODEL_4379b83086084abfa9e0d9f447c54dd2",
       "style": "IPY_MODEL_34492dc5ba324c5d81870b8502202cee",
       "value": " 48/48 [00:10&lt;00:00,  4.99it/s]"
      }
     },
     "37f9bf9589ec4ad3a7c4ce60466d0e1b": {
      "model_module": "@jupyter-widgets/controls",
      "model_module_version": "2.0.0",
      "model_name": "HTMLModel",
      "state": {
       "layout": "IPY_MODEL_4ab6f9c4e1694f4a8dbc753201acf508",
       "style": "IPY_MODEL_0858844522e64fa9b3a977a4a7311487",
       "value": " 48/48 [00:10&lt;00:00,  5.12it/s]"
      }
     },
     "38a07acf82f24a3c8d3337203de73ced": {
      "model_module": "@jupyter-widgets/controls",
      "model_module_version": "2.0.0",
      "model_name": "HTMLModel",
      "state": {
       "layout": "IPY_MODEL_77570439301e4a3eabcc34878a997bab",
       "style": "IPY_MODEL_1f5cd8d1f5a34db99c10d0db6b03ffd4",
       "value": "Scoring:  99%"
      }
     },
     "38d18dadbfa5430996e8e837dad34274": {
      "model_module": "@jupyter-widgets/base",
      "model_module_version": "2.0.0",
      "model_name": "LayoutModel",
      "state": {}
     },
     "38e25feca5c44662b4d579a63a3a0838": {
      "model_module": "@jupyter-widgets/controls",
      "model_module_version": "2.0.0",
      "model_name": "HTMLStyleModel",
      "state": {
       "description_width": "",
       "font_size": null,
       "text_color": null
      }
     },
     "38f799e5d4a94019a738b9f5b40dc34b": {
      "model_module": "@jupyter-widgets/base",
      "model_module_version": "2.0.0",
      "model_name": "LayoutModel",
      "state": {}
     },
     "392f04796f81415fbb21b1a8cf995f00": {
      "model_module": "@jupyter-widgets/controls",
      "model_module_version": "2.0.0",
      "model_name": "HTMLModel",
      "state": {
       "layout": "IPY_MODEL_820fc9a0bdcd4314aa37d9e4772e18bb",
       "style": "IPY_MODEL_5a86806e45a64cf2a37c07fe941374be",
       "value": " 48/48 [00:10&lt;00:00,  4.95it/s]"
      }
     },
     "3b18b2ccb6a14f4e87ef6c03255aee43": {
      "model_module": "@jupyter-widgets/controls",
      "model_module_version": "2.0.0",
      "model_name": "ProgressStyleModel",
      "state": {
       "description_width": ""
      }
     },
     "3b888a91dd8e4c329eecbf8142dd306a": {
      "model_module": "@jupyter-widgets/base",
      "model_module_version": "2.0.0",
      "model_name": "LayoutModel",
      "state": {}
     },
     "3b993d20731548309fe22b95a5181bb7": {
      "model_module": "@jupyter-widgets/base",
      "model_module_version": "2.0.0",
      "model_name": "LayoutModel",
      "state": {}
     },
     "3ba2244b2cf94b8ca3e04a601af8c141": {
      "model_module": "@jupyter-widgets/controls",
      "model_module_version": "2.0.0",
      "model_name": "HTMLStyleModel",
      "state": {
       "description_width": "",
       "font_size": null,
       "text_color": null
      }
     },
     "3bb1de1d857c4859a1d625a61856cdfc": {
      "model_module": "@jupyter-widgets/controls",
      "model_module_version": "2.0.0",
      "model_name": "FloatProgressModel",
      "state": {
       "layout": "IPY_MODEL_dd7e79b23d1e46e5b26f57bb21071e39",
       "max": 48,
       "style": "IPY_MODEL_cddc77ad990f4cbab605477a6bd65f77",
       "value": 48
      }
     },
     "3c115961f94d441c82efd3eed49fee7a": {
      "model_module": "@jupyter-widgets/controls",
      "model_module_version": "2.0.0",
      "model_name": "FloatProgressModel",
      "state": {
       "layout": "IPY_MODEL_7cab11b45e53493a9ac0ad7a65a15029",
       "max": 191,
       "style": "IPY_MODEL_862e603ed9544729bb9685ff46ca7951",
       "value": 191
      }
     },
     "3c645a7c494d4c739f93ed451f3575cd": {
      "model_module": "@jupyter-widgets/controls",
      "model_module_version": "2.0.0",
      "model_name": "ProgressStyleModel",
      "state": {
       "description_width": ""
      }
     },
     "3cacfb9b54004b59af682d8d3eb0805c": {
      "model_module": "@jupyter-widgets/base",
      "model_module_version": "2.0.0",
      "model_name": "LayoutModel",
      "state": {}
     },
     "3ce1cea11da64c449844d45e738a54f2": {
      "model_module": "@jupyter-widgets/base",
      "model_module_version": "2.0.0",
      "model_name": "LayoutModel",
      "state": {
       "visibility": "hidden"
      }
     },
     "3d004d295b4f4ceeb17e1457841631a1": {
      "model_module": "@jupyter-widgets/controls",
      "model_module_version": "2.0.0",
      "model_name": "HTMLModel",
      "state": {
       "layout": "IPY_MODEL_05dfdd38198f42f5b2090822efd5b26c",
       "style": "IPY_MODEL_457a17f8fd184b74bf2a2f3e6c2b5722",
       "value": "Training: 100%"
      }
     },
     "3d3dd26635424c8f9885e91f763db92f": {
      "model_module": "@jupyter-widgets/controls",
      "model_module_version": "2.0.0",
      "model_name": "FloatProgressModel",
      "state": {
       "layout": "IPY_MODEL_35d94fb85ef748b4b02faebc1c564498",
       "max": 191,
       "style": "IPY_MODEL_8a13e5ffd0cc4b27b6b3b25485de56a5",
       "value": 191
      }
     },
     "3d6288c65e3a49df8b15d76f497c1b33": {
      "model_module": "@jupyter-widgets/base",
      "model_module_version": "2.0.0",
      "model_name": "LayoutModel",
      "state": {}
     },
     "3db96c13a7414f90a77c189bfac418f7": {
      "model_module": "@jupyter-widgets/controls",
      "model_module_version": "2.0.0",
      "model_name": "HTMLStyleModel",
      "state": {
       "description_width": "",
       "font_size": null,
       "text_color": null
      }
     },
     "3dc67acaa19c45c2ad01a623a89e0b61": {
      "model_module": "@jupyter-widgets/base",
      "model_module_version": "2.0.0",
      "model_name": "LayoutModel",
      "state": {}
     },
     "3dea76d84425434db68dcc4acbc52ad8": {
      "model_module": "@jupyter-widgets/base",
      "model_module_version": "2.0.0",
      "model_name": "LayoutModel",
      "state": {
       "visibility": "hidden"
      }
     },
     "3dfeee1d132143cfb8f1506f1b407cf9": {
      "model_module": "@jupyter-widgets/base",
      "model_module_version": "2.0.0",
      "model_name": "LayoutModel",
      "state": {}
     },
     "3e27d3f2ca9349cea9754a28623cdbf3": {
      "model_module": "@jupyter-widgets/base",
      "model_module_version": "2.0.0",
      "model_name": "LayoutModel",
      "state": {}
     },
     "3ecff7d35fd04a4d9dee80d4db3b5dff": {
      "model_module": "@jupyter-widgets/base",
      "model_module_version": "2.0.0",
      "model_name": "LayoutModel",
      "state": {}
     },
     "402a40d6ccb44d3c9dfa4c0d856af35a": {
      "model_module": "@jupyter-widgets/base",
      "model_module_version": "2.0.0",
      "model_name": "LayoutModel",
      "state": {}
     },
     "405ce67b8a624c2392a58fb2573b23b5": {
      "model_module": "@jupyter-widgets/base",
      "model_module_version": "2.0.0",
      "model_name": "LayoutModel",
      "state": {}
     },
     "407a536614e742ec84f445bf8b995bf0": {
      "model_module": "@jupyter-widgets/base",
      "model_module_version": "2.0.0",
      "model_name": "LayoutModel",
      "state": {}
     },
     "409c43d641274e8ea6872eb491231347": {
      "model_module": "@jupyter-widgets/base",
      "model_module_version": "2.0.0",
      "model_name": "LayoutModel",
      "state": {}
     },
     "40a7541691964ca8a0a53320377ad63b": {
      "model_module": "@jupyter-widgets/controls",
      "model_module_version": "2.0.0",
      "model_name": "HTMLModel",
      "state": {
       "layout": "IPY_MODEL_a10aad9de8ce436e89a05f841bdde931",
       "style": "IPY_MODEL_bc577ada713344bc85ab0602385c561b",
       "value": " 190/191 [00:44&lt;00:00,  4.26it/s]"
      }
     },
     "41380598e02b4b4eab562b85dbd36f98": {
      "model_module": "@jupyter-widgets/base",
      "model_module_version": "2.0.0",
      "model_name": "LayoutModel",
      "state": {}
     },
     "414cad71ff244e2db08e6811b67723fe": {
      "model_module": "@jupyter-widgets/base",
      "model_module_version": "2.0.0",
      "model_name": "LayoutModel",
      "state": {}
     },
     "4151df44fd2048448bd53b8880e0e4ba": {
      "model_module": "@jupyter-widgets/base",
      "model_module_version": "2.0.0",
      "model_name": "LayoutModel",
      "state": {}
     },
     "41afe5c0b28f41b38fdd6e5e26a478ea": {
      "model_module": "@jupyter-widgets/base",
      "model_module_version": "2.0.0",
      "model_name": "LayoutModel",
      "state": {}
     },
     "41c4b3dd0a2d41169519eb3fe3d2c1b4": {
      "model_module": "@jupyter-widgets/controls",
      "model_module_version": "2.0.0",
      "model_name": "ProgressStyleModel",
      "state": {
       "description_width": ""
      }
     },
     "41dad5e1a04e4d7f8efa9c483532f1fa": {
      "model_module": "@jupyter-widgets/controls",
      "model_module_version": "2.0.0",
      "model_name": "HTMLModel",
      "state": {
       "layout": "IPY_MODEL_ce010061db534924a3edf074072aa180",
       "style": "IPY_MODEL_6172d5b9144f4b18ac1272f3ed73a486",
       "value": "Scoring:  99%"
      }
     },
     "420bca6475f04545a091d5118353f668": {
      "model_module": "@jupyter-widgets/base",
      "model_module_version": "2.0.0",
      "model_name": "LayoutModel",
      "state": {}
     },
     "4221a8e2187745dabf59ee2e8c9a809e": {
      "model_module": "@jupyter-widgets/controls",
      "model_module_version": "2.0.0",
      "model_name": "HTMLStyleModel",
      "state": {
       "description_width": "",
       "font_size": null,
       "text_color": null
      }
     },
     "424484aca54b4457a3da7bee4d36b4e3": {
      "model_module": "@jupyter-widgets/base",
      "model_module_version": "2.0.0",
      "model_name": "LayoutModel",
      "state": {}
     },
     "4275102710c548a39431259771b12dd5": {
      "model_module": "@jupyter-widgets/base",
      "model_module_version": "2.0.0",
      "model_name": "LayoutModel",
      "state": {}
     },
     "42a8d6d7437b4b6eba8347e38751d12f": {
      "model_module": "@jupyter-widgets/base",
      "model_module_version": "2.0.0",
      "model_name": "LayoutModel",
      "state": {}
     },
     "42bb47a99d314f668b8593edc9c75476": {
      "model_module": "@jupyter-widgets/base",
      "model_module_version": "2.0.0",
      "model_name": "LayoutModel",
      "state": {}
     },
     "42bbb8956fa44d94806cfa3bb7b544ea": {
      "model_module": "@jupyter-widgets/base",
      "model_module_version": "2.0.0",
      "model_name": "LayoutModel",
      "state": {}
     },
     "434c4efac07741e4a61a8859414155e5": {
      "model_module": "@jupyter-widgets/controls",
      "model_module_version": "2.0.0",
      "model_name": "FloatProgressModel",
      "state": {
       "bar_style": "success",
       "layout": "IPY_MODEL_d7d08e61024e49f8bd2039432ee02095",
       "max": 1523,
       "style": "IPY_MODEL_45c5e18ab4e94a2f96d6aea11184995d",
       "value": 1523
      }
     },
     "4379b83086084abfa9e0d9f447c54dd2": {
      "model_module": "@jupyter-widgets/base",
      "model_module_version": "2.0.0",
      "model_name": "LayoutModel",
      "state": {}
     },
     "43c2ff2f7210469bb436933fd6917fe6": {
      "model_module": "@jupyter-widgets/controls",
      "model_module_version": "2.0.0",
      "model_name": "FloatProgressModel",
      "state": {
       "layout": "IPY_MODEL_7a29de41a1ec4761892a10ada8abe256",
       "max": 191,
       "style": "IPY_MODEL_272417329b1341abb4a6ed76116840da",
       "value": 191
      }
     },
     "43ede2d2e6a2442c92f158a609ed3e71": {
      "model_module": "@jupyter-widgets/controls",
      "model_module_version": "2.0.0",
      "model_name": "ProgressStyleModel",
      "state": {
       "description_width": ""
      }
     },
     "440938a2d7cf4af18e89d6150e1a6b45": {
      "model_module": "@jupyter-widgets/controls",
      "model_module_version": "2.0.0",
      "model_name": "HTMLModel",
      "state": {
       "layout": "IPY_MODEL_d6e766da3bd9457280d372b7ae4ba918",
       "style": "IPY_MODEL_a167fa14fb394267ad2447e4e5985870",
       "value": "Scoring:  99%"
      }
     },
     "445d1e0d119d48eb8b310faf43252426": {
      "model_module": "@jupyter-widgets/controls",
      "model_module_version": "2.0.0",
      "model_name": "HTMLModel",
      "state": {
       "layout": "IPY_MODEL_a6358c950a31432ebe44465b82bcb3ad",
       "style": "IPY_MODEL_feeaabb7ce7b408eab0f18a4c7e303f3",
       "value": "Scoring:  99%"
      }
     },
     "44674cbb34c746b3be61095d65d9d71b": {
      "model_module": "@jupyter-widgets/controls",
      "model_module_version": "2.0.0",
      "model_name": "HTMLStyleModel",
      "state": {
       "description_width": "",
       "font_size": null,
       "text_color": null
      }
     },
     "44b6cad58c3542cb9033165358114a1f": {
      "model_module": "@jupyter-widgets/base",
      "model_module_version": "2.0.0",
      "model_name": "LayoutModel",
      "state": {
       "visibility": "hidden"
      }
     },
     "44da6f881e6542dba5f37ff6a230ff87": {
      "model_module": "@jupyter-widgets/base",
      "model_module_version": "2.0.0",
      "model_name": "LayoutModel",
      "state": {}
     },
     "45007bd7f97d43a1bc015806a42ac939": {
      "model_module": "@jupyter-widgets/controls",
      "model_module_version": "2.0.0",
      "model_name": "FloatProgressModel",
      "state": {
       "layout": "IPY_MODEL_eed70cc63ad8483f9ca9c13b520593f3",
       "max": 191,
       "style": "IPY_MODEL_923e59d8b9f44015a68a07fd47e246d0",
       "value": 191
      }
     },
     "4513d6b7ee0c484b83450767882ed3af": {
      "model_module": "@jupyter-widgets/base",
      "model_module_version": "2.0.0",
      "model_name": "LayoutModel",
      "state": {}
     },
     "4526482c0a1b490abaa941a33ff2ebbc": {
      "model_module": "@jupyter-widgets/base",
      "model_module_version": "2.0.0",
      "model_name": "LayoutModel",
      "state": {}
     },
     "457a17f8fd184b74bf2a2f3e6c2b5722": {
      "model_module": "@jupyter-widgets/controls",
      "model_module_version": "2.0.0",
      "model_name": "HTMLStyleModel",
      "state": {
       "description_width": "",
       "font_size": null,
       "text_color": null
      }
     },
     "4584f983cf3f41c98a7e9c7f82a6420e": {
      "model_module": "@jupyter-widgets/controls",
      "model_module_version": "2.0.0",
      "model_name": "HTMLModel",
      "state": {
       "layout": "IPY_MODEL_62be5a6189a44f5586f79bfb0ceec76c",
       "style": "IPY_MODEL_59f2d339e9a948a9bec6c66201c5c481",
       "value": "Training: 100%"
      }
     },
     "45a4231e2b9243f192d2d08374478334": {
      "model_module": "@jupyter-widgets/base",
      "model_module_version": "2.0.0",
      "model_name": "LayoutModel",
      "state": {}
     },
     "45c5e18ab4e94a2f96d6aea11184995d": {
      "model_module": "@jupyter-widgets/controls",
      "model_module_version": "2.0.0",
      "model_name": "ProgressStyleModel",
      "state": {
       "description_width": ""
      }
     },
     "45f9495c939e452eaf2a0b08cf5ad692": {
      "model_module": "@jupyter-widgets/controls",
      "model_module_version": "2.0.0",
      "model_name": "HTMLStyleModel",
      "state": {
       "description_width": "",
       "font_size": null,
       "text_color": null
      }
     },
     "46eb5e85158243c5bcb9b13a2cb2d504": {
      "model_module": "@jupyter-widgets/base",
      "model_module_version": "2.0.0",
      "model_name": "LayoutModel",
      "state": {}
     },
     "472032a050814d0bac243a86794ac082": {
      "model_module": "@jupyter-widgets/base",
      "model_module_version": "2.0.0",
      "model_name": "LayoutModel",
      "state": {}
     },
     "4763be31f67c4873834b0ff0bfda4ca3": {
      "model_module": "@jupyter-widgets/controls",
      "model_module_version": "2.0.0",
      "model_name": "HTMLModel",
      "state": {
       "layout": "IPY_MODEL_56c0ccb51e924faeb42048fb2f5f3dc2",
       "style": "IPY_MODEL_c90cae036c1643aa878f6c1042d6cdf4",
       "value": "Scoring:  99%"
      }
     },
     "48056d24511d49b79db1f329e04fb6b7": {
      "model_module": "@jupyter-widgets/controls",
      "model_module_version": "2.0.0",
      "model_name": "HTMLStyleModel",
      "state": {
       "description_width": "",
       "font_size": null,
       "text_color": null
      }
     },
     "4817c65ab4894a3793a3af23b817f507": {
      "model_module": "@jupyter-widgets/controls",
      "model_module_version": "2.0.0",
      "model_name": "HTMLStyleModel",
      "state": {
       "description_width": "",
       "font_size": null,
       "text_color": null
      }
     },
     "4934e2273efb4c8f8165f9082e585cea": {
      "model_module": "@jupyter-widgets/base",
      "model_module_version": "2.0.0",
      "model_name": "LayoutModel",
      "state": {
       "visibility": "hidden"
      }
     },
     "495ae91c42cf450792f738c1b2c2a17e": {
      "model_module": "@jupyter-widgets/base",
      "model_module_version": "2.0.0",
      "model_name": "LayoutModel",
      "state": {
       "visibility": "hidden"
      }
     },
     "49900caa231c4cb3ad96fa5733bac2a7": {
      "model_module": "@jupyter-widgets/base",
      "model_module_version": "2.0.0",
      "model_name": "LayoutModel",
      "state": {}
     },
     "49f57d1d7ed040c9a171749ffd84cd97": {
      "model_module": "@jupyter-widgets/base",
      "model_module_version": "2.0.0",
      "model_name": "LayoutModel",
      "state": {}
     },
     "4a79757b1bef44568a144a45a7383c33": {
      "model_module": "@jupyter-widgets/controls",
      "model_module_version": "2.0.0",
      "model_name": "HTMLStyleModel",
      "state": {
       "description_width": "",
       "font_size": null,
       "text_color": null
      }
     },
     "4ab6f9c4e1694f4a8dbc753201acf508": {
      "model_module": "@jupyter-widgets/base",
      "model_module_version": "2.0.0",
      "model_name": "LayoutModel",
      "state": {}
     },
     "4ac05cf98f2a4b0189f6478e58514c18": {
      "model_module": "@jupyter-widgets/controls",
      "model_module_version": "2.0.0",
      "model_name": "HTMLStyleModel",
      "state": {
       "description_width": "",
       "font_size": null,
       "text_color": null
      }
     },
     "4b6e9b372fe542f48375edf4e4d24205": {
      "model_module": "@jupyter-widgets/base",
      "model_module_version": "2.0.0",
      "model_name": "LayoutModel",
      "state": {}
     },
     "4b9055fb7fe1417384692ac0bbde907e": {
      "model_module": "@jupyter-widgets/controls",
      "model_module_version": "2.0.0",
      "model_name": "ProgressStyleModel",
      "state": {
       "description_width": ""
      }
     },
     "4be01a97da9b4ab0b8a010ef75aa6bad": {
      "model_module": "@jupyter-widgets/base",
      "model_module_version": "2.0.0",
      "model_name": "LayoutModel",
      "state": {
       "visibility": "hidden"
      }
     },
     "4c13ec911a714316a2bdd5db42d30e06": {
      "model_module": "@jupyter-widgets/base",
      "model_module_version": "2.0.0",
      "model_name": "LayoutModel",
      "state": {
       "visibility": "hidden"
      }
     },
     "4cb8666b598740a7a17f320ea3e300e8": {
      "model_module": "@jupyter-widgets/controls",
      "model_module_version": "2.0.0",
      "model_name": "HTMLModel",
      "state": {
       "layout": "IPY_MODEL_ebdc8e73e93742ec8a54c34bd51dfa49",
       "style": "IPY_MODEL_1cf750a261bc4f048e6afb72d9252b52",
       "value": "Training: 100%"
      }
     },
     "4d73c05cbfa24fd6b676daa65d8e3ec6": {
      "model_module": "@jupyter-widgets/controls",
      "model_module_version": "2.0.0",
      "model_name": "HTMLStyleModel",
      "state": {
       "description_width": "",
       "font_size": null,
       "text_color": null
      }
     },
     "4d8318edf32f4a008bfb9af8d951c8a8": {
      "model_module": "@jupyter-widgets/base",
      "model_module_version": "2.0.0",
      "model_name": "LayoutModel",
      "state": {}
     },
     "4e2e09ea98a44f4e8f84a553e893d300": {
      "model_module": "@jupyter-widgets/controls",
      "model_module_version": "2.0.0",
      "model_name": "HTMLStyleModel",
      "state": {
       "description_width": "",
       "font_size": null,
       "text_color": null
      }
     },
     "4e6061d112644162bca00eb4a754d2e2": {
      "model_module": "@jupyter-widgets/base",
      "model_module_version": "2.0.0",
      "model_name": "LayoutModel",
      "state": {}
     },
     "50040f2b2c074f209f4fb9883747a9c4": {
      "model_module": "@jupyter-widgets/controls",
      "model_module_version": "2.0.0",
      "model_name": "HTMLModel",
      "state": {
       "layout": "IPY_MODEL_0531302fa2964ba4ab217153d25fd92b",
       "style": "IPY_MODEL_0c29f82f6ad04cc3900c14e589e6393b",
       "value": " 190/191 [00:44&lt;00:00,  4.22it/s]"
      }
     },
     "50226816307940e98b9d0e56545b313d": {
      "model_module": "@jupyter-widgets/controls",
      "model_module_version": "2.0.0",
      "model_name": "HTMLStyleModel",
      "state": {
       "description_width": "",
       "font_size": null,
       "text_color": null
      }
     },
     "5026805c22fe4e998cc681428c28e7ff": {
      "model_module": "@jupyter-widgets/controls",
      "model_module_version": "2.0.0",
      "model_name": "ProgressStyleModel",
      "state": {
       "description_width": ""
      }
     },
     "50701cc73a49454f8d3ec17e58eacdcd": {
      "model_module": "@jupyter-widgets/base",
      "model_module_version": "2.0.0",
      "model_name": "LayoutModel",
      "state": {}
     },
     "5076e6efb6eb4427aa0136be1f426b5f": {
      "model_module": "@jupyter-widgets/base",
      "model_module_version": "2.0.0",
      "model_name": "LayoutModel",
      "state": {}
     },
     "50c9783c453c41659afa05d2a0b9c80b": {
      "model_module": "@jupyter-widgets/base",
      "model_module_version": "2.0.0",
      "model_name": "LayoutModel",
      "state": {}
     },
     "51013eddb046467f9dbd3e70080fd22a": {
      "model_module": "@jupyter-widgets/base",
      "model_module_version": "2.0.0",
      "model_name": "LayoutModel",
      "state": {}
     },
     "5106050989364a8eafe154022c1da26a": {
      "model_module": "@jupyter-widgets/controls",
      "model_module_version": "2.0.0",
      "model_name": "HTMLStyleModel",
      "state": {
       "description_width": "",
       "font_size": null,
       "text_color": null
      }
     },
     "513a2a130862485c9af33aa70aec2cae": {
      "model_module": "@jupyter-widgets/controls",
      "model_module_version": "2.0.0",
      "model_name": "HTMLStyleModel",
      "state": {
       "description_width": "",
       "font_size": null,
       "text_color": null
      }
     },
     "5140f0c5d6804a658c5d530e8566696b": {
      "model_module": "@jupyter-widgets/base",
      "model_module_version": "2.0.0",
      "model_name": "LayoutModel",
      "state": {
       "visibility": "hidden"
      }
     },
     "518c81eea66f4172803e23b8838071bb": {
      "model_module": "@jupyter-widgets/controls",
      "model_module_version": "2.0.0",
      "model_name": "HTMLStyleModel",
      "state": {
       "description_width": "",
       "font_size": null,
       "text_color": null
      }
     },
     "51a4939f6bc44ebfa8923936338ad916": {
      "model_module": "@jupyter-widgets/controls",
      "model_module_version": "2.0.0",
      "model_name": "FloatProgressModel",
      "state": {
       "layout": "IPY_MODEL_ee0f0f4501464e6cbfb848ab05ef0fa2",
       "max": 191,
       "style": "IPY_MODEL_bae64a519944451aa19173a112f15bf4",
       "value": 191
      }
     },
     "521f236147844765a3f36251db45daae": {
      "model_module": "@jupyter-widgets/controls",
      "model_module_version": "2.0.0",
      "model_name": "ProgressStyleModel",
      "state": {
       "description_width": ""
      }
     },
     "52f0a56bf1df4842a9579a5bab97d0d3": {
      "model_module": "@jupyter-widgets/controls",
      "model_module_version": "2.0.0",
      "model_name": "HTMLModel",
      "state": {
       "layout": "IPY_MODEL_1fa314528d884a02a3de8443704cd035",
       "style": "IPY_MODEL_3db96c13a7414f90a77c189bfac418f7",
       "value": "Scoring:  99%"
      }
     },
     "535c07968e9d4c8e807a08273adc3f78": {
      "model_module": "@jupyter-widgets/base",
      "model_module_version": "2.0.0",
      "model_name": "LayoutModel",
      "state": {}
     },
     "53de410276024b17a4cf678789ba274f": {
      "model_module": "@jupyter-widgets/controls",
      "model_module_version": "2.0.0",
      "model_name": "ProgressStyleModel",
      "state": {
       "description_width": ""
      }
     },
     "54294c10af2b4efcb5919a5bc8927e4a": {
      "model_module": "@jupyter-widgets/base",
      "model_module_version": "2.0.0",
      "model_name": "LayoutModel",
      "state": {
       "visibility": "hidden"
      }
     },
     "545c231f35114d909180b59fe23c817b": {
      "model_module": "@jupyter-widgets/controls",
      "model_module_version": "2.0.0",
      "model_name": "ProgressStyleModel",
      "state": {
       "description_width": ""
      }
     },
     "549a7aef04754da1bd5230ed51dad323": {
      "model_module": "@jupyter-widgets/base",
      "model_module_version": "2.0.0",
      "model_name": "LayoutModel",
      "state": {}
     },
     "54e8f5e379e34689a68bc89ca491a131": {
      "model_module": "@jupyter-widgets/base",
      "model_module_version": "2.0.0",
      "model_name": "LayoutModel",
      "state": {}
     },
     "55c98c629250483f9b896fba37146fb8": {
      "model_module": "@jupyter-widgets/controls",
      "model_module_version": "2.0.0",
      "model_name": "HTMLModel",
      "state": {
       "layout": "IPY_MODEL_f08085b1a6a3484ab4ef131c6c2b1617",
       "style": "IPY_MODEL_836eb14fdd054f48b39ab1def7fe746e",
       "value": "Scoring: 100%"
      }
     },
     "55dc861699f84dc1b350772d632132c4": {
      "model_module": "@jupyter-widgets/controls",
      "model_module_version": "2.0.0",
      "model_name": "HTMLModel",
      "state": {
       "layout": "IPY_MODEL_4513d6b7ee0c484b83450767882ed3af",
       "style": "IPY_MODEL_7bd4ed9012ad4d748887f079b44efa76",
       "value": "Scoring:  99%"
      }
     },
     "55ff77127e144c829999855fe279351f": {
      "model_module": "@jupyter-widgets/controls",
      "model_module_version": "2.0.0",
      "model_name": "HTMLStyleModel",
      "state": {
       "description_width": "",
       "font_size": null,
       "text_color": null
      }
     },
     "56385337d37d4dd49284600d2b18ef52": {
      "model_module": "@jupyter-widgets/controls",
      "model_module_version": "2.0.0",
      "model_name": "HTMLModel",
      "state": {
       "layout": "IPY_MODEL_acf156c61ef747a9b785c2f19cbab69c",
       "style": "IPY_MODEL_0d0c98f6382b428da099f940fe58caed",
       "value": " 191/191 [00:50&lt;00:00,  4.56it/s]"
      }
     },
     "5669b6ad42e24529bbcdeb7afa45db76": {
      "model_module": "@jupyter-widgets/controls",
      "model_module_version": "2.0.0",
      "model_name": "HTMLModel",
      "state": {
       "layout": "IPY_MODEL_25b55cb6a89b40e1adcfec7b1ad60496",
       "style": "IPY_MODEL_38e25feca5c44662b4d579a63a3a0838",
       "value": "Scoring:  99%"
      }
     },
     "5681ac65d77c49faabdded97e3de3691": {
      "model_module": "@jupyter-widgets/controls",
      "model_module_version": "2.0.0",
      "model_name": "HTMLModel",
      "state": {
       "layout": "IPY_MODEL_dc68b31bb47b451abd226407a011048e",
       "style": "IPY_MODEL_cb83995be79d432ba038fbfae87de8b8",
       "value": "Training:  99%"
      }
     },
     "568e10d9df784b8d972dee578b640473": {
      "model_module": "@jupyter-widgets/base",
      "model_module_version": "2.0.0",
      "model_name": "LayoutModel",
      "state": {}
     },
     "568e8bb5f7b84b19a3de738f18b2c5f5": {
      "model_module": "@jupyter-widgets/controls",
      "model_module_version": "2.0.0",
      "model_name": "HTMLStyleModel",
      "state": {
       "description_width": "",
       "font_size": null,
       "text_color": null
      }
     },
     "569cac1ee48444c4b2c611b5ec954b8c": {
      "model_module": "@jupyter-widgets/controls",
      "model_module_version": "2.0.0",
      "model_name": "HTMLModel",
      "state": {
       "layout": "IPY_MODEL_e441c7eac8de460abc34ce9d0d488d5a",
       "style": "IPY_MODEL_0d0a8d2a218f45d787b63ad38e7edfed",
       "value": " 48/48 [00:11&lt;00:00,  4.77it/s]"
      }
     },
     "56a4e61bdc1c45f0befe3ce0513e590e": {
      "model_module": "@jupyter-widgets/controls",
      "model_module_version": "2.0.0",
      "model_name": "HTMLModel",
      "state": {
       "layout": "IPY_MODEL_64a6ec9949204975a56db13520f7eab8",
       "style": "IPY_MODEL_b9a6f7320cf7492cb4b069564dd6f71b",
       "value": "Training: 100%"
      }
     },
     "56c0ccb51e924faeb42048fb2f5f3dc2": {
      "model_module": "@jupyter-widgets/base",
      "model_module_version": "2.0.0",
      "model_name": "LayoutModel",
      "state": {}
     },
     "57d3000107b64138b1ae63464881ad9b": {
      "model_module": "@jupyter-widgets/base",
      "model_module_version": "2.0.0",
      "model_name": "LayoutModel",
      "state": {}
     },
     "57eebc61747e44aaa45dd5c4b1cf2620": {
      "model_module": "@jupyter-widgets/base",
      "model_module_version": "2.0.0",
      "model_name": "LayoutModel",
      "state": {}
     },
     "57f3a75bc3e846abba889d51071e99cd": {
      "model_module": "@jupyter-widgets/controls",
      "model_module_version": "2.0.0",
      "model_name": "ProgressStyleModel",
      "state": {
       "description_width": ""
      }
     },
     "57f7036584c54f0ea0d9dea9afa8aa7f": {
      "model_module": "@jupyter-widgets/base",
      "model_module_version": "2.0.0",
      "model_name": "LayoutModel",
      "state": {
       "visibility": "hidden"
      }
     },
     "5854742a306548e8a05677ac720afc86": {
      "model_module": "@jupyter-widgets/controls",
      "model_module_version": "2.0.0",
      "model_name": "FloatProgressModel",
      "state": {
       "layout": "IPY_MODEL_1a2c675be8774b40a3098c42716a0fd4",
       "max": 48,
       "style": "IPY_MODEL_be1aae23d0154a3984451c3be7e36f39",
       "value": 48
      }
     },
     "5856af4d190f4b3b8bbf62cc2a52fc68": {
      "model_module": "@jupyter-widgets/controls",
      "model_module_version": "2.0.0",
      "model_name": "HTMLModel",
      "state": {
       "layout": "IPY_MODEL_5bccd057d5d242a7a2bdd486448d3de5",
       "style": "IPY_MODEL_c5ce669eb13546348eb376d31f4eceb4",
       "value": " 190/191 [00:44&lt;00:00,  4.32it/s]"
      }
     },
     "58b9edf123ba424c8fcd1f4c24b7704f": {
      "model_module": "@jupyter-widgets/base",
      "model_module_version": "2.0.0",
      "model_name": "LayoutModel",
      "state": {
       "visibility": "hidden"
      }
     },
     "5917ff52d02e49bd8817553b9df02b89": {
      "model_module": "@jupyter-widgets/controls",
      "model_module_version": "2.0.0",
      "model_name": "ProgressStyleModel",
      "state": {
       "description_width": ""
      }
     },
     "592e8c8669df4c1fb7ad601a3b5ca5ef": {
      "model_module": "@jupyter-widgets/controls",
      "model_module_version": "2.0.0",
      "model_name": "HTMLStyleModel",
      "state": {
       "description_width": "",
       "font_size": null,
       "text_color": null
      }
     },
     "59456cb1a2d1426896faef4a78e9e60e": {
      "model_module": "@jupyter-widgets/base",
      "model_module_version": "2.0.0",
      "model_name": "LayoutModel",
      "state": {}
     },
     "598f05de04d042059a8048d3364f9bb5": {
      "model_module": "@jupyter-widgets/base",
      "model_module_version": "2.0.0",
      "model_name": "LayoutModel",
      "state": {}
     },
     "59f2d339e9a948a9bec6c66201c5c481": {
      "model_module": "@jupyter-widgets/controls",
      "model_module_version": "2.0.0",
      "model_name": "HTMLStyleModel",
      "state": {
       "description_width": "",
       "font_size": null,
       "text_color": null
      }
     },
     "5a7ac39f81cd4e99b78c0536d47c4f47": {
      "model_module": "@jupyter-widgets/controls",
      "model_module_version": "2.0.0",
      "model_name": "HTMLStyleModel",
      "state": {
       "description_width": "",
       "font_size": null,
       "text_color": null
      }
     },
     "5a86806e45a64cf2a37c07fe941374be": {
      "model_module": "@jupyter-widgets/controls",
      "model_module_version": "2.0.0",
      "model_name": "HTMLStyleModel",
      "state": {
       "description_width": "",
       "font_size": null,
       "text_color": null
      }
     },
     "5b2802af107b42889b9c5c16f8062687": {
      "model_module": "@jupyter-widgets/controls",
      "model_module_version": "2.0.0",
      "model_name": "HTMLModel",
      "state": {
       "layout": "IPY_MODEL_697eeefac5bd4178b833d7b85d055f03",
       "style": "IPY_MODEL_7c88a917e7444aa69f8a668212847bec",
       "value": " 191/191 [00:50&lt;00:00,  4.63it/s]"
      }
     },
     "5b559a4c2bc64309b901a75d23bd46bf": {
      "model_module": "@jupyter-widgets/controls",
      "model_module_version": "2.0.0",
      "model_name": "HTMLModel",
      "state": {
       "layout": "IPY_MODEL_0a6eeb85a24f4d1c8cc1f6aebd2ce3bd",
       "style": "IPY_MODEL_0f061316c5bc43b191c7a1efa0789eb5",
       "value": " 191/191 [00:50&lt;00:00,  4.58it/s]"
      }
     },
     "5b56c6a14d1041bb8a40d4a8f2b6de60": {
      "model_module": "@jupyter-widgets/base",
      "model_module_version": "2.0.0",
      "model_name": "LayoutModel",
      "state": {
       "visibility": "hidden"
      }
     },
     "5b7afb20e6a5460a913e0fd6d0705dd5": {
      "model_module": "@jupyter-widgets/controls",
      "model_module_version": "2.0.0",
      "model_name": "HTMLModel",
      "state": {
       "layout": "IPY_MODEL_b1878148a7aa42559438322f8672406c",
       "style": "IPY_MODEL_b5f0dace454044dd82dedff05836ceb6",
       "value": "Training: 100%"
      }
     },
     "5bccd057d5d242a7a2bdd486448d3de5": {
      "model_module": "@jupyter-widgets/base",
      "model_module_version": "2.0.0",
      "model_name": "LayoutModel",
      "state": {}
     },
     "5bd4d5965f264fe48e9a4e740ea9e230": {
      "model_module": "@jupyter-widgets/controls",
      "model_module_version": "2.0.0",
      "model_name": "FloatProgressModel",
      "state": {
       "layout": "IPY_MODEL_9936a7ce0c8646dd964a8249aa7bdcac",
       "max": 191,
       "style": "IPY_MODEL_9decd0bd5ce84fdaab4ea0010d1f9eef",
       "value": 191
      }
     },
     "5c9f2ce2cd8c4a7086e2be45f8f939d5": {
      "model_module": "@jupyter-widgets/base",
      "model_module_version": "2.0.0",
      "model_name": "LayoutModel",
      "state": {
       "visibility": "hidden"
      }
     },
     "5cb1b646dea04e4bb47acc193015fc23": {
      "model_module": "@jupyter-widgets/base",
      "model_module_version": "2.0.0",
      "model_name": "LayoutModel",
      "state": {}
     },
     "5cc0b509c0504b439583b859a1e3be73": {
      "model_module": "@jupyter-widgets/base",
      "model_module_version": "2.0.0",
      "model_name": "LayoutModel",
      "state": {}
     },
     "5ccc3000f3894b558b7dd298499e9826": {
      "model_module": "@jupyter-widgets/controls",
      "model_module_version": "2.0.0",
      "model_name": "HTMLModel",
      "state": {
       "layout": "IPY_MODEL_bc199e6393694d4f812a0be51ee1fe83",
       "style": "IPY_MODEL_e3296519c23245fb96a6c384f1cb6a23",
       "value": "Training: 100%"
      }
     },
     "5d016d94b46b46218a85201704635c65": {
      "model_module": "@jupyter-widgets/base",
      "model_module_version": "2.0.0",
      "model_name": "LayoutModel",
      "state": {}
     },
     "5d0c874db97149d8976d7925a3ff6ddc": {
      "model_module": "@jupyter-widgets/controls",
      "model_module_version": "2.0.0",
      "model_name": "HTMLStyleModel",
      "state": {
       "description_width": "",
       "font_size": null,
       "text_color": null
      }
     },
     "5d200585cd9341cd82394d7f9dca1147": {
      "model_module": "@jupyter-widgets/base",
      "model_module_version": "2.0.0",
      "model_name": "LayoutModel",
      "state": {
       "visibility": "hidden"
      }
     },
     "5e5f5a632d5f4b40a13c9414d11d060b": {
      "model_module": "@jupyter-widgets/controls",
      "model_module_version": "2.0.0",
      "model_name": "HTMLStyleModel",
      "state": {
       "description_width": "",
       "font_size": null,
       "text_color": null
      }
     },
     "5e9a95733e134085a58dc35b2a46dc1d": {
      "model_module": "@jupyter-widgets/controls",
      "model_module_version": "2.0.0",
      "model_name": "HTMLStyleModel",
      "state": {
       "description_width": "",
       "font_size": null,
       "text_color": null
      }
     },
     "5eecf4451d20404da89cecaa3c936a2b": {
      "model_module": "@jupyter-widgets/controls",
      "model_module_version": "2.0.0",
      "model_name": "HTMLModel",
      "state": {
       "layout": "IPY_MODEL_9f68d68167114dc78aa6ae188619881a",
       "style": "IPY_MODEL_2afddd86f9414587a21bcbee79d57778",
       "value": "Scoring: 100%"
      }
     },
     "5f02d586c8624fb18b1ada3293e8a270": {
      "model_module": "@jupyter-widgets/controls",
      "model_module_version": "2.0.0",
      "model_name": "HTMLModel",
      "state": {
       "layout": "IPY_MODEL_b4df06386d3e4b3e89a72bb3ff98c05f",
       "style": "IPY_MODEL_868b0360054c48bc8d2e5d4c8cce7a42",
       "value": " 48/48 [00:11&lt;00:00,  4.83it/s]"
      }
     },
     "5f83c976f1b4408082a6090350484e19": {
      "model_module": "@jupyter-widgets/controls",
      "model_module_version": "2.0.0",
      "model_name": "HTMLModel",
      "state": {
       "layout": "IPY_MODEL_6652e294495d4ed18be4dbb2e235ffdc",
       "style": "IPY_MODEL_867ffaf29aa14616b2d72fc774fd9feb",
       "value": " 191/191 [01:08&lt;00:00,  2.47it/s]"
      }
     },
     "5f95ad2cc7ea41f88068612d98226c53": {
      "model_module": "@jupyter-widgets/controls",
      "model_module_version": "2.0.0",
      "model_name": "FloatProgressModel",
      "state": {
       "layout": "IPY_MODEL_04be4f1f66e24fcc9b014a2ebf567fe5",
       "max": 48,
       "style": "IPY_MODEL_aa3dac48eb4c4c9b826b6f858e8c1958",
       "value": 48
      }
     },
     "6087e9582bf24040a6c65a008fd230d0": {
      "model_module": "@jupyter-widgets/base",
      "model_module_version": "2.0.0",
      "model_name": "LayoutModel",
      "state": {}
     },
     "60be9c919d444bbdb446aa244b1a7aa5": {
      "model_module": "@jupyter-widgets/base",
      "model_module_version": "2.0.0",
      "model_name": "LayoutModel",
      "state": {}
     },
     "613cd9dce1c24bb6894a7b629e51d145": {
      "model_module": "@jupyter-widgets/controls",
      "model_module_version": "2.0.0",
      "model_name": "HTMLStyleModel",
      "state": {
       "description_width": "",
       "font_size": null,
       "text_color": null
      }
     },
     "6157a154123544bfb56659cfa9f5e515": {
      "model_module": "@jupyter-widgets/controls",
      "model_module_version": "2.0.0",
      "model_name": "HTMLModel",
      "state": {
       "layout": "IPY_MODEL_66ff7012dd3e479dadcbc2522480916a",
       "style": "IPY_MODEL_871fc2d5f8aa434cbc040eb4f4931fbe",
       "value": " 190/191 [00:43&lt;00:00,  4.43it/s]"
      }
     },
     "6172d5b9144f4b18ac1272f3ed73a486": {
      "model_module": "@jupyter-widgets/controls",
      "model_module_version": "2.0.0",
      "model_name": "HTMLStyleModel",
      "state": {
       "description_width": "",
       "font_size": null,
       "text_color": null
      }
     },
     "61c54d2d64c0436fa8ba249ed9f95dc3": {
      "model_module": "@jupyter-widgets/base",
      "model_module_version": "2.0.0",
      "model_name": "LayoutModel",
      "state": {
       "visibility": "hidden"
      }
     },
     "622b40bac58f4fafa88c05acda10a879": {
      "model_module": "@jupyter-widgets/base",
      "model_module_version": "2.0.0",
      "model_name": "LayoutModel",
      "state": {}
     },
     "629684b539ad41a8b1f8a65285bdf4ba": {
      "model_module": "@jupyter-widgets/controls",
      "model_module_version": "2.0.0",
      "model_name": "HTMLModel",
      "state": {
       "layout": "IPY_MODEL_6d3416a2da3f468cbb3d59d76ac5e09c",
       "style": "IPY_MODEL_f2d3ea1cab29465a82c0c91057e949a7",
       "value": " 191/191 [00:49&lt;00:00,  4.68it/s]"
      }
     },
     "62a00543777b4107a7946f3b2a5f840c": {
      "model_module": "@jupyter-widgets/controls",
      "model_module_version": "2.0.0",
      "model_name": "HTMLModel",
      "state": {
       "layout": "IPY_MODEL_e685385e0abb4d5389af22bf0c213bb1",
       "style": "IPY_MODEL_50226816307940e98b9d0e56545b313d",
       "value": " 48/48 [00:10&lt;00:00,  4.91it/s]"
      }
     },
     "62be5a6189a44f5586f79bfb0ceec76c": {
      "model_module": "@jupyter-widgets/base",
      "model_module_version": "2.0.0",
      "model_name": "LayoutModel",
      "state": {}
     },
     "62c3fe1f90ad4783965054eeb94e8107": {
      "model_module": "@jupyter-widgets/controls",
      "model_module_version": "2.0.0",
      "model_name": "HTMLModel",
      "state": {
       "layout": "IPY_MODEL_50701cc73a49454f8d3ec17e58eacdcd",
       "style": "IPY_MODEL_04f5c385797a42e68b20bde821395df8",
       "value": " 190/191 [00:44&lt;00:00,  4.34it/s]"
      }
     },
     "62eef5a71cfb4379ad4017674cb00dec": {
      "model_module": "@jupyter-widgets/controls",
      "model_module_version": "2.0.0",
      "model_name": "HTMLModel",
      "state": {
       "layout": "IPY_MODEL_3d6288c65e3a49df8b15d76f497c1b33",
       "style": "IPY_MODEL_ab7f36acdf2944b6aac8632cd8f31a61",
       "value": " 48/48 [00:10&lt;00:00,  4.93it/s]"
      }
     },
     "630e1948ca854208b89fecf2106e3b76": {
      "model_module": "@jupyter-widgets/controls",
      "model_module_version": "2.0.0",
      "model_name": "ProgressStyleModel",
      "state": {
       "description_width": ""
      }
     },
     "6389c75ddb074e779cfd9e86a7e449f5": {
      "model_module": "@jupyter-widgets/controls",
      "model_module_version": "2.0.0",
      "model_name": "HTMLStyleModel",
      "state": {
       "description_width": "",
       "font_size": null,
       "text_color": null
      }
     },
     "63ad6f0b1f754e39be041beec58c8bfc": {
      "model_module": "@jupyter-widgets/base",
      "model_module_version": "2.0.0",
      "model_name": "LayoutModel",
      "state": {
       "visibility": "hidden"
      }
     },
     "63b589bb8566483f888e5044c4a74639": {
      "model_module": "@jupyter-widgets/controls",
      "model_module_version": "2.0.0",
      "model_name": "HTMLModel",
      "state": {
       "layout": "IPY_MODEL_060c2c5733cb4e17b27039ca1cb7c707",
       "style": "IPY_MODEL_a0494f4fab5c4d70abdefba739502b02",
       "value": "Scoring: 100%"
      }
     },
     "63f10c6dc2b44a2594b0a378d9fda932": {
      "model_module": "@jupyter-widgets/base",
      "model_module_version": "2.0.0",
      "model_name": "LayoutModel",
      "state": {}
     },
     "64a6ec9949204975a56db13520f7eab8": {
      "model_module": "@jupyter-widgets/base",
      "model_module_version": "2.0.0",
      "model_name": "LayoutModel",
      "state": {}
     },
     "64f6d184f81745bb88003feb07db4f54": {
      "model_module": "@jupyter-widgets/controls",
      "model_module_version": "2.0.0",
      "model_name": "HTMLModel",
      "state": {
       "layout": "IPY_MODEL_156df50c92d34d5face24ab2a2acdb40",
       "style": "IPY_MODEL_77650cf0f27043c581b7343f8b2912c6",
       "value": "Scoring: 100%"
      }
     },
     "657206e8e6c442eeae013161cc5cbbe8": {
      "model_module": "@jupyter-widgets/controls",
      "model_module_version": "2.0.0",
      "model_name": "HTMLStyleModel",
      "state": {
       "description_width": "",
       "font_size": null,
       "text_color": null
      }
     },
     "6575d6ceb4f34814b29652290e76d821": {
      "model_module": "@jupyter-widgets/controls",
      "model_module_version": "2.0.0",
      "model_name": "HTMLStyleModel",
      "state": {
       "description_width": "",
       "font_size": null,
       "text_color": null
      }
     },
     "65a729c91e7943a795ca7c0fcbbe7841": {
      "model_module": "@jupyter-widgets/base",
      "model_module_version": "2.0.0",
      "model_name": "LayoutModel",
      "state": {
       "visibility": "hidden"
      }
     },
     "65ac2eeea87e48b1918069229e6262cc": {
      "model_module": "@jupyter-widgets/controls",
      "model_module_version": "2.0.0",
      "model_name": "HTMLModel",
      "state": {
       "layout": "IPY_MODEL_0789724c8ef148749236a85e9c3319fa",
       "style": "IPY_MODEL_eeaf8a452b4a4ed091b7f4331ffd0843",
       "value": "Scoring:  99%"
      }
     },
     "65c4dd621c77496b94ed769d4142d0e9": {
      "model_module": "@jupyter-widgets/base",
      "model_module_version": "2.0.0",
      "model_name": "LayoutModel",
      "state": {
       "visibility": "hidden"
      }
     },
     "6605e3e6b422437ea1bce53da72f0575": {
      "model_module": "@jupyter-widgets/controls",
      "model_module_version": "2.0.0",
      "model_name": "HTMLModel",
      "state": {
       "layout": "IPY_MODEL_7761e016ab0147278e302ddc7a303c88",
       "style": "IPY_MODEL_5e5f5a632d5f4b40a13c9414d11d060b",
       "value": " 48/48 [00:11&lt;00:00,  4.90it/s]"
      }
     },
     "6631b78bda2a4518950cc7a3ed94f6d4": {
      "model_module": "@jupyter-widgets/base",
      "model_module_version": "2.0.0",
      "model_name": "LayoutModel",
      "state": {
       "visibility": "hidden"
      }
     },
     "6652e294495d4ed18be4dbb2e235ffdc": {
      "model_module": "@jupyter-widgets/base",
      "model_module_version": "2.0.0",
      "model_name": "LayoutModel",
      "state": {}
     },
     "6683a16bd8844bfca1df4e4c11a0085f": {
      "model_module": "@jupyter-widgets/base",
      "model_module_version": "2.0.0",
      "model_name": "LayoutModel",
      "state": {}
     },
     "66ff7012dd3e479dadcbc2522480916a": {
      "model_module": "@jupyter-widgets/base",
      "model_module_version": "2.0.0",
      "model_name": "LayoutModel",
      "state": {}
     },
     "674fad4fdfde4ec1a50cf8b113293187": {
      "model_module": "@jupyter-widgets/base",
      "model_module_version": "2.0.0",
      "model_name": "LayoutModel",
      "state": {}
     },
     "6755e3dd8b8b404c96923a4c6c6f14b8": {
      "model_module": "@jupyter-widgets/controls",
      "model_module_version": "2.0.0",
      "model_name": "HTMLModel",
      "state": {
       "layout": "IPY_MODEL_b57deca523dc4971a5303d4175d1a59e",
       "style": "IPY_MODEL_97a163850cfd4ebfb5a491901adea1c9",
       "value": "Scoring: 100%"
      }
     },
     "679c3141620b4b6b8f277e88986b1073": {
      "model_module": "@jupyter-widgets/controls",
      "model_module_version": "2.0.0",
      "model_name": "HTMLModel",
      "state": {
       "layout": "IPY_MODEL_e70c29283b3345eda45b60a2af07cc81",
       "style": "IPY_MODEL_cec20073379f460faf926ef73efc6ffe",
       "value": "Scoring:  99%"
      }
     },
     "67c9efb9811b4ba4b0fc6f4321519f13": {
      "model_module": "@jupyter-widgets/base",
      "model_module_version": "2.0.0",
      "model_name": "LayoutModel",
      "state": {
       "visibility": "hidden"
      }
     },
     "68784388bf51492a9b2f5163917548b2": {
      "model_module": "@jupyter-widgets/controls",
      "model_module_version": "2.0.0",
      "model_name": "HTMLModel",
      "state": {
       "layout": "IPY_MODEL_1321b16344174626b5784e3573b0b185",
       "style": "IPY_MODEL_d4ed689382804121967ae4c7299de783",
       "value": " 191/191 [00:50&lt;00:00,  4.50it/s]"
      }
     },
     "687ce0ec3d5d470caf633e78fda9d014": {
      "model_module": "@jupyter-widgets/controls",
      "model_module_version": "2.0.0",
      "model_name": "HTMLStyleModel",
      "state": {
       "description_width": "",
       "font_size": null,
       "text_color": null
      }
     },
     "68b4b907a88a43e6a4b5f7bb8ff11543": {
      "model_module": "@jupyter-widgets/base",
      "model_module_version": "2.0.0",
      "model_name": "LayoutModel",
      "state": {}
     },
     "68f03a20c1d942ebbf444cfc4c260a64": {
      "model_module": "@jupyter-widgets/base",
      "model_module_version": "2.0.0",
      "model_name": "LayoutModel",
      "state": {}
     },
     "6909267ea11543a3b55fe4c3971d42c2": {
      "model_module": "@jupyter-widgets/controls",
      "model_module_version": "2.0.0",
      "model_name": "FloatProgressModel",
      "state": {
       "layout": "IPY_MODEL_6f84ea7f885b4bf4bdb0e837add67127",
       "max": 48,
       "style": "IPY_MODEL_dca85ae49b7d409c877ccbed20ff650f",
       "value": 48
      }
     },
     "69583b74b8bb46b9a1ba411897ae776c": {
      "model_module": "@jupyter-widgets/controls",
      "model_module_version": "2.0.0",
      "model_name": "HTMLModel",
      "state": {
       "layout": "IPY_MODEL_7dce3205dc6e48d4aaff0bd7d66a3a60",
       "style": "IPY_MODEL_1cbed2de4d134a92a48581a084eedbe9",
       "value": " 190/191 [00:45&lt;00:00,  4.28it/s]"
      }
     },
     "697eeefac5bd4178b833d7b85d055f03": {
      "model_module": "@jupyter-widgets/base",
      "model_module_version": "2.0.0",
      "model_name": "LayoutModel",
      "state": {}
     },
     "6990a31b08c347c584dcec824c51b381": {
      "model_module": "@jupyter-widgets/controls",
      "model_module_version": "2.0.0",
      "model_name": "FloatProgressModel",
      "state": {
       "layout": "IPY_MODEL_deb1b7828e194a40a60a8fcc28e67762",
       "max": 191,
       "style": "IPY_MODEL_b13814e6be0b446c9e6e90e477dac4fd",
       "value": 191
      }
     },
     "69c82f33a9c54ca4a45c509fb9d41402": {
      "model_module": "@jupyter-widgets/base",
      "model_module_version": "2.0.0",
      "model_name": "LayoutModel",
      "state": {
       "visibility": "hidden"
      }
     },
     "69c8b618e8e2451e8e28b0e4aa6ed8f5": {
      "model_module": "@jupyter-widgets/base",
      "model_module_version": "2.0.0",
      "model_name": "LayoutModel",
      "state": {}
     },
     "6a1ca29909c847fbb4c6be777908d648": {
      "model_module": "@jupyter-widgets/controls",
      "model_module_version": "2.0.0",
      "model_name": "HTMLModel",
      "state": {
       "layout": "IPY_MODEL_eb819e12dc864996bdb154c7a19060ed",
       "style": "IPY_MODEL_ee5d82b626344e9a9c484c589adca6af",
       "value": " 48/48 [00:10&lt;00:00,  4.91it/s]"
      }
     },
     "6a742abd6ff443d5bfa68a9f2920bca1": {
      "model_module": "@jupyter-widgets/base",
      "model_module_version": "2.0.0",
      "model_name": "LayoutModel",
      "state": {
       "visibility": "hidden"
      }
     },
     "6aae2a98063f4567b590ab8069f203fd": {
      "model_module": "@jupyter-widgets/base",
      "model_module_version": "2.0.0",
      "model_name": "LayoutModel",
      "state": {}
     },
     "6ba1616507de4e88b8eb565ad8420574": {
      "model_module": "@jupyter-widgets/controls",
      "model_module_version": "2.0.0",
      "model_name": "HTMLModel",
      "state": {
       "layout": "IPY_MODEL_a051c532f2774df1977e52a883ab9e7c",
       "style": "IPY_MODEL_991dbba098c4413594438522739b5ac3",
       "value": "Scoring: 100%"
      }
     },
     "6c092f1231df40a6be5705c447c36a82": {
      "model_module": "@jupyter-widgets/controls",
      "model_module_version": "2.0.0",
      "model_name": "HTMLModel",
      "state": {
       "layout": "IPY_MODEL_42bb47a99d314f668b8593edc9c75476",
       "style": "IPY_MODEL_9aa2fdb593aa4b20a8f72e0de14d3383",
       "value": "Scoring: 100%"
      }
     },
     "6c0d94cb01264928ad156dc58762f0c8": {
      "model_module": "@jupyter-widgets/controls",
      "model_module_version": "2.0.0",
      "model_name": "ProgressStyleModel",
      "state": {
       "description_width": ""
      }
     },
     "6c330daf745d4b9094cdb541b5eef169": {
      "model_module": "@jupyter-widgets/controls",
      "model_module_version": "2.0.0",
      "model_name": "HTMLStyleModel",
      "state": {
       "description_width": "",
       "font_size": null,
       "text_color": null
      }
     },
     "6c5baf24e17a44b385541a369f094c0b": {
      "model_module": "@jupyter-widgets/base",
      "model_module_version": "2.0.0",
      "model_name": "LayoutModel",
      "state": {
       "visibility": "hidden"
      }
     },
     "6c9e10eebf254f0d97dd3c3445bce15b": {
      "model_module": "@jupyter-widgets/controls",
      "model_module_version": "2.0.0",
      "model_name": "HTMLStyleModel",
      "state": {
       "description_width": "",
       "font_size": null,
       "text_color": null
      }
     },
     "6cb707e010fe4972858a3689dbf17e3f": {
      "model_module": "@jupyter-widgets/controls",
      "model_module_version": "2.0.0",
      "model_name": "HTMLModel",
      "state": {
       "layout": "IPY_MODEL_cf71eca6654646dd8bab163454675daf",
       "style": "IPY_MODEL_f3f9ffcc750f4c2ab55fb262c5941d30",
       "value": "Training: 100%"
      }
     },
     "6cd885270ff54cd5a67bb1c6ae77fecb": {
      "model_module": "@jupyter-widgets/base",
      "model_module_version": "2.0.0",
      "model_name": "LayoutModel",
      "state": {}
     },
     "6d0628c5f82449cd9a8ebe55395fba25": {
      "model_module": "@jupyter-widgets/controls",
      "model_module_version": "2.0.0",
      "model_name": "HTMLStyleModel",
      "state": {
       "description_width": "",
       "font_size": null,
       "text_color": null
      }
     },
     "6d2ccf6f3a2744f69c90701a4d82006c": {
      "model_module": "@jupyter-widgets/base",
      "model_module_version": "2.0.0",
      "model_name": "LayoutModel",
      "state": {
       "visibility": "hidden"
      }
     },
     "6d3416a2da3f468cbb3d59d76ac5e09c": {
      "model_module": "@jupyter-widgets/base",
      "model_module_version": "2.0.0",
      "model_name": "LayoutModel",
      "state": {}
     },
     "6d34aef30b2d46dbb79be18d3f055a03": {
      "model_module": "@jupyter-widgets/controls",
      "model_module_version": "2.0.0",
      "model_name": "ProgressStyleModel",
      "state": {
       "description_width": ""
      }
     },
     "6d449ee2cd5942a6b1c01c231efa1a53": {
      "model_module": "@jupyter-widgets/base",
      "model_module_version": "2.0.0",
      "model_name": "LayoutModel",
      "state": {}
     },
     "6d9c7ccc796848d89cf94226e1097b4b": {
      "model_module": "@jupyter-widgets/controls",
      "model_module_version": "2.0.0",
      "model_name": "HTMLModel",
      "state": {
       "layout": "IPY_MODEL_3ecff7d35fd04a4d9dee80d4db3b5dff",
       "style": "IPY_MODEL_af4efbb6b01347bcb7160c2c34afa84b",
       "value": "Training:  99%"
      }
     },
     "6df946c6ce244240b853c06857182a78": {
      "model_module": "@jupyter-widgets/base",
      "model_module_version": "2.0.0",
      "model_name": "LayoutModel",
      "state": {
       "visibility": "hidden"
      }
     },
     "6e0b27be544745e7b919370a45b41bb6": {
      "model_module": "@jupyter-widgets/base",
      "model_module_version": "2.0.0",
      "model_name": "LayoutModel",
      "state": {
       "visibility": "hidden"
      }
     },
     "6e5b144bfe7f466d9e9c74fede5bc24d": {
      "model_module": "@jupyter-widgets/controls",
      "model_module_version": "2.0.0",
      "model_name": "HTMLStyleModel",
      "state": {
       "description_width": "",
       "font_size": null,
       "text_color": null
      }
     },
     "6e5de6021bf14fb2bbbd74ee3749d29c": {
      "model_module": "@jupyter-widgets/controls",
      "model_module_version": "2.0.0",
      "model_name": "FloatProgressModel",
      "state": {
       "layout": "IPY_MODEL_8342f4c210f34c3bb6e12400d9b08dde",
       "max": 191,
       "style": "IPY_MODEL_53de410276024b17a4cf678789ba274f",
       "value": 191
      }
     },
     "6e7a728630a5438f9bed657480b4147b": {
      "model_module": "@jupyter-widgets/base",
      "model_module_version": "2.0.0",
      "model_name": "LayoutModel",
      "state": {}
     },
     "6e89cfc0883741678bb7aa0798394b5e": {
      "model_module": "@jupyter-widgets/base",
      "model_module_version": "2.0.0",
      "model_name": "LayoutModel",
      "state": {
       "visibility": "hidden"
      }
     },
     "6f169d806c4c47a58ded234b9e43b558": {
      "model_module": "@jupyter-widgets/controls",
      "model_module_version": "2.0.0",
      "model_name": "HTMLModel",
      "state": {
       "layout": "IPY_MODEL_5cc0b509c0504b439583b859a1e3be73",
       "style": "IPY_MODEL_c98ed680a35e433f9690ed76d5c7b52d",
       "value": " 191/191 [00:49&lt;00:00,  4.75it/s]"
      }
     },
     "6f682e28cd6a4921b211d17db7823f10": {
      "model_module": "@jupyter-widgets/controls",
      "model_module_version": "2.0.0",
      "model_name": "HTMLModel",
      "state": {
       "layout": "IPY_MODEL_41afe5c0b28f41b38fdd6e5e26a478ea",
       "style": "IPY_MODEL_518c81eea66f4172803e23b8838071bb",
       "value": "Scoring:  99%"
      }
     },
     "6f84ea7f885b4bf4bdb0e837add67127": {
      "model_module": "@jupyter-widgets/base",
      "model_module_version": "2.0.0",
      "model_name": "LayoutModel",
      "state": {}
     },
     "6fcc762133ca4e2a80cd8c8e60cc567a": {
      "model_module": "@jupyter-widgets/base",
      "model_module_version": "2.0.0",
      "model_name": "LayoutModel",
      "state": {
       "visibility": "hidden"
      }
     },
     "6ff9e4b0338a457cb6c2f1c494a82d3f": {
      "model_module": "@jupyter-widgets/base",
      "model_module_version": "2.0.0",
      "model_name": "LayoutModel",
      "state": {
       "visibility": "hidden"
      }
     },
     "700c5b0c368b4c3d9a709231d2796b8d": {
      "model_module": "@jupyter-widgets/base",
      "model_module_version": "2.0.0",
      "model_name": "LayoutModel",
      "state": {
       "visibility": "hidden"
      }
     },
     "70800871dbf441fdab421de2b09cf70a": {
      "model_module": "@jupyter-widgets/controls",
      "model_module_version": "2.0.0",
      "model_name": "HTMLModel",
      "state": {
       "layout": "IPY_MODEL_faaeeaf3da29405d94286c900aefb20b",
       "style": "IPY_MODEL_dd766f26c8594873afbd91cdd2ef3cf6",
       "value": " 48/48 [00:11&lt;00:00,  5.05it/s]"
      }
     },
     "708355217525435fa021a10c6abe23b1": {
      "model_module": "@jupyter-widgets/controls",
      "model_module_version": "2.0.0",
      "model_name": "HTMLStyleModel",
      "state": {
       "description_width": "",
       "font_size": null,
       "text_color": null
      }
     },
     "70b8ad492e254366a9d7de329d7c9f45": {
      "model_module": "@jupyter-widgets/controls",
      "model_module_version": "2.0.0",
      "model_name": "ProgressStyleModel",
      "state": {
       "description_width": ""
      }
     },
     "70f44d79c1ec4673a017ee2ca299dfc5": {
      "model_module": "@jupyter-widgets/controls",
      "model_module_version": "2.0.0",
      "model_name": "HTMLStyleModel",
      "state": {
       "description_width": "",
       "font_size": null,
       "text_color": null
      }
     },
     "713676806b8c49a6891c8330a48f3fa6": {
      "model_module": "@jupyter-widgets/controls",
      "model_module_version": "2.0.0",
      "model_name": "HTMLModel",
      "state": {
       "layout": "IPY_MODEL_0c040e5c0daf426398d2e3d0edb4eee7",
       "style": "IPY_MODEL_f8114b68c09d4241b115b6f84c6db00c",
       "value": "Scoring:  99%"
      }
     },
     "717b32c16f67470abeb43ddb5c312453": {
      "model_module": "@jupyter-widgets/base",
      "model_module_version": "2.0.0",
      "model_name": "LayoutModel",
      "state": {
       "visibility": "hidden"
      }
     },
     "71b48b0f43ed4ddba1e03276b5337765": {
      "model_module": "@jupyter-widgets/controls",
      "model_module_version": "2.0.0",
      "model_name": "HTMLModel",
      "state": {
       "layout": "IPY_MODEL_45a4231e2b9243f192d2d08374478334",
       "style": "IPY_MODEL_fb9b27cc5bbb468a8e03399487028ceb",
       "value": "Training: 100%"
      }
     },
     "7211d678aead4cc8a51fb1734ea693b8": {
      "model_module": "@jupyter-widgets/controls",
      "model_module_version": "2.0.0",
      "model_name": "HTMLStyleModel",
      "state": {
       "description_width": "",
       "font_size": null,
       "text_color": null
      }
     },
     "721752b0e35c47629acad354d412d479": {
      "model_module": "@jupyter-widgets/controls",
      "model_module_version": "2.0.0",
      "model_name": "FloatProgressModel",
      "state": {
       "layout": "IPY_MODEL_0a7b65a9385a4dd08e31efb4a3978ec5",
       "max": 48,
       "style": "IPY_MODEL_b980a5274342427799391ce3e18f9862",
       "value": 48
      }
     },
     "722ad8f53e0347f99ae2a6c162509998": {
      "model_module": "@jupyter-widgets/controls",
      "model_module_version": "2.0.0",
      "model_name": "HTMLStyleModel",
      "state": {
       "description_width": "",
       "font_size": null,
       "text_color": null
      }
     },
     "722f8ac8b7604298a6cdd9f9e00a30e6": {
      "model_module": "@jupyter-widgets/controls",
      "model_module_version": "2.0.0",
      "model_name": "HTMLStyleModel",
      "state": {
       "description_width": "",
       "font_size": null,
       "text_color": null
      }
     },
     "726d01dc47c64f38951d6550f95be2c9": {
      "model_module": "@jupyter-widgets/base",
      "model_module_version": "2.0.0",
      "model_name": "LayoutModel",
      "state": {}
     },
     "729bf39d13c04cb4aa60da0b990ff1a6": {
      "model_module": "@jupyter-widgets/base",
      "model_module_version": "2.0.0",
      "model_name": "LayoutModel",
      "state": {
       "visibility": "hidden"
      }
     },
     "72e88df522e640fc97b8b9c824ed3551": {
      "model_module": "@jupyter-widgets/controls",
      "model_module_version": "2.0.0",
      "model_name": "HTMLModel",
      "state": {
       "layout": "IPY_MODEL_4b6e9b372fe542f48375edf4e4d24205",
       "style": "IPY_MODEL_9d10226937c54966ac3cb2b728edf8a1",
       "value": "Scoring: 100%"
      }
     },
     "73074b52b5844f409a85e2467d2b0308": {
      "model_module": "@jupyter-widgets/controls",
      "model_module_version": "2.0.0",
      "model_name": "HTMLModel",
      "state": {
       "layout": "IPY_MODEL_e712bfa140b54f058eeedaa461e5cc7f",
       "style": "IPY_MODEL_fdb0d31a0b9944968a2184a65e2577dd",
       "value": "Training: 100%"
      }
     },
     "733bc1cfebcb4c8789f76f95f5be4e72": {
      "model_module": "@jupyter-widgets/controls",
      "model_module_version": "2.0.0",
      "model_name": "ProgressStyleModel",
      "state": {
       "description_width": ""
      }
     },
     "736ba57385a94ddaa4acba027ca3044f": {
      "model_module": "@jupyter-widgets/base",
      "model_module_version": "2.0.0",
      "model_name": "LayoutModel",
      "state": {}
     },
     "737bb2459077410fa83ce0043d822f57": {
      "model_module": "@jupyter-widgets/controls",
      "model_module_version": "2.0.0",
      "model_name": "ProgressStyleModel",
      "state": {
       "description_width": ""
      }
     },
     "73809048bf2149b887709447f7ca3df3": {
      "model_module": "@jupyter-widgets/controls",
      "model_module_version": "2.0.0",
      "model_name": "HTMLModel",
      "state": {
       "layout": "IPY_MODEL_a74f161f64c0447db4f48427309948cc",
       "style": "IPY_MODEL_047eb7297cb74eab9c7f71c43612bc26",
       "value": " 48/48 [00:11&lt;00:00,  4.78it/s]"
      }
     },
     "738ec9e913534196a14ea44a8a21a081": {
      "model_module": "@jupyter-widgets/controls",
      "model_module_version": "2.0.0",
      "model_name": "HTMLModel",
      "state": {
       "layout": "IPY_MODEL_6087e9582bf24040a6c65a008fd230d0",
       "style": "IPY_MODEL_20f6976f158142da8f067d481e8bdd5d",
       "value": "Scoring: 100%"
      }
     },
     "73ac3662a5fa492f8f13e99a65891c7d": {
      "model_module": "@jupyter-widgets/base",
      "model_module_version": "2.0.0",
      "model_name": "LayoutModel",
      "state": {
       "visibility": "hidden"
      }
     },
     "73c82a072fea47adae10cd525d68eed1": {
      "model_module": "@jupyter-widgets/controls",
      "model_module_version": "2.0.0",
      "model_name": "FloatProgressModel",
      "state": {
       "layout": "IPY_MODEL_a8e704a84f004fd398740857606efe92",
       "max": 48,
       "style": "IPY_MODEL_2c0c127ec007459aaa1bbd304ef485a1",
       "value": 48
      }
     },
     "73f70996514e438c9cfece3f6a777ebf": {
      "model_module": "@jupyter-widgets/controls",
      "model_module_version": "2.0.0",
      "model_name": "HTMLStyleModel",
      "state": {
       "description_width": "",
       "font_size": null,
       "text_color": null
      }
     },
     "741aad69f53d493387bcaf4e27f13adb": {
      "model_module": "@jupyter-widgets/controls",
      "model_module_version": "2.0.0",
      "model_name": "FloatProgressModel",
      "state": {
       "layout": "IPY_MODEL_44da6f881e6542dba5f37ff6a230ff87",
       "max": 191,
       "style": "IPY_MODEL_6c0d94cb01264928ad156dc58762f0c8",
       "value": 191
      }
     },
     "746743b48c574b70aa67f3efd23330a0": {
      "model_module": "@jupyter-widgets/base",
      "model_module_version": "2.0.0",
      "model_name": "LayoutModel",
      "state": {}
     },
     "7474c1c360004beaa505a3f16544d451": {
      "model_module": "@jupyter-widgets/base",
      "model_module_version": "2.0.0",
      "model_name": "LayoutModel",
      "state": {}
     },
     "75144a0714e848d48e8162c88dd5f588": {
      "model_module": "@jupyter-widgets/controls",
      "model_module_version": "2.0.0",
      "model_name": "FloatProgressModel",
      "state": {
       "layout": "IPY_MODEL_17e407b9d0c54cf2b9858210d9941a69",
       "max": 48,
       "style": "IPY_MODEL_7b7fbd4b12b24092aabd98ef1bbd2b47",
       "value": 48
      }
     },
     "755d113e29734fc3bb6762cdb384566f": {
      "model_module": "@jupyter-widgets/controls",
      "model_module_version": "2.0.0",
      "model_name": "FloatProgressModel",
      "state": {
       "layout": "IPY_MODEL_79bace2ad8fd48af92afcebfcadb9d49",
       "max": 191,
       "style": "IPY_MODEL_b188e1b34af44a64a408f250d5e23f6d",
       "value": 191
      }
     },
     "75b44535d71344c1a6152d65646b1e16": {
      "model_module": "@jupyter-widgets/controls",
      "model_module_version": "2.0.0",
      "model_name": "HTMLModel",
      "state": {
       "layout": "IPY_MODEL_fd0ccff3575a4a1faa6890672b31c4e8",
       "style": "IPY_MODEL_fa26872bbcd04dac93309c642b966608",
       "value": " 190/191 [00:48&lt;00:00,  3.87it/s]"
      }
     },
     "75b78696a42f4fcaa918a1bbffb2ef13": {
      "model_module": "@jupyter-widgets/controls",
      "model_module_version": "2.0.0",
      "model_name": "HTMLStyleModel",
      "state": {
       "description_width": "",
       "font_size": null,
       "text_color": null
      }
     },
     "75b84a6d1f914a39984243ac5c0decf6": {
      "model_module": "@jupyter-widgets/base",
      "model_module_version": "2.0.0",
      "model_name": "LayoutModel",
      "state": {
       "visibility": "hidden"
      }
     },
     "76039185311847b1ba8631f5e587d734": {
      "model_module": "@jupyter-widgets/controls",
      "model_module_version": "2.0.0",
      "model_name": "FloatProgressModel",
      "state": {
       "layout": "IPY_MODEL_2aa3715d77014a10b63282af0962351f",
       "max": 191,
       "style": "IPY_MODEL_ee199ce8b1424d3fb3419c64a70bc17a",
       "value": 191
      }
     },
     "763470f168e94f3286ea065539e260d5": {
      "model_module": "@jupyter-widgets/base",
      "model_module_version": "2.0.0",
      "model_name": "LayoutModel",
      "state": {}
     },
     "76a06785d6484bf9b40a511b9bd8d103": {
      "model_module": "@jupyter-widgets/controls",
      "model_module_version": "2.0.0",
      "model_name": "FloatProgressModel",
      "state": {
       "layout": "IPY_MODEL_b257100050c348cea9085ae51ceed4f4",
       "max": 191,
       "style": "IPY_MODEL_dced9d2d38824b528a24c0837b26f353",
       "value": 191
      }
     },
     "77022378c70c4d8781508e3e6a2ce544": {
      "model_module": "@jupyter-widgets/base",
      "model_module_version": "2.0.0",
      "model_name": "LayoutModel",
      "state": {}
     },
     "7708746e5abd4eaebb8828570f046e73": {
      "model_module": "@jupyter-widgets/controls",
      "model_module_version": "2.0.0",
      "model_name": "HTMLStyleModel",
      "state": {
       "description_width": "",
       "font_size": null,
       "text_color": null
      }
     },
     "77570439301e4a3eabcc34878a997bab": {
      "model_module": "@jupyter-widgets/base",
      "model_module_version": "2.0.0",
      "model_name": "LayoutModel",
      "state": {}
     },
     "7761e016ab0147278e302ddc7a303c88": {
      "model_module": "@jupyter-widgets/base",
      "model_module_version": "2.0.0",
      "model_name": "LayoutModel",
      "state": {}
     },
     "77650cf0f27043c581b7343f8b2912c6": {
      "model_module": "@jupyter-widgets/controls",
      "model_module_version": "2.0.0",
      "model_name": "HTMLStyleModel",
      "state": {
       "description_width": "",
       "font_size": null,
       "text_color": null
      }
     },
     "78689a59200d4cc3a18cd7be9fae2b12": {
      "model_module": "@jupyter-widgets/controls",
      "model_module_version": "2.0.0",
      "model_name": "HTMLModel",
      "state": {
       "layout": "IPY_MODEL_3dc67acaa19c45c2ad01a623a89e0b61",
       "style": "IPY_MODEL_722ad8f53e0347f99ae2a6c162509998",
       "value": " 48/48 [00:10&lt;00:00,  4.87it/s]"
      }
     },
     "789114fabe1141f49de61d2dc1848cc5": {
      "model_module": "@jupyter-widgets/controls",
      "model_module_version": "2.0.0",
      "model_name": "HTMLModel",
      "state": {
       "layout": "IPY_MODEL_f51df2e8d655409cad2652aed45e23da",
       "style": "IPY_MODEL_70f44d79c1ec4673a017ee2ca299dfc5",
       "value": "Training: 100%"
      }
     },
     "79271faf2f0d461f9d10e0987a9bae87": {
      "model_module": "@jupyter-widgets/controls",
      "model_module_version": "2.0.0",
      "model_name": "HTMLStyleModel",
      "state": {
       "description_width": "",
       "font_size": null,
       "text_color": null
      }
     },
     "79bace2ad8fd48af92afcebfcadb9d49": {
      "model_module": "@jupyter-widgets/base",
      "model_module_version": "2.0.0",
      "model_name": "LayoutModel",
      "state": {}
     },
     "7a24c4492a0d47dd9ee3069292f0d44b": {
      "model_module": "@jupyter-widgets/base",
      "model_module_version": "2.0.0",
      "model_name": "LayoutModel",
      "state": {
       "visibility": "hidden"
      }
     },
     "7a29de41a1ec4761892a10ada8abe256": {
      "model_module": "@jupyter-widgets/base",
      "model_module_version": "2.0.0",
      "model_name": "LayoutModel",
      "state": {}
     },
     "7a41fc015a8d4edf9e7bb145a0bcf58e": {
      "model_module": "@jupyter-widgets/controls",
      "model_module_version": "2.0.0",
      "model_name": "HTMLModel",
      "state": {
       "layout": "IPY_MODEL_a7e25f778f514dd6b91f642613bfa1ad",
       "style": "IPY_MODEL_350b947766a3496c97ce8315d1ea0253",
       "value": " 191/191 [00:50&lt;00:00,  4.66it/s]"
      }
     },
     "7b7fbd4b12b24092aabd98ef1bbd2b47": {
      "model_module": "@jupyter-widgets/controls",
      "model_module_version": "2.0.0",
      "model_name": "ProgressStyleModel",
      "state": {
       "description_width": ""
      }
     },
     "7bd4ed9012ad4d748887f079b44efa76": {
      "model_module": "@jupyter-widgets/controls",
      "model_module_version": "2.0.0",
      "model_name": "HTMLStyleModel",
      "state": {
       "description_width": "",
       "font_size": null,
       "text_color": null
      }
     },
     "7c857e1ac0524b3db84e8a37fcd38631": {
      "model_module": "@jupyter-widgets/base",
      "model_module_version": "2.0.0",
      "model_name": "LayoutModel",
      "state": {
       "visibility": "hidden"
      }
     },
     "7c88a917e7444aa69f8a668212847bec": {
      "model_module": "@jupyter-widgets/controls",
      "model_module_version": "2.0.0",
      "model_name": "HTMLStyleModel",
      "state": {
       "description_width": "",
       "font_size": null,
       "text_color": null
      }
     },
     "7cab11b45e53493a9ac0ad7a65a15029": {
      "model_module": "@jupyter-widgets/base",
      "model_module_version": "2.0.0",
      "model_name": "LayoutModel",
      "state": {}
     },
     "7d21734eec834606b393348a13dee56e": {
      "model_module": "@jupyter-widgets/controls",
      "model_module_version": "2.0.0",
      "model_name": "ProgressStyleModel",
      "state": {
       "description_width": ""
      }
     },
     "7d4376c96e49490582718a6f77b8d266": {
      "model_module": "@jupyter-widgets/controls",
      "model_module_version": "2.0.0",
      "model_name": "FloatProgressModel",
      "state": {
       "layout": "IPY_MODEL_0ebb5d348d7d4882865344eb158bc7bb",
       "max": 191,
       "style": "IPY_MODEL_12a5d775fd5f4126bfa63eda3a8a552a",
       "value": 191
      }
     },
     "7d57d7f13333449593d73048b920bbf3": {
      "model_module": "@jupyter-widgets/base",
      "model_module_version": "2.0.0",
      "model_name": "LayoutModel",
      "state": {
       "visibility": "hidden"
      }
     },
     "7dce3205dc6e48d4aaff0bd7d66a3a60": {
      "model_module": "@jupyter-widgets/base",
      "model_module_version": "2.0.0",
      "model_name": "LayoutModel",
      "state": {}
     },
     "7dd1da969e62405a86b536cf6945976c": {
      "model_module": "@jupyter-widgets/controls",
      "model_module_version": "2.0.0",
      "model_name": "HTMLModel",
      "state": {
       "layout": "IPY_MODEL_ca5728026cc24340a08821c5809fe266",
       "style": "IPY_MODEL_893f8fb612d54c3aa549507340361c2c",
       "value": "Scoring: 100%"
      }
     },
     "7dec5b1f97134ab3b88c565c85a0fbb1": {
      "model_module": "@jupyter-widgets/base",
      "model_module_version": "2.0.0",
      "model_name": "LayoutModel",
      "state": {}
     },
     "7e14a4078bc44508bf96430a5b70544a": {
      "model_module": "@jupyter-widgets/base",
      "model_module_version": "2.0.0",
      "model_name": "LayoutModel",
      "state": {
       "visibility": "hidden"
      }
     },
     "7e632da0ddb14f3ca0d6a3c5aa6f0b19": {
      "model_module": "@jupyter-widgets/base",
      "model_module_version": "2.0.0",
      "model_name": "LayoutModel",
      "state": {}
     },
     "7e8bc2668fe94d4384f86cdde221769d": {
      "model_module": "@jupyter-widgets/controls",
      "model_module_version": "2.0.0",
      "model_name": "ProgressStyleModel",
      "state": {
       "description_width": ""
      }
     },
     "7fdee77fc5874fa2ad017a389913c477": {
      "model_module": "@jupyter-widgets/controls",
      "model_module_version": "2.0.0",
      "model_name": "FloatProgressModel",
      "state": {
       "layout": "IPY_MODEL_51013eddb046467f9dbd3e70080fd22a",
       "max": 191,
       "style": "IPY_MODEL_e1937247cfb74c20b4667a24d4e42109",
       "value": 191
      }
     },
     "7fe7ce293665457dbd7509ede569fc18": {
      "model_module": "@jupyter-widgets/base",
      "model_module_version": "2.0.0",
      "model_name": "LayoutModel",
      "state": {
       "visibility": "hidden"
      }
     },
     "808c40127fc641cc8ff58721e97b71e1": {
      "model_module": "@jupyter-widgets/controls",
      "model_module_version": "2.0.0",
      "model_name": "HTMLModel",
      "state": {
       "layout": "IPY_MODEL_dd1d68c52d024579801649264db0ca14",
       "style": "IPY_MODEL_074408f172c94642af5bd5fc2dadcfc4",
       "value": "Scoring:  99%"
      }
     },
     "809e280142ca4380a0b08c462e853bdc": {
      "model_module": "@jupyter-widgets/controls",
      "model_module_version": "2.0.0",
      "model_name": "HTMLModel",
      "state": {
       "layout": "IPY_MODEL_3b993d20731548309fe22b95a5181bb7",
       "style": "IPY_MODEL_070cdd42eba64c4ba625bdbb42ccefa8",
       "value": " 191/191 [00:43&lt;00:00,  5.26it/s]"
      }
     },
     "80d0a1faebec4d349d8a1b4e3238eafe": {
      "model_module": "@jupyter-widgets/base",
      "model_module_version": "2.0.0",
      "model_name": "LayoutModel",
      "state": {}
     },
     "8115185ba8d9492e8e0f9eec453cce6f": {
      "model_module": "@jupyter-widgets/controls",
      "model_module_version": "2.0.0",
      "model_name": "ProgressStyleModel",
      "state": {
       "description_width": ""
      }
     },
     "81e4e76935934ca98d3e523f6e206102": {
      "model_module": "@jupyter-widgets/controls",
      "model_module_version": "2.0.0",
      "model_name": "HTMLModel",
      "state": {
       "layout": "IPY_MODEL_407a536614e742ec84f445bf8b995bf0",
       "style": "IPY_MODEL_ba35f6b812a44f568d0b4e79dd57e204",
       "value": " 190/191 [00:44&lt;00:00,  4.28it/s]"
      }
     },
     "820fc9a0bdcd4314aa37d9e4772e18bb": {
      "model_module": "@jupyter-widgets/base",
      "model_module_version": "2.0.0",
      "model_name": "LayoutModel",
      "state": {}
     },
     "8242ee12425c4a48ac79321165a962f5": {
      "model_module": "@jupyter-widgets/controls",
      "model_module_version": "2.0.0",
      "model_name": "HTMLStyleModel",
      "state": {
       "description_width": "",
       "font_size": null,
       "text_color": null
      }
     },
     "825aadd0259f4dbc80afda3c657403ad": {
      "model_module": "@jupyter-widgets/base",
      "model_module_version": "2.0.0",
      "model_name": "LayoutModel",
      "state": {}
     },
     "8342f4c210f34c3bb6e12400d9b08dde": {
      "model_module": "@jupyter-widgets/base",
      "model_module_version": "2.0.0",
      "model_name": "LayoutModel",
      "state": {}
     },
     "836eb14fdd054f48b39ab1def7fe746e": {
      "model_module": "@jupyter-widgets/controls",
      "model_module_version": "2.0.0",
      "model_name": "HTMLStyleModel",
      "state": {
       "description_width": "",
       "font_size": null,
       "text_color": null
      }
     },
     "838c089b4a1c4b04a3091c6ae7e1731e": {
      "model_module": "@jupyter-widgets/controls",
      "model_module_version": "2.0.0",
      "model_name": "HTMLStyleModel",
      "state": {
       "description_width": "",
       "font_size": null,
       "text_color": null
      }
     },
     "83e044495192476faeecad131c0d5c29": {
      "model_module": "@jupyter-widgets/controls",
      "model_module_version": "2.0.0",
      "model_name": "FloatProgressModel",
      "state": {
       "layout": "IPY_MODEL_674fad4fdfde4ec1a50cf8b113293187",
       "max": 48,
       "style": "IPY_MODEL_6d34aef30b2d46dbb79be18d3f055a03",
       "value": 48
      }
     },
     "8417b04d265241c2b05d54bb9dba2e69": {
      "model_module": "@jupyter-widgets/base",
      "model_module_version": "2.0.0",
      "model_name": "LayoutModel",
      "state": {
       "visibility": "hidden"
      }
     },
     "84c9f835f61745a1886ec5a77dce4eee": {
      "model_module": "@jupyter-widgets/base",
      "model_module_version": "2.0.0",
      "model_name": "LayoutModel",
      "state": {
       "visibility": "hidden"
      }
     },
     "852c9cf81112415d9222fc298272cf86": {
      "model_module": "@jupyter-widgets/base",
      "model_module_version": "2.0.0",
      "model_name": "LayoutModel",
      "state": {}
     },
     "852cb4597dd74b058946a45b6c0c45aa": {
      "model_module": "@jupyter-widgets/base",
      "model_module_version": "2.0.0",
      "model_name": "LayoutModel",
      "state": {
       "visibility": "hidden"
      }
     },
     "8589addcd0cc40309f84f33d238f6d8d": {
      "model_module": "@jupyter-widgets/base",
      "model_module_version": "2.0.0",
      "model_name": "LayoutModel",
      "state": {
       "visibility": "hidden"
      }
     },
     "859a014ec983412eb0f6f1b1719d72e8": {
      "model_module": "@jupyter-widgets/controls",
      "model_module_version": "2.0.0",
      "model_name": "HTMLModel",
      "state": {
       "layout": "IPY_MODEL_2d9996b174554a71935a5bdfb86103c7",
       "style": "IPY_MODEL_cf40b393fdbe478f8f18e99c506d1f95",
       "value": " 190/191 [00:45&lt;00:00,  4.24it/s]"
      }
     },
     "862e603ed9544729bb9685ff46ca7951": {
      "model_module": "@jupyter-widgets/controls",
      "model_module_version": "2.0.0",
      "model_name": "ProgressStyleModel",
      "state": {
       "description_width": ""
      }
     },
     "867ffaf29aa14616b2d72fc774fd9feb": {
      "model_module": "@jupyter-widgets/controls",
      "model_module_version": "2.0.0",
      "model_name": "HTMLStyleModel",
      "state": {
       "description_width": "",
       "font_size": null,
       "text_color": null
      }
     },
     "868b0360054c48bc8d2e5d4c8cce7a42": {
      "model_module": "@jupyter-widgets/controls",
      "model_module_version": "2.0.0",
      "model_name": "HTMLStyleModel",
      "state": {
       "description_width": "",
       "font_size": null,
       "text_color": null
      }
     },
     "8694826032684f92aefcbf268287b02f": {
      "model_module": "@jupyter-widgets/controls",
      "model_module_version": "2.0.0",
      "model_name": "HTMLStyleModel",
      "state": {
       "description_width": "",
       "font_size": null,
       "text_color": null
      }
     },
     "8699023b0d15409f83286a41083f2c2c": {
      "model_module": "@jupyter-widgets/controls",
      "model_module_version": "2.0.0",
      "model_name": "ProgressStyleModel",
      "state": {
       "description_width": ""
      }
     },
     "86a9c7b4609c450a970e9e510ac44d2d": {
      "model_module": "@jupyter-widgets/controls",
      "model_module_version": "2.0.0",
      "model_name": "HTMLStyleModel",
      "state": {
       "description_width": "",
       "font_size": null,
       "text_color": null
      }
     },
     "86adab1520974ab1ada729ba49305b0c": {
      "model_module": "@jupyter-widgets/controls",
      "model_module_version": "2.0.0",
      "model_name": "HTMLStyleModel",
      "state": {
       "description_width": "",
       "font_size": null,
       "text_color": null
      }
     },
     "871fc2d5f8aa434cbc040eb4f4931fbe": {
      "model_module": "@jupyter-widgets/controls",
      "model_module_version": "2.0.0",
      "model_name": "HTMLStyleModel",
      "state": {
       "description_width": "",
       "font_size": null,
       "text_color": null
      }
     },
     "87689cd9e1834fa4bc9caccf1fdea655": {
      "model_module": "@jupyter-widgets/controls",
      "model_module_version": "2.0.0",
      "model_name": "HTMLStyleModel",
      "state": {
       "description_width": "",
       "font_size": null,
       "text_color": null
      }
     },
     "87c28a9a721d42c59654397dd9e84814": {
      "model_module": "@jupyter-widgets/base",
      "model_module_version": "2.0.0",
      "model_name": "LayoutModel",
      "state": {}
     },
     "87e890ea552645ae87a31ecbe4c54062": {
      "model_module": "@jupyter-widgets/base",
      "model_module_version": "2.0.0",
      "model_name": "LayoutModel",
      "state": {}
     },
     "887ee4dd86084202a4f9dd2ad44046e8": {
      "model_module": "@jupyter-widgets/controls",
      "model_module_version": "2.0.0",
      "model_name": "HTMLModel",
      "state": {
       "layout": "IPY_MODEL_5cb1b646dea04e4bb47acc193015fc23",
       "style": "IPY_MODEL_dd880413d96549e2a1d67d7620cf2994",
       "value": " 190/191 [00:44&lt;00:00,  4.31it/s]"
      }
     },
     "890a46ccb40645eb881e3513d2de6d32": {
      "model_module": "@jupyter-widgets/base",
      "model_module_version": "2.0.0",
      "model_name": "LayoutModel",
      "state": {
       "visibility": "hidden"
      }
     },
     "8916c42d51184469987ddf5f34469ee3": {
      "model_module": "@jupyter-widgets/controls",
      "model_module_version": "2.0.0",
      "model_name": "HTMLStyleModel",
      "state": {
       "description_width": "",
       "font_size": null,
       "text_color": null
      }
     },
     "893f8fb612d54c3aa549507340361c2c": {
      "model_module": "@jupyter-widgets/controls",
      "model_module_version": "2.0.0",
      "model_name": "HTMLStyleModel",
      "state": {
       "description_width": "",
       "font_size": null,
       "text_color": null
      }
     },
     "89d10155054e4d1fa3b74d3b82ee8bc2": {
      "model_module": "@jupyter-widgets/controls",
      "model_module_version": "2.0.0",
      "model_name": "HTMLModel",
      "state": {
       "layout": "IPY_MODEL_2d1ab4e7036342f8bda603d9b48ce231",
       "style": "IPY_MODEL_ca802df9061f4c69b09d1466b7712ecb",
       "value": "Scoring: 100%"
      }
     },
     "89f8e2da24e24ef3b804fb207d4da14a": {
      "model_module": "@jupyter-widgets/controls",
      "model_module_version": "2.0.0",
      "model_name": "FloatProgressModel",
      "state": {
       "layout": "IPY_MODEL_f2019ca71c7648e4a49342af807282da",
       "max": 48,
       "style": "IPY_MODEL_b5edfeac4778432fa5211831fe4dbef7",
       "value": 48
      }
     },
     "89fe3ac3871c494080264a4806aec026": {
      "model_module": "@jupyter-widgets/base",
      "model_module_version": "2.0.0",
      "model_name": "LayoutModel",
      "state": {}
     },
     "8a13e5ffd0cc4b27b6b3b25485de56a5": {
      "model_module": "@jupyter-widgets/controls",
      "model_module_version": "2.0.0",
      "model_name": "ProgressStyleModel",
      "state": {
       "description_width": ""
      }
     },
     "8a1f98ab0b1140b393271fdebefee380": {
      "model_module": "@jupyter-widgets/controls",
      "model_module_version": "2.0.0",
      "model_name": "HTMLStyleModel",
      "state": {
       "description_width": "",
       "font_size": null,
       "text_color": null
      }
     },
     "8af5c66764b245aca0a4d649e4e05b18": {
      "model_module": "@jupyter-widgets/controls",
      "model_module_version": "2.0.0",
      "model_name": "HBoxModel",
      "state": {
       "children": [
        "IPY_MODEL_20fa01d5be404fdf83dd93f43afce727",
        "IPY_MODEL_efc61556b085415a90e4414f8fec0a46",
        "IPY_MODEL_d3aedb1f39c1463da51d4c0ab283e5fa"
       ],
       "layout": "IPY_MODEL_16df4b28f0104f1fb0d40aaca2bfed83"
      }
     },
     "8b52272a50664f3ab568d8ced628e9b6": {
      "model_module": "@jupyter-widgets/controls",
      "model_module_version": "2.0.0",
      "model_name": "ProgressStyleModel",
      "state": {
       "description_width": ""
      }
     },
     "8b57b05d75794627850012d3294072db": {
      "model_module": "@jupyter-widgets/base",
      "model_module_version": "2.0.0",
      "model_name": "LayoutModel",
      "state": {}
     },
     "8b84984aeb6e46cd8e3a0a83ce93a24d": {
      "model_module": "@jupyter-widgets/controls",
      "model_module_version": "2.0.0",
      "model_name": "HTMLStyleModel",
      "state": {
       "description_width": "",
       "font_size": null,
       "text_color": null
      }
     },
     "8bad5d48ede24f0eb2d36c7f793af06f": {
      "model_module": "@jupyter-widgets/controls",
      "model_module_version": "2.0.0",
      "model_name": "HTMLModel",
      "state": {
       "layout": "IPY_MODEL_c31f6317813647a6b5567b49e66cdd86",
       "style": "IPY_MODEL_4e2e09ea98a44f4e8f84a553e893d300",
       "value": "Training: 100%"
      }
     },
     "8c01f8ee73944dccae1e7946d0921fa8": {
      "model_module": "@jupyter-widgets/controls",
      "model_module_version": "2.0.0",
      "model_name": "HTMLModel",
      "state": {
       "layout": "IPY_MODEL_1bee9441b3a842dbb1bbb1468dc230dc",
       "style": "IPY_MODEL_17d2a7db2e3042bd8e14dcad45dcc243",
       "value": "Scoring:  99%"
      }
     },
     "8c1c37fa4e1b47fdb0417ae592b3eb62": {
      "model_module": "@jupyter-widgets/controls",
      "model_module_version": "2.0.0",
      "model_name": "HTMLModel",
      "state": {
       "layout": "IPY_MODEL_341f856de402424dbeac30094bfa705f",
       "style": "IPY_MODEL_bcaa28724a41480a9dfb4abefeef0c69",
       "value": "Scoring: 100%"
      }
     },
     "8c2c2ba3c2664b43b836dd963e22e98e": {
      "model_module": "@jupyter-widgets/base",
      "model_module_version": "2.0.0",
      "model_name": "LayoutModel",
      "state": {}
     },
     "8c43b87f16694e688439ad1169f65b4f": {
      "model_module": "@jupyter-widgets/controls",
      "model_module_version": "2.0.0",
      "model_name": "HTMLStyleModel",
      "state": {
       "description_width": "",
       "font_size": null,
       "text_color": null
      }
     },
     "8cb1160cb69e4249af71cbec2d60190c": {
      "model_module": "@jupyter-widgets/base",
      "model_module_version": "2.0.0",
      "model_name": "LayoutModel",
      "state": {}
     },
     "8cc390763b0844f68e86e4c67c016349": {
      "model_module": "@jupyter-widgets/controls",
      "model_module_version": "2.0.0",
      "model_name": "FloatProgressModel",
      "state": {
       "layout": "IPY_MODEL_6683a16bd8844bfca1df4e4c11a0085f",
       "max": 191,
       "style": "IPY_MODEL_baa3a866c9b84a28ae3688cd669f9bae",
       "value": 191
      }
     },
     "8cff37492eba4cea96260c58d75d0381": {
      "model_module": "@jupyter-widgets/base",
      "model_module_version": "2.0.0",
      "model_name": "LayoutModel",
      "state": {
       "visibility": "hidden"
      }
     },
     "8d285489a3874f3db054143394f4c902": {
      "model_module": "@jupyter-widgets/controls",
      "model_module_version": "2.0.0",
      "model_name": "HTMLModel",
      "state": {
       "layout": "IPY_MODEL_0f05364b82c6460382d8b09a79fc7ae4",
       "style": "IPY_MODEL_06ebb6eb6c5c401a9dd50262e9cf4d22",
       "value": " 191/191 [00:51&lt;00:00,  4.63it/s]"
      }
     },
     "8d7568955ba04ac1a8257177bf014cef": {
      "model_module": "@jupyter-widgets/controls",
      "model_module_version": "2.0.0",
      "model_name": "HTMLStyleModel",
      "state": {
       "description_width": "",
       "font_size": null,
       "text_color": null
      }
     },
     "8dde63b8a546481f99ae13920e10f1a7": {
      "model_module": "@jupyter-widgets/controls",
      "model_module_version": "2.0.0",
      "model_name": "HTMLStyleModel",
      "state": {
       "description_width": "",
       "font_size": null,
       "text_color": null
      }
     },
     "8e546139256a404eb2a189956bec9fbb": {
      "model_module": "@jupyter-widgets/controls",
      "model_module_version": "2.0.0",
      "model_name": "FloatProgressModel",
      "state": {
       "layout": "IPY_MODEL_96cdc0caa0ca43769bcbe1e3912d791a",
       "max": 191,
       "style": "IPY_MODEL_a381accb8016482ea5f226ede82efba8",
       "value": 191
      }
     },
     "8e907ed3fd65490996f119dbe1b31503": {
      "model_module": "@jupyter-widgets/base",
      "model_module_version": "2.0.0",
      "model_name": "LayoutModel",
      "state": {}
     },
     "8e9ec13eb81142a6a346e97a7d0c9d9c": {
      "model_module": "@jupyter-widgets/base",
      "model_module_version": "2.0.0",
      "model_name": "LayoutModel",
      "state": {}
     },
     "8ea6937b60e042a084fb5e5ddf78ff50": {
      "model_module": "@jupyter-widgets/base",
      "model_module_version": "2.0.0",
      "model_name": "LayoutModel",
      "state": {}
     },
     "8ec4ec7cd42b431598b134697056a4bf": {
      "model_module": "@jupyter-widgets/controls",
      "model_module_version": "2.0.0",
      "model_name": "ProgressStyleModel",
      "state": {
       "description_width": ""
      }
     },
     "8f0c3050ee2f406d93d5681237311dd8": {
      "model_module": "@jupyter-widgets/controls",
      "model_module_version": "2.0.0",
      "model_name": "HTMLStyleModel",
      "state": {
       "description_width": "",
       "font_size": null,
       "text_color": null
      }
     },
     "8f73cee222f246159abcd8aeec9afeda": {
      "model_module": "@jupyter-widgets/controls",
      "model_module_version": "2.0.0",
      "model_name": "HTMLModel",
      "state": {
       "layout": "IPY_MODEL_04fc9f20665f416388b2caed99ab13e2",
       "style": "IPY_MODEL_219c3ee1d1504c81b614281ea98971af",
       "value": "Training: 100%"
      }
     },
     "8f7c50258ef54493a3805f85d9069f57": {
      "model_module": "@jupyter-widgets/controls",
      "model_module_version": "2.0.0",
      "model_name": "HTMLModel",
      "state": {
       "layout": "IPY_MODEL_068f74755ff0460abc1e574c1aa19bba",
       "style": "IPY_MODEL_0301c065af014781be88a213e3bc03af",
       "value": "Training:  99%"
      }
     },
     "8fa303d0fc1c45cf91f4753f4e733803": {
      "model_module": "@jupyter-widgets/base",
      "model_module_version": "2.0.0",
      "model_name": "LayoutModel",
      "state": {}
     },
     "8fb0b0664c7c4c088ca5b70baab934e4": {
      "model_module": "@jupyter-widgets/controls",
      "model_module_version": "2.0.0",
      "model_name": "FloatProgressModel",
      "state": {
       "layout": "IPY_MODEL_1fd714516fd040f380c67e0d3085a476",
       "max": 48,
       "style": "IPY_MODEL_5026805c22fe4e998cc681428c28e7ff",
       "value": 48
      }
     },
     "8fbf30ce3b0747d1991d51a5cc86deaf": {
      "model_module": "@jupyter-widgets/controls",
      "model_module_version": "2.0.0",
      "model_name": "FloatProgressModel",
      "state": {
       "layout": "IPY_MODEL_41380598e02b4b4eab562b85dbd36f98",
       "max": 48,
       "style": "IPY_MODEL_a1268522318348058b557cabebc9a82b",
       "value": 48
      }
     },
     "8fe3a555859942d98e916b8b20a49bcf": {
      "model_module": "@jupyter-widgets/controls",
      "model_module_version": "2.0.0",
      "model_name": "HTMLStyleModel",
      "state": {
       "description_width": "",
       "font_size": null,
       "text_color": null
      }
     },
     "8ff7a0c00f3749209503791613ff7e2b": {
      "model_module": "@jupyter-widgets/base",
      "model_module_version": "2.0.0",
      "model_name": "LayoutModel",
      "state": {}
     },
     "9025540f103544a58b7eeec6d3cc48f0": {
      "model_module": "@jupyter-widgets/base",
      "model_module_version": "2.0.0",
      "model_name": "LayoutModel",
      "state": {
       "visibility": "hidden"
      }
     },
     "90c063b90c05476bbd271bfe0e9634fe": {
      "model_module": "@jupyter-widgets/controls",
      "model_module_version": "2.0.0",
      "model_name": "HTMLModel",
      "state": {
       "layout": "IPY_MODEL_746743b48c574b70aa67f3efd23330a0",
       "style": "IPY_MODEL_87689cd9e1834fa4bc9caccf1fdea655",
       "value": " 48/48 [00:10&lt;00:00,  5.00it/s]"
      }
     },
     "912556f9c05742bb9e11e09e1e70c228": {
      "model_module": "@jupyter-widgets/base",
      "model_module_version": "2.0.0",
      "model_name": "LayoutModel",
      "state": {
       "visibility": "hidden"
      }
     },
     "913b2b4ea4db44949ff149a0415bd27b": {
      "model_module": "@jupyter-widgets/controls",
      "model_module_version": "2.0.0",
      "model_name": "HTMLModel",
      "state": {
       "layout": "IPY_MODEL_409c43d641274e8ea6872eb491231347",
       "style": "IPY_MODEL_86a9c7b4609c450a970e9e510ac44d2d",
       "value": " 48/48 [00:10&lt;00:00,  4.86it/s]"
      }
     },
     "917db6429d2e40f58ecc6f7ff52b7d0d": {
      "model_module": "@jupyter-widgets/base",
      "model_module_version": "2.0.0",
      "model_name": "LayoutModel",
      "state": {
       "visibility": "hidden"
      }
     },
     "91cac8b2b20c483fb051cb5549540095": {
      "model_module": "@jupyter-widgets/controls",
      "model_module_version": "2.0.0",
      "model_name": "HTMLStyleModel",
      "state": {
       "description_width": "",
       "font_size": null,
       "text_color": null
      }
     },
     "923e59d8b9f44015a68a07fd47e246d0": {
      "model_module": "@jupyter-widgets/controls",
      "model_module_version": "2.0.0",
      "model_name": "ProgressStyleModel",
      "state": {
       "description_width": ""
      }
     },
     "92599388c29b4174848b2862c78b06bf": {
      "model_module": "@jupyter-widgets/base",
      "model_module_version": "2.0.0",
      "model_name": "LayoutModel",
      "state": {}
     },
     "9264a8b7f1f2442aacf88eafc5b7a118": {
      "model_module": "@jupyter-widgets/controls",
      "model_module_version": "2.0.0",
      "model_name": "ProgressStyleModel",
      "state": {
       "description_width": ""
      }
     },
     "93ca92a37519425fb23aa6be4c0411f5": {
      "model_module": "@jupyter-widgets/base",
      "model_module_version": "2.0.0",
      "model_name": "LayoutModel",
      "state": {}
     },
     "93d69eb2e5814ff39129eebd5134e3c5": {
      "model_module": "@jupyter-widgets/base",
      "model_module_version": "2.0.0",
      "model_name": "LayoutModel",
      "state": {}
     },
     "94cf62e8506146349412c13b0cb5d7fc": {
      "model_module": "@jupyter-widgets/controls",
      "model_module_version": "2.0.0",
      "model_name": "HTMLModel",
      "state": {
       "layout": "IPY_MODEL_f43675b8ae234ac2ae12dbce3eab09ab",
       "style": "IPY_MODEL_513a2a130862485c9af33aa70aec2cae",
       "value": " 48/48 [00:10&lt;00:00,  4.97it/s]"
      }
     },
     "965f554b7a07486e94b563ccb8342166": {
      "model_module": "@jupyter-widgets/controls",
      "model_module_version": "2.0.0",
      "model_name": "HTMLStyleModel",
      "state": {
       "description_width": "",
       "font_size": null,
       "text_color": null
      }
     },
     "967260d9addb4314aea9047fabbac755": {
      "model_module": "@jupyter-widgets/controls",
      "model_module_version": "2.0.0",
      "model_name": "ProgressStyleModel",
      "state": {
       "description_width": ""
      }
     },
     "969cb4f9151e43a7a5f3626c262f1350": {
      "model_module": "@jupyter-widgets/controls",
      "model_module_version": "2.0.0",
      "model_name": "HTMLModel",
      "state": {
       "layout": "IPY_MODEL_dc3ef2d7371d4a2e808cd267ad1ec59d",
       "style": "IPY_MODEL_0525533831b549aaa17945c38aa43168",
       "value": " 48/48 [00:11&lt;00:00,  4.92it/s]"
      }
     },
     "96ae2df491994b76a8179d4cb364cf3e": {
      "model_module": "@jupyter-widgets/controls",
      "model_module_version": "2.0.0",
      "model_name": "HTMLStyleModel",
      "state": {
       "description_width": "",
       "font_size": null,
       "text_color": null
      }
     },
     "96cdc0caa0ca43769bcbe1e3912d791a": {
      "model_module": "@jupyter-widgets/base",
      "model_module_version": "2.0.0",
      "model_name": "LayoutModel",
      "state": {}
     },
     "96e34ba3ca4041a3a35cc84ab2ca2a70": {
      "model_module": "@jupyter-widgets/controls",
      "model_module_version": "2.0.0",
      "model_name": "HTMLStyleModel",
      "state": {
       "description_width": "",
       "font_size": null,
       "text_color": null
      }
     },
     "96ef8e9040ca4975a1a688f928b94cc6": {
      "model_module": "@jupyter-widgets/base",
      "model_module_version": "2.0.0",
      "model_name": "LayoutModel",
      "state": {
       "visibility": "hidden"
      }
     },
     "96f28d2c7ddc4cb486e075df8d5fc429": {
      "model_module": "@jupyter-widgets/controls",
      "model_module_version": "2.0.0",
      "model_name": "HTMLStyleModel",
      "state": {
       "description_width": "",
       "font_size": null,
       "text_color": null
      }
     },
     "97015ed4b5cf45f095f84d3bdec48f27": {
      "model_module": "@jupyter-widgets/controls",
      "model_module_version": "2.0.0",
      "model_name": "FloatProgressModel",
      "state": {
       "layout": "IPY_MODEL_aeb519724ea94e6581fdfc0369a6b702",
       "max": 191,
       "style": "IPY_MODEL_7e8bc2668fe94d4384f86cdde221769d",
       "value": 191
      }
     },
     "9755533e25174ce9bd6ad6aaa2ce81c5": {
      "model_module": "@jupyter-widgets/base",
      "model_module_version": "2.0.0",
      "model_name": "LayoutModel",
      "state": {}
     },
     "97a163850cfd4ebfb5a491901adea1c9": {
      "model_module": "@jupyter-widgets/controls",
      "model_module_version": "2.0.0",
      "model_name": "HTMLStyleModel",
      "state": {
       "description_width": "",
       "font_size": null,
       "text_color": null
      }
     },
     "984acecfc28540b9b0ecadbdc9ab252a": {
      "model_module": "@jupyter-widgets/base",
      "model_module_version": "2.0.0",
      "model_name": "LayoutModel",
      "state": {}
     },
     "98636171f76f4a02b9543606d0c750c0": {
      "model_module": "@jupyter-widgets/base",
      "model_module_version": "2.0.0",
      "model_name": "LayoutModel",
      "state": {
       "visibility": "hidden"
      }
     },
     "98a90cf03e724861bff753e92dfe56fb": {
      "model_module": "@jupyter-widgets/controls",
      "model_module_version": "2.0.0",
      "model_name": "ProgressStyleModel",
      "state": {
       "description_width": ""
      }
     },
     "98d98ce5da7d477a8ab69d26445dbd25": {
      "model_module": "@jupyter-widgets/base",
      "model_module_version": "2.0.0",
      "model_name": "LayoutModel",
      "state": {}
     },
     "98fef75827c2411488d241b90d6a92c9": {
      "model_module": "@jupyter-widgets/controls",
      "model_module_version": "2.0.0",
      "model_name": "FloatProgressModel",
      "state": {
       "layout": "IPY_MODEL_2df11f6fdf3c4b3599ec6229955acfee",
       "max": 191,
       "style": "IPY_MODEL_b8c6ec3eeb8e4cf882bfb7544fda01ec",
       "value": 191
      }
     },
     "9911733e9893442c95babfa2ee1b8ad5": {
      "model_module": "@jupyter-widgets/base",
      "model_module_version": "2.0.0",
      "model_name": "LayoutModel",
      "state": {}
     },
     "991dbba098c4413594438522739b5ac3": {
      "model_module": "@jupyter-widgets/controls",
      "model_module_version": "2.0.0",
      "model_name": "HTMLStyleModel",
      "state": {
       "description_width": "",
       "font_size": null,
       "text_color": null
      }
     },
     "9936a7ce0c8646dd964a8249aa7bdcac": {
      "model_module": "@jupyter-widgets/base",
      "model_module_version": "2.0.0",
      "model_name": "LayoutModel",
      "state": {}
     },
     "993d40e3534b464aa2cb89264b9c9f10": {
      "model_module": "@jupyter-widgets/controls",
      "model_module_version": "2.0.0",
      "model_name": "ProgressStyleModel",
      "state": {
       "description_width": ""
      }
     },
     "9a60e41c4ec140f98d5de02db4fac72a": {
      "model_module": "@jupyter-widgets/base",
      "model_module_version": "2.0.0",
      "model_name": "LayoutModel",
      "state": {}
     },
     "9aa2fdb593aa4b20a8f72e0de14d3383": {
      "model_module": "@jupyter-widgets/controls",
      "model_module_version": "2.0.0",
      "model_name": "HTMLStyleModel",
      "state": {
       "description_width": "",
       "font_size": null,
       "text_color": null
      }
     },
     "9af1db80abc94136b7c33f90ac492bd4": {
      "model_module": "@jupyter-widgets/controls",
      "model_module_version": "2.0.0",
      "model_name": "HTMLStyleModel",
      "state": {
       "description_width": "",
       "font_size": null,
       "text_color": null
      }
     },
     "9b0ba8fff87b4a948c810df01235a212": {
      "model_module": "@jupyter-widgets/controls",
      "model_module_version": "2.0.0",
      "model_name": "HTMLStyleModel",
      "state": {
       "description_width": "",
       "font_size": null,
       "text_color": null
      }
     },
     "9b31b5ae1ac44eb2922ce0ea0a53edcf": {
      "model_module": "@jupyter-widgets/controls",
      "model_module_version": "2.0.0",
      "model_name": "HTMLStyleModel",
      "state": {
       "description_width": "",
       "font_size": null,
       "text_color": null
      }
     },
     "9ba017d5c9da4876bef136d6761555ed": {
      "model_module": "@jupyter-widgets/controls",
      "model_module_version": "2.0.0",
      "model_name": "HTMLModel",
      "state": {
       "layout": "IPY_MODEL_04444ade880a43019fb44745eb71442a",
       "style": "IPY_MODEL_bd9d2a9ce3504bbda7b4f5363ba079c8",
       "value": " 191/191 [00:44&lt;00:00,  5.16it/s]"
      }
     },
     "9ba755a0862248289b659f4599d244ee": {
      "model_module": "@jupyter-widgets/controls",
      "model_module_version": "2.0.0",
      "model_name": "ProgressStyleModel",
      "state": {
       "description_width": ""
      }
     },
     "9c0603f7a972407cb12d2234a5a8c8ba": {
      "model_module": "@jupyter-widgets/controls",
      "model_module_version": "2.0.0",
      "model_name": "FloatProgressModel",
      "state": {
       "layout": "IPY_MODEL_094e6af5196a427ca031098723c5144e",
       "max": 191,
       "style": "IPY_MODEL_f0748c2e9d3347308f0d818b19b4781f",
       "value": 191
      }
     },
     "9c6270b1fada44f39c74ed5720c58206": {
      "model_module": "@jupyter-widgets/controls",
      "model_module_version": "2.0.0",
      "model_name": "HTMLModel",
      "state": {
       "layout": "IPY_MODEL_6aae2a98063f4567b590ab8069f203fd",
       "style": "IPY_MODEL_01ea58d6fc9246798579a15a85a3f40b",
       "value": " 190/191 [00:48&lt;00:00,  3.96it/s]"
      }
     },
     "9caf437231354dcc841b8a4b8cde2672": {
      "model_module": "@jupyter-widgets/controls",
      "model_module_version": "2.0.0",
      "model_name": "HTMLStyleModel",
      "state": {
       "description_width": "",
       "font_size": null,
       "text_color": null
      }
     },
     "9cb431e5ce14410b980b5c8743c40de2": {
      "model_module": "@jupyter-widgets/base",
      "model_module_version": "2.0.0",
      "model_name": "LayoutModel",
      "state": {}
     },
     "9cd7b8f1d8954ec48e126d6ce0cc61e8": {
      "model_module": "@jupyter-widgets/controls",
      "model_module_version": "2.0.0",
      "model_name": "HTMLStyleModel",
      "state": {
       "description_width": "",
       "font_size": null,
       "text_color": null
      }
     },
     "9d10226937c54966ac3cb2b728edf8a1": {
      "model_module": "@jupyter-widgets/controls",
      "model_module_version": "2.0.0",
      "model_name": "HTMLStyleModel",
      "state": {
       "description_width": "",
       "font_size": null,
       "text_color": null
      }
     },
     "9d1bf5068d8746c286377bb1de0ed121": {
      "model_module": "@jupyter-widgets/controls",
      "model_module_version": "2.0.0",
      "model_name": "HTMLStyleModel",
      "state": {
       "description_width": "",
       "font_size": null,
       "text_color": null
      }
     },
     "9d3a140566f24067ad9f8105f317de0a": {
      "model_module": "@jupyter-widgets/controls",
      "model_module_version": "2.0.0",
      "model_name": "HTMLModel",
      "state": {
       "layout": "IPY_MODEL_de4ac0dc9a0d45ea960a3887304dd409",
       "style": "IPY_MODEL_cdae6a70d4cc4b399a234727312ee9b7",
       "value": " 190/191 [00:46&lt;00:00,  4.38it/s]"
      }
     },
     "9d46850182384167ac757707218e8b1d": {
      "model_module": "@jupyter-widgets/controls",
      "model_module_version": "2.0.0",
      "model_name": "HTMLModel",
      "state": {
       "layout": "IPY_MODEL_57eebc61747e44aaa45dd5c4b1cf2620",
       "style": "IPY_MODEL_44674cbb34c746b3be61095d65d9d71b",
       "value": "Scoring:  99%"
      }
     },
     "9decd0bd5ce84fdaab4ea0010d1f9eef": {
      "model_module": "@jupyter-widgets/controls",
      "model_module_version": "2.0.0",
      "model_name": "ProgressStyleModel",
      "state": {
       "description_width": ""
      }
     },
     "9dfaa8515df146239575531867c2cc88": {
      "model_module": "@jupyter-widgets/base",
      "model_module_version": "2.0.0",
      "model_name": "LayoutModel",
      "state": {}
     },
     "9e3e17af006e4398aad24871dcf081a1": {
      "model_module": "@jupyter-widgets/controls",
      "model_module_version": "2.0.0",
      "model_name": "HTMLModel",
      "state": {
       "layout": "IPY_MODEL_59456cb1a2d1426896faef4a78e9e60e",
       "style": "IPY_MODEL_b503649ea99f454ea8d71f7f120d147a",
       "value": " 191/191 [00:51&lt;00:00,  4.57it/s]"
      }
     },
     "9e4387d0dd1e40ac94c621fbfb4426df": {
      "model_module": "@jupyter-widgets/base",
      "model_module_version": "2.0.0",
      "model_name": "LayoutModel",
      "state": {}
     },
     "9e54edf4748946bf8c512e34d2c0b72f": {
      "model_module": "@jupyter-widgets/base",
      "model_module_version": "2.0.0",
      "model_name": "LayoutModel",
      "state": {}
     },
     "9e811fb0e5bb48fe934324909d47e613": {
      "model_module": "@jupyter-widgets/controls",
      "model_module_version": "2.0.0",
      "model_name": "FloatProgressModel",
      "state": {
       "layout": "IPY_MODEL_0c290b3f452d46a7a02332c54159dcd4",
       "max": 191,
       "style": "IPY_MODEL_a3bf7df766904e7a8ff1cc31a9a1a8f7",
       "value": 191
      }
     },
     "9e9a70e2190a488c923cf852dedb52af": {
      "model_module": "@jupyter-widgets/controls",
      "model_module_version": "2.0.0",
      "model_name": "HTMLModel",
      "state": {
       "layout": "IPY_MODEL_dea214780b924c699112b0677fcd65e3",
       "style": "IPY_MODEL_ac1e692f41724379a6303e94932ad322",
       "value": " 191/191 [00:51&lt;00:00,  4.71it/s]"
      }
     },
     "9ec6438235cc4be7889905a2ce6b8fc8": {
      "model_module": "@jupyter-widgets/controls",
      "model_module_version": "2.0.0",
      "model_name": "ProgressStyleModel",
      "state": {
       "description_width": ""
      }
     },
     "9f68d68167114dc78aa6ae188619881a": {
      "model_module": "@jupyter-widgets/base",
      "model_module_version": "2.0.0",
      "model_name": "LayoutModel",
      "state": {}
     },
     "9f8d79653125452f943df8a8ce99d1df": {
      "model_module": "@jupyter-widgets/controls",
      "model_module_version": "2.0.0",
      "model_name": "HTMLModel",
      "state": {
       "layout": "IPY_MODEL_f42502f4880f4c3ebe4de2de35508622",
       "style": "IPY_MODEL_2216d9f6ed57461bbd800c1b034fb4de",
       "value": " 191/191 [00:49&lt;00:00,  4.67it/s]"
      }
     },
     "9fa37c4af3044032bf7eaa0e9776daf9": {
      "model_module": "@jupyter-widgets/controls",
      "model_module_version": "2.0.0",
      "model_name": "ProgressStyleModel",
      "state": {
       "description_width": ""
      }
     },
     "a0464a1f12f84c9e8832ce3694ad98cd": {
      "model_module": "@jupyter-widgets/controls",
      "model_module_version": "2.0.0",
      "model_name": "HTMLModel",
      "state": {
       "layout": "IPY_MODEL_c75d9a0320404059a6b7860e73e9d483",
       "style": "IPY_MODEL_c79b573298ae48168350c9d23e5c7723",
       "value": "Scoring: 100%"
      }
     },
     "a0494f4fab5c4d70abdefba739502b02": {
      "model_module": "@jupyter-widgets/controls",
      "model_module_version": "2.0.0",
      "model_name": "HTMLStyleModel",
      "state": {
       "description_width": "",
       "font_size": null,
       "text_color": null
      }
     },
     "a051c532f2774df1977e52a883ab9e7c": {
      "model_module": "@jupyter-widgets/base",
      "model_module_version": "2.0.0",
      "model_name": "LayoutModel",
      "state": {}
     },
     "a08cf289b0a34753bf64963d5fb04802": {
      "model_module": "@jupyter-widgets/base",
      "model_module_version": "2.0.0",
      "model_name": "LayoutModel",
      "state": {}
     },
     "a10aad9de8ce436e89a05f841bdde931": {
      "model_module": "@jupyter-widgets/base",
      "model_module_version": "2.0.0",
      "model_name": "LayoutModel",
      "state": {}
     },
     "a1268522318348058b557cabebc9a82b": {
      "model_module": "@jupyter-widgets/controls",
      "model_module_version": "2.0.0",
      "model_name": "ProgressStyleModel",
      "state": {
       "description_width": ""
      }
     },
     "a14144204eff44609e9b63f2709cda27": {
      "model_module": "@jupyter-widgets/controls",
      "model_module_version": "2.0.0",
      "model_name": "HTMLStyleModel",
      "state": {
       "description_width": "",
       "font_size": null,
       "text_color": null
      }
     },
     "a167fa14fb394267ad2447e4e5985870": {
      "model_module": "@jupyter-widgets/controls",
      "model_module_version": "2.0.0",
      "model_name": "HTMLStyleModel",
      "state": {
       "description_width": "",
       "font_size": null,
       "text_color": null
      }
     },
     "a1ac440e9e0f46d98cc514ce8543997b": {
      "model_module": "@jupyter-widgets/base",
      "model_module_version": "2.0.0",
      "model_name": "LayoutModel",
      "state": {}
     },
     "a2954bf909324cb387dc53b6da14d990": {
      "model_module": "@jupyter-widgets/controls",
      "model_module_version": "2.0.0",
      "model_name": "HTMLModel",
      "state": {
       "layout": "IPY_MODEL_d36dede3505c404faf7acfa3b0adb807",
       "style": "IPY_MODEL_0015bf7270eb437f8fd976168b10d65c",
       "value": " 191/191 [00:49&lt;00:00,  4.71it/s]"
      }
     },
     "a381accb8016482ea5f226ede82efba8": {
      "model_module": "@jupyter-widgets/controls",
      "model_module_version": "2.0.0",
      "model_name": "ProgressStyleModel",
      "state": {
       "description_width": ""
      }
     },
     "a3bf7df766904e7a8ff1cc31a9a1a8f7": {
      "model_module": "@jupyter-widgets/controls",
      "model_module_version": "2.0.0",
      "model_name": "ProgressStyleModel",
      "state": {
       "description_width": ""
      }
     },
     "a3fbb178610a445989fa64edca8c0fc1": {
      "model_module": "@jupyter-widgets/base",
      "model_module_version": "2.0.0",
      "model_name": "LayoutModel",
      "state": {}
     },
     "a431f75c7682412c880eca417a4f5b3d": {
      "model_module": "@jupyter-widgets/controls",
      "model_module_version": "2.0.0",
      "model_name": "HTMLStyleModel",
      "state": {
       "description_width": "",
       "font_size": null,
       "text_color": null
      }
     },
     "a4a5ef5d2e5d41be8c2355517de580e8": {
      "model_module": "@jupyter-widgets/controls",
      "model_module_version": "2.0.0",
      "model_name": "HTMLModel",
      "state": {
       "layout": "IPY_MODEL_63f10c6dc2b44a2594b0a378d9fda932",
       "style": "IPY_MODEL_9caf437231354dcc841b8a4b8cde2672",
       "value": " 191/191 [00:50&lt;00:00,  4.77it/s]"
      }
     },
     "a4b1c40524b14acf9a673cc6f0c57820": {
      "model_module": "@jupyter-widgets/base",
      "model_module_version": "2.0.0",
      "model_name": "LayoutModel",
      "state": {
       "visibility": "hidden"
      }
     },
     "a4ea2737d27d4fb599b1772fa8df20b7": {
      "model_module": "@jupyter-widgets/base",
      "model_module_version": "2.0.0",
      "model_name": "LayoutModel",
      "state": {
       "visibility": "hidden"
      }
     },
     "a5073fb7dbc94f2487c28f3f25ea9938": {
      "model_module": "@jupyter-widgets/controls",
      "model_module_version": "2.0.0",
      "model_name": "HTMLModel",
      "state": {
       "layout": "IPY_MODEL_32509c1af6fc46c6ac25535b8c610be6",
       "style": "IPY_MODEL_6d0628c5f82449cd9a8ebe55395fba25",
       "value": "Scoring: 100%"
      }
     },
     "a53f880077f14ff884fa9f549bccf1bd": {
      "model_module": "@jupyter-widgets/controls",
      "model_module_version": "2.0.0",
      "model_name": "HTMLModel",
      "state": {
       "layout": "IPY_MODEL_568e10d9df784b8d972dee578b640473",
       "style": "IPY_MODEL_73f70996514e438c9cfece3f6a777ebf",
       "value": "Scoring: 100%"
      }
     },
     "a5abc4c2b81443ed901fa657639decd4": {
      "model_module": "@jupyter-widgets/controls",
      "model_module_version": "2.0.0",
      "model_name": "FloatProgressModel",
      "state": {
       "layout": "IPY_MODEL_ed4275c27ae04d66b738a427e3e110b3",
       "max": 191,
       "style": "IPY_MODEL_2fd5d00bc14943c495e9085af75c67cc",
       "value": 191
      }
     },
     "a6358c950a31432ebe44465b82bcb3ad": {
      "model_module": "@jupyter-widgets/base",
      "model_module_version": "2.0.0",
      "model_name": "LayoutModel",
      "state": {}
     },
     "a74f161f64c0447db4f48427309948cc": {
      "model_module": "@jupyter-widgets/base",
      "model_module_version": "2.0.0",
      "model_name": "LayoutModel",
      "state": {}
     },
     "a7d0eedb600e466da820db947d03895a": {
      "model_module": "@jupyter-widgets/base",
      "model_module_version": "2.0.0",
      "model_name": "LayoutModel",
      "state": {}
     },
     "a7d4783a16f94e689c81997c6c299d1f": {
      "model_module": "@jupyter-widgets/controls",
      "model_module_version": "2.0.0",
      "model_name": "HTMLModel",
      "state": {
       "layout": "IPY_MODEL_414cad71ff244e2db08e6811b67723fe",
       "style": "IPY_MODEL_ab996019bbca4c5988a6ce9d9996115a",
       "value": " 48/48 [00:10&lt;00:00,  5.00it/s]"
      }
     },
     "a7e25f778f514dd6b91f642613bfa1ad": {
      "model_module": "@jupyter-widgets/base",
      "model_module_version": "2.0.0",
      "model_name": "LayoutModel",
      "state": {}
     },
     "a7fb995d15e7454fa9fda19644034db7": {
      "model_module": "@jupyter-widgets/controls",
      "model_module_version": "2.0.0",
      "model_name": "FloatProgressModel",
      "state": {
       "layout": "IPY_MODEL_2b8b7477c2db43a9b8276d66cb288bee",
       "max": 48,
       "style": "IPY_MODEL_ce02fd913b5e4deb8412e94f88c22d1f",
       "value": 48
      }
     },
     "a89cbdf26e4c445d959244f48239d62c": {
      "model_module": "@jupyter-widgets/base",
      "model_module_version": "2.0.0",
      "model_name": "LayoutModel",
      "state": {
       "visibility": "hidden"
      }
     },
     "a8e704a84f004fd398740857606efe92": {
      "model_module": "@jupyter-widgets/base",
      "model_module_version": "2.0.0",
      "model_name": "LayoutModel",
      "state": {}
     },
     "a8ff2080e6704e48b1720a294897f391": {
      "model_module": "@jupyter-widgets/base",
      "model_module_version": "2.0.0",
      "model_name": "LayoutModel",
      "state": {}
     },
     "a90345b09424420dbe96d8c105a33d4f": {
      "model_module": "@jupyter-widgets/controls",
      "model_module_version": "2.0.0",
      "model_name": "HTMLModel",
      "state": {
       "layout": "IPY_MODEL_93ca92a37519425fb23aa6be4c0411f5",
       "style": "IPY_MODEL_9b0ba8fff87b4a948c810df01235a212",
       "value": " 190/191 [00:45&lt;00:00,  4.31it/s]"
      }
     },
     "a9220204f5cc439ea47bfdcff8d93f8a": {
      "model_module": "@jupyter-widgets/base",
      "model_module_version": "2.0.0",
      "model_name": "LayoutModel",
      "state": {
       "visibility": "hidden"
      }
     },
     "a938e3d5f972415babdc8440003ef8b3": {
      "model_module": "@jupyter-widgets/controls",
      "model_module_version": "2.0.0",
      "model_name": "ProgressStyleModel",
      "state": {
       "description_width": ""
      }
     },
     "a960703794db4ea4874efdab5cb06ffa": {
      "model_module": "@jupyter-widgets/controls",
      "model_module_version": "2.0.0",
      "model_name": "HTMLModel",
      "state": {
       "layout": "IPY_MODEL_e54bcc92ddd74876b4d7d4312849c4be",
       "style": "IPY_MODEL_9b31b5ae1ac44eb2922ce0ea0a53edcf",
       "value": "Scoring: 100%"
      }
     },
     "a96e49a444d048e4a41bba90773f6187": {
      "model_module": "@jupyter-widgets/base",
      "model_module_version": "2.0.0",
      "model_name": "LayoutModel",
      "state": {
       "visibility": "hidden"
      }
     },
     "aa3dac48eb4c4c9b826b6f858e8c1958": {
      "model_module": "@jupyter-widgets/controls",
      "model_module_version": "2.0.0",
      "model_name": "ProgressStyleModel",
      "state": {
       "description_width": ""
      }
     },
     "aab6700fc80f4ca28774544f093a6302": {
      "model_module": "@jupyter-widgets/controls",
      "model_module_version": "2.0.0",
      "model_name": "FloatProgressModel",
      "state": {
       "layout": "IPY_MODEL_dccda0111b6c4ef39eafa790adb88152",
       "max": 191,
       "style": "IPY_MODEL_8699023b0d15409f83286a41083f2c2c",
       "value": 191
      }
     },
     "aab914f3ffe04bca8ac1ed7a1b093cf1": {
      "model_module": "@jupyter-widgets/base",
      "model_module_version": "2.0.0",
      "model_name": "LayoutModel",
      "state": {}
     },
     "ab2fa42a0b8749858504915af3cc204b": {
      "model_module": "@jupyter-widgets/controls",
      "model_module_version": "2.0.0",
      "model_name": "HTMLModel",
      "state": {
       "layout": "IPY_MODEL_2020b94496684a7ca3dbc46b51aa803d",
       "style": "IPY_MODEL_2706f1499f5d4c34a4d0e728473ef253",
       "value": "Predicting: 100%"
      }
     },
     "ab68cf19e82f482e9bf2aac5c754095e": {
      "model_module": "@jupyter-widgets/base",
      "model_module_version": "2.0.0",
      "model_name": "LayoutModel",
      "state": {}
     },
     "ab7f36acdf2944b6aac8632cd8f31a61": {
      "model_module": "@jupyter-widgets/controls",
      "model_module_version": "2.0.0",
      "model_name": "HTMLStyleModel",
      "state": {
       "description_width": "",
       "font_size": null,
       "text_color": null
      }
     },
     "ab8af739f8594c089b011971aad44379": {
      "model_module": "@jupyter-widgets/base",
      "model_module_version": "2.0.0",
      "model_name": "LayoutModel",
      "state": {}
     },
     "ab996019bbca4c5988a6ce9d9996115a": {
      "model_module": "@jupyter-widgets/controls",
      "model_module_version": "2.0.0",
      "model_name": "HTMLStyleModel",
      "state": {
       "description_width": "",
       "font_size": null,
       "text_color": null
      }
     },
     "ac1e692f41724379a6303e94932ad322": {
      "model_module": "@jupyter-widgets/controls",
      "model_module_version": "2.0.0",
      "model_name": "HTMLStyleModel",
      "state": {
       "description_width": "",
       "font_size": null,
       "text_color": null
      }
     },
     "ac1f04e0ac8b4b24a87a293e889261cd": {
      "model_module": "@jupyter-widgets/controls",
      "model_module_version": "2.0.0",
      "model_name": "ProgressStyleModel",
      "state": {
       "description_width": ""
      }
     },
     "ac236bf4cc074342907c1c4bebb0c90e": {
      "model_module": "@jupyter-widgets/controls",
      "model_module_version": "2.0.0",
      "model_name": "HTMLModel",
      "state": {
       "layout": "IPY_MODEL_420bca6475f04545a091d5118353f668",
       "style": "IPY_MODEL_568e8bb5f7b84b19a3de738f18b2c5f5",
       "value": " 190/191 [00:43&lt;00:00,  4.36it/s]"
      }
     },
     "ac353c5a70bd4b3d84dc90c646ccbef1": {
      "model_module": "@jupyter-widgets/base",
      "model_module_version": "2.0.0",
      "model_name": "LayoutModel",
      "state": {}
     },
     "ac99d3dfe13b42bfa69c2ea20079a203": {
      "model_module": "@jupyter-widgets/controls",
      "model_module_version": "2.0.0",
      "model_name": "FloatProgressModel",
      "state": {
       "layout": "IPY_MODEL_98d98ce5da7d477a8ab69d26445dbd25",
       "max": 48,
       "style": "IPY_MODEL_f9af5134528340a1aedd5a5263208ce9",
       "value": 48
      }
     },
     "acf156c61ef747a9b785c2f19cbab69c": {
      "model_module": "@jupyter-widgets/base",
      "model_module_version": "2.0.0",
      "model_name": "LayoutModel",
      "state": {}
     },
     "ad0c4f3ff32f4be594e21ab6994428e1": {
      "model_module": "@jupyter-widgets/base",
      "model_module_version": "2.0.0",
      "model_name": "LayoutModel",
      "state": {}
     },
     "ad36640fd9f34fdda178864eaa8901f2": {
      "model_module": "@jupyter-widgets/controls",
      "model_module_version": "2.0.0",
      "model_name": "ProgressStyleModel",
      "state": {
       "description_width": ""
      }
     },
     "ad710d7e69be42f4a44d687697e6f00e": {
      "model_module": "@jupyter-widgets/controls",
      "model_module_version": "2.0.0",
      "model_name": "FloatProgressModel",
      "state": {
       "layout": "IPY_MODEL_fc172ee7fc7f478bbde3c8726b4c4951",
       "max": 48,
       "style": "IPY_MODEL_3c645a7c494d4c739f93ed451f3575cd",
       "value": 48
      }
     },
     "ad73f33d62db47219425d992c6089625": {
      "model_module": "@jupyter-widgets/controls",
      "model_module_version": "2.0.0",
      "model_name": "FloatProgressModel",
      "state": {
       "layout": "IPY_MODEL_46eb5e85158243c5bcb9b13a2cb2d504",
       "max": 191,
       "style": "IPY_MODEL_545c231f35114d909180b59fe23c817b",
       "value": 191
      }
     },
     "add15ac84bbb443ca4c791859210cd62": {
      "model_module": "@jupyter-widgets/base",
      "model_module_version": "2.0.0",
      "model_name": "LayoutModel",
      "state": {}
     },
     "ae28365388a24833a6df82bc9635b7ae": {
      "model_module": "@jupyter-widgets/controls",
      "model_module_version": "2.0.0",
      "model_name": "FloatProgressModel",
      "state": {
       "layout": "IPY_MODEL_23f0ba1ac29f41fca532676a5fd69897",
       "max": 191,
       "style": "IPY_MODEL_ea1c5c68fded4961b64c286216459e00",
       "value": 191
      }
     },
     "ae2d8d030a0d4b68949a8c7faac8b330": {
      "model_module": "@jupyter-widgets/controls",
      "model_module_version": "2.0.0",
      "model_name": "HTMLModel",
      "state": {
       "layout": "IPY_MODEL_b08b9d65bd07485fa575a9e39592be90",
       "style": "IPY_MODEL_7708746e5abd4eaebb8828570f046e73",
       "value": "Training: 100%"
      }
     },
     "ae5ddec076324e3689da6cca30ef020a": {
      "model_module": "@jupyter-widgets/base",
      "model_module_version": "2.0.0",
      "model_name": "LayoutModel",
      "state": {}
     },
     "aeb519724ea94e6581fdfc0369a6b702": {
      "model_module": "@jupyter-widgets/base",
      "model_module_version": "2.0.0",
      "model_name": "LayoutModel",
      "state": {}
     },
     "aece664366df48f8b9a96d124ad4af77": {
      "model_module": "@jupyter-widgets/controls",
      "model_module_version": "2.0.0",
      "model_name": "HTMLStyleModel",
      "state": {
       "description_width": "",
       "font_size": null,
       "text_color": null
      }
     },
     "af3a75f3757c47fdaf5efee0be856e71": {
      "model_module": "@jupyter-widgets/controls",
      "model_module_version": "2.0.0",
      "model_name": "HTMLModel",
      "state": {
       "layout": "IPY_MODEL_c84a65ebcb7344e990059356c8d98fbe",
       "style": "IPY_MODEL_c3fbdc206dd140d1962586d4a2604922",
       "value": "Scoring:  99%"
      }
     },
     "af4efbb6b01347bcb7160c2c34afa84b": {
      "model_module": "@jupyter-widgets/controls",
      "model_module_version": "2.0.0",
      "model_name": "HTMLStyleModel",
      "state": {
       "description_width": "",
       "font_size": null,
       "text_color": null
      }
     },
     "af7795d3bec2480984d70b7fbd000f3e": {
      "model_module": "@jupyter-widgets/base",
      "model_module_version": "2.0.0",
      "model_name": "LayoutModel",
      "state": {}
     },
     "af972c0b81d441488ae5def1fbb7a452": {
      "model_module": "@jupyter-widgets/controls",
      "model_module_version": "2.0.0",
      "model_name": "FloatProgressModel",
      "state": {
       "layout": "IPY_MODEL_42bbb8956fa44d94806cfa3bb7b544ea",
       "max": 191,
       "style": "IPY_MODEL_2bacb71ef827407394f53a3266e251eb",
       "value": 191
      }
     },
     "afc02c62eb444cbb89418c164460eb6c": {
      "model_module": "@jupyter-widgets/base",
      "model_module_version": "2.0.0",
      "model_name": "LayoutModel",
      "state": {
       "visibility": "hidden"
      }
     },
     "afd55a4ed98040c5960f74e5ff940bbf": {
      "model_module": "@jupyter-widgets/controls",
      "model_module_version": "2.0.0",
      "model_name": "HTMLModel",
      "state": {
       "layout": "IPY_MODEL_4275102710c548a39431259771b12dd5",
       "style": "IPY_MODEL_838c089b4a1c4b04a3091c6ae7e1731e",
       "value": " 191/191 [00:44&lt;00:00,  5.05it/s]"
      }
     },
     "b08b9d65bd07485fa575a9e39592be90": {
      "model_module": "@jupyter-widgets/base",
      "model_module_version": "2.0.0",
      "model_name": "LayoutModel",
      "state": {}
     },
     "b13814e6be0b446c9e6e90e477dac4fd": {
      "model_module": "@jupyter-widgets/controls",
      "model_module_version": "2.0.0",
      "model_name": "ProgressStyleModel",
      "state": {
       "description_width": ""
      }
     },
     "b1878148a7aa42559438322f8672406c": {
      "model_module": "@jupyter-widgets/base",
      "model_module_version": "2.0.0",
      "model_name": "LayoutModel",
      "state": {}
     },
     "b188e1b34af44a64a408f250d5e23f6d": {
      "model_module": "@jupyter-widgets/controls",
      "model_module_version": "2.0.0",
      "model_name": "ProgressStyleModel",
      "state": {
       "description_width": ""
      }
     },
     "b257100050c348cea9085ae51ceed4f4": {
      "model_module": "@jupyter-widgets/base",
      "model_module_version": "2.0.0",
      "model_name": "LayoutModel",
      "state": {}
     },
     "b271111711d04ce5b8ec1b06aeae6067": {
      "model_module": "@jupyter-widgets/controls",
      "model_module_version": "2.0.0",
      "model_name": "FloatProgressModel",
      "state": {
       "layout": "IPY_MODEL_984acecfc28540b9b0ecadbdc9ab252a",
       "max": 48,
       "style": "IPY_MODEL_5917ff52d02e49bd8817553b9df02b89",
       "value": 48
      }
     },
     "b2f41dad64084cc2a0b234067ecfe460": {
      "model_module": "@jupyter-widgets/base",
      "model_module_version": "2.0.0",
      "model_name": "LayoutModel",
      "state": {}
     },
     "b2f6d832730c4a0e8c27f99920eb3378": {
      "model_module": "@jupyter-widgets/controls",
      "model_module_version": "2.0.0",
      "model_name": "HTMLModel",
      "state": {
       "layout": "IPY_MODEL_89fe3ac3871c494080264a4806aec026",
       "style": "IPY_MODEL_965f554b7a07486e94b563ccb8342166",
       "value": " 191/191 [00:49&lt;00:00,  4.76it/s]"
      }
     },
     "b314fb0990a74e8895cb84a9a4192de1": {
      "model_module": "@jupyter-widgets/base",
      "model_module_version": "2.0.0",
      "model_name": "LayoutModel",
      "state": {}
     },
     "b4360e151f844c43bf8d532e384b9f48": {
      "model_module": "@jupyter-widgets/controls",
      "model_module_version": "2.0.0",
      "model_name": "HTMLModel",
      "state": {
       "layout": "IPY_MODEL_d22768c1d5d7498fa5343179b803174b",
       "style": "IPY_MODEL_5a7ac39f81cd4e99b78c0536d47c4f47",
       "value": "100%"
      }
     },
     "b4a8b97933014b7eb8dc381056fddfa1": {
      "model_module": "@jupyter-widgets/base",
      "model_module_version": "2.0.0",
      "model_name": "LayoutModel",
      "state": {
       "visibility": "hidden"
      }
     },
     "b4df06386d3e4b3e89a72bb3ff98c05f": {
      "model_module": "@jupyter-widgets/base",
      "model_module_version": "2.0.0",
      "model_name": "LayoutModel",
      "state": {}
     },
     "b503649ea99f454ea8d71f7f120d147a": {
      "model_module": "@jupyter-widgets/controls",
      "model_module_version": "2.0.0",
      "model_name": "HTMLStyleModel",
      "state": {
       "description_width": "",
       "font_size": null,
       "text_color": null
      }
     },
     "b575553d58114d328b361459fe933aa6": {
      "model_module": "@jupyter-widgets/base",
      "model_module_version": "2.0.0",
      "model_name": "LayoutModel",
      "state": {
       "visibility": "hidden"
      }
     },
     "b57deca523dc4971a5303d4175d1a59e": {
      "model_module": "@jupyter-widgets/base",
      "model_module_version": "2.0.0",
      "model_name": "LayoutModel",
      "state": {}
     },
     "b59f9b6d0c4c4af8b4bdaba47a220662": {
      "model_module": "@jupyter-widgets/controls",
      "model_module_version": "2.0.0",
      "model_name": "ProgressStyleModel",
      "state": {
       "description_width": ""
      }
     },
     "b5edfeac4778432fa5211831fe4dbef7": {
      "model_module": "@jupyter-widgets/controls",
      "model_module_version": "2.0.0",
      "model_name": "ProgressStyleModel",
      "state": {
       "description_width": ""
      }
     },
     "b5f0dace454044dd82dedff05836ceb6": {
      "model_module": "@jupyter-widgets/controls",
      "model_module_version": "2.0.0",
      "model_name": "HTMLStyleModel",
      "state": {
       "description_width": "",
       "font_size": null,
       "text_color": null
      }
     },
     "b5f8faaec6a94342ab8ae1edcdd68ab4": {
      "model_module": "@jupyter-widgets/controls",
      "model_module_version": "2.0.0",
      "model_name": "HTMLStyleModel",
      "state": {
       "description_width": "",
       "font_size": null,
       "text_color": null
      }
     },
     "b62a54ec55d340a2b508f2a52d741d31": {
      "model_module": "@jupyter-widgets/controls",
      "model_module_version": "2.0.0",
      "model_name": "HTMLModel",
      "state": {
       "layout": "IPY_MODEL_c168bbb81e9243948b9502b2bcbe6c8c",
       "style": "IPY_MODEL_8242ee12425c4a48ac79321165a962f5",
       "value": " 190/191 [00:44&lt;00:00,  4.19it/s]"
      }
     },
     "b7eb6237fc0b4a8a9a338d0dbf40bd6c": {
      "model_module": "@jupyter-widgets/base",
      "model_module_version": "2.0.0",
      "model_name": "LayoutModel",
      "state": {}
     },
     "b8c6ec3eeb8e4cf882bfb7544fda01ec": {
      "model_module": "@jupyter-widgets/controls",
      "model_module_version": "2.0.0",
      "model_name": "ProgressStyleModel",
      "state": {
       "description_width": ""
      }
     },
     "b8f060f9780a4807af236f84502fdcbc": {
      "model_module": "@jupyter-widgets/controls",
      "model_module_version": "2.0.0",
      "model_name": "HTMLStyleModel",
      "state": {
       "description_width": "",
       "font_size": null,
       "text_color": null
      }
     },
     "b9236ebb88cc41ba8b32a3c431850da9": {
      "model_module": "@jupyter-widgets/base",
      "model_module_version": "2.0.0",
      "model_name": "LayoutModel",
      "state": {
       "visibility": "hidden"
      }
     },
     "b980a5274342427799391ce3e18f9862": {
      "model_module": "@jupyter-widgets/controls",
      "model_module_version": "2.0.0",
      "model_name": "ProgressStyleModel",
      "state": {
       "description_width": ""
      }
     },
     "b9914608e0324fb98e887be10f05a80e": {
      "model_module": "@jupyter-widgets/controls",
      "model_module_version": "2.0.0",
      "model_name": "HTMLModel",
      "state": {
       "layout": "IPY_MODEL_93d69eb2e5814ff39129eebd5134e3c5",
       "style": "IPY_MODEL_209ef6e2f1304e7b876bc726b2d0ec0a",
       "value": "Scoring: 100%"
      }
     },
     "b9a6f7320cf7492cb4b069564dd6f71b": {
      "model_module": "@jupyter-widgets/controls",
      "model_module_version": "2.0.0",
      "model_name": "HTMLStyleModel",
      "state": {
       "description_width": "",
       "font_size": null,
       "text_color": null
      }
     },
     "b9abb80a5a4546b985ec8b19774fbe4c": {
      "model_module": "@jupyter-widgets/controls",
      "model_module_version": "2.0.0",
      "model_name": "HTMLModel",
      "state": {
       "layout": "IPY_MODEL_f12e651dc2a547c3a1235f73270f3cfb",
       "style": "IPY_MODEL_86adab1520974ab1ada729ba49305b0c",
       "value": " 48/48 [00:10&lt;00:00,  4.99it/s]"
      }
     },
     "b9afddf2ad5a432380e93e153407cc57": {
      "model_module": "@jupyter-widgets/controls",
      "model_module_version": "2.0.0",
      "model_name": "HTMLModel",
      "state": {
       "layout": "IPY_MODEL_c4218ca6e52540289f62e54814ca6f0c",
       "style": "IPY_MODEL_fae2abbdcc1b4ae8bf833e6514eb13ba",
       "value": "Predicting: 100%"
      }
     },
     "ba208687c02247dea7f92e217ac16167": {
      "model_module": "@jupyter-widgets/base",
      "model_module_version": "2.0.0",
      "model_name": "LayoutModel",
      "state": {
       "visibility": "hidden"
      }
     },
     "ba35f6b812a44f568d0b4e79dd57e204": {
      "model_module": "@jupyter-widgets/controls",
      "model_module_version": "2.0.0",
      "model_name": "HTMLStyleModel",
      "state": {
       "description_width": "",
       "font_size": null,
       "text_color": null
      }
     },
     "baa3a866c9b84a28ae3688cd669f9bae": {
      "model_module": "@jupyter-widgets/controls",
      "model_module_version": "2.0.0",
      "model_name": "ProgressStyleModel",
      "state": {
       "description_width": ""
      }
     },
     "bae64a519944451aa19173a112f15bf4": {
      "model_module": "@jupyter-widgets/controls",
      "model_module_version": "2.0.0",
      "model_name": "ProgressStyleModel",
      "state": {
       "description_width": ""
      }
     },
     "bb0dfb8f8b6f46c1863af58c882889c0": {
      "model_module": "@jupyter-widgets/controls",
      "model_module_version": "2.0.0",
      "model_name": "HTMLStyleModel",
      "state": {
       "description_width": "",
       "font_size": null,
       "text_color": null
      }
     },
     "bb16bbfbf54e4e6783dd528dfb7c39bf": {
      "model_module": "@jupyter-widgets/controls",
      "model_module_version": "2.0.0",
      "model_name": "FloatProgressModel",
      "state": {
       "layout": "IPY_MODEL_1f3fa00b11434c989c7830d5b391749e",
       "max": 48,
       "style": "IPY_MODEL_7d21734eec834606b393348a13dee56e",
       "value": 48
      }
     },
     "bb2a7a0d96f045d785e1720938fdba8d": {
      "model_module": "@jupyter-widgets/base",
      "model_module_version": "2.0.0",
      "model_name": "LayoutModel",
      "state": {}
     },
     "bb97565e90174e1484420010f1e56c69": {
      "model_module": "@jupyter-widgets/controls",
      "model_module_version": "2.0.0",
      "model_name": "ProgressStyleModel",
      "state": {
       "description_width": ""
      }
     },
     "bc199e6393694d4f812a0be51ee1fe83": {
      "model_module": "@jupyter-widgets/base",
      "model_module_version": "2.0.0",
      "model_name": "LayoutModel",
      "state": {}
     },
     "bc577ada713344bc85ab0602385c561b": {
      "model_module": "@jupyter-widgets/controls",
      "model_module_version": "2.0.0",
      "model_name": "HTMLStyleModel",
      "state": {
       "description_width": "",
       "font_size": null,
       "text_color": null
      }
     },
     "bc7452b718814eb587d42fed396860c0": {
      "model_module": "@jupyter-widgets/controls",
      "model_module_version": "2.0.0",
      "model_name": "HTMLStyleModel",
      "state": {
       "description_width": "",
       "font_size": null,
       "text_color": null
      }
     },
     "bcaa28724a41480a9dfb4abefeef0c69": {
      "model_module": "@jupyter-widgets/controls",
      "model_module_version": "2.0.0",
      "model_name": "HTMLStyleModel",
      "state": {
       "description_width": "",
       "font_size": null,
       "text_color": null
      }
     },
     "bcfa795f7d2a46ce8de94be15b8a0063": {
      "model_module": "@jupyter-widgets/base",
      "model_module_version": "2.0.0",
      "model_name": "LayoutModel",
      "state": {
       "visibility": "hidden"
      }
     },
     "bd7bd10a3c63446b81ddb9d1af9d351d": {
      "model_module": "@jupyter-widgets/controls",
      "model_module_version": "2.0.0",
      "model_name": "HTMLModel",
      "state": {
       "layout": "IPY_MODEL_27ccd3dca84a4d8ea879f9445a77a61c",
       "style": "IPY_MODEL_1256e1f2d3694f9190d96431a4fc7ede",
       "value": " 48/48 [00:11&lt;00:00,  4.80it/s]"
      }
     },
     "bd9d2a9ce3504bbda7b4f5363ba079c8": {
      "model_module": "@jupyter-widgets/controls",
      "model_module_version": "2.0.0",
      "model_name": "HTMLStyleModel",
      "state": {
       "description_width": "",
       "font_size": null,
       "text_color": null
      }
     },
     "be1aae23d0154a3984451c3be7e36f39": {
      "model_module": "@jupyter-widgets/controls",
      "model_module_version": "2.0.0",
      "model_name": "ProgressStyleModel",
      "state": {
       "description_width": ""
      }
     },
     "be241f8c7b0c40cb8cc2d37aa3ad60e5": {
      "model_module": "@jupyter-widgets/base",
      "model_module_version": "2.0.0",
      "model_name": "LayoutModel",
      "state": {
       "visibility": "hidden"
      }
     },
     "be651124e48e40349b6d577f1ff3f24b": {
      "model_module": "@jupyter-widgets/controls",
      "model_module_version": "2.0.0",
      "model_name": "HTMLStyleModel",
      "state": {
       "description_width": "",
       "font_size": null,
       "text_color": null
      }
     },
     "bed7004547964310908cce319043acb6": {
      "model_module": "@jupyter-widgets/controls",
      "model_module_version": "2.0.0",
      "model_name": "FloatProgressModel",
      "state": {
       "layout": "IPY_MODEL_343abbb45906442c8a922326a90ca7d4",
       "max": 48,
       "style": "IPY_MODEL_f55b0a6d04e14faea636a9b0fd9c2409",
       "value": 48
      }
     },
     "beecb6eb9619432585c48ba3a3060b9b": {
      "model_module": "@jupyter-widgets/base",
      "model_module_version": "2.0.0",
      "model_name": "LayoutModel",
      "state": {}
     },
     "bef940ec719c46c9850d7ed69324b828": {
      "model_module": "@jupyter-widgets/controls",
      "model_module_version": "2.0.0",
      "model_name": "ProgressStyleModel",
      "state": {
       "description_width": ""
      }
     },
     "bf3ba3ff38de470b97c309660749c5a1": {
      "model_module": "@jupyter-widgets/controls",
      "model_module_version": "2.0.0",
      "model_name": "HTMLModel",
      "state": {
       "layout": "IPY_MODEL_26673b615fdb4e97b4c27388d50c7a4d",
       "style": "IPY_MODEL_01e962b6ff724eb8856ed676aa2dda25",
       "value": "Scoring: 100%"
      }
     },
     "bf3be4a3fd4c448d8992a232c7e72098": {
      "model_module": "@jupyter-widgets/base",
      "model_module_version": "2.0.0",
      "model_name": "LayoutModel",
      "state": {
       "visibility": "hidden"
      }
     },
     "bf9df1b803f54fe6b8ba728adf57cb0a": {
      "model_module": "@jupyter-widgets/base",
      "model_module_version": "2.0.0",
      "model_name": "LayoutModel",
      "state": {}
     },
     "c0117b6c45624fac871347853ab4f93f": {
      "model_module": "@jupyter-widgets/base",
      "model_module_version": "2.0.0",
      "model_name": "LayoutModel",
      "state": {
       "visibility": "hidden"
      }
     },
     "c0443f00fa5141518c7162e1990f268d": {
      "model_module": "@jupyter-widgets/controls",
      "model_module_version": "2.0.0",
      "model_name": "HTMLModel",
      "state": {
       "layout": "IPY_MODEL_d098a091caa54e8dbfa2cd4f1c7abd2e",
       "style": "IPY_MODEL_c5ef9ebcc0ec4e1982eda584a48f284c",
       "value": "Scoring: 100%"
      }
     },
     "c0a30560b6d849f1aedf0e076a6ff626": {
      "model_module": "@jupyter-widgets/controls",
      "model_module_version": "2.0.0",
      "model_name": "HTMLModel",
      "state": {
       "layout": "IPY_MODEL_2e1a91985cfa457b90268b288ecf1497",
       "style": "IPY_MODEL_eda2c588f34642629ed906559a187d18",
       "value": "Scoring: 100%"
      }
     },
     "c0e9ce61f60d45aa93f667d722808d38": {
      "model_module": "@jupyter-widgets/controls",
      "model_module_version": "2.0.0",
      "model_name": "HTMLModel",
      "state": {
       "layout": "IPY_MODEL_fa174d7a5e4541c59321a105328fd70e",
       "style": "IPY_MODEL_db9ed70004cc4a7787580be1db66d41c",
       "value": " 190/191 [00:43&lt;00:00,  4.25it/s]"
      }
     },
     "c157a77cc16641bdb193d6f4a0fbc07c": {
      "model_module": "@jupyter-widgets/controls",
      "model_module_version": "2.0.0",
      "model_name": "ProgressStyleModel",
      "state": {
       "description_width": ""
      }
     },
     "c167d8e5687f4606a876414e82b0c3eb": {
      "model_module": "@jupyter-widgets/controls",
      "model_module_version": "2.0.0",
      "model_name": "FloatProgressModel",
      "state": {
       "layout": "IPY_MODEL_ec246e48ad824aed92b1a7a9f514d4c0",
       "max": 191,
       "style": "IPY_MODEL_0c70eda905c94f359337af85fdaebf29",
       "value": 191
      }
     },
     "c168bbb81e9243948b9502b2bcbe6c8c": {
      "model_module": "@jupyter-widgets/base",
      "model_module_version": "2.0.0",
      "model_name": "LayoutModel",
      "state": {}
     },
     "c20e53fc1e0545e789a721281a560bf4": {
      "model_module": "@jupyter-widgets/base",
      "model_module_version": "2.0.0",
      "model_name": "LayoutModel",
      "state": {}
     },
     "c2f2dc1777fa421597ecd731504bc9b7": {
      "model_module": "@jupyter-widgets/controls",
      "model_module_version": "2.0.0",
      "model_name": "HTMLModel",
      "state": {
       "layout": "IPY_MODEL_92599388c29b4174848b2862c78b06bf",
       "style": "IPY_MODEL_c3ac553267d04cba85aaf4cb2a52bc1e",
       "value": " 48/48 [00:10&lt;00:00,  4.98it/s]"
      }
     },
     "c31f6317813647a6b5567b49e66cdd86": {
      "model_module": "@jupyter-widgets/base",
      "model_module_version": "2.0.0",
      "model_name": "LayoutModel",
      "state": {}
     },
     "c32b7a3c318d40f788df99fc651a7c23": {
      "model_module": "@jupyter-widgets/controls",
      "model_module_version": "2.0.0",
      "model_name": "HTMLModel",
      "state": {
       "layout": "IPY_MODEL_3cacfb9b54004b59af682d8d3eb0805c",
       "style": "IPY_MODEL_d611f1769c374a789972173cf9a80156",
       "value": "Scoring: 100%"
      }
     },
     "c33a3150abc0452896d646334715c6e7": {
      "model_module": "@jupyter-widgets/base",
      "model_module_version": "2.0.0",
      "model_name": "LayoutModel",
      "state": {}
     },
     "c35682d1c58e441295470de5d63f4ffe": {
      "model_module": "@jupyter-widgets/controls",
      "model_module_version": "2.0.0",
      "model_name": "FloatProgressModel",
      "state": {
       "layout": "IPY_MODEL_87e890ea552645ae87a31ecbe4c54062",
       "max": 191,
       "style": "IPY_MODEL_08fd63f569f04c11b642785ab07515f5",
       "value": 191
      }
     },
     "c3ac553267d04cba85aaf4cb2a52bc1e": {
      "model_module": "@jupyter-widgets/controls",
      "model_module_version": "2.0.0",
      "model_name": "HTMLStyleModel",
      "state": {
       "description_width": "",
       "font_size": null,
       "text_color": null
      }
     },
     "c3fbdc206dd140d1962586d4a2604922": {
      "model_module": "@jupyter-widgets/controls",
      "model_module_version": "2.0.0",
      "model_name": "HTMLStyleModel",
      "state": {
       "description_width": "",
       "font_size": null,
       "text_color": null
      }
     },
     "c4218ca6e52540289f62e54814ca6f0c": {
      "model_module": "@jupyter-widgets/base",
      "model_module_version": "2.0.0",
      "model_name": "LayoutModel",
      "state": {}
     },
     "c447fd424af3415eb14ef75f1d347a26": {
      "model_module": "@jupyter-widgets/controls",
      "model_module_version": "2.0.0",
      "model_name": "FloatProgressModel",
      "state": {
       "layout": "IPY_MODEL_8ea6937b60e042a084fb5e5ddf78ff50",
       "max": 48,
       "style": "IPY_MODEL_967260d9addb4314aea9047fabbac755",
       "value": 48
      }
     },
     "c449d578f0624202ad611e2599f83789": {
      "model_module": "@jupyter-widgets/controls",
      "model_module_version": "2.0.0",
      "model_name": "HTMLModel",
      "state": {
       "layout": "IPY_MODEL_c20e53fc1e0545e789a721281a560bf4",
       "style": "IPY_MODEL_6575d6ceb4f34814b29652290e76d821",
       "value": "Training: 100%"
      }
     },
     "c4cfbd32315a480280119b06aa38f895": {
      "model_module": "@jupyter-widgets/controls",
      "model_module_version": "2.0.0",
      "model_name": "HTMLStyleModel",
      "state": {
       "description_width": "",
       "font_size": null,
       "text_color": null
      }
     },
     "c4ede6bfdcb04cd1ab7385fe91100eab": {
      "model_module": "@jupyter-widgets/controls",
      "model_module_version": "2.0.0",
      "model_name": "FloatProgressModel",
      "state": {
       "layout": "IPY_MODEL_2a5c917848744b459395105a6ce7c2d2",
       "max": 191,
       "style": "IPY_MODEL_2fdd50cdf3f04df58a6915c155f51981",
       "value": 191
      }
     },
     "c5597f27297345b08f6fdc16917fc9d8": {
      "model_module": "@jupyter-widgets/controls",
      "model_module_version": "2.0.0",
      "model_name": "HTMLModel",
      "state": {
       "layout": "IPY_MODEL_405ce67b8a624c2392a58fb2573b23b5",
       "style": "IPY_MODEL_5106050989364a8eafe154022c1da26a",
       "value": " 190/191 [00:49&lt;00:00,  3.93it/s]"
      }
     },
     "c5ac1600dc4d4bbdbe3f80510f2e364d": {
      "model_module": "@jupyter-widgets/controls",
      "model_module_version": "2.0.0",
      "model_name": "HTMLModel",
      "state": {
       "layout": "IPY_MODEL_eb3fb1b30bca40c7863c946bb2b526c2",
       "style": "IPY_MODEL_96f28d2c7ddc4cb486e075df8d5fc429",
       "value": "Training: 100%"
      }
     },
     "c5ce669eb13546348eb376d31f4eceb4": {
      "model_module": "@jupyter-widgets/controls",
      "model_module_version": "2.0.0",
      "model_name": "HTMLStyleModel",
      "state": {
       "description_width": "",
       "font_size": null,
       "text_color": null
      }
     },
     "c5ed5bae3c304b309f41b83039c747ea": {
      "model_module": "@jupyter-widgets/controls",
      "model_module_version": "2.0.0",
      "model_name": "HTMLModel",
      "state": {
       "layout": "IPY_MODEL_763470f168e94f3286ea065539e260d5",
       "style": "IPY_MODEL_9cd7b8f1d8954ec48e126d6ce0cc61e8",
       "value": "Scoring: 100%"
      }
     },
     "c5ef9ebcc0ec4e1982eda584a48f284c": {
      "model_module": "@jupyter-widgets/controls",
      "model_module_version": "2.0.0",
      "model_name": "HTMLStyleModel",
      "state": {
       "description_width": "",
       "font_size": null,
       "text_color": null
      }
     },
     "c6577cb7ac994d0499c1b6f64e651968": {
      "model_module": "@jupyter-widgets/base",
      "model_module_version": "2.0.0",
      "model_name": "LayoutModel",
      "state": {}
     },
     "c6638b546bb544b5b224a9dedf2fe915": {
      "model_module": "@jupyter-widgets/controls",
      "model_module_version": "2.0.0",
      "model_name": "FloatProgressModel",
      "state": {
       "layout": "IPY_MODEL_4526482c0a1b490abaa941a33ff2ebbc",
       "max": 191,
       "style": "IPY_MODEL_ac1f04e0ac8b4b24a87a293e889261cd",
       "value": 191
      }
     },
     "c6e371e12e974c4ba3a87679affb9b92": {
      "model_module": "@jupyter-widgets/base",
      "model_module_version": "2.0.0",
      "model_name": "LayoutModel",
      "state": {
       "visibility": "hidden"
      }
     },
     "c75d9a0320404059a6b7860e73e9d483": {
      "model_module": "@jupyter-widgets/base",
      "model_module_version": "2.0.0",
      "model_name": "LayoutModel",
      "state": {}
     },
     "c79b573298ae48168350c9d23e5c7723": {
      "model_module": "@jupyter-widgets/controls",
      "model_module_version": "2.0.0",
      "model_name": "HTMLStyleModel",
      "state": {
       "description_width": "",
       "font_size": null,
       "text_color": null
      }
     },
     "c80585815ce6494da9abb8326220d033": {
      "model_module": "@jupyter-widgets/base",
      "model_module_version": "2.0.0",
      "model_name": "LayoutModel",
      "state": {}
     },
     "c84a65ebcb7344e990059356c8d98fbe": {
      "model_module": "@jupyter-widgets/base",
      "model_module_version": "2.0.0",
      "model_name": "LayoutModel",
      "state": {}
     },
     "c89d346f56034c8590f873cb29d7fbae": {
      "model_module": "@jupyter-widgets/controls",
      "model_module_version": "2.0.0",
      "model_name": "HBoxModel",
      "state": {
       "children": [
        "IPY_MODEL_0e7c65fb45d94bde90bf72e3f60693f8",
        "IPY_MODEL_434c4efac07741e4a61a8859414155e5",
        "IPY_MODEL_28de6d4eb11044bd9e1f53711d6e8664"
       ],
       "layout": "IPY_MODEL_8b57b05d75794627850012d3294072db"
      }
     },
     "c90cae036c1643aa878f6c1042d6cdf4": {
      "model_module": "@jupyter-widgets/controls",
      "model_module_version": "2.0.0",
      "model_name": "HTMLStyleModel",
      "state": {
       "description_width": "",
       "font_size": null,
       "text_color": null
      }
     },
     "c97b62d96baf4ecc9614ae2ea357138e": {
      "model_module": "@jupyter-widgets/controls",
      "model_module_version": "2.0.0",
      "model_name": "FloatProgressModel",
      "state": {
       "layout": "IPY_MODEL_68f03a20c1d942ebbf444cfc4c260a64",
       "max": 191,
       "style": "IPY_MODEL_4b9055fb7fe1417384692ac0bbde907e",
       "value": 191
      }
     },
     "c98ed680a35e433f9690ed76d5c7b52d": {
      "model_module": "@jupyter-widgets/controls",
      "model_module_version": "2.0.0",
      "model_name": "HTMLStyleModel",
      "state": {
       "description_width": "",
       "font_size": null,
       "text_color": null
      }
     },
     "ca1bcfb65e1f4a02995b0a8ab1686e2d": {
      "model_module": "@jupyter-widgets/base",
      "model_module_version": "2.0.0",
      "model_name": "LayoutModel",
      "state": {}
     },
     "ca5728026cc24340a08821c5809fe266": {
      "model_module": "@jupyter-widgets/base",
      "model_module_version": "2.0.0",
      "model_name": "LayoutModel",
      "state": {}
     },
     "ca802df9061f4c69b09d1466b7712ecb": {
      "model_module": "@jupyter-widgets/controls",
      "model_module_version": "2.0.0",
      "model_name": "HTMLStyleModel",
      "state": {
       "description_width": "",
       "font_size": null,
       "text_color": null
      }
     },
     "ca86a85ef6bd49e8ad181f629e5b6acf": {
      "model_module": "@jupyter-widgets/controls",
      "model_module_version": "2.0.0",
      "model_name": "HTMLModel",
      "state": {
       "layout": "IPY_MODEL_16cfee0948a748b6b5c9eb70d108ecaa",
       "style": "IPY_MODEL_8916c42d51184469987ddf5f34469ee3",
       "value": " 48/48 [00:11&lt;00:00,  4.89it/s]"
      }
     },
     "cb12d5b9774d4c3981b32761cc875fff": {
      "model_module": "@jupyter-widgets/controls",
      "model_module_version": "2.0.0",
      "model_name": "FloatProgressModel",
      "state": {
       "layout": "IPY_MODEL_87c28a9a721d42c59654397dd9e84814",
       "max": 48,
       "style": "IPY_MODEL_247ae3a1e2f14f3ab5e4d8b6f807f020",
       "value": 48
      }
     },
     "cb15050872cd41efbd54d2e2310aa2b4": {
      "model_module": "@jupyter-widgets/controls",
      "model_module_version": "2.0.0",
      "model_name": "HTMLModel",
      "state": {
       "layout": "IPY_MODEL_ee289f3d00074ea184f56b0c1531d034",
       "style": "IPY_MODEL_722f8ac8b7604298a6cdd9f9e00a30e6",
       "value": " 191/191 [00:50&lt;00:00,  4.64it/s]"
      }
     },
     "cb316e7de8a6494c9578b46279712cb9": {
      "model_module": "@jupyter-widgets/controls",
      "model_module_version": "2.0.0",
      "model_name": "HTMLStyleModel",
      "state": {
       "description_width": "",
       "font_size": null,
       "text_color": null
      }
     },
     "cb4cae8f4d6d4883aef1459fb6d73ead": {
      "model_module": "@jupyter-widgets/controls",
      "model_module_version": "2.0.0",
      "model_name": "FloatProgressModel",
      "state": {
       "layout": "IPY_MODEL_49f57d1d7ed040c9a171749ffd84cd97",
       "max": 48,
       "style": "IPY_MODEL_e672b7d00cf3458fb51b42ec05308df0",
       "value": 48
      }
     },
     "cb83995be79d432ba038fbfae87de8b8": {
      "model_module": "@jupyter-widgets/controls",
      "model_module_version": "2.0.0",
      "model_name": "HTMLStyleModel",
      "state": {
       "description_width": "",
       "font_size": null,
       "text_color": null
      }
     },
     "cbf9021a764947549413658bcc9f5e93": {
      "model_module": "@jupyter-widgets/controls",
      "model_module_version": "2.0.0",
      "model_name": "HTMLModel",
      "state": {
       "layout": "IPY_MODEL_212abb423e6c4e9d94ec0d016a25b8e6",
       "style": "IPY_MODEL_13ec329f144c476eb450d10296f72346",
       "value": "Scoring: 100%"
      }
     },
     "cbff4f8f899d4080abd424b9d124d9fb": {
      "model_module": "@jupyter-widgets/controls",
      "model_module_version": "2.0.0",
      "model_name": "ProgressStyleModel",
      "state": {
       "description_width": ""
      }
     },
     "cc46cb9ef1974dc1a9d75a9b5aae2236": {
      "model_module": "@jupyter-widgets/base",
      "model_module_version": "2.0.0",
      "model_name": "LayoutModel",
      "state": {}
     },
     "cc8c67aac8f94536afffd3316855094c": {
      "model_module": "@jupyter-widgets/base",
      "model_module_version": "2.0.0",
      "model_name": "LayoutModel",
      "state": {
       "visibility": "hidden"
      }
     },
     "cce40ab51c5a49d5a3edee7bf6d340f9": {
      "model_module": "@jupyter-widgets/base",
      "model_module_version": "2.0.0",
      "model_name": "LayoutModel",
      "state": {}
     },
     "cdae6a70d4cc4b399a234727312ee9b7": {
      "model_module": "@jupyter-widgets/controls",
      "model_module_version": "2.0.0",
      "model_name": "HTMLStyleModel",
      "state": {
       "description_width": "",
       "font_size": null,
       "text_color": null
      }
     },
     "cdb3575229024aeebac6a029a963a4e6": {
      "model_module": "@jupyter-widgets/controls",
      "model_module_version": "2.0.0",
      "model_name": "HTMLStyleModel",
      "state": {
       "description_width": "",
       "font_size": null,
       "text_color": null
      }
     },
     "cddc77ad990f4cbab605477a6bd65f77": {
      "model_module": "@jupyter-widgets/controls",
      "model_module_version": "2.0.0",
      "model_name": "ProgressStyleModel",
      "state": {
       "description_width": ""
      }
     },
     "ce010061db534924a3edf074072aa180": {
      "model_module": "@jupyter-widgets/base",
      "model_module_version": "2.0.0",
      "model_name": "LayoutModel",
      "state": {}
     },
     "ce02fd913b5e4deb8412e94f88c22d1f": {
      "model_module": "@jupyter-widgets/controls",
      "model_module_version": "2.0.0",
      "model_name": "ProgressStyleModel",
      "state": {
       "description_width": ""
      }
     },
     "ce063c6421e9410a99a5cb14d5cbe3eb": {
      "model_module": "@jupyter-widgets/controls",
      "model_module_version": "2.0.0",
      "model_name": "FloatProgressModel",
      "state": {
       "layout": "IPY_MODEL_cc46cb9ef1974dc1a9d75a9b5aae2236",
       "max": 191,
       "style": "IPY_MODEL_521f236147844765a3f36251db45daae",
       "value": 191
      }
     },
     "ce453dd50df243f59f83b7e9e07ff7a2": {
      "model_module": "@jupyter-widgets/controls",
      "model_module_version": "2.0.0",
      "model_name": "HTMLStyleModel",
      "state": {
       "description_width": "",
       "font_size": null,
       "text_color": null
      }
     },
     "cec20073379f460faf926ef73efc6ffe": {
      "model_module": "@jupyter-widgets/controls",
      "model_module_version": "2.0.0",
      "model_name": "HTMLStyleModel",
      "state": {
       "description_width": "",
       "font_size": null,
       "text_color": null
      }
     },
     "cecc2253e1fa4bc686c1cb1aaa4219d4": {
      "model_module": "@jupyter-widgets/controls",
      "model_module_version": "2.0.0",
      "model_name": "HTMLStyleModel",
      "state": {
       "description_width": "",
       "font_size": null,
       "text_color": null
      }
     },
     "cef9caf76a254ce68aed75b5e3fbacb5": {
      "model_module": "@jupyter-widgets/controls",
      "model_module_version": "2.0.0",
      "model_name": "FloatProgressModel",
      "state": {
       "layout": "IPY_MODEL_aab914f3ffe04bca8ac1ed7a1b093cf1",
       "max": 191,
       "style": "IPY_MODEL_630e1948ca854208b89fecf2106e3b76",
       "value": 191
      }
     },
     "cf3d2488e0f345ebbceb66da0dacbb81": {
      "model_module": "@jupyter-widgets/base",
      "model_module_version": "2.0.0",
      "model_name": "LayoutModel",
      "state": {
       "visibility": "hidden"
      }
     },
     "cf40b393fdbe478f8f18e99c506d1f95": {
      "model_module": "@jupyter-widgets/controls",
      "model_module_version": "2.0.0",
      "model_name": "HTMLStyleModel",
      "state": {
       "description_width": "",
       "font_size": null,
       "text_color": null
      }
     },
     "cf71eca6654646dd8bab163454675daf": {
      "model_module": "@jupyter-widgets/base",
      "model_module_version": "2.0.0",
      "model_name": "LayoutModel",
      "state": {}
     },
     "d0053c49e5dc436aaff40ad50aaa7544": {
      "model_module": "@jupyter-widgets/controls",
      "model_module_version": "2.0.0",
      "model_name": "ProgressStyleModel",
      "state": {
       "description_width": ""
      }
     },
     "d098a091caa54e8dbfa2cd4f1c7abd2e": {
      "model_module": "@jupyter-widgets/base",
      "model_module_version": "2.0.0",
      "model_name": "LayoutModel",
      "state": {}
     },
     "d0f422ca97bd43758aa94c78433f6f7d": {
      "model_module": "@jupyter-widgets/base",
      "model_module_version": "2.0.0",
      "model_name": "LayoutModel",
      "state": {}
     },
     "d1d18c11036348fbb5795017db244281": {
      "model_module": "@jupyter-widgets/controls",
      "model_module_version": "2.0.0",
      "model_name": "ProgressStyleModel",
      "state": {
       "description_width": ""
      }
     },
     "d1d49b5ccebf4c95b8f3de42c7c0315b": {
      "model_module": "@jupyter-widgets/base",
      "model_module_version": "2.0.0",
      "model_name": "LayoutModel",
      "state": {}
     },
     "d22768c1d5d7498fa5343179b803174b": {
      "model_module": "@jupyter-widgets/base",
      "model_module_version": "2.0.0",
      "model_name": "LayoutModel",
      "state": {}
     },
     "d237bb925b54445986a07a8e0071c01e": {
      "model_module": "@jupyter-widgets/controls",
      "model_module_version": "2.0.0",
      "model_name": "FloatProgressModel",
      "state": {
       "layout": "IPY_MODEL_342998204fc14f4e8cabcb749813deb7",
       "max": 48,
       "style": "IPY_MODEL_eecac975a31d4e1ea3806e1dca24d733",
       "value": 48
      }
     },
     "d2969e78666c4268a266b723809da1d6": {
      "model_module": "@jupyter-widgets/controls",
      "model_module_version": "2.0.0",
      "model_name": "FloatProgressModel",
      "state": {
       "layout": "IPY_MODEL_a8ff2080e6704e48b1720a294897f391",
       "max": 191,
       "style": "IPY_MODEL_e33e34d2c68a403c9194b699b27e35d2",
       "value": 191
      }
     },
     "d30768d96db54d919fc2c64fc8c4532c": {
      "model_module": "@jupyter-widgets/base",
      "model_module_version": "2.0.0",
      "model_name": "LayoutModel",
      "state": {
       "visibility": "hidden"
      }
     },
     "d31d9e10bf664e54ab5fe5c4ba1125ce": {
      "model_module": "@jupyter-widgets/controls",
      "model_module_version": "2.0.0",
      "model_name": "ProgressStyleModel",
      "state": {
       "description_width": ""
      }
     },
     "d36dede3505c404faf7acfa3b0adb807": {
      "model_module": "@jupyter-widgets/base",
      "model_module_version": "2.0.0",
      "model_name": "LayoutModel",
      "state": {}
     },
     "d3aedb1f39c1463da51d4c0ab283e5fa": {
      "model_module": "@jupyter-widgets/controls",
      "model_module_version": "2.0.0",
      "model_name": "HTMLModel",
      "state": {
       "layout": "IPY_MODEL_5076e6efb6eb4427aa0136be1f426b5f",
       "style": "IPY_MODEL_8a1f98ab0b1140b393271fdebefee380",
       "value": " 7615/7615 [00:48&lt;00:00, 165.11it/s]"
      }
     },
     "d3c3345825ea48298633393d44c790c4": {
      "model_module": "@jupyter-widgets/controls",
      "model_module_version": "2.0.0",
      "model_name": "FloatProgressModel",
      "state": {
       "layout": "IPY_MODEL_2cd483fa7b5c49c98713165c42b3d9fc",
       "max": 191,
       "style": "IPY_MODEL_993d40e3534b464aa2cb89264b9c9f10",
       "value": 191
      }
     },
     "d3f040faeaec43809f47f9adfd2da5aa": {
      "model_module": "@jupyter-widgets/controls",
      "model_module_version": "2.0.0",
      "model_name": "HTMLModel",
      "state": {
       "layout": "IPY_MODEL_29f380e3d7954428a9bc161eae3b89c6",
       "style": "IPY_MODEL_687ce0ec3d5d470caf633e78fda9d014",
       "value": "Training: 100%"
      }
     },
     "d3f44e884861461fbf8f22eef1abbd25": {
      "model_module": "@jupyter-widgets/controls",
      "model_module_version": "2.0.0",
      "model_name": "FloatProgressModel",
      "state": {
       "layout": "IPY_MODEL_c6577cb7ac994d0499c1b6f64e651968",
       "max": 48,
       "style": "IPY_MODEL_052529bb32df4ee79c02f284df4e2462",
       "value": 48
      }
     },
     "d4ed689382804121967ae4c7299de783": {
      "model_module": "@jupyter-widgets/controls",
      "model_module_version": "2.0.0",
      "model_name": "HTMLStyleModel",
      "state": {
       "description_width": "",
       "font_size": null,
       "text_color": null
      }
     },
     "d5a49d9f5120445d95135f747d165672": {
      "model_module": "@jupyter-widgets/base",
      "model_module_version": "2.0.0",
      "model_name": "LayoutModel",
      "state": {
       "visibility": "hidden"
      }
     },
     "d611f1769c374a789972173cf9a80156": {
      "model_module": "@jupyter-widgets/controls",
      "model_module_version": "2.0.0",
      "model_name": "HTMLStyleModel",
      "state": {
       "description_width": "",
       "font_size": null,
       "text_color": null
      }
     },
     "d6e766da3bd9457280d372b7ae4ba918": {
      "model_module": "@jupyter-widgets/base",
      "model_module_version": "2.0.0",
      "model_name": "LayoutModel",
      "state": {}
     },
     "d6f3183ad36a4f61836dbd64dbef18b7": {
      "model_module": "@jupyter-widgets/base",
      "model_module_version": "2.0.0",
      "model_name": "LayoutModel",
      "state": {}
     },
     "d718ccf5fabb43c09bdb6545148ddc0b": {
      "model_module": "@jupyter-widgets/base",
      "model_module_version": "2.0.0",
      "model_name": "LayoutModel",
      "state": {}
     },
     "d7d08e61024e49f8bd2039432ee02095": {
      "model_module": "@jupyter-widgets/base",
      "model_module_version": "2.0.0",
      "model_name": "LayoutModel",
      "state": {}
     },
     "d7f90e198f1946e3a25195436a229761": {
      "model_module": "@jupyter-widgets/controls",
      "model_module_version": "2.0.0",
      "model_name": "ProgressStyleModel",
      "state": {
       "description_width": ""
      }
     },
     "d83297c5db274c12aa8386c5e306fb14": {
      "model_module": "@jupyter-widgets/controls",
      "model_module_version": "2.0.0",
      "model_name": "HTMLModel",
      "state": {
       "layout": "IPY_MODEL_b2f41dad64084cc2a0b234067ecfe460",
       "style": "IPY_MODEL_91cac8b2b20c483fb051cb5549540095",
       "value": "Scoring:  99%"
      }
     },
     "d83aca92770a4f67a7e8416095bdc71a": {
      "model_module": "@jupyter-widgets/base",
      "model_module_version": "2.0.0",
      "model_name": "LayoutModel",
      "state": {
       "visibility": "hidden"
      }
     },
     "d86ba5287d3c40ad8e0897e25e8b1958": {
      "model_module": "@jupyter-widgets/controls",
      "model_module_version": "2.0.0",
      "model_name": "HTMLStyleModel",
      "state": {
       "description_width": "",
       "font_size": null,
       "text_color": null
      }
     },
     "d8a67d3707474da9b5a6c151ea058ff2": {
      "model_module": "@jupyter-widgets/controls",
      "model_module_version": "2.0.0",
      "model_name": "HTMLStyleModel",
      "state": {
       "description_width": "",
       "font_size": null,
       "text_color": null
      }
     },
     "d8e155b1e6a14ee9b9920ab5f200c159": {
      "model_module": "@jupyter-widgets/controls",
      "model_module_version": "2.0.0",
      "model_name": "HTMLModel",
      "state": {
       "layout": "IPY_MODEL_77022378c70c4d8781508e3e6a2ce544",
       "style": "IPY_MODEL_14bf3d02365b44e88c7af92fc37eca28",
       "value": " 190/191 [00:43&lt;00:00,  4.26it/s]"
      }
     },
     "d94ca36b35e14da0b2b9059e063b0fdd": {
      "model_module": "@jupyter-widgets/controls",
      "model_module_version": "2.0.0",
      "model_name": "HTMLModel",
      "state": {
       "layout": "IPY_MODEL_0f1cea7a03bd449b9a2c5bc6424b2024",
       "style": "IPY_MODEL_cecc2253e1fa4bc686c1cb1aaa4219d4",
       "value": "Training: 100%"
      }
     },
     "d9b5576efbfd4fba9545a80eb9f531d0": {
      "model_module": "@jupyter-widgets/controls",
      "model_module_version": "2.0.0",
      "model_name": "FloatProgressModel",
      "state": {
       "layout": "IPY_MODEL_8c2c2ba3c2664b43b836dd963e22e98e",
       "max": 191,
       "style": "IPY_MODEL_8ec4ec7cd42b431598b134697056a4bf",
       "value": 191
      }
     },
     "d9fe6ca8ce53496797e29c665ccc15ff": {
      "model_module": "@jupyter-widgets/controls",
      "model_module_version": "2.0.0",
      "model_name": "HTMLModel",
      "state": {
       "layout": "IPY_MODEL_6cd885270ff54cd5a67bb1c6ae77fecb",
       "style": "IPY_MODEL_d8a67d3707474da9b5a6c151ea058ff2",
       "value": " 48/48 [00:11&lt;00:00,  4.87it/s]"
      }
     },
     "da2d7c7f078f4eb5bf5724f25488f4e3": {
      "model_module": "@jupyter-widgets/controls",
      "model_module_version": "2.0.0",
      "model_name": "FloatProgressModel",
      "state": {
       "layout": "IPY_MODEL_e79139c81b31495d804bcf3e97747448",
       "max": 191,
       "style": "IPY_MODEL_e3f739f93df84080948c63f7365a32f3",
       "value": 191
      }
     },
     "db3cc3f33b594f3f87a7faed36aa9794": {
      "model_module": "@jupyter-widgets/controls",
      "model_module_version": "2.0.0",
      "model_name": "HTMLModel",
      "state": {
       "layout": "IPY_MODEL_30122150ac5745c5868c97d04af3dfca",
       "style": "IPY_MODEL_a14144204eff44609e9b63f2709cda27",
       "value": " 190/191 [00:44&lt;00:00,  4.19it/s]"
      }
     },
     "db9ed70004cc4a7787580be1db66d41c": {
      "model_module": "@jupyter-widgets/controls",
      "model_module_version": "2.0.0",
      "model_name": "HTMLStyleModel",
      "state": {
       "description_width": "",
       "font_size": null,
       "text_color": null
      }
     },
     "db9fe8fc395e498c8c567421ec52bd03": {
      "model_module": "@jupyter-widgets/controls",
      "model_module_version": "2.0.0",
      "model_name": "HTMLModel",
      "state": {
       "layout": "IPY_MODEL_add15ac84bbb443ca4c791859210cd62",
       "style": "IPY_MODEL_8dde63b8a546481f99ae13920e10f1a7",
       "value": "Training: 100%"
      }
     },
     "dbc7801c6ba444bbb6ee8bf12b90853c": {
      "model_module": "@jupyter-widgets/base",
      "model_module_version": "2.0.0",
      "model_name": "LayoutModel",
      "state": {}
     },
     "dc019a4d86464c819dab9518a8728b37": {
      "model_module": "@jupyter-widgets/base",
      "model_module_version": "2.0.0",
      "model_name": "LayoutModel",
      "state": {}
     },
     "dc3ef2d7371d4a2e808cd267ad1ec59d": {
      "model_module": "@jupyter-widgets/base",
      "model_module_version": "2.0.0",
      "model_name": "LayoutModel",
      "state": {}
     },
     "dc68b31bb47b451abd226407a011048e": {
      "model_module": "@jupyter-widgets/base",
      "model_module_version": "2.0.0",
      "model_name": "LayoutModel",
      "state": {}
     },
     "dc8b92ba18d348d682b4710bcd4fc645": {
      "model_module": "@jupyter-widgets/base",
      "model_module_version": "2.0.0",
      "model_name": "LayoutModel",
      "state": {
       "visibility": "hidden"
      }
     },
     "dca85ae49b7d409c877ccbed20ff650f": {
      "model_module": "@jupyter-widgets/controls",
      "model_module_version": "2.0.0",
      "model_name": "ProgressStyleModel",
      "state": {
       "description_width": ""
      }
     },
     "dccda0111b6c4ef39eafa790adb88152": {
      "model_module": "@jupyter-widgets/base",
      "model_module_version": "2.0.0",
      "model_name": "LayoutModel",
      "state": {}
     },
     "dced9d2d38824b528a24c0837b26f353": {
      "model_module": "@jupyter-widgets/controls",
      "model_module_version": "2.0.0",
      "model_name": "ProgressStyleModel",
      "state": {
       "description_width": ""
      }
     },
     "dd059db0078e40838d5d7ccd086f1d50": {
      "model_module": "@jupyter-widgets/controls",
      "model_module_version": "2.0.0",
      "model_name": "HTMLStyleModel",
      "state": {
       "description_width": "",
       "font_size": null,
       "text_color": null
      }
     },
     "dd08938f6b82450b9e0086fd486e4134": {
      "model_module": "@jupyter-widgets/controls",
      "model_module_version": "2.0.0",
      "model_name": "HTMLStyleModel",
      "state": {
       "description_width": "",
       "font_size": null,
       "text_color": null
      }
     },
     "dd1d68c52d024579801649264db0ca14": {
      "model_module": "@jupyter-widgets/base",
      "model_module_version": "2.0.0",
      "model_name": "LayoutModel",
      "state": {}
     },
     "dd766f26c8594873afbd91cdd2ef3cf6": {
      "model_module": "@jupyter-widgets/controls",
      "model_module_version": "2.0.0",
      "model_name": "HTMLStyleModel",
      "state": {
       "description_width": "",
       "font_size": null,
       "text_color": null
      }
     },
     "dd7e79b23d1e46e5b26f57bb21071e39": {
      "model_module": "@jupyter-widgets/base",
      "model_module_version": "2.0.0",
      "model_name": "LayoutModel",
      "state": {}
     },
     "dd880413d96549e2a1d67d7620cf2994": {
      "model_module": "@jupyter-widgets/controls",
      "model_module_version": "2.0.0",
      "model_name": "HTMLStyleModel",
      "state": {
       "description_width": "",
       "font_size": null,
       "text_color": null
      }
     },
     "ddd09e8f25c44836b8f25c78455c80a2": {
      "model_module": "@jupyter-widgets/controls",
      "model_module_version": "2.0.0",
      "model_name": "ProgressStyleModel",
      "state": {
       "description_width": ""
      }
     },
     "ddde66eacba5420cb7ec80501c9a2e13": {
      "model_module": "@jupyter-widgets/controls",
      "model_module_version": "2.0.0",
      "model_name": "HTMLModel",
      "state": {
       "layout": "IPY_MODEL_38d18dadbfa5430996e8e837dad34274",
       "style": "IPY_MODEL_9af1db80abc94136b7c33f90ac492bd4",
       "value": "Training: 100%"
      }
     },
     "de0469cfd9d64489bf2d80db871bb003": {
      "model_module": "@jupyter-widgets/controls",
      "model_module_version": "2.0.0",
      "model_name": "ProgressStyleModel",
      "state": {
       "description_width": ""
      }
     },
     "de4ac0dc9a0d45ea960a3887304dd409": {
      "model_module": "@jupyter-widgets/base",
      "model_module_version": "2.0.0",
      "model_name": "LayoutModel",
      "state": {}
     },
     "de647729398048de83a9bb110afdc094": {
      "model_module": "@jupyter-widgets/controls",
      "model_module_version": "2.0.0",
      "model_name": "HTMLModel",
      "state": {
       "layout": "IPY_MODEL_6d449ee2cd5942a6b1c01c231efa1a53",
       "style": "IPY_MODEL_75b78696a42f4fcaa918a1bbffb2ef13",
       "value": "Scoring:  99%"
      }
     },
     "dea214780b924c699112b0677fcd65e3": {
      "model_module": "@jupyter-widgets/base",
      "model_module_version": "2.0.0",
      "model_name": "LayoutModel",
      "state": {}
     },
     "deb1b7828e194a40a60a8fcc28e67762": {
      "model_module": "@jupyter-widgets/base",
      "model_module_version": "2.0.0",
      "model_name": "LayoutModel",
      "state": {}
     },
     "dec6924b142241a4ab6db752585564b4": {
      "model_module": "@jupyter-widgets/controls",
      "model_module_version": "2.0.0",
      "model_name": "HTMLModel",
      "state": {
       "layout": "IPY_MODEL_f50d8f4477994d76b12cc94d4bff87c5",
       "style": "IPY_MODEL_48056d24511d49b79db1f329e04fb6b7",
       "value": " 48/48 [00:11&lt;00:00,  4.96it/s]"
      }
     },
     "df4e705917af4a19a1a50e18e15efbaa": {
      "model_module": "@jupyter-widgets/controls",
      "model_module_version": "2.0.0",
      "model_name": "FloatProgressModel",
      "state": {
       "layout": "IPY_MODEL_38f799e5d4a94019a738b9f5b40dc34b",
       "max": 191,
       "style": "IPY_MODEL_733bc1cfebcb4c8789f76f95f5be4e72",
       "value": 191
      }
     },
     "df4f7c97996445b0acd1e90253145a02": {
      "model_module": "@jupyter-widgets/controls",
      "model_module_version": "2.0.0",
      "model_name": "HTMLModel",
      "state": {
       "layout": "IPY_MODEL_8fa303d0fc1c45cf91f4753f4e733803",
       "style": "IPY_MODEL_cdb3575229024aeebac6a029a963a4e6",
       "value": " 48/48 [00:11&lt;00:00,  4.86it/s]"
      }
     },
     "df5f2efc886f420098a445042eca26ca": {
      "model_module": "@jupyter-widgets/controls",
      "model_module_version": "2.0.0",
      "model_name": "ProgressStyleModel",
      "state": {
       "description_width": ""
      }
     },
     "e0ebdab0890348a980e4ae39d4d37a24": {
      "model_module": "@jupyter-widgets/base",
      "model_module_version": "2.0.0",
      "model_name": "LayoutModel",
      "state": {}
     },
     "e1937247cfb74c20b4667a24d4e42109": {
      "model_module": "@jupyter-widgets/controls",
      "model_module_version": "2.0.0",
      "model_name": "ProgressStyleModel",
      "state": {
       "description_width": ""
      }
     },
     "e194c38ade06450a89cef8488ddea3fb": {
      "model_module": "@jupyter-widgets/controls",
      "model_module_version": "2.0.0",
      "model_name": "HTMLModel",
      "state": {
       "layout": "IPY_MODEL_3dfeee1d132143cfb8f1506f1b407cf9",
       "style": "IPY_MODEL_5e9a95733e134085a58dc35b2a46dc1d",
       "value": " 190/191 [00:44&lt;00:00,  4.34it/s]"
      }
     },
     "e1b6fdfc31444c42bbb574a95059d2af": {
      "model_module": "@jupyter-widgets/base",
      "model_module_version": "2.0.0",
      "model_name": "LayoutModel",
      "state": {}
     },
     "e274549ad13847fbb3ab26b964cc194f": {
      "model_module": "@jupyter-widgets/controls",
      "model_module_version": "2.0.0",
      "model_name": "FloatProgressModel",
      "state": {
       "layout": "IPY_MODEL_9cb431e5ce14410b980b5c8743c40de2",
       "max": 191,
       "style": "IPY_MODEL_9264a8b7f1f2442aacf88eafc5b7a118",
       "value": 191
      }
     },
     "e2dd5e9fc57749a480809ca22e0141f1": {
      "model_module": "@jupyter-widgets/base",
      "model_module_version": "2.0.0",
      "model_name": "LayoutModel",
      "state": {
       "visibility": "hidden"
      }
     },
     "e2ebdbf1515f4f379a9549f3c13f1dc1": {
      "model_module": "@jupyter-widgets/controls",
      "model_module_version": "2.0.0",
      "model_name": "HTMLStyleModel",
      "state": {
       "description_width": "",
       "font_size": null,
       "text_color": null
      }
     },
     "e303fd803aeb40f3a200e0c49c767bfb": {
      "model_module": "@jupyter-widgets/base",
      "model_module_version": "2.0.0",
      "model_name": "LayoutModel",
      "state": {}
     },
     "e3296519c23245fb96a6c384f1cb6a23": {
      "model_module": "@jupyter-widgets/controls",
      "model_module_version": "2.0.0",
      "model_name": "HTMLStyleModel",
      "state": {
       "description_width": "",
       "font_size": null,
       "text_color": null
      }
     },
     "e33e34d2c68a403c9194b699b27e35d2": {
      "model_module": "@jupyter-widgets/controls",
      "model_module_version": "2.0.0",
      "model_name": "ProgressStyleModel",
      "state": {
       "description_width": ""
      }
     },
     "e35b05d4fcdf4cbaa039fff006a19a3a": {
      "model_module": "@jupyter-widgets/controls",
      "model_module_version": "2.0.0",
      "model_name": "HTMLStyleModel",
      "state": {
       "description_width": "",
       "font_size": null,
       "text_color": null
      }
     },
     "e3ab1bcc243843b49d5557a9ebc08cce": {
      "model_module": "@jupyter-widgets/controls",
      "model_module_version": "2.0.0",
      "model_name": "HTMLModel",
      "state": {
       "layout": "IPY_MODEL_9755533e25174ce9bd6ad6aaa2ce81c5",
       "style": "IPY_MODEL_ec680f7077ea496e9c0e26da07b89c94",
       "value": "Scoring:  99%"
      }
     },
     "e3f4bb6e4e7f447da54c4408a38db00d": {
      "model_module": "@jupyter-widgets/controls",
      "model_module_version": "2.0.0",
      "model_name": "HTMLModel",
      "state": {
       "layout": "IPY_MODEL_80d0a1faebec4d349d8a1b4e3238eafe",
       "style": "IPY_MODEL_5d0c874db97149d8976d7925a3ff6ddc",
       "value": "Scoring: 100%"
      }
     },
     "e3f739f93df84080948c63f7365a32f3": {
      "model_module": "@jupyter-widgets/controls",
      "model_module_version": "2.0.0",
      "model_name": "ProgressStyleModel",
      "state": {
       "description_width": ""
      }
     },
     "e441c7eac8de460abc34ce9d0d488d5a": {
      "model_module": "@jupyter-widgets/base",
      "model_module_version": "2.0.0",
      "model_name": "LayoutModel",
      "state": {}
     },
     "e45a4d6e945f4b3eaba7412a62b76741": {
      "model_module": "@jupyter-widgets/base",
      "model_module_version": "2.0.0",
      "model_name": "LayoutModel",
      "state": {}
     },
     "e481774a4d524191a12215e3165d8e89": {
      "model_module": "@jupyter-widgets/controls",
      "model_module_version": "2.0.0",
      "model_name": "FloatProgressModel",
      "state": {
       "bar_style": "success",
       "layout": "IPY_MODEL_05e635d446454a55a7f98ff4b900f94b",
       "max": 6092,
       "style": "IPY_MODEL_57f3a75bc3e846abba889d51071e99cd",
       "value": 6092
      }
     },
     "e4976db040b4459597064c6e63d74943": {
      "model_module": "@jupyter-widgets/base",
      "model_module_version": "2.0.0",
      "model_name": "LayoutModel",
      "state": {}
     },
     "e4cbef31110647dba86068b080a376b3": {
      "model_module": "@jupyter-widgets/controls",
      "model_module_version": "2.0.0",
      "model_name": "HTMLModel",
      "state": {
       "layout": "IPY_MODEL_d6f3183ad36a4f61836dbd64dbef18b7",
       "style": "IPY_MODEL_dd059db0078e40838d5d7ccd086f1d50",
       "value": "Scoring: 100%"
      }
     },
     "e52c8a454e6749a09e16ecb26a1755a6": {
      "model_module": "@jupyter-widgets/controls",
      "model_module_version": "2.0.0",
      "model_name": "HTMLModel",
      "state": {
       "layout": "IPY_MODEL_12eedd34c436464da1393150a05b5a02",
       "style": "IPY_MODEL_592e8c8669df4c1fb7ad601a3b5ca5ef",
       "value": "Training: 100%"
      }
     },
     "e54bcc92ddd74876b4d7d4312849c4be": {
      "model_module": "@jupyter-widgets/base",
      "model_module_version": "2.0.0",
      "model_name": "LayoutModel",
      "state": {}
     },
     "e5c008f078a14202a6c612d46b5aa5bf": {
      "model_module": "@jupyter-widgets/controls",
      "model_module_version": "2.0.0",
      "model_name": "FloatProgressModel",
      "state": {
       "layout": "IPY_MODEL_f8213f5b2cd44fd3a81c72f12e5c93cf",
       "max": 191,
       "style": "IPY_MODEL_c157a77cc16641bdb193d6f4a0fbc07c",
       "value": 191
      }
     },
     "e5c41af7da4546a1a3c280a877c92d38": {
      "model_module": "@jupyter-widgets/controls",
      "model_module_version": "2.0.0",
      "model_name": "HTMLModel",
      "state": {
       "layout": "IPY_MODEL_69c8b618e8e2451e8e28b0e4aa6ed8f5",
       "style": "IPY_MODEL_c4cfbd32315a480280119b06aa38f895",
       "value": "Training: 100%"
      }
     },
     "e5dfc72ca12346eeaa60ca9cdfd694cf": {
      "model_module": "@jupyter-widgets/controls",
      "model_module_version": "2.0.0",
      "model_name": "HTMLModel",
      "state": {
       "layout": "IPY_MODEL_424484aca54b4457a3da7bee4d36b4e3",
       "style": "IPY_MODEL_8f0c3050ee2f406d93d5681237311dd8",
       "value": " 190/191 [00:47&lt;00:00,  4.30it/s]"
      }
     },
     "e672b7d00cf3458fb51b42ec05308df0": {
      "model_module": "@jupyter-widgets/controls",
      "model_module_version": "2.0.0",
      "model_name": "ProgressStyleModel",
      "state": {
       "description_width": ""
      }
     },
     "e685385e0abb4d5389af22bf0c213bb1": {
      "model_module": "@jupyter-widgets/base",
      "model_module_version": "2.0.0",
      "model_name": "LayoutModel",
      "state": {}
     },
     "e70a78fa335e4dc39ceef9c9ea7da1be": {
      "model_module": "@jupyter-widgets/controls",
      "model_module_version": "2.0.0",
      "model_name": "FloatProgressModel",
      "state": {
       "layout": "IPY_MODEL_dc019a4d86464c819dab9518a8728b37",
       "max": 48,
       "style": "IPY_MODEL_41c4b3dd0a2d41169519eb3fe3d2c1b4",
       "value": 48
      }
     },
     "e70c29283b3345eda45b60a2af07cc81": {
      "model_module": "@jupyter-widgets/base",
      "model_module_version": "2.0.0",
      "model_name": "LayoutModel",
      "state": {}
     },
     "e712bfa140b54f058eeedaa461e5cc7f": {
      "model_module": "@jupyter-widgets/base",
      "model_module_version": "2.0.0",
      "model_name": "LayoutModel",
      "state": {}
     },
     "e738b3ac4b4e4355be85bfd805fc0658": {
      "model_module": "@jupyter-widgets/base",
      "model_module_version": "2.0.0",
      "model_name": "LayoutModel",
      "state": {}
     },
     "e79139c81b31495d804bcf3e97747448": {
      "model_module": "@jupyter-widgets/base",
      "model_module_version": "2.0.0",
      "model_name": "LayoutModel",
      "state": {}
     },
     "e837d53eb1f34bd3af1908d8238003c5": {
      "model_module": "@jupyter-widgets/base",
      "model_module_version": "2.0.0",
      "model_name": "LayoutModel",
      "state": {}
     },
     "e84ccbd5950946d989967dc53c5c1483": {
      "model_module": "@jupyter-widgets/controls",
      "model_module_version": "2.0.0",
      "model_name": "HTMLModel",
      "state": {
       "layout": "IPY_MODEL_8ff7a0c00f3749209503791613ff7e2b",
       "style": "IPY_MODEL_8b84984aeb6e46cd8e3a0a83ce93a24d",
       "value": "Training: 100%"
      }
     },
     "e86b8a126df94d7f9e1fddb5176a1070": {
      "model_module": "@jupyter-widgets/controls",
      "model_module_version": "2.0.0",
      "model_name": "HTMLStyleModel",
      "state": {
       "description_width": "",
       "font_size": null,
       "text_color": null
      }
     },
     "e877e1f31d2647568f2ffbf6e4b28da0": {
      "model_module": "@jupyter-widgets/controls",
      "model_module_version": "2.0.0",
      "model_name": "FloatProgressModel",
      "state": {
       "layout": "IPY_MODEL_ab68cf19e82f482e9bf2aac5c754095e",
       "max": 191,
       "style": "IPY_MODEL_737bb2459077410fa83ce0043d822f57",
       "value": 191
      }
     },
     "e92fbc802ab443ac83c6d1ae74e75371": {
      "model_module": "@jupyter-widgets/controls",
      "model_module_version": "2.0.0",
      "model_name": "HTMLStyleModel",
      "state": {
       "description_width": "",
       "font_size": null,
       "text_color": null
      }
     },
     "e9b98c1f992f44e691cac0aea79b6afc": {
      "model_module": "@jupyter-widgets/controls",
      "model_module_version": "2.0.0",
      "model_name": "HTMLModel",
      "state": {
       "layout": "IPY_MODEL_a3fbb178610a445989fa64edca8c0fc1",
       "style": "IPY_MODEL_be651124e48e40349b6d577f1ff3f24b",
       "value": " 48/48 [00:11&lt;00:00,  4.89it/s]"
      }
     },
     "ea1c5c68fded4961b64c286216459e00": {
      "model_module": "@jupyter-widgets/controls",
      "model_module_version": "2.0.0",
      "model_name": "ProgressStyleModel",
      "state": {
       "description_width": ""
      }
     },
     "ea256508d68d4400a3e6103279d14b00": {
      "model_module": "@jupyter-widgets/controls",
      "model_module_version": "2.0.0",
      "model_name": "HTMLModel",
      "state": {
       "layout": "IPY_MODEL_472032a050814d0bac243a86794ac082",
       "style": "IPY_MODEL_9d1bf5068d8746c286377bb1de0ed121",
       "value": "Training:  99%"
      }
     },
     "ea6598929ba047aba67466d85d89ade8": {
      "model_module": "@jupyter-widgets/controls",
      "model_module_version": "2.0.0",
      "model_name": "HTMLModel",
      "state": {
       "layout": "IPY_MODEL_f1b9f5b4c5ab4184ba04206f0580de5c",
       "style": "IPY_MODEL_96e34ba3ca4041a3a35cc84ab2ca2a70",
       "value": " 190/191 [00:44&lt;00:00,  4.26it/s]"
      }
     },
     "eb1af3f93808494bb71a57c779ef5921": {
      "model_module": "@jupyter-widgets/base",
      "model_module_version": "2.0.0",
      "model_name": "LayoutModel",
      "state": {
       "visibility": "hidden"
      }
     },
     "eb3e01d663154ab9bf1b13f412b61939": {
      "model_module": "@jupyter-widgets/controls",
      "model_module_version": "2.0.0",
      "model_name": "HTMLModel",
      "state": {
       "layout": "IPY_MODEL_68b4b907a88a43e6a4b5f7bb8ff11543",
       "style": "IPY_MODEL_8d7568955ba04ac1a8257177bf014cef",
       "value": " 48/48 [00:11&lt;00:00,  4.84it/s]"
      }
     },
     "eb3fb1b30bca40c7863c946bb2b526c2": {
      "model_module": "@jupyter-widgets/base",
      "model_module_version": "2.0.0",
      "model_name": "LayoutModel",
      "state": {}
     },
     "eb819e12dc864996bdb154c7a19060ed": {
      "model_module": "@jupyter-widgets/base",
      "model_module_version": "2.0.0",
      "model_name": "LayoutModel",
      "state": {}
     },
     "ebdc8e73e93742ec8a54c34bd51dfa49": {
      "model_module": "@jupyter-widgets/base",
      "model_module_version": "2.0.0",
      "model_name": "LayoutModel",
      "state": {}
     },
     "ec0f4e7533d342db9a1bb636961eb21c": {
      "model_module": "@jupyter-widgets/controls",
      "model_module_version": "2.0.0",
      "model_name": "HTMLModel",
      "state": {
       "layout": "IPY_MODEL_402a40d6ccb44d3c9dfa4c0d856af35a",
       "style": "IPY_MODEL_aece664366df48f8b9a96d124ad4af77",
       "value": " 190/191 [00:43&lt;00:00,  4.33it/s]"
      }
     },
     "ec1460cede01479f8bc2c1bf10ac1006": {
      "model_module": "@jupyter-widgets/controls",
      "model_module_version": "2.0.0",
      "model_name": "FloatProgressModel",
      "state": {
       "layout": "IPY_MODEL_a7d0eedb600e466da820db947d03895a",
       "max": 191,
       "style": "IPY_MODEL_d1d18c11036348fbb5795017db244281",
       "value": 191
      }
     },
     "ec246e48ad824aed92b1a7a9f514d4c0": {
      "model_module": "@jupyter-widgets/base",
      "model_module_version": "2.0.0",
      "model_name": "LayoutModel",
      "state": {}
     },
     "ec680f7077ea496e9c0e26da07b89c94": {
      "model_module": "@jupyter-widgets/controls",
      "model_module_version": "2.0.0",
      "model_name": "HTMLStyleModel",
      "state": {
       "description_width": "",
       "font_size": null,
       "text_color": null
      }
     },
     "ed4275c27ae04d66b738a427e3e110b3": {
      "model_module": "@jupyter-widgets/base",
      "model_module_version": "2.0.0",
      "model_name": "LayoutModel",
      "state": {}
     },
     "ed57382a541745e88456c557727c2b50": {
      "model_module": "@jupyter-widgets/controls",
      "model_module_version": "2.0.0",
      "model_name": "HTMLModel",
      "state": {
       "layout": "IPY_MODEL_af7795d3bec2480984d70b7fbd000f3e",
       "style": "IPY_MODEL_8694826032684f92aefcbf268287b02f",
       "value": " 191/191 [00:53&lt;00:00,  4.50it/s]"
      }
     },
     "ed577141ce7e45ff84da3a21daf5ceda": {
      "model_module": "@jupyter-widgets/controls",
      "model_module_version": "2.0.0",
      "model_name": "HTMLStyleModel",
      "state": {
       "description_width": "",
       "font_size": null,
       "text_color": null
      }
     },
     "eda2c588f34642629ed906559a187d18": {
      "model_module": "@jupyter-widgets/controls",
      "model_module_version": "2.0.0",
      "model_name": "HTMLStyleModel",
      "state": {
       "description_width": "",
       "font_size": null,
       "text_color": null
      }
     },
     "edf60f59ad294d32a28c61b23c22138f": {
      "model_module": "@jupyter-widgets/controls",
      "model_module_version": "2.0.0",
      "model_name": "HTMLStyleModel",
      "state": {
       "description_width": "",
       "font_size": null,
       "text_color": null
      }
     },
     "ee0f0f4501464e6cbfb848ab05ef0fa2": {
      "model_module": "@jupyter-widgets/base",
      "model_module_version": "2.0.0",
      "model_name": "LayoutModel",
      "state": {}
     },
     "ee199ce8b1424d3fb3419c64a70bc17a": {
      "model_module": "@jupyter-widgets/controls",
      "model_module_version": "2.0.0",
      "model_name": "ProgressStyleModel",
      "state": {
       "description_width": ""
      }
     },
     "ee289f3d00074ea184f56b0c1531d034": {
      "model_module": "@jupyter-widgets/base",
      "model_module_version": "2.0.0",
      "model_name": "LayoutModel",
      "state": {}
     },
     "ee5d82b626344e9a9c484c589adca6af": {
      "model_module": "@jupyter-widgets/controls",
      "model_module_version": "2.0.0",
      "model_name": "HTMLStyleModel",
      "state": {
       "description_width": "",
       "font_size": null,
       "text_color": null
      }
     },
     "ee79aaaf3bfe48128217bd14b136acf5": {
      "model_module": "@jupyter-widgets/controls",
      "model_module_version": "2.0.0",
      "model_name": "FloatProgressModel",
      "state": {
       "layout": "IPY_MODEL_ac353c5a70bd4b3d84dc90c646ccbef1",
       "max": 191,
       "style": "IPY_MODEL_f121dd19d00a453c9c5a2d4407fd2d95",
       "value": 191
      }
     },
     "eeaf8a452b4a4ed091b7f4331ffd0843": {
      "model_module": "@jupyter-widgets/controls",
      "model_module_version": "2.0.0",
      "model_name": "HTMLStyleModel",
      "state": {
       "description_width": "",
       "font_size": null,
       "text_color": null
      }
     },
     "eecac975a31d4e1ea3806e1dca24d733": {
      "model_module": "@jupyter-widgets/controls",
      "model_module_version": "2.0.0",
      "model_name": "ProgressStyleModel",
      "state": {
       "description_width": ""
      }
     },
     "eed70cc63ad8483f9ca9c13b520593f3": {
      "model_module": "@jupyter-widgets/base",
      "model_module_version": "2.0.0",
      "model_name": "LayoutModel",
      "state": {}
     },
     "eeec5f2511ba4d5eb87a465e2d62a9f3": {
      "model_module": "@jupyter-widgets/controls",
      "model_module_version": "2.0.0",
      "model_name": "FloatProgressModel",
      "state": {
       "layout": "IPY_MODEL_9dfaa8515df146239575531867c2cc88",
       "max": 191,
       "style": "IPY_MODEL_ad36640fd9f34fdda178864eaa8901f2",
       "value": 191
      }
     },
     "ef8fffc9980145c08dbf6d940d2d0770": {
      "model_module": "@jupyter-widgets/controls",
      "model_module_version": "2.0.0",
      "model_name": "HTMLModel",
      "state": {
       "layout": "IPY_MODEL_57d3000107b64138b1ae63464881ad9b",
       "style": "IPY_MODEL_dd08938f6b82450b9e0086fd486e4134",
       "value": " 191/191 [00:50&lt;00:00,  4.49it/s]"
      }
     },
     "efc4f1bf6d144ed6af11ed25deda399f": {
      "model_module": "@jupyter-widgets/controls",
      "model_module_version": "2.0.0",
      "model_name": "FloatProgressModel",
      "state": {
       "layout": "IPY_MODEL_d0f422ca97bd43758aa94c78433f6f7d",
       "max": 48,
       "style": "IPY_MODEL_ddd09e8f25c44836b8f25c78455c80a2",
       "value": 48
      }
     },
     "efc61556b085415a90e4414f8fec0a46": {
      "model_module": "@jupyter-widgets/controls",
      "model_module_version": "2.0.0",
      "model_name": "FloatProgressModel",
      "state": {
       "bar_style": "success",
       "layout": "IPY_MODEL_cce40ab51c5a49d5a3edee7bf6d340f9",
       "max": 7615,
       "style": "IPY_MODEL_de0469cfd9d64489bf2d80db871bb003",
       "value": 7615
      }
     },
     "f04d01ce4ddb4a1fb28841b0237f6e44": {
      "model_module": "@jupyter-widgets/controls",
      "model_module_version": "2.0.0",
      "model_name": "FloatProgressModel",
      "state": {
       "layout": "IPY_MODEL_8e9ec13eb81142a6a346e97a7d0c9d9c",
       "max": 191,
       "style": "IPY_MODEL_a938e3d5f972415babdc8440003ef8b3",
       "value": 191
      }
     },
     "f0748c2e9d3347308f0d818b19b4781f": {
      "model_module": "@jupyter-widgets/controls",
      "model_module_version": "2.0.0",
      "model_name": "ProgressStyleModel",
      "state": {
       "description_width": ""
      }
     },
     "f08085b1a6a3484ab4ef131c6c2b1617": {
      "model_module": "@jupyter-widgets/base",
      "model_module_version": "2.0.0",
      "model_name": "LayoutModel",
      "state": {}
     },
     "f0b260552ded4fc294aa706c2e153fb4": {
      "model_module": "@jupyter-widgets/controls",
      "model_module_version": "2.0.0",
      "model_name": "HTMLModel",
      "state": {
       "layout": "IPY_MODEL_0742861fa32d4ee8b92f1371bc3ecd76",
       "style": "IPY_MODEL_4d73c05cbfa24fd6b676daa65d8e3ec6",
       "value": "Training: 100%"
      }
     },
     "f1126090b6e64c12a20d0bdd4497ff93": {
      "model_module": "@jupyter-widgets/base",
      "model_module_version": "2.0.0",
      "model_name": "LayoutModel",
      "state": {}
     },
     "f121dd19d00a453c9c5a2d4407fd2d95": {
      "model_module": "@jupyter-widgets/controls",
      "model_module_version": "2.0.0",
      "model_name": "ProgressStyleModel",
      "state": {
       "description_width": ""
      }
     },
     "f12e651dc2a547c3a1235f73270f3cfb": {
      "model_module": "@jupyter-widgets/base",
      "model_module_version": "2.0.0",
      "model_name": "LayoutModel",
      "state": {}
     },
     "f1ad48f26a7c4e4fbfb66e6a60c58d83": {
      "model_module": "@jupyter-widgets/base",
      "model_module_version": "2.0.0",
      "model_name": "LayoutModel",
      "state": {}
     },
     "f1b9f5b4c5ab4184ba04206f0580de5c": {
      "model_module": "@jupyter-widgets/base",
      "model_module_version": "2.0.0",
      "model_name": "LayoutModel",
      "state": {}
     },
     "f1be366d6ea44749b068f7eeab72e382": {
      "model_module": "@jupyter-widgets/base",
      "model_module_version": "2.0.0",
      "model_name": "LayoutModel",
      "state": {}
     },
     "f1e85323f85242e9baf3bf5e56b391a7": {
      "model_module": "@jupyter-widgets/controls",
      "model_module_version": "2.0.0",
      "model_name": "ProgressStyleModel",
      "state": {
       "description_width": ""
      }
     },
     "f2019ca71c7648e4a49342af807282da": {
      "model_module": "@jupyter-widgets/base",
      "model_module_version": "2.0.0",
      "model_name": "LayoutModel",
      "state": {}
     },
     "f2d3ea1cab29465a82c0c91057e949a7": {
      "model_module": "@jupyter-widgets/controls",
      "model_module_version": "2.0.0",
      "model_name": "HTMLStyleModel",
      "state": {
       "description_width": "",
       "font_size": null,
       "text_color": null
      }
     },
     "f354d6732c634f018401aa12286f1687": {
      "model_module": "@jupyter-widgets/controls",
      "model_module_version": "2.0.0",
      "model_name": "FloatProgressModel",
      "state": {
       "layout": "IPY_MODEL_e837d53eb1f34bd3af1908d8238003c5",
       "max": 191,
       "style": "IPY_MODEL_98a90cf03e724861bff753e92dfe56fb",
       "value": 191
      }
     },
     "f3743efc944d4e6eba8c326523bf79f7": {
      "model_module": "@jupyter-widgets/base",
      "model_module_version": "2.0.0",
      "model_name": "LayoutModel",
      "state": {
       "visibility": "hidden"
      }
     },
     "f3b5b1756ce04fe9a1902afd1f4b78de": {
      "model_module": "@jupyter-widgets/controls",
      "model_module_version": "2.0.0",
      "model_name": "HTMLModel",
      "state": {
       "layout": "IPY_MODEL_4d8318edf32f4a008bfb9af8d951c8a8",
       "style": "IPY_MODEL_16f074cc12144dee8e217450983254e3",
       "value": "Scoring:  99%"
      }
     },
     "f3deb6ea70584ed9af0aa1fc3c0f0328": {
      "model_module": "@jupyter-widgets/controls",
      "model_module_version": "2.0.0",
      "model_name": "HTMLModel",
      "state": {
       "layout": "IPY_MODEL_1b1a72dfeec943fdbb848b84e9b42d87",
       "style": "IPY_MODEL_b8f060f9780a4807af236f84502fdcbc",
       "value": "Predicting: 100%"
      }
     },
     "f3f9ffcc750f4c2ab55fb262c5941d30": {
      "model_module": "@jupyter-widgets/controls",
      "model_module_version": "2.0.0",
      "model_name": "HTMLStyleModel",
      "state": {
       "description_width": "",
       "font_size": null,
       "text_color": null
      }
     },
     "f42502f4880f4c3ebe4de2de35508622": {
      "model_module": "@jupyter-widgets/base",
      "model_module_version": "2.0.0",
      "model_name": "LayoutModel",
      "state": {}
     },
     "f43675b8ae234ac2ae12dbce3eab09ab": {
      "model_module": "@jupyter-widgets/base",
      "model_module_version": "2.0.0",
      "model_name": "LayoutModel",
      "state": {}
     },
     "f50d8f4477994d76b12cc94d4bff87c5": {
      "model_module": "@jupyter-widgets/base",
      "model_module_version": "2.0.0",
      "model_name": "LayoutModel",
      "state": {}
     },
     "f51df2e8d655409cad2652aed45e23da": {
      "model_module": "@jupyter-widgets/base",
      "model_module_version": "2.0.0",
      "model_name": "LayoutModel",
      "state": {}
     },
     "f55a5fb410174e97a82aaba8e570050a": {
      "model_module": "@jupyter-widgets/controls",
      "model_module_version": "2.0.0",
      "model_name": "HTMLModel",
      "state": {
       "layout": "IPY_MODEL_549a7aef04754da1bd5230ed51dad323",
       "style": "IPY_MODEL_55ff77127e144c829999855fe279351f",
       "value": " 191/191 [00:50&lt;00:00,  4.62it/s]"
      }
     },
     "f55b0a6d04e14faea636a9b0fd9c2409": {
      "model_module": "@jupyter-widgets/controls",
      "model_module_version": "2.0.0",
      "model_name": "ProgressStyleModel",
      "state": {
       "description_width": ""
      }
     },
     "f5ac5f15692249218724e65f69da8a7e": {
      "model_module": "@jupyter-widgets/controls",
      "model_module_version": "2.0.0",
      "model_name": "FloatProgressModel",
      "state": {
       "layout": "IPY_MODEL_e1b6fdfc31444c42bbb574a95059d2af",
       "max": 191,
       "style": "IPY_MODEL_08fbd5581d754646ba98c441f3eb22e0",
       "value": 191
      }
     },
     "f6065d44f8df48d1a3bda3ea740eb4de": {
      "model_module": "@jupyter-widgets/controls",
      "model_module_version": "2.0.0",
      "model_name": "FloatProgressModel",
      "state": {
       "layout": "IPY_MODEL_9e54edf4748946bf8c512e34d2c0b72f",
       "max": 48,
       "style": "IPY_MODEL_9fa37c4af3044032bf7eaa0e9776daf9",
       "value": 48
      }
     },
     "f6beea4fe5a5488792b29f88db727478": {
      "model_module": "@jupyter-widgets/controls",
      "model_module_version": "2.0.0",
      "model_name": "ProgressStyleModel",
      "state": {
       "description_width": ""
      }
     },
     "f6e05b8544b049aa836b04e982029f6d": {
      "model_module": "@jupyter-widgets/controls",
      "model_module_version": "2.0.0",
      "model_name": "FloatProgressModel",
      "state": {
       "layout": "IPY_MODEL_f8543311e82d4253907abd3639635dc1",
       "max": 48,
       "style": "IPY_MODEL_1df38a6be25841e79c02207f939fd53f",
       "value": 48
      }
     },
     "f760b1375d79480ca6406d86d8c04193": {
      "model_module": "@jupyter-widgets/controls",
      "model_module_version": "2.0.0",
      "model_name": "HTMLStyleModel",
      "state": {
       "description_width": "",
       "font_size": null,
       "text_color": null
      }
     },
     "f7f8ea2eeb7b4c5d9cee4e21b4a8f41f": {
      "model_module": "@jupyter-widgets/controls",
      "model_module_version": "2.0.0",
      "model_name": "FloatProgressModel",
      "state": {
       "layout": "IPY_MODEL_34ceab4ed29147448a9afe3c7952be5b",
       "max": 48,
       "style": "IPY_MODEL_1eba76b9c48c426f93ae90cecb480119",
       "value": 48
      }
     },
     "f8114b68c09d4241b115b6f84c6db00c": {
      "model_module": "@jupyter-widgets/controls",
      "model_module_version": "2.0.0",
      "model_name": "HTMLStyleModel",
      "state": {
       "description_width": "",
       "font_size": null,
       "text_color": null
      }
     },
     "f8213f5b2cd44fd3a81c72f12e5c93cf": {
      "model_module": "@jupyter-widgets/base",
      "model_module_version": "2.0.0",
      "model_name": "LayoutModel",
      "state": {}
     },
     "f8543311e82d4253907abd3639635dc1": {
      "model_module": "@jupyter-widgets/base",
      "model_module_version": "2.0.0",
      "model_name": "LayoutModel",
      "state": {}
     },
     "f86363f1f64d4778b6f6d9618bc505f2": {
      "model_module": "@jupyter-widgets/controls",
      "model_module_version": "2.0.0",
      "model_name": "HTMLStyleModel",
      "state": {
       "description_width": "",
       "font_size": null,
       "text_color": null
      }
     },
     "f94a565f3d3a469193e446619ccef180": {
      "model_module": "@jupyter-widgets/controls",
      "model_module_version": "2.0.0",
      "model_name": "HTMLModel",
      "state": {
       "layout": "IPY_MODEL_736ba57385a94ddaa4acba027ca3044f",
       "style": "IPY_MODEL_e2ebdbf1515f4f379a9549f3c13f1dc1",
       "value": " 191/191 [00:50&lt;00:00,  4.48it/s]"
      }
     },
     "f9632b116c2b409fa7a23cbc367e334c": {
      "model_module": "@jupyter-widgets/base",
      "model_module_version": "2.0.0",
      "model_name": "LayoutModel",
      "state": {}
     },
     "f988aeb06dd64992a2c46782211d3784": {
      "model_module": "@jupyter-widgets/controls",
      "model_module_version": "2.0.0",
      "model_name": "FloatProgressModel",
      "state": {
       "layout": "IPY_MODEL_a08cf289b0a34753bf64963d5fb04802",
       "max": 191,
       "style": "IPY_MODEL_df5f2efc886f420098a445042eca26ca",
       "value": 191
      }
     },
     "f9af5134528340a1aedd5a5263208ce9": {
      "model_module": "@jupyter-widgets/controls",
      "model_module_version": "2.0.0",
      "model_name": "ProgressStyleModel",
      "state": {
       "description_width": ""
      }
     },
     "fa174d7a5e4541c59321a105328fd70e": {
      "model_module": "@jupyter-widgets/base",
      "model_module_version": "2.0.0",
      "model_name": "LayoutModel",
      "state": {}
     },
     "fa26872bbcd04dac93309c642b966608": {
      "model_module": "@jupyter-widgets/controls",
      "model_module_version": "2.0.0",
      "model_name": "HTMLStyleModel",
      "state": {
       "description_width": "",
       "font_size": null,
       "text_color": null
      }
     },
     "faaeeaf3da29405d94286c900aefb20b": {
      "model_module": "@jupyter-widgets/base",
      "model_module_version": "2.0.0",
      "model_name": "LayoutModel",
      "state": {}
     },
     "fab9a606e01a4e419c67ae8ed71c21b9": {
      "model_module": "@jupyter-widgets/controls",
      "model_module_version": "2.0.0",
      "model_name": "HTMLModel",
      "state": {
       "layout": "IPY_MODEL_ad0c4f3ff32f4be594e21ab6994428e1",
       "style": "IPY_MODEL_f760b1375d79480ca6406d86d8c04193",
       "value": " 48/48 [00:10&lt;00:00,  5.07it/s]"
      }
     },
     "fab9ab73ee324efe8eccf40bf6a70988": {
      "model_module": "@jupyter-widgets/base",
      "model_module_version": "2.0.0",
      "model_name": "LayoutModel",
      "state": {
       "visibility": "hidden"
      }
     },
     "fae2abbdcc1b4ae8bf833e6514eb13ba": {
      "model_module": "@jupyter-widgets/controls",
      "model_module_version": "2.0.0",
      "model_name": "HTMLStyleModel",
      "state": {
       "description_width": "",
       "font_size": null,
       "text_color": null
      }
     },
     "fb9b27cc5bbb468a8e03399487028ceb": {
      "model_module": "@jupyter-widgets/controls",
      "model_module_version": "2.0.0",
      "model_name": "HTMLStyleModel",
      "state": {
       "description_width": "",
       "font_size": null,
       "text_color": null
      }
     },
     "fc172ee7fc7f478bbde3c8726b4c4951": {
      "model_module": "@jupyter-widgets/base",
      "model_module_version": "2.0.0",
      "model_name": "LayoutModel",
      "state": {}
     },
     "fc3f3278afb4433ba7c8fd7c68257ecc": {
      "model_module": "@jupyter-widgets/controls",
      "model_module_version": "2.0.0",
      "model_name": "HTMLStyleModel",
      "state": {
       "description_width": "",
       "font_size": null,
       "text_color": null
      }
     },
     "fc9493608b3f45ae843b76f585038c17": {
      "model_module": "@jupyter-widgets/controls",
      "model_module_version": "2.0.0",
      "model_name": "FloatProgressModel",
      "state": {
       "layout": "IPY_MODEL_7dec5b1f97134ab3b88c565c85a0fbb1",
       "max": 191,
       "style": "IPY_MODEL_f1e85323f85242e9baf3bf5e56b391a7",
       "value": 191
      }
     },
     "fcded737994c4b119e56b8e564c2d35d": {
      "model_module": "@jupyter-widgets/controls",
      "model_module_version": "2.0.0",
      "model_name": "FloatProgressModel",
      "state": {
       "layout": "IPY_MODEL_5d016d94b46b46218a85201704635c65",
       "max": 191,
       "style": "IPY_MODEL_134b64eca96240d99d0539acff491e6b",
       "value": 191
      }
     },
     "fd0ccff3575a4a1faa6890672b31c4e8": {
      "model_module": "@jupyter-widgets/base",
      "model_module_version": "2.0.0",
      "model_name": "LayoutModel",
      "state": {}
     },
     "fdb0d31a0b9944968a2184a65e2577dd": {
      "model_module": "@jupyter-widgets/controls",
      "model_module_version": "2.0.0",
      "model_name": "HTMLStyleModel",
      "state": {
       "description_width": "",
       "font_size": null,
       "text_color": null
      }
     },
     "feb936fe9bcc439092d3da85de1bb329": {
      "model_module": "@jupyter-widgets/base",
      "model_module_version": "2.0.0",
      "model_name": "LayoutModel",
      "state": {
       "visibility": "hidden"
      }
     },
     "feeaabb7ce7b408eab0f18a4c7e303f3": {
      "model_module": "@jupyter-widgets/controls",
      "model_module_version": "2.0.0",
      "model_name": "HTMLStyleModel",
      "state": {
       "description_width": "",
       "font_size": null,
       "text_color": null
      }
     },
     "fefeabd35e0f4e1e9987a61e530ad239": {
      "model_module": "@jupyter-widgets/controls",
      "model_module_version": "2.0.0",
      "model_name": "HTMLModel",
      "state": {
       "layout": "IPY_MODEL_f9632b116c2b409fa7a23cbc367e334c",
       "style": "IPY_MODEL_21c7215098f1470ba524747d19e99016",
       "value": " 48/48 [00:10&lt;00:00,  4.99it/s]"
      }
     }
    },
    "version_major": 2,
    "version_minor": 0
   }
  }
 },
 "nbformat": 4,
 "nbformat_minor": 4
}
